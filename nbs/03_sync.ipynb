{
 "cells": [
  {
   "cell_type": "code",
   "execution_count": null,
   "metadata": {},
   "outputs": [],
   "source": [
    "#default_exp sync"
   ]
  },
  {
   "cell_type": "markdown",
   "metadata": {},
   "source": [
    "# Synchronize and diff\n",
    "\n",
    "> Propagating small changes in the library back to notebooks"
   ]
  },
  {
   "cell_type": "markdown",
   "metadata": {},
   "source": [
    "The library is primarily developed in notebooks so any big changes should be made there. But sometimes, it's easier to fix small bugs or typos in the modules directly. `nbprocess_update_lib` is the function that will propagate those changes back to the corresponding notebooks. Note that you can't create new cells or reorder cells with that functionality, so your corrections should remain limited."
   ]
  },
  {
   "cell_type": "code",
   "execution_count": null,
   "metadata": {},
   "outputs": [],
   "source": [
    "#export\n",
    "from nbprocess.read import *\n",
    "from nbprocess.export import *\n",
    "\n",
    "from nbprocess.imports import *\n",
    "from fastcore.script import *\n",
    "\n",
    "import nbformat,ast\n",
    "from nbformat.sign import NotebookNotary"
   ]
  },
  {
   "cell_type": "code",
   "execution_count": null,
   "metadata": {},
   "outputs": [],
   "source": [
    "#export\n",
    "def absolute_import(name, fname, level):\n",
    "    \"Unwarps a relative import in `name` according to `mod_name`\"\n",
    "    if not level: return name\n",
    "    mods = fname.split(os.path.sep)\n",
    "    if not name: return '.'.join(mods)\n",
    "    return '.'.join(mods[:len(mods)-level+1]) + f\".{name}\""
   ]
  },
  {
   "cell_type": "code",
   "execution_count": null,
   "metadata": {},
   "outputs": [],
   "source": [
    "test_eq(absolute_import('xyz', 'nbprocess', 0), 'xyz')\n",
    "test_eq(absolute_import('', 'nbprocess', 1), 'nbprocess')\n",
    "test_eq(absolute_import('core', 'nbprocess', 1), 'nbprocess.core')\n",
    "test_eq(absolute_import('core', 'nbprocess/vision', 2), 'nbprocess.core')\n",
    "test_eq(absolute_import('transform', 'nbprocess/vision', 1), 'nbprocess.vision.transform')\n",
    "test_eq(absolute_import('notebook.core', 'nbprocess/data', 2), 'nbprocess.notebook.core')"
   ]
  },
  {
   "cell_type": "code",
   "execution_count": null,
   "metadata": {},
   "outputs": [],
   "source": [
    "#export\n",
    "_re_import = re.compile(\"from\\s+\\S+\\s+import\\s+\\S\")\n",
    "\n",
    "def _to_absolute(code, libname):\n",
    "    if not _re_import.search(code): return code\n",
    "    res = update_import(code, ast.parse(code).body, libname, absolute_import)\n",
    "    if not res: return code\n",
    "    return ''.join(res)\n",
    "\n",
    "def _update_lib(nbname, nb_locs):\n",
    "    libname = Config().lib_name\n",
    "    nbtxt = Path(nbname).read_text()\n",
    "    nb = nbformat.reads(nbtxt, as_version=4)\n",
    "    for nbn,cellid,code in nb_locs:\n",
    "        assert nbn==nbname,(nbn,nbname)\n",
    "        code = code[code.find(\"\\n\")+1:]\n",
    "        nb.cells[int(cellid)].source = _to_absolute(code, libname)\n",
    "\n",
    "    NotebookNotary().sign(nb)\n",
    "    nbformat.write(nb, 'tmp/tmp.ipynb', version=4)"
   ]
  },
  {
   "cell_type": "code",
   "execution_count": null,
   "metadata": {},
   "outputs": [],
   "source": [
    "#export\n",
    "@call_parse\n",
    "def nbprocess_update_lib(fname:Param(\"A python module name to convert\", str)):\n",
    "    \"Propagates any change in the modules matching `fname` to the notebooks that created them\"\n",
    "    if os.environ.get('IN_TEST',0): return\n",
    "    fname = Path(fname)\n",
    "    code = fname.read_text()\n",
    "    split_str = \"\\n#nbprocess_cell \"\n",
    "    code_cells = code.split(split_str)[1:]\n",
    "    locs = L(s.splitlines()[0].split()+[s.strip(\"\\n\")]\n",
    "             for s in code_cells if not s.startswith('auto '))\n",
    "    for nbname,nb_locs in groupby(locs, itemgetter(0)).items(): _update_lib(nbname, nb_locs)"
   ]
  },
  {
   "cell_type": "code",
   "execution_count": null,
   "metadata": {},
   "outputs": [],
   "source": [
    "# nbprocess_update_lib(\"../nbprocess/export.py\")"
   ]
  },
  {
   "cell_type": "markdown",
   "metadata": {},
   "source": [
    "## Export -"
   ]
  },
  {
   "cell_type": "code",
   "execution_count": null,
   "metadata": {},
   "outputs": [],
   "source": [
    "from nbprocess.export import nbprocess_build_lib\n",
    "nbprocess_build_lib()"
   ]
  },
  {
   "cell_type": "code",
   "execution_count": null,
   "metadata": {},
   "outputs": [],
   "source": []
  }
 ],
 "metadata": {
  "kernelspec": {
   "display_name": "Python 3",
   "language": "python",
   "name": "python3"
  }
 },
 "nbformat": 4,
 "nbformat_minor": 4
}
