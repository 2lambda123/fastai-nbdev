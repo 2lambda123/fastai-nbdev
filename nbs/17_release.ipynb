{
 "cells": [
  {
   "cell_type": "code",
   "execution_count": null,
   "metadata": {},
   "outputs": [],
   "source": [
    "#| default_exp release"
   ]
  },
  {
   "cell_type": "markdown",
   "metadata": {},
   "source": [
    "# release\n",
    "\n",
    "> Auto-generated tagged releases and release notes from GitHub issues"
   ]
  },
  {
   "cell_type": "markdown",
   "metadata": {},
   "source": [
    "## Overview"
   ]
  },
  {
   "cell_type": "markdown",
   "metadata": {},
   "source": [
    "`nbdev.release` provides 3 commands that you can run from your shell:\n",
    "\n",
    "- `nbdev_changelog`: creates a CHANGELOG.md file from closed and labeled GitHub issues\n",
    "- `nbdev_release_git`: tags and creates a release in GitHub for the current version\n",
    "- `nbdev_release_gh`: calls `nbdev_changelog`, lets you edit the result, then pushes to git and calls `nbdev_release_git`\n",
    "\n",
    "Here's a brief demonstration of how to use the tools in `nbdev.release`. This demo first creates an issue using the [`gh`](https://cli.github.com/) command line tool, and then closes it using `git`; you can also use GitHub's web interface for both of these tasks. (Note that this functionality used to be in a project called `fastrelease`, so in the video the command line tools have different names, starting with `fastrelease_` instead of `nbdev_`)."
   ]
  },
  {
   "cell_type": "markdown",
   "metadata": {},
   "source": [
    "<a href=\"images/intro.svg\"><img src=\"images/release.svg\" width=\"900px\" /></a>"
   ]
  },
  {
   "cell_type": "markdown",
   "metadata": {},
   "source": [
    "### Setup"
   ]
  },
  {
   "cell_type": "markdown",
   "metadata": {},
   "source": [
    "First, create a `settings.ini` file with the following contents (replacing the values as described below):\n",
    "\n",
    "```\n",
    "[DEFAULT]\n",
    "lib_name = fastrelease\n",
    "user = fastai\n",
    "version = 0.0.1\n",
    "```\n",
    "\n",
    "Set `lib_name` to the name of GitHub repo, `user` to the owner of that repo, and `version` to the version number of your library. (Note that if you use [nbdev](https://nbdev.fast.ai) then you'll already have this information, so you don't need to do anything further to set it up.)"
   ]
  },
  {
   "cell_type": "markdown",
   "metadata": {},
   "source": [
    "You'll need to get a GitHub [personal access token](https://docs.github.com/en/github/authenticating-to-github/creating-a-personal-access-token) if you haven't already. To do so, [click here](https://github.com/settings/tokens/new) and enter \"fastrelease\" in the \"Note\" section, and click the `repo` checkbox.\n",
    "\n",
    "Then click \"Generate Token\" at the bottom of the screen, and copy the token (the long string of letters and numbers shown). You can easily do that by clicking the little clipboard icon next to the token.\n",
    "\n",
    "<img alt=\"Copying your token\" width=\"743\" caption=\"Copying your token\" src=\"images/token.png\">\n",
    "\n",
    "Paste that token into a file called `token` into the root of your repo. You can run the following in your terminal (`cd` to the root of your repo first) to create that file:\n",
    "\n",
    "    echo XXX > token\n",
    "\n",
    "Replace *XXX* above with the token you copied. Also, ensure that this file isn't added to git, by running this in your terminal:\n",
    "\n",
    "    echo token >> .gitignore"
   ]
  },
  {
   "cell_type": "markdown",
   "metadata": {},
   "source": [
    "### Creating release notes"
   ]
  },
  {
   "cell_type": "markdown",
   "metadata": {},
   "source": [
    "Now you're ready to create your release notes. These are created in a file called `CHANGELOG.md`. Here's an example of what it creates: [nbdev CHANGELOG](https://github.com/fastai/nbdev/blob/master/CHANGELOG.md).\n",
    "\n",
    "All issues with the label **bug**, **enhancement**, or **breaking** that have been closed in your repo since your last release will be added to the top of this file. If you haven't made any releases before, then all issues with those labels will be included.\n",
    "\n",
    "Therefore, before you create or update `CHANGELOG.md`, go to your GitHub issues page, remove `is:open` from the filter, and label any issues you want included with one of the labels above. When you've done that, you can create or update your release notes by running in your terminal:\n",
    "\n",
    "    nbdev_changelog\n",
    "\n",
    "The titles and bodies of each issue will be added. Open `CHANGELOG.md` in your editor and make any edits that you want, and then commit the file to your repo (remember to `git add` it!)"
   ]
  },
  {
   "cell_type": "markdown",
   "metadata": {},
   "source": [
    "### Tagging a release"
   ]
  },
  {
   "cell_type": "markdown",
   "metadata": {},
   "source": [
    "You should now tag a release. This will create a tag in GitHub with your current version number in `settings.ini`, and will then make it into a release, using your latest release notes as the description of the release:\n",
    "\n",
    "    nbdev_release_git\n",
    "\n",
    "After you run this, be sure to increment your version number in `settings.ini`. You can either edit it manually, or if you use nbdev it can be done for you by running:\n",
    "\n",
    "    nbdev_bump_version"
   ]
  },
  {
   "cell_type": "markdown",
   "metadata": {},
   "source": [
    "### Doing both (creating release notes, and tagging a release)"
   ]
  },
  {
   "cell_type": "markdown",
   "metadata": {},
   "source": [
    "To complete both of the steps above, run:\n",
    "\n",
    "```\n",
    "nbdev_release_gh\n",
    "```\n",
    "\n",
    "See the screencast above for a demonstration of this."
   ]
  },
  {
   "cell_type": "markdown",
   "metadata": {},
   "source": [
    "## Python API"
   ]
  },
  {
   "cell_type": "code",
   "execution_count": null,
   "metadata": {},
   "outputs": [],
   "source": [
    "#| export\n",
    "from fastcore.all import *\n",
    "from ghapi.core import *\n",
    "\n",
    "from datetime import datetime\n",
    "from configparser import ConfigParser\n",
    "import shutil,subprocess"
   ]
  },
  {
   "cell_type": "code",
   "execution_count": null,
   "metadata": {},
   "outputs": [],
   "source": [
    "#| hide\n",
    "from nbdev.showdoc import show_doc"
   ]
  },
  {
   "cell_type": "code",
   "execution_count": null,
   "metadata": {},
   "outputs": [],
   "source": [
    "#| export\n",
    "GH_HOST = \"https://api.github.com\""
   ]
  },
  {
   "cell_type": "code",
   "execution_count": null,
   "metadata": {},
   "outputs": [],
   "source": [
    "#| export\n",
    "def _find_config(cfg_name=\"settings.ini\"):\n",
    "    cfg_path = Path().absolute()\n",
    "    while cfg_path != cfg_path.parent and not (cfg_path/cfg_name).exists(): cfg_path = cfg_path.parent\n",
    "    return Config(cfg_path, cfg_name)"
   ]
  },
  {
   "cell_type": "code",
   "execution_count": null,
   "metadata": {},
   "outputs": [],
   "source": [
    "#| export\n",
    "def _issue_txt(issue):\n",
    "    res = '- {} ([#{}]({}))'.format(issue.title.strip(), issue.number, issue.html_url)\n",
    "    if hasattr(issue, 'pull_request'): res += ', thanks to [@{}]({})'.format(issue.user.login, issue.user.html_url)\n",
    "    res += '\\n'\n",
    "    if not issue.body: return res\n",
    "    return res + f\"  - {issue.body.strip()}\\n\"\n",
    "\n",
    "def _issues_txt(iss, label):\n",
    "    if not iss: return ''\n",
    "    res = f\"### {label}\\n\\n\"\n",
    "    return res + '\\n'.join(map(_issue_txt, iss))\n",
    "\n",
    "def _load_json(cfg, k):\n",
    "    try: return json.loads(cfg[k])\n",
    "    except json.JSONDecodeError as e: raise Exception(f\"Key: `{k}` in .ini file is not a valid JSON string: {e}\")"
   ]
  },
  {
   "cell_type": "markdown",
   "metadata": {},
   "source": [
    "## Release -"
   ]
  },
  {
   "cell_type": "code",
   "execution_count": null,
   "metadata": {},
   "outputs": [],
   "source": [
    "#| export\n",
    "class Release:\n",
    "    def __init__(self, owner=None, repo=None, token=None, **groups):\n",
    "        \"Create CHANGELOG.md from GitHub issues\"\n",
    "        self.cfg = _find_config()\n",
    "        self.changefile = self.cfg.config_path/'CHANGELOG.md'\n",
    "        if not groups:\n",
    "            default_groups=dict(breaking=\"Breaking Changes\", enhancement=\"New Features\", bug=\"Bugs Squashed\")\n",
    "            groups=_load_json(self.cfg, 'label_groups') if 'label_groups' in self.cfg else default_groups\n",
    "        os.chdir(self.cfg.config_path)\n",
    "        owner,repo = owner or self.cfg.user, repo or self.cfg.lib_name\n",
    "        token = ifnone(token, os.getenv('nbdev_TOKEN',None))\n",
    "        if not token and Path('token').exists(): token = Path('token').read_text().strip()\n",
    "        if not token: raise Exception('Failed to find token')\n",
    "        self.gh = GhApi(owner, repo, token)\n",
    "        self.groups = groups\n",
    "\n",
    "    def _issues(self, label):\n",
    "        return self.gh.issues.list_for_repo(state='closed', sort='created', filter='all', since=self.commit_date, labels=label)\n",
    "    def _issue_groups(self): return parallel(self._issues, self.groups.keys(), progress=False)"
   ]
  },
  {
   "cell_type": "markdown",
   "metadata": {},
   "source": [
    "To create a markdown changelog, first create a `Release` object, optionally passing a mapping from GitHub labels to markdown titles. Put your github token in a file named `token` at the root of your repo.  `Release` attempts to fetch values for arguments from the following locations if not supplied:\n",
    "\n",
    "- **owner:** fetched from the field `user` in `settings.ini`.  This is the owner name of the repository on GitHub. For example for the repo `fastai/fastcore` the owner would be `fastai`.\n",
    "- **repo:** fetched from the field `lib_name` in `settings.ini`.  This is the name of the repository on GitHub.  For example for the repo `fastai/fastcore` the owner would be `fastcore`.\n",
    "- **token:** fetched from a file named `token` at the root of your repo.  Creating a token is discussed in [the setup](https://fastrelease.fast.ai/#Set-up) section.\n",
    "- **groups:** (optional) fetched from the field `label_groups` in `settings.ini`, which is a JSON string.  This is a mapping from label names to titles in your release notes. If not specified, this defaults to:\n",
    "\n",
    "```python\n",
    "{\"breaking\": \"Breaking Changes\", \"enhancement\":\"New Features\", \"bug\":\"Bugs Squashed\"}\n",
    "```"
   ]
  },
  {
   "cell_type": "code",
   "execution_count": null,
   "metadata": {},
   "outputs": [],
   "source": [
    "#|export\n",
    "@patch\n",
    "def changelog(self:Release,\n",
    "              debug=False): ## Just print the latest changes, instead of updating file\n",
    "    \"Create the CHANGELOG.md file, or return the proposed text if `debug` is `True`\"\n",
    "    if not self.changefile.exists(): self.changefile.write_text(\"# Release notes\\n\\n<!-- do not remove -->\\n\")\n",
    "    marker = '<!-- do not remove -->\\n'\n",
    "    try: self.commit_date = self.gh.repos.get_latest_release().published_at\n",
    "    except HTTP404NotFoundError: self.commit_date = '2000-01-01T00:00:004Z'\n",
    "    res = f\"\\n## {self.cfg.version}\\n\"\n",
    "    issues = self._issue_groups()\n",
    "    res += '\\n'.join(_issues_txt(*o) for o in zip(issues, self.groups.values()))\n",
    "    if debug: return res\n",
    "    res = self.changefile.read_text().replace(marker, marker+res+\"\\n\")\n",
    "    shutil.copy(self.changefile, self.changefile.with_suffix(\".bak\"))\n",
    "    self.changefile.write_text(res)\n",
    "    run(f'git add {self.changefile}')"
   ]
  },
  {
   "cell_type": "code",
   "execution_count": null,
   "metadata": {},
   "outputs": [
    {
     "name": "stdout",
     "output_type": "stream",
     "text": [
      "\n",
      "## 2.1.1\n",
      "\n",
      "\n",
      "### Bugs Squashed\n",
      "\n",
      "- fix `nbdev_test` with no `--fname` in non-nbdev repos ([#730](https://github.com/fastai/nbdev/pull/730)), thanks to [@seeM](https://github.com/seeM)\n",
      "\n",
      "- Auto-generated showdoc headers not in ToC ([#703](https://github.com/fastai/nbdev/issues/703))\n",
      "  - Should have been fixed in Quarto here:\r\n",
      "\r\n",
      "https://github.com/quarto-dev/quarto-cli/commit/dbb9de99a1ad959d1d6e064654002a8247138289\r\n",
      "\r\n",
      "Check whether `#| output: asis` fixes it.\n",
      "\n"
     ]
    }
   ],
   "source": [
    "#| eval: false\n",
    "rel = Release()\n",
    "print(rel.changelog(debug=True))"
   ]
  },
  {
   "cell_type": "code",
   "execution_count": null,
   "metadata": {},
   "outputs": [],
   "source": [
    "#|export\n",
    "@patch\n",
    "def release(self:Release):\n",
    "    \"Tag and create a release in GitHub for the current version\"\n",
    "    ver = self.cfg.version\n",
    "    notes = self.latest_notes()\n",
    "    self.gh.create_release(ver, branch=self.cfg.branch, body=notes)\n",
    "    return ver"
   ]
  },
  {
   "cell_type": "markdown",
   "metadata": {},
   "source": [
    "This uses the version information from your `settings.ini`."
   ]
  },
  {
   "cell_type": "code",
   "execution_count": null,
   "metadata": {},
   "outputs": [],
   "source": [
    "#|export\n",
    "@patch\n",
    "def latest_notes(self:Release):\n",
    "    \"Latest CHANGELOG entry\"\n",
    "    if not self.changefile.exists(): return ''\n",
    "    its = re.split(r'^## ', self.changefile.read_text(), flags=re.MULTILINE)\n",
    "    if not len(its)>0: return ''\n",
    "    return '\\n'.join(its[1].splitlines()[1:]).strip()"
   ]
  },
  {
   "cell_type": "markdown",
   "metadata": {},
   "source": [
    "All relevant pull requests and issues are fetched from the GitHub API, and are categorized according to a user-supplied mapping from labels to markdown headings."
   ]
  },
  {
   "cell_type": "markdown",
   "metadata": {},
   "source": [
    "## CLI functions"
   ]
  },
  {
   "cell_type": "code",
   "execution_count": null,
   "metadata": {},
   "outputs": [],
   "source": [
    "#| export\n",
    "@call_parse\n",
    "def changelog(\n",
    "    debug:store_true=False,  # Print info to be added to CHANGELOG, instead of updating file\n",
    "    repo:str=None,  # repo to use instead of `lib_name` from `settings.ini`\n",
    "):\n",
    "    \"Create a CHANGELOG.md file from closed and labeled GitHub issues\"\n",
    "    res = Release(repo=repo).changelog(debug=debug)\n",
    "    if debug: print(res)"
   ]
  },
  {
   "cell_type": "code",
   "execution_count": null,
   "metadata": {},
   "outputs": [],
   "source": [
    "#| export\n",
    "@call_parse\n",
    "def release_git(\n",
    "    token:str=None  # Optional GitHub token (otherwise `token` file is used)\n",
    "):\n",
    "    \"Tag and create a release in GitHub for the current version\"\n",
    "    ver = Release(token=token).release()\n",
    "    print(f\"Released {ver}\")"
   ]
  },
  {
   "cell_type": "code",
   "execution_count": null,
   "metadata": {},
   "outputs": [],
   "source": [
    "#| export\n",
    "@call_parse\n",
    "def release_gh(\n",
    "    token:str=None  # Optional GitHub token (otherwise `token` file is used)\n",
    "):\n",
    "    \"Calls `nbdev_changelog`, lets you edit the result, then pushes to git and calls `nbdev_release_git`\"\n",
    "    cfg = _find_config()\n",
    "    Release().changelog()\n",
    "    subprocess.run([os.environ.get('EDITOR','nano'), cfg.config_path/'CHANGELOG.md'])\n",
    "    if not input(\"Make release now? (y/n) \").lower().startswith('y'): sys.exit(1)\n",
    "    run('git commit -am release')\n",
    "    run('git push')\n",
    "    ver = Release(token=token).release()\n",
    "    print(f\"Released {ver}\")"
   ]
  },
  {
   "cell_type": "markdown",
   "metadata": {},
   "source": [
    "## Export -"
   ]
  },
  {
   "cell_type": "code",
   "execution_count": null,
   "metadata": {},
   "outputs": [],
   "source": [
    "#| hide\n",
    "from nbdev import nbdev_export\n",
    "nbdev_export()"
   ]
  },
  {
   "cell_type": "code",
   "execution_count": null,
   "metadata": {},
   "outputs": [],
   "source": []
  }
 ],
 "metadata": {
  "kernelspec": {
   "display_name": "Python 3 (ipykernel)",
   "language": "python",
   "name": "python3"
  }
 },
 "nbformat": 4,
 "nbformat_minor": 4
}
