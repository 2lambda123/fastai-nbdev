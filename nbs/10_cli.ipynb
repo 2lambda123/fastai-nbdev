{
 "cells": [
  {
   "cell_type": "code",
   "execution_count": null,
   "id": "510ed03d-0c3b-4caf-910d-e6eaec08fd63",
   "metadata": {},
   "outputs": [],
   "source": [
    "#|default_exp cli"
   ]
  },
  {
   "cell_type": "code",
   "execution_count": null,
   "id": "6a35c7c4-748f-4c82-a9bf-c780a8d83e90",
   "metadata": {},
   "outputs": [],
   "source": [
    "#|export\n",
    "from __future__ import annotations\n",
    "import json,warnings\n",
    "\n",
    "from nbprocess.read import *\n",
    "from nbprocess.sync import *\n",
    "from nbprocess.process import *\n",
    "from nbprocess.processors import *\n",
    "\n",
    "from execnb.nbio import *\n",
    "from fastcore.basics import *\n",
    "from fastcore.imports import *\n",
    "from fastcore.net import *\n",
    "from fastcore.script import call_parse\n",
    "from fastcore import shutil\n",
    "from fastcore.utils import globtastic, run, repo_details\n",
    "\n",
    "from urllib.error import HTTPError\n",
    "from contextlib import redirect_stdout\n",
    "import os, tarfile"
   ]
  },
  {
   "cell_type": "code",
   "execution_count": null,
   "id": "1e623a3d-3e77-44c6-adf3-4768b78328c5",
   "metadata": {},
   "outputs": [],
   "source": [
    "#|hide\n",
    "from fastcore.test import *"
   ]
  },
  {
   "cell_type": "markdown",
   "id": "82f1d405-9652-4991-9a2c-24cae862ce46",
   "metadata": {},
   "source": [
    "# cli\n",
    "> CLI commands"
   ]
  },
  {
   "cell_type": "code",
   "execution_count": null,
   "id": "03fabbba",
   "metadata": {},
   "outputs": [],
   "source": [
    "#|export\n",
    "@call_parse\n",
    "def nbprocess_ghp_deploy():\n",
    "    \"Deploy docs in doc_path from settings.ini to GitHub Pages\"\n",
    "    try: from ghp_import import ghp_import\n",
    "    except:\n",
    "        warnings.warn('Please install ghp-import with `pip install ghp-import`')\n",
    "        return\n",
    "    ghp_import(config_key('doc_path'), push=True, stderr=True, no_history=True)"
   ]
  },
  {
   "cell_type": "code",
   "execution_count": null,
   "id": "1d377b06-1584-4894-ab0b-08b8340f21ba",
   "metadata": {},
   "outputs": [],
   "source": [
    "from fastcore.all import *\n",
    "l = L([1,2,4])"
   ]
  },
  {
   "cell_type": "markdown",
   "id": "dcd4994b",
   "metadata": {},
   "source": [
    "### Sidebar -"
   ]
  },
  {
   "cell_type": "code",
   "execution_count": null,
   "id": "6d537417",
   "metadata": {},
   "outputs": [],
   "source": [
    "#|export\n",
    "def _create_sidebar(\n",
    "    path:str=None, symlinks:bool=False, file_glob:str='*.ipynb', file_re:str=None, folder_re:str=None, \n",
    "    skip_file_glob:str=None, skip_file_re:str=None, skip_folder_re:str='^[_.]'):\n",
    "    path = config_key(\"nbs_path\") if not path else Path(path)\n",
    "    files = globtastic(path, symlinks=symlinks, file_glob=file_glob, file_re=file_re,\n",
    "                       folder_re=folder_re, skip_file_glob=skip_file_glob,\n",
    "                       skip_file_re=skip_file_re, skip_folder_re=skip_folder_re\n",
    "                      ).map(Path).sorted(key=lambda x: '00' if x.name == 'index.ipynb' else 'z'+x.name)\n",
    "\n",
    "    yml_path = path/'sidebar.yml'\n",
    "    yml = \"website:\\n  sidebar:\\n    contents:\\n\"\n",
    "    yml += '\\n'.join(f'      - {o.relative_to(path)}' for o in files)\n",
    "    yml_path.write_text(yml)\n",
    "    return files"
   ]
  },
  {
   "cell_type": "code",
   "execution_count": null,
   "id": "fabe55c4",
   "metadata": {},
   "outputs": [],
   "source": [
    "#|export\n",
    "@call_parse\n",
    "def nbprocess_sidebar(\n",
    "    path:str=None, # path to notebooks\n",
    "    symlinks:bool=False, # follow symlinks?\n",
    "    file_glob:str='*.ipynb', # Only include files matching glob\n",
    "    file_re:str=None, # Only include files matching regex\n",
    "    folder_re:str=None, # Only enter folders matching regex\n",
    "    skip_file_glob:str=None, # Skip files matching glob\n",
    "    skip_file_re:str=None, # Skip files matching regex\n",
    "    skip_folder_re:str='^[_.]' # Skip folders matching regex\n",
    "):\n",
    "    \"Create sidebar.yml\"\n",
    "    _create_sidebar(path, symlinks, file_glob=file_glob, file_re=file_re, folder_re=folder_re,\n",
    "                   skip_file_glob=skip_file_glob, skip_file_re=skip_file_re, skip_folder_re=skip_folder_re)"
   ]
  },
  {
   "cell_type": "markdown",
   "id": "e9fc60a8",
   "metadata": {},
   "source": [
    "### Filter -"
   ]
  },
  {
   "cell_type": "code",
   "execution_count": null,
   "id": "c3b89ff6",
   "metadata": {},
   "outputs": [],
   "source": [
    "#|export\n",
    "class FilterDefaults:\n",
    "    \"Override `FilterDefaults` to change which notebook processors are used\"\n",
    "    def _nothing(self): return []\n",
    "    xtra_procs=xtra_preprocs=xtra_postprocs=_nothing\n",
    "    \n",
    "    def base_preprocs(self): return [infer_frontmatter, add_show_docs, insert_warning]\n",
    "    def base_postprocs(self): return []\n",
    "    def base_procs(self):\n",
    "        return [strip_ansi, hide_line, filter_stream_, lang_identify, rm_header_dash,\n",
    "                clean_show_doc, exec_show_docs, rm_export, clean_magics, hide_, add_links]\n",
    "\n",
    "    def procs(self):\n",
    "        \"Processors for export\"\n",
    "        return self.base_procs() + self.xtra_procs()\n",
    "\n",
    "    def preprocs(self):\n",
    "        \"Preprocessors for export\"\n",
    "        return self.base_preprocs() + self.xtra_preprocs()\n",
    "\n",
    "    def postprocs(self):\n",
    "        \"Postprocessors for export\"\n",
    "        return self.base_postprocs() + self.xtra_postprocs()"
   ]
  },
  {
   "cell_type": "code",
   "execution_count": null,
   "id": "0ce7675e",
   "metadata": {},
   "outputs": [],
   "source": [
    "#|export\n",
    "@call_parse\n",
    "def nbprocess_filter(\n",
    "    nb_txt:str=None  # Notebook text (uses stdin if not provided)\n",
    "):\n",
    "    \"A notebook filter for quarto\"\n",
    "    os.environ[\"IN_TEST\"] = \"1\"\n",
    "    filt = get_config().get('exporter', FilterDefaults)()\n",
    "    printit = False\n",
    "    if not nb_txt: nb_txt,printit = sys.stdin.read(),True\n",
    "    nb = dict2nb(json.loads(nb_txt))\n",
    "    with open(os.devnull, 'w') as dn:\n",
    "        with redirect_stdout(dn):\n",
    "            NBProcessor(nb=nb, procs=filt.procs(), preprocs=filt.preprocs(), postprocs=filt.postprocs()).process()\n",
    "    res = nb2str(nb)\n",
    "    del os.environ[\"IN_TEST\"]\n",
    "    if printit: print(res, flush=True)\n",
    "    else: return res"
   ]
  },
  {
   "cell_type": "markdown",
   "id": "68597be3-333d-4c5c-ad8d-c7c14a62e851",
   "metadata": {},
   "source": [
    "## Bump Version -"
   ]
  },
  {
   "cell_type": "code",
   "execution_count": null,
   "id": "b505ba72",
   "metadata": {},
   "outputs": [],
   "source": [
    "#|export\n",
    "_re_version = re.compile('^__version__\\s*=.*$', re.MULTILINE)\n",
    "\n",
    "def update_version():\n",
    "    \"Add or update `__version__` in the main `__init__.py` of the library\"\n",
    "    fname = get_config().path(\"lib_path\")/'__init__.py'\n",
    "    if not fname.exists(): fname.touch()\n",
    "    version = f'__version__ = \"{get_config().version}\"'\n",
    "    with open(fname, 'r') as f: code = f.read()\n",
    "    if _re_version.search(code) is None: code = version + \"\\n\" + code\n",
    "    else: code = _re_version.sub(version, code)\n",
    "    with open(fname, 'w') as f: f.write(code)\n",
    "\n",
    "\n",
    "def bump_version(version, part=2):\n",
    "    version = version.split('.')\n",
    "    version[part] = str(int(version[part]) + 1)\n",
    "    for i in range(part+1, 3): version[i] = '0'\n",
    "    return '.'.join(version)\n",
    "\n",
    "@call_parse\n",
    "def nbprocess_bump_version(\n",
    "    part:int=2  # Part of version to bump\n",
    "):\n",
    "    \"Increment version in `settings.py` by one\"\n",
    "    cfg = get_config()\n",
    "    print(f'Old version: {cfg.version}')\n",
    "    cfg.d['version'] = bump_version(get_config().version, part)\n",
    "    cfg.save()\n",
    "    update_version()\n",
    "    print(f'New version: {cfg.version}')"
   ]
  },
  {
   "cell_type": "markdown",
   "id": "3e7e76f7-7b19-4347-a52b-c33ad15d2178",
   "metadata": {},
   "source": [
    "## Bootstrap A New Project - "
   ]
  },
  {
   "cell_type": "code",
   "execution_count": null,
   "id": "a1c001af-2c7c-4e0b-8c7d-a7d40c08f5e9",
   "metadata": {},
   "outputs": [],
   "source": [
    "#|export\n",
    "def extract_tgz(url, dest='.'): \n",
    "    with urlopen(url) as u: tarfile.open(mode='r:gz', fileobj=u).extractall(dest)"
   ]
  },
  {
   "cell_type": "code",
   "execution_count": null,
   "id": "d21b9697-8d1b-4d11-b2ea-83c20ac82e10",
   "metadata": {},
   "outputs": [],
   "source": [
    "#|export\n",
    "def _get_info(owner, repo, default_branch='main', default_kw='nbprocess'):\n",
    "    try: from ghapi.all import GhApi\n",
    "    except: \n",
    "        print('Could not get information from GitHub automatically because `ghapi` is not installed. \\nEdit `settings.ini` to verify all information is correct.\\n')\n",
    "        return (default_branch,default_kw,'')\n",
    "    \n",
    "    api = GhApi(owner=owner, repo=repo, token=os.getenv('GITHUB_TOKEN'))\n",
    "    \n",
    "    try: r = api.repos.get()\n",
    "    except HTTPError:\n",
    "        msg= [f\"Could not access repo: {owner}/{repo} to find your default branch - `{default} assumed.\\n\",\n",
    "              \"Edit `settings.ini` if this is incorrect.\\n\"\n",
    "              \"In the future, you can allow nbprocess to see private repos by setting the environment variable GITHUB_TOKEN as described here: https://nbdev.fast.ai/cli.html#Using-nbdev_new-with-private-repos \\n\"]\n",
    "        print(''.join(msg))\n",
    "        return (default_branch,default_kw,'')\n",
    "    \n",
    "    return r.default_branch, default_kw if not r.topics else ' '.join(r.topics), r.description"
   ]
  },
  {
   "cell_type": "code",
   "execution_count": null,
   "id": "8d1125db-977a-4119-85e4-6e3586064ed0",
   "metadata": {},
   "outputs": [],
   "source": [
    "#|hide\n",
    "if os.getenv('GITHUB_ACTIONS') != 'true': # GITHUB_TOKEN in actions has limited scope.\n",
    "    _branch, _tags, _descrip = _get_info('fastai', 'fastai')\n",
    "    test_eq(_tags, 'colab deep-learning fastai gpu machine-learning notebooks python pytorch')\n",
    "    test_eq(_branch, 'master')\n",
    "    test_eq(_descrip, 'The fastai deep learning library')"
   ]
  },
  {
   "cell_type": "code",
   "execution_count": null,
   "id": "b0720122-8fef-4999-8572-31ffc222d32f",
   "metadata": {},
   "outputs": [],
   "source": [
    "#|export\n",
    "def prompt_user(**kwargs):\n",
    "    config_vals = kwargs\n",
    "    print('================ nbprocess Configuration ================\\n')\n",
    "    for v in config_vals:\n",
    "        if not config_vals[v]:\n",
    "            print('\\nPlease enter information for the following field in settings.ini:')\n",
    "            inp = input(f'{v}: ')\n",
    "            config_vals[v] = inp\n",
    "        else: print(f\"{v}: '{config_vals[v]}' Automatically inferred from git.\")\n",
    "    print(f\"\\n`settings.ini` updated with configuration values.\")\n",
    "    return config_vals"
   ]
  },
  {
   "cell_type": "code",
   "execution_count": null,
   "id": "fafdcb43-c0c6-4709-9c03-057ea55cc45e",
   "metadata": {},
   "outputs": [],
   "source": [
    "#|export\n",
    "def _fetch_from_git(raise_err=False):\n",
    "    \"Get information for settings.ini from the user.\"\n",
    "    try:\n",
    "        url = run('git config --get remote.origin.url')\n",
    "        owner,repo = repo_details(url)\n",
    "        branch,keywords,descrip = _get_info(owner=owner, repo=repo)\n",
    "        author = run('git config --get user.name').strip()\n",
    "        email = run('git config --get user.email').strip()\n",
    "    except Exception as e:\n",
    "        if raise_err: raise(e)\n",
    "        return dict(lib_name=None,user=None,branch=None,author=None,author_email=None,keywords=None,description=None)\n",
    "    return dict(lib_name=repo.replace('-', '_'), user=owner, branch=branch, author=author, \n",
    "                author_email=email, keywords=keywords, description=descrip)"
   ]
  },
  {
   "cell_type": "code",
   "execution_count": null,
   "id": "f894cfa3-fff2-4d0a-886d-150a86649d25",
   "metadata": {},
   "outputs": [],
   "source": [
    "#|hide\n",
    "test_eq(_fetch_from_git(raise_err=True)['lib_name'], 'nbprocess')"
   ]
  },
  {
   "cell_type": "code",
   "execution_count": null,
   "id": "f3cd72a9-0ae4-45f9-884a-aa8f6d71fb33",
   "metadata": {},
   "outputs": [],
   "source": [
    "#|export\n",
    "_quarto_yml=\"\"\"ipynb-filters: [nbprocess_filter]\n",
    "\n",
    "project:\n",
    "  type: website\n",
    "  output-dir: {doc_path}\n",
    "  preview:\n",
    "    port: 3000\n",
    "    browser: false\n",
    "\n",
    "format:\n",
    "  html:\n",
    "    theme: cosmo\n",
    "    css: styles.css\n",
    "    toc: true\n",
    "\n",
    "website:\n",
    "  title: \"{lib_name}\"\n",
    "  description: \"{description}\"\n",
    "  execute: \n",
    "    enabled: false\n",
    "  twitter-card: true\n",
    "  open-graph: true\n",
    "  reader-mode: true\n",
    "  repo-branch: {branch}\n",
    "  repo-url: {git_url}\n",
    "  repo-actions: [issue]\n",
    "  navbar:\n",
    "    background: primary\n",
    "    search: true\n",
    "    left:\n",
    "      - text: Home\n",
    "        file: /\n",
    "    right:\n",
    "      - icon: github\n",
    "        href: {git_url}\n",
    "  sidebar:\n",
    "    style: \"floating\"\n",
    "\n",
    "metadata-files: \n",
    "  - sidebar.yml\n",
    "  - custom.yml\n",
    "\n",
    "\"\"\"\n",
    "\n",
    "def refresh_quarto_yml():\n",
    "    \"Generate `_quarto.yml` from `settings.ini`.\"\n",
    "    cfg = get_config()\n",
    "    p = cfg.path('nbs_path')/'_quarto.yml'\n",
    "    vals = {k:cfg[k] for k in ['doc_path', 'lib_name', 'description', 'branch', 'git_url']}\n",
    "    yml=_quarto_yml.format(**vals)\n",
    "    p.write_text(yml)"
   ]
  },
  {
   "cell_type": "code",
   "execution_count": null,
   "id": "c4a663d9",
   "metadata": {},
   "outputs": [],
   "source": [
    "#|export\n",
    "@call_parse\n",
    "def nbprocess_new():\n",
    "    \"Create a new project from the current git repo\"\n",
    "    config = prompt_user(**_fetch_from_git())\n",
    "    # download and untar template, and optionally notebooks\n",
    "    tgnm = urljson('https://api.github.com/repos/fastai/nbprocess-template/releases/latest')['tag_name']\n",
    "    FILES_URL = f\"https://github.com/fastai/nbprocess-template/archive/{tgnm}.tar.gz\"\n",
    "    extract_tgz(FILES_URL)\n",
    "    path = Path()\n",
    "    nbexists = True if first(path.glob('*.ipynb')) else False\n",
    "    for o in (path/f'nbprocess-template-{tgnm}').ls():\n",
    "        if o.name == 'index.ipynb':\n",
    "            new_txt = o.read_text().replace('your_lib', config['lib_name'])\n",
    "            o.write_text(new_txt)\n",
    "        if o.name == '00_core.ipynb':\n",
    "            if not nbexists: shutil.move(str(o), './')\n",
    "        elif not Path(f'./{o.name}').exists(): shutil.move(str(o), './')\n",
    "    shutil.rmtree(f'nbprocess-template-{tgnm}')\n",
    "\n",
    "    # auto-config settings.ini from git\n",
    "    settings_path = Path('settings.ini')\n",
    "    settings = settings_path.read_text()\n",
    "    settings = settings.format(**config)\n",
    "    settings_path.write_text(settings)\n",
    "    refresh_quarto_yml()"
   ]
  },
  {
   "cell_type": "markdown",
   "id": "fd5c9b32",
   "metadata": {},
   "source": [
    "### Quarto"
   ]
  },
  {
   "cell_type": "code",
   "execution_count": null,
   "id": "0efe744e",
   "metadata": {},
   "outputs": [],
   "source": [
    "#|export\n",
    "@call_parse\n",
    "def nbprocess_quarto(\n",
    "    path:str=None, # path to notebooks\n",
    "    doc_path:str=None, # path to output docs\n",
    "    symlinks:bool=False, # follow symlinks?\n",
    "    file_glob:str='*.ipynb', # Only include files matching glob\n",
    "    file_re:str=None, # Only include files matching regex\n",
    "    folder_re:str=None, # Only enter folders matching regex\n",
    "    skip_file_glob:str=None, # Skip files matching glob\n",
    "    skip_file_re:str=None, # Skip files matching regex\n",
    "    skip_folder_re:str='^[_.]', # Skip folders matching regex\n",
    "    preview:bool=False # Preview the site instead of building it\n",
    "):\n",
    "    \"Create quarto docs and README.md\"\n",
    "    cfg = get_config()\n",
    "    cfg_path = cfg.config_path\n",
    "    refresh_quarto_yml()\n",
    "    path = config_key(\"nbs_path\") if not path else Path(path)\n",
    "    idx_path = path/'index.ipynb'\n",
    "    files = _create_sidebar(path, symlinks, file_glob=file_glob, file_re=file_re, folder_re=folder_re,\n",
    "                   skip_file_glob=skip_file_glob, skip_file_re=skip_file_re, skip_folder_re=skip_folder_re)\n",
    "    doc_path = config_key(\"doc_path\") if not doc_path else Path(doc_path)\n",
    "    tmp_doc_path = config_key('nbs_path')/f\"{cfg['doc_path']}\"\n",
    "    shutil.rmtree(doc_path, ignore_errors=True)\n",
    "    cmd = 'preview' if preview else 'render'\n",
    "    os.system(f'cd {path} && quarto {cmd} --no-execute')\n",
    "    if not preview:\n",
    "        if idx_path.exists(): os.system(f'cd {path} && quarto render {idx_path} -o README.md -t gfm --no-execute')\n",
    "\n",
    "        if (tmp_doc_path/'README.md').exists():\n",
    "            _rdm = cfg_path/'README.md'\n",
    "            if _rdm.exists(): _rdm.unlink() #py 3.7 doesn't have arg missing_ok so have to check first\n",
    "            shutil.move(str(tmp_doc_path/'README.md'), cfg_path) # README.md is temporarily in the nbs/docs folder\n",
    "\n",
    "        if tmp_doc_path.parent != cfg_path: # move docs folder to root of repo if it doesn't exist there\n",
    "            shutil.rmtree(doc_path, ignore_errors=True)\n",
    "            shutil.move(tmp_doc_path, cfg_path)"
   ]
  },
  {
   "cell_type": "markdown",
   "id": "aa35b010",
   "metadata": {},
   "source": [
    "## Export -"
   ]
  },
  {
   "cell_type": "code",
   "execution_count": null,
   "id": "3d8031ce",
   "metadata": {},
   "outputs": [],
   "source": [
    "#|hide\n",
    "#|eval: false\n",
    "from nbprocess.doclinks import nbprocess_export\n",
    "nbprocess_export()"
   ]
  },
  {
   "cell_type": "code",
   "execution_count": null,
   "id": "12588a26-43a6-42c4-bacd-896293c871ab",
   "metadata": {},
   "outputs": [],
   "source": []
  }
 ],
 "metadata": {
  "kernelspec": {
   "display_name": "Python 3 (ipykernel)",
   "language": "python",
   "name": "python3"
  },
  "language_info": {
   "codemirror_mode": {
    "name": "ipython",
    "version": 3
   },
   "file_extension": ".py",
   "mimetype": "text/x-python",
   "name": "python",
   "nbconvert_exporter": "python",
   "pygments_lexer": "ipython3",
   "version": "3.9.10"
  },
  "toc": {
   "base_numbering": 1,
   "nav_menu": {},
   "number_sections": false,
   "sideBar": true,
   "skip_h1_title": false,
   "title_cell": "Table of Contents",
   "title_sidebar": "Contents",
   "toc_cell": false,
   "toc_position": {},
   "toc_section_display": true,
   "toc_window_display": false
  }
 },
 "nbformat": 4,
 "nbformat_minor": 5
}
