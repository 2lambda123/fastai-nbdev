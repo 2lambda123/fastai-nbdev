{
 "cells": [
  {
   "cell_type": "code",
   "execution_count": 35,
   "id": "07961437-e3d1-4b96-9054-5aef511164dd",
   "metadata": {},
   "outputs": [],
   "source": [
    "#|default_exp deploy"
   ]
  },
  {
   "cell_type": "code",
   "execution_count": 49,
   "id": "9b7acffa-623d-4b5c-ad99-e8e9a8cfdb0e",
   "metadata": {},
   "outputs": [],
   "source": [
    "#|export\n",
    "from nbprocess.read import get_config\n",
    "from fastcore.script import run, call_parse"
   ]
  },
  {
   "cell_type": "code",
   "execution_count": 50,
   "id": "ba0ac17d-8c9a-44ab-82f5-3427255ee8b5",
   "metadata": {},
   "outputs": [],
   "source": [
    "#|export\n",
    "def _get_cfg(c): \n",
    "    cfg = get_config()\n",
    "    if c not in cfg: raise ValueError(f'`{c}` not specified in settings.ini')\n",
    "    return cfg[c]\n",
    "\n",
    "def _check_ghp():\n",
    "    try: run('which ghp-import')\n",
    "    except: print('You must first install ghp-import with `pip install ghp-import` before using `nbprocess_deploy`.')"
   ]
  },
  {
   "cell_type": "code",
   "execution_count": 56,
   "id": "a1444f5e-0259-4436-91f4-69d72ff10a65",
   "metadata": {},
   "outputs": [],
   "source": [
    "#|export\n",
    "@call_parse\n",
    "def ghp_deploy():\n",
    "    \"Deploy docs in doc_path from settings.ini to GitHub Pages.\"\n",
    "    srcdir = _get_cfg('doc_path')\n",
    "    _check_ghp()\n",
    "    out = run(f'ghp-import -p {srcdir}', stderr=True)\n",
    "    print(out)"
   ]
  },
  {
   "cell_type": "code",
   "execution_count": 57,
   "id": "20dd68b1-d386-42d1-b2c0-52eaba9fd3f3",
   "metadata": {},
   "outputs": [],
   "source": [
    "#|hide\n",
    "from nbprocess.export import nbs_export\n",
    "nbs_export()"
   ]
  }
 ],
 "metadata": {
  "kernelspec": {
   "display_name": "Python 3 (ipykernel)",
   "language": "python",
   "name": "python3"
  },
  "language_info": {
   "codemirror_mode": {
    "name": "ipython",
    "version": 3
   },
   "file_extension": ".py",
   "mimetype": "text/x-python",
   "name": "python",
   "nbconvert_exporter": "python",
   "pygments_lexer": "ipython3",
   "version": "3.9.7"
  }
 },
 "nbformat": 4,
 "nbformat_minor": 5
}
