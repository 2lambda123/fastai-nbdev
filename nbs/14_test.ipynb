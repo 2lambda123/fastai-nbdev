{
 "cells": [
  {
   "cell_type": "code",
   "execution_count": 1,
   "id": "b2022982-581f-4b0c-87cc-5a0f977da3c9",
   "metadata": {},
   "outputs": [],
   "source": [
    "#|default_exp test"
   ]
  },
  {
   "cell_type": "code",
   "execution_count": 2,
   "id": "ac1573c0-bcfc-4912-823d-508d75bf79d9",
   "metadata": {},
   "outputs": [],
   "source": [
    "#|export\n",
    "from fastcore.all import *\n",
    "from nbprocess.read import *\n",
    "import time\n",
    "import os, sys\n",
    "import traceback"
   ]
  },
  {
   "cell_type": "markdown",
   "id": "2084506e-4393-41eb-8057-9406e78e4079",
   "metadata": {},
   "source": [
    "# Test Notebooks\n",
    "> Run unit tests on notebooks in parallel"
   ]
  },
  {
   "cell_type": "code",
   "execution_count": 3,
   "id": "c08468dd-b760-4c78-95e0-84260ce1f5d7",
   "metadata": {},
   "outputs": [],
   "source": [
    "#|export\n",
    "def nbglob(fname=None, recursive=None, config_key='nbs_path') -> L:\n",
    "    \"Find all files in a directory matching an extension given a `config_key`.\"\n",
    "    if recursive is None: recursive=get_config().get('recursive', 'False').lower() == 'true'\n",
    "    fname = Path(fname or get_config().path(config_key))\n",
    "    return globtastic(path=fname,recursive=recursive,file_glob='*.ipynb', skip_file_re='^[_.]', skip_folder_re='^[_.]')"
   ]
  },
  {
   "cell_type": "code",
   "execution_count": 4,
   "id": "2c86de06-b2f5-4a19-b5e0-6a5eff2b73f7",
   "metadata": {},
   "outputs": [],
   "source": [
    "#|export\n",
    "_re_directives = re.compile(r'^\\s*#\\s*\\|\\s*(.*)', flags=re.MULTILINE)"
   ]
  },
  {
   "cell_type": "code",
   "execution_count": 5,
   "id": "bf524d78-f124-4b78-97ab-100f33df284e",
   "metadata": {},
   "outputs": [],
   "source": [
    "#|hide\n",
    "_test=\"\"\"\n",
    "#| foo\n",
    " #| bar\n",
    " #|baz\n",
    "#|eval: false\n",
    "\"\"\"\n",
    "\n",
    "test_eq(_re_directives.findall(_test), ['foo', 'bar', 'baz', 'eval: false'])"
   ]
  },
  {
   "cell_type": "code",
   "execution_count": 6,
   "id": "e59ec1b2-5acc-4ca5-867c-3109eda8c30d",
   "metadata": {},
   "outputs": [],
   "source": [
    "#|export\n",
    "def _is_intersect(l1, l2): return bool(set(L(l1)).intersection(set(L(l2))))"
   ]
  },
  {
   "cell_type": "code",
   "execution_count": 7,
   "id": "005ecf91-17a3-4199-8388-bcd9eddc3b2a",
   "metadata": {},
   "outputs": [],
   "source": [
    "#|hide\n",
    "assert _is_intersect([1,2,3], 3)\n",
    "assert not _is_intersect([1,2,3], ['3'])"
   ]
  },
  {
   "cell_type": "code",
   "execution_count": 8,
   "id": "14533c6b-9683-4a4d-8f51-583bb3fed85b",
   "metadata": {},
   "outputs": [],
   "source": [
    "#|export\n",
    "class HiddenPrints:\n",
    "    def __enter__(self):\n",
    "        self._original_stdout = sys.stdout\n",
    "        sys.stdout = open(os.devnull, 'w')\n",
    "\n",
    "    def __exit__(self, exc_type, exc_val, exc_tb):\n",
    "        sys.stdout.close()\n",
    "        sys.stdout = self._original_stdout"
   ]
  },
  {
   "cell_type": "code",
   "execution_count": 9,
   "id": "03c7f626-92ba-4bfc-aefb-8a8792949402",
   "metadata": {},
   "outputs": [],
   "source": [
    "#|export\n",
    "def test_nb(fn, skip_flags=None, force_flags=None):\n",
    "    \"Execute tests in notebook in `fn` except those with `skip_flags`\"\n",
    "    os.environ[\"IN_TEST\"] = '1'\n",
    "    flags=set(L(skip_flags)) - set(L(force_flags))\n",
    "    rnr = NBRunner()\n",
    "    print(f\"testing {fn}\")\n",
    "    start = time.time()\n",
    "    try:\n",
    "        nb = read_nb(fn)\n",
    "        nbcode = nb.cells.filter(lambda x: x.cell_type == 'code' and x.source)\n",
    "        for cell in nbcode:\n",
    "            directives = _re_directives.findall(cell.source)\n",
    "            if not _is_intersect(flags, directives):\n",
    "                with HiddenPrints():\n",
    "                    rnr.run(cell)\n",
    "        return True,time.time()-start\n",
    "    except Exception as e:\n",
    "        fence = '='*50\n",
    "        print(f'Error in {fn} when running:\\n{fence}\\n{cell.source}\\n\\n{type(e).__name__}: {e}\\n{fence}')\n",
    "        traceback.print_exc()\n",
    "        return False,time.time()-start\n",
    "    finally: \n",
    "        if \"IN_TEST\" in os.environ:\n",
    "            os.environ.pop(\"IN_TEST\")"
   ]
  },
  {
   "cell_type": "markdown",
   "id": "9dc26b80-6e4e-4a16-bcde-dd4d156289e5",
   "metadata": {},
   "source": [
    "`test_nb` can test a notebook, and skip over certain flags:"
   ]
  },
  {
   "cell_type": "code",
   "execution_count": 10,
   "id": "e0cf84ef-bce4-4531-80df-7a4e514a7ffc",
   "metadata": {},
   "outputs": [
    {
     "name": "stdout",
     "output_type": "stream",
     "text": [
      "testing ../tests/directives.ipynb\n"
     ]
    }
   ],
   "source": [
    "_nb = Path('../tests/directives.ipynb')\n",
    "assert test_nb(_nb, skip_flags=['notest', 'eval: false'])[0]"
   ]
  },
  {
   "cell_type": "markdown",
   "id": "77ef30c3-38ee-4c77-93df-c1ae4f959eb1",
   "metadata": {},
   "source": [
    "Sometimes you may wish to override one or more of the skip_flags, in which case you can use the argument `force_flags` which will remove the appropriate tag(s) from `skip_flags`.  This is useful because `skip_flags` are meant to be set in the `tst_flags` field of `settings.ini`, whereas `skip_flags` are usually passed in by the user."
   ]
  },
  {
   "cell_type": "code",
   "execution_count": 11,
   "id": "47827728-5a00-4f48-88b6-18cdd7cf9f3c",
   "metadata": {},
   "outputs": [
    {
     "name": "stdout",
     "output_type": "stream",
     "text": [
      "testing ../tests/directives.ipynb\n",
      "Error in ../tests/directives.ipynb when running:\n",
      "==================================================\n",
      "#| notest\n",
      "assert 1 == 2\n",
      "\n",
      "AssertionError: \n",
      "==================================================\n"
     ]
    },
    {
     "name": "stderr",
     "output_type": "stream",
     "text": [
      "Traceback (most recent call last):\n",
      "  File \"/var/folders/jj/xl1rktcs6mn7ms6b8vvx8k4r0000gn/T/ipykernel_44096/2125186068.py\", line 16, in test_nb\n",
      "    rnr.run(cell)\n",
      "  File \"/Users/hamel/github/nbprocess/nbprocess/read.py\", line 68, in run\n",
      "    res = self(cell.source)\n",
      "  File \"/Users/hamel/opt/anaconda3/lib/python3.9/site-packages/tinykernel/__init__.py\", line 19, in __call__\n",
      "    self._run(p, nm)\n",
      "  File \"/Users/hamel/opt/anaconda3/lib/python3.9/site-packages/tinykernel/__init__.py\", line 12, in _run\n",
      "    def _run(self, p, nm, mode='exec'): return eval(compiler(p, nm, mode), self.glb)\n",
      "  File \"<kernel-1-0b19672f9559>\", line 2, in <module>\n",
      "    assert 1 == 2\n",
      "AssertionError\n"
     ]
    }
   ],
   "source": [
    "#|notest\n",
    "assert not test_nb(_nb, skip_flags=['notest', 'eval: false'], force_flags=['notest'])[0]"
   ]
  },
  {
   "cell_type": "code",
   "execution_count": 16,
   "id": "f8cc6a61-a48e-4ab1-89a9-18316ca795d6",
   "metadata": {},
   "outputs": [],
   "source": [
    "#|export\n",
    "@call_parse\n",
    "def nbprocess_test(\n",
    "    fname:str=None,  # A notebook name or glob to convert\n",
    "    flags:str=None,  # Space separated list of test flags you want to run that are normally ignored\n",
    "    n_workers:int=None,  # Number of workers to use\n",
    "    timing:bool=False,  # Timing each notebook to see the ones are slow\n",
    "    pause:float=0.5  # Pause time (in secs) between notebooks to avoid race conditions\n",
    "):\n",
    "    \"Test in parallel the notebooks matching `fname`, passing along `flags`\"\n",
    "    skip_flags = get_config().get('tst_flags')\n",
    "    skip_flags = (skip_flags.split() if skip_flags else []) + ['eval: false']\n",
    "    force_flags = flags.split() if flags else []\n",
    "    files = nbglob(fname)\n",
    "    files = [Path(f).absolute() for f in sorted(files)]\n",
    "    assert len(files) > 0, \"No files to test found.\"\n",
    "    if n_workers is None: n_workers = 0 if len(files)==1 else min(num_cpus(), 8)\n",
    "    # make sure we are inside the notebook folder of the project\n",
    "    os.chdir(get_config().path(\"nbs_path\"))\n",
    "    results = parallel(test_nb, files, skip_flags=skip_flags, force_flags=force_flags, n_workers=n_workers, pause=pause)\n",
    "    passed,times = [r[0] for r in results],[r[1] for r in results]\n",
    "    if all(passed): print(\"All tests are passing!\")\n",
    "    else:\n",
    "        msg = \"The following notebooks failed:\\n\"\n",
    "        raise Exception(msg + '\\n'.join([f.name for p,f in zip(passed,files) if not p]))\n",
    "    if timing:\n",
    "        for i,t in sorted(enumerate(times), key=lambda o:o[1], reverse=True):\n",
    "            print(f\"Notebook {files[i].name} took {int(t)} seconds\")"
   ]
  },
  {
   "cell_type": "code",
   "execution_count": 14,
   "id": "7f94b392-9742-46b1-b4fc-61bbed028c18",
   "metadata": {},
   "outputs": [
    {
     "name": "stdout",
     "output_type": "stream",
     "text": [
      "testing /Users/hamel/github/nbprocess/nbs/01_read.ipynb\n",
      "testing /Users/hamel/github/nbprocess/nbs/02_maker.ipynb\n",
      "testing /Users/hamel/github/nbprocess/nbs/03_process.ipynb\n",
      "testing /Users/hamel/github/nbprocess/nbs/04a_export.ipynb\n",
      "testing /Users/hamel/github/nbprocess/nbs/04b_doclinks.ipynb\n",
      "testing /Users/hamel/github/nbprocess/nbs/05_sync.ipynb\n",
      "testing /Users/hamel/github/nbprocess/nbs/06_merge.ipynb\n",
      "testing /Users/hamel/github/nbprocess/nbs/08_showdoc.ipynb\n",
      "testing /Users/hamel/github/nbprocess/nbs/09_processors.ipynb\n",
      "testing /Users/hamel/github/nbprocess/nbs/10_cli.ipynb\n",
      "testing /Users/hamel/github/nbprocess/nbs/11_clean.ipynb\n",
      "testing /Users/hamel/github/nbprocess/nbs/13_lookup.ipynb\n",
      "testing /Users/hamel/github/nbprocess/nbs/14_test.ipynb\n",
      "testing /Users/hamel/github/nbprocess/nbs/index.ipynb\n",
      "All tests are passing!\n"
     ]
    }
   ],
   "source": [
    "#|notest\n",
    "nbprocess_test()"
   ]
  },
  {
   "cell_type": "code",
   "execution_count": 15,
   "id": "267a32f1-8884-497e-a1af-dd38c80d8873",
   "metadata": {},
   "outputs": [],
   "source": [
    "#|hide\n",
    "#|eval: false\n",
    "from nbprocess.doclinks import nbprocess_export\n",
    "nbprocess_export()"
   ]
  },
  {
   "cell_type": "code",
   "execution_count": null,
   "id": "95aac647-7079-4b3c-a8f1-62ebd5042093",
   "metadata": {},
   "outputs": [],
   "source": []
  }
 ],
 "metadata": {
  "kernelspec": {
   "display_name": "Python 3 (ipykernel)",
   "language": "python",
   "name": "python3"
  },
  "language_info": {
   "codemirror_mode": {
    "name": "ipython",
    "version": 3
   },
   "file_extension": ".py",
   "mimetype": "text/x-python",
   "name": "python",
   "nbconvert_exporter": "python",
   "pygments_lexer": "ipython3",
   "version": "3.9.7"
  }
 },
 "nbformat": 4,
 "nbformat_minor": 5
}
