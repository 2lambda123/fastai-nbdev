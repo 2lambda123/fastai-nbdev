{
 "cells": [
  {
   "cell_type": "code",
   "execution_count": null,
   "id": "b2022982-581f-4b0c-87cc-5a0f977da3c9",
   "metadata": {},
   "outputs": [],
   "source": [
    "#|default_exp test"
   ]
  },
  {
   "cell_type": "code",
   "execution_count": null,
   "id": "ac1573c0-bcfc-4912-823d-508d75bf79d9",
   "metadata": {},
   "outputs": [],
   "source": [
    "#|export\n",
    "import time,os,sys,traceback,contextlib, inspect\n",
    "from fastcore.utils import *\n",
    "from fastcore.script import *\n",
    "from fastcore.imports import *\n",
    "from nbprocess.read import *\n",
    "from nbprocess.doclinks import *\n",
    "from nbprocess.process import NBProcessor\n",
    "from logging import warning"
   ]
  },
  {
   "cell_type": "markdown",
   "id": "2084506e-4393-41eb-8057-9406e78e4079",
   "metadata": {},
   "source": [
    "# Test Notebooks\n",
    "> Run unit tests on notebooks in parallel"
   ]
  },
  {
   "cell_type": "code",
   "execution_count": null,
   "id": "e23e602a-b44f-4f7a-acd0-77da3fd48d69",
   "metadata": {},
   "outputs": [],
   "source": [
    "#|export\n",
    "\n",
    "def _do_eval(cell, flags):\n",
    "    if cell.cell_type != 'code': return False\n",
    "    direc = getattr(cell, 'directives_', {}) or {}\n",
    "    if direc.get('eval:', [''])[0].lower() == 'false': return False\n",
    "    return not flags & direc.keys()"
   ]
  },
  {
   "cell_type": "code",
   "execution_count": null,
   "id": "1bea1619-b72a-4a44-bfa0-badc561f3a80",
   "metadata": {},
   "outputs": [],
   "source": [
    "#|export\n",
    "def _format_code(code_list, lineno):\n",
    "    fmt_code = [f\"---> {i} {c}\" if i == lineno else f\"     {i} {c}\" for i,c in enumerate(code_list, start=1)]\n",
    "    _fence = '-'*50\n",
    "    return '\\n'.join([_fence] + fmt_code + [_fence])"
   ]
  },
  {
   "cell_type": "code",
   "execution_count": null,
   "id": "a11a9ffe-1c94-4386-aa9f-977498e69426",
   "metadata": {},
   "outputs": [
    {
     "name": "stdout",
     "output_type": "stream",
     "text": [
      "--------------------------------------------------\n",
      "     1 def foo():\n",
      "---> 2     \"a docstring\"\n",
      "     3     pass\n",
      "--------------------------------------------------\n"
     ]
    }
   ],
   "source": [
    "_code = \"\"\"def foo():\n",
    "    \"a docstring\"\n",
    "    pass\n",
    "\"\"\".splitlines()\n",
    "\n",
    "print(_format_code(_code, lineno=2))"
   ]
  },
  {
   "cell_type": "code",
   "execution_count": null,
   "id": "4fac585a-7046-4187-89e3-8ead182b1d44",
   "metadata": {},
   "outputs": [],
   "source": [
    "#|export\n",
    "class nbprocessTestFailure(Exception):\n",
    "    def __init__(self, message):\n",
    "        super().__init__(message)"
   ]
  },
  {
   "cell_type": "code",
   "execution_count": null,
   "id": "8941ef63-fe30-4910-b1fd-2166f6b98ac6",
   "metadata": {},
   "outputs": [],
   "source": [
    "#|export\n",
    "def _skip_frame(tb):\n",
    "    #changes to the tinykernel library could break the assumptions made here on finding the right frame\n",
    "    return '/tinykernel/tinykernel/' not in tb.tb_frame.f_back.f_code.co_filename\n",
    "\n",
    "\n",
    "def test_nb(fn, skip_flags=None, force_flags=None, do_print=False):\n",
    "    \"Execute tests in notebook in `fn` except those with `skip_flags`\"\n",
    "    if not IN_NOTEBOOK: os.environ[\"IN_TEST\"] = '1'\n",
    "    flags=set(L(skip_flags)) - set(L(force_flags))\n",
    "    k,start = NBRunner(),time.time()\n",
    "    \n",
    "    def _exec_cell(cell):\n",
    "        if _do_eval(cell, flags):\n",
    "            try: k.run(cell)\n",
    "            except Exception as e:\n",
    "                _fence = '='*75\n",
    "                tb = e.__traceback__\n",
    "                while tb and _skip_frame(tb): tb = tb.tb_next\n",
    "                tb_str = '\\n'.join(traceback.format_exception(etype=type(e), value=e, tb=e.__traceback__)[-2:])\n",
    "                #changes to the tinykernel library could break this\n",
    "                line_no = nested_attr(tb, 'tb_next.tb_lineno', 0)\n",
    "                cell_str = f\"\\nWhile Executing Cell #{cell.idx_}:\\n{_format_code(cell.source.splitlines(), line_no)}\"\n",
    "                warning(f\"{type(e).__name__} in {fn}:\\n{_fence}\\n{cell_str}\\n{tb_str}\\n\") \n",
    "                raise nbprocessTestFailure('nbprocess test failed')\n",
    "    try:\n",
    "        if do_print: print(f'Starting {fn}')\n",
    "        with open(os.devnull, \"w\") as f, contextlib.redirect_stdout(f): NBProcessor(fn, _exec_cell).process()\n",
    "        if do_print: print(f'- Completed {fn}')\n",
    "        return True,time.time()-start\n",
    "    except nbprocessTestFailure:\n",
    "        return False,time.time()-start"
   ]
  },
  {
   "cell_type": "markdown",
   "id": "9dc26b80-6e4e-4a16-bcde-dd4d156289e5",
   "metadata": {},
   "source": [
    "`test_nb` can test a notebook, and skip over certain flags:"
   ]
  },
  {
   "cell_type": "code",
   "execution_count": null,
   "id": "e0cf84ef-bce4-4531-80df-7a4e514a7ffc",
   "metadata": {},
   "outputs": [
    {
     "data": {
      "text/plain": [
       "0.004225492477416992"
      ]
     },
     "execution_count": null,
     "metadata": {},
     "output_type": "execute_result"
    }
   ],
   "source": [
    "_nb = Path('../tests/directives.ipynb')\n",
    "success,duration = test_nb(_nb, skip_flags=['notest'])\n",
    "assert success\n",
    "duration"
   ]
  },
  {
   "cell_type": "markdown",
   "id": "77ef30c3-38ee-4c77-93df-c1ae4f959eb1",
   "metadata": {},
   "source": [
    "Sometimes you may wish to override one or more of the skip_flags, in which case you can use the argument `force_flags` which will remove the appropriate tag(s) from `skip_flags`.  This is useful because `skip_flags` are meant to be set in the `tst_flags` field of `settings.ini`, whereas `force_flags` are usually passed in by the user."
   ]
  },
  {
   "cell_type": "code",
   "execution_count": null,
   "id": "f8cc6a61-a48e-4ab1-89a9-18316ca795d6",
   "metadata": {},
   "outputs": [],
   "source": [
    "#|export\n",
    "@call_parse\n",
    "def nbprocess_test(\n",
    "    fname:str=None,  # A notebook name or glob to convert\n",
    "    flags:str='',  # Space separated list of test flags you want to run that are normally ignored\n",
    "    n_workers:int=None,  # Number of workers to use\n",
    "    timing:bool=False,  # Timing each notebook to see the ones are slow\n",
    "    do_print:str=False, # Print start and end of each NB\n",
    "    pause:float=0.01  # Pause time (in secs) between notebooks to avoid race conditions\n",
    "):\n",
    "    \"Test in parallel the notebooks matching `fname`, passing along `flags`\"\n",
    "    skip_flags = config_key('tst_flags', '', path=False).split()\n",
    "    force_flags = flags.split()\n",
    "    files = [Path(f).absolute() for f in sorted(nbglob(fname))]\n",
    "    if n_workers is None: n_workers = 0 if len(files)==1 else min(num_cpus(), 8)\n",
    "    os.chdir(config_key(\"nbs_path\"))\n",
    "    results = parallel(test_nb, files, skip_flags=skip_flags, force_flags=force_flags, n_workers=n_workers, pause=pause, do_print=do_print)\n",
    "    passed,times = zip(*results)\n",
    "    if all(passed): print(\"Success.\")\n",
    "    else: \n",
    "        _fence = '='*50\n",
    "        failed = '\\n\\t'.join(f.name for p,f in zip(passed,files) if not p)\n",
    "        sys.stderr.write(f\"\\nnbprocess Tests Failed On The Following Notebooks:\\n{_fence}\\n\\t{failed}\")\n",
    "        exit(1)\n",
    "    if timing:\n",
    "        for i,t in sorted(enumerate(times), key=lambda o:o[1], reverse=True): print(f\"{files[i].name}: {int(t)} secs\")"
   ]
  },
  {
   "cell_type": "code",
   "execution_count": null,
   "id": "1a6e0542",
   "metadata": {},
   "outputs": [
    {
     "data": {
      "image/svg+xml": [
       "<svg height=\"100\"><circle cx=\"50\" cy=\"50\" r=\"40\"/></svg>"
      ],
      "text/plain": [
       "<IPython.core.display.SVG object>"
      ]
     },
     "metadata": {},
     "output_type": "display_data"
    },
    {
     "name": "stdout",
     "output_type": "stream",
     "text": [
      "Success.\n"
     ]
    }
   ],
   "source": [
    "#|eval:false\n",
    "nbprocess_test(n_workers=0)"
   ]
  },
  {
   "cell_type": "markdown",
   "id": "8ee3f4db",
   "metadata": {},
   "source": [
    "## Eval -"
   ]
  },
  {
   "cell_type": "code",
   "execution_count": null,
   "id": "267a32f1-8884-497e-a1af-dd38c80d8873",
   "metadata": {},
   "outputs": [],
   "source": [
    "#|hide\n",
    "#|eval: false\n",
    "from nbprocess.doclinks import nbprocess_export\n",
    "nbprocess_export()"
   ]
  },
  {
   "cell_type": "code",
   "execution_count": null,
   "id": "79d3fbcd",
   "metadata": {},
   "outputs": [],
   "source": []
  }
 ],
 "metadata": {
  "kernelspec": {
   "display_name": "Python 3 (ipykernel)",
   "language": "python",
   "name": "python3"
  }
 },
 "nbformat": 4,
 "nbformat_minor": 5
}
