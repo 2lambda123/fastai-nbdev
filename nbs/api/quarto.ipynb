{
 "cells": [
  {
   "cell_type": "markdown",
   "id": "f0f931c2",
   "metadata": {},
   "source": [
    "# quarto\n",
    "\n",
    "> Install and interact with Quarto from nbdev\n",
    "- order: 14"
   ]
  },
  {
   "cell_type": "code",
   "execution_count": null,
   "id": "ce55bb06",
   "metadata": {},
   "outputs": [],
   "source": [
    "#|default_exp quarto"
   ]
  },
  {
   "cell_type": "code",
   "execution_count": null,
   "id": "6a35c7c4-748f-4c82-a9bf-c780a8d83e90",
   "metadata": {},
   "outputs": [],
   "source": [
    "#|export\n",
    "from __future__ import annotations\n",
    "import subprocess,sys,shutil,ast,warnings,traceback\n",
    "from os import system\n",
    "from contextlib import contextmanager\n",
    "\n",
    "from nbdev.config import *\n",
    "from nbdev.doclinks import *\n",
    "\n",
    "from fastcore.utils import *\n",
    "from fastcore.script import call_parse\n",
    "from fastcore.shutil import rmtree,move,copytree\n",
    "from fastcore.meta import delegates\n",
    "from nbdev.serve import proc_nbs,_proc_file\n",
    "from nbdev import serve_drv"
   ]
  },
  {
   "cell_type": "code",
   "execution_count": null,
   "id": "1e623a3d-3e77-44c6-adf3-4768b78328c5",
   "metadata": {},
   "outputs": [],
   "source": [
    "#|hide\n",
    "from fastcore.test import *"
   ]
  },
  {
   "cell_type": "code",
   "execution_count": null,
   "id": "aae2d2be-ad03-4536-bf70-c4575f39cea3",
   "metadata": {},
   "outputs": [],
   "source": [
    "#|export\n",
    "def _sprun(cmd):\n",
    "    try: subprocess.check_output(cmd, shell=True)\n",
    "    except subprocess.CalledProcessError as cpe: sys.exit(cpe.returncode)"
   ]
  },
  {
   "cell_type": "markdown",
   "id": "d2d44156",
   "metadata": {},
   "source": [
    "## Install"
   ]
  },
  {
   "cell_type": "code",
   "execution_count": null,
   "id": "75e4b6a1",
   "metadata": {},
   "outputs": [],
   "source": [
    "#|export\n",
    "BASE_QUARTO_URL='https://www.quarto.org/download/latest/'\n",
    "\n",
    "def _install_linux():\n",
    "    system(f'curl -LO {BASE_QUARTO_URL}quarto-linux-amd64.deb')\n",
    "    system('sudo dpkg -i *64.deb && rm *64.deb')\n",
    "    \n",
    "def _install_mac():\n",
    "    system(f'curl -LO {BASE_QUARTO_URL}quarto-macos.pkg')\n",
    "    system('sudo installer -pkg quarto-macos.pkg -target /')\n",
    "\n",
    "@call_parse\n",
    "def install_quarto():\n",
    "    \"Install latest Quarto on macOS or Linux, prints instructions for Windows\"\n",
    "    if sys.platform not in ('darwin','linux'):\n",
    "        return print('Please visit https://quarto.org/docs/get-started/ to install quarto')\n",
    "    print(\"Installing or upgrading quarto -- this requires root access.\")\n",
    "    system('sudo touch .installing')\n",
    "    try:\n",
    "        installing = Path('.installing')\n",
    "        if not installing.exists(): return print(\"Cancelled. Please download and install Quarto from quarto.org.\")\n",
    "        if 'darwin' in sys.platform: _install_mac()\n",
    "        elif 'linux' in sys.platform: _install_linux()\n",
    "    finally: system('sudo rm -f .installing')"
   ]
  },
  {
   "cell_type": "code",
   "execution_count": null,
   "id": "7580d48f-e10e-4bb0-937e-90645b5dfd08",
   "metadata": {},
   "outputs": [],
   "source": [
    "#| export\n",
    "@call_parse\n",
    "def install():\n",
    "    \"Install Quarto and the current library\"\n",
    "    install_quarto.__wrapped__()\n",
    "    d = get_config().lib_path\n",
    "    if (d/'__init__.py').exists(): system(f'pip install -e \"{d.parent}[dev]\"')"
   ]
  },
  {
   "cell_type": "markdown",
   "id": "bf0cbccc",
   "metadata": {},
   "source": [
    "## Sidebar"
   ]
  },
  {
   "cell_type": "code",
   "execution_count": null,
   "id": "b93f6def",
   "metadata": {},
   "outputs": [],
   "source": [
    "#|export\n",
    "def _pre(p,b=True): return '    ' * (len(p.parts)) + ('- ' if b else '  ')\n",
    "def _sort(a):\n",
    "    x,y = a\n",
    "    if y.startswith('index.'): return x,'00'\n",
    "    return a\n",
    "#|export\n",
    "_def_file_re = '\\.(?:ipynb|qmd|html)$'\n",
    "\n",
    "@delegates(nbglob_cli)\n",
    "def _nbglob_docs(\n",
    "    path:str=None, # Path to notebooks\n",
    "    file_glob:str=None, # Only include files matching glob    \n",
    "    file_re:str=_def_file_re, # Only include files matching regex\n",
    "    **kwargs):\n",
    "    return nbglob(path, file_glob=file_glob, file_re=file_re, **kwargs)"
   ]
  },
  {
   "cell_type": "code",
   "execution_count": null,
   "id": "d879c7e1",
   "metadata": {},
   "outputs": [],
   "source": [
    "#|export\n",
    "@call_parse\n",
    "@delegates(_nbglob_docs)\n",
    "def nbdev_sidebar(\n",
    "    path:str=None, # Path to notebooks\n",
    "    printit:bool=False,  # Print YAML for debugging\n",
    "    force:bool=False,  # Create sidebar even if settings.ini custom_sidebar=False\n",
    "    skip_folder_re:str='(?:^[_.]|^www\\$)', # Skip folders matching regex\n",
    "    **kwargs):\n",
    "    \"Create sidebar.yml\"\n",
    "    if not force and get_config().custom_sidebar: return\n",
    "    path = get_config().nbs_path if not path else Path(path)\n",
    "    def _f(a,b): return Path(a),b\n",
    "    files = nbglob(path, func=_f, skip_folder_re=skip_folder_re, **kwargs).sorted(key=_sort)\n",
    "    lastd,res = Path(),[]\n",
    "    for dabs,name in files:\n",
    "        drel = dabs.relative_to(path)\n",
    "        d = Path()\n",
    "        for p in drel.parts:\n",
    "            d /= p\n",
    "            if d == lastd: continue\n",
    "            title = re.sub('^\\d+_', '', d.name)\n",
    "            res.append(_pre(d.parent) + f'section: {title}')\n",
    "            res.append(_pre(d.parent, False) + 'contents:')\n",
    "            lastd = d\n",
    "        res.append(f'{_pre(d)}{d.joinpath(name)}')\n",
    "\n",
    "    yml_path = path/'sidebar.yml'\n",
    "    yml = \"website:\\n  sidebar:\\n    contents:\\n\"\n",
    "    yml += '\\n'.join(f'      {o}' for o in res)\n",
    "    if printit: return print(yml)\n",
    "    yml_path.write_text(yml)"
   ]
  },
  {
   "cell_type": "code",
   "execution_count": null,
   "id": "64afd913",
   "metadata": {},
   "outputs": [],
   "source": [
    "# nbdev_sidebar(printit=True, force=True)"
   ]
  },
  {
   "cell_type": "markdown",
   "id": "ad323b10",
   "metadata": {},
   "source": [
    "## Render docs"
   ]
  },
  {
   "cell_type": "code",
   "execution_count": null,
   "id": "aabf2f15",
   "metadata": {},
   "outputs": [],
   "source": [
    "#|export\n",
    "_quarto_yml=\"\"\"project:\n",
    "  type: website\n",
    "\n",
    "format:\n",
    "  html:\n",
    "    theme: cosmo\n",
    "    css: styles.css\n",
    "    toc: true\n",
    "\n",
    "website:\n",
    "  twitter-card: true\n",
    "  open-graph: true\n",
    "  repo-actions: [issue]\n",
    "  navbar:\n",
    "    background: primary\n",
    "    search: true\n",
    "  sidebar:\n",
    "    style: floating\n",
    "\n",
    "metadata-files: [nbdev.yml, sidebar.yml]\"\"\""
   ]
  },
  {
   "cell_type": "code",
   "execution_count": null,
   "id": "faabf6e6",
   "metadata": {},
   "outputs": [],
   "source": [
    "#|export\n",
    "_nbdev_yml=\"\"\"project:\n",
    "  output-dir: {doc_path}\n",
    "\n",
    "website:\n",
    "  title: \"{title}\"\n",
    "  site-url: \"{doc_host}{doc_baseurl}\"\n",
    "  description: \"{description}\"\n",
    "  repo-branch: {branch}\n",
    "  repo-url: \"{git_url}\"\n",
    "\"\"\""
   ]
  },
  {
   "cell_type": "code",
   "execution_count": null,
   "id": "38124450",
   "metadata": {},
   "outputs": [],
   "source": [
    "#|export\n",
    "def refresh_quarto_yml():\n",
    "    \"Generate `_quarto.yml` from `settings.ini`.\"\n",
    "    cfg = get_config()\n",
    "    ny = cfg.nbs_path/'nbdev.yml'\n",
    "    vals = {k:cfg[k] for k in ['title', 'description', 'branch', 'git_url', 'doc_host', 'doc_baseurl']}\n",
    "    vals['doc_path'] = cfg.doc_path.name\n",
    "    if 'title' not in vals: vals['title'] = vals['lib_name']\n",
    "    ny.write_text(_nbdev_yml.format(**vals))\n",
    "    qy = cfg.nbs_path/'_quarto.yml'\n",
    "    if 'custom_quarto_yml' in cfg.d: print(\"NB: `_quarto.yml` is no longer auto-updated. Remove `custom_quarto_yml` from `settings.ini`\")\n",
    "    if qy.exists() and not str2bool(cfg.get('custom_quarto_yml', True)): qy.unlink()\n",
    "    if not qy.exists(): qy.write_text(_quarto_yml)"
   ]
  },
  {
   "cell_type": "code",
   "execution_count": null,
   "id": "975d370e",
   "metadata": {},
   "outputs": [],
   "source": [
    "#|export\n",
    "def _ensure_quarto():\n",
    "    if shutil.which('quarto'): return\n",
    "    print(\"Quarto is not installed. We will download and install it for you.\")\n",
    "    install.__wrapped__()"
   ]
  },
  {
   "cell_type": "code",
   "execution_count": null,
   "id": "6b880922",
   "metadata": {},
   "outputs": [],
   "source": [
    "#|export\n",
    "def _pre_docs(path=None, n_workers:int=defaults.cpus, **kwargs):\n",
    "    cfg = get_config()\n",
    "    path = Path(path) if path else cfg.nbs_path\n",
    "    _ensure_quarto()\n",
    "    refresh_quarto_yml()\n",
    "    import nbdev.doclinks\n",
    "    nbdev.doclinks._build_modidx()\n",
    "    nbdev_sidebar.__wrapped__(path=path, **kwargs)\n",
    "    cache = proc_nbs(path, n_workers=n_workers, **kwargs)\n",
    "    return cache,cfg,path"
   ]
  },
  {
   "cell_type": "code",
   "execution_count": null,
   "id": "e3806fa9",
   "metadata": {},
   "outputs": [],
   "source": [
    "#|export\n",
    "@call_parse\n",
    "@delegates(proc_nbs)\n",
    "def nbdev_proc_nbs(**kwargs):\n",
    "    \"Process notebooks in `path` for docs rendering\"\n",
    "    return _pre_docs(**kwargs)[0]"
   ]
  },
  {
   "cell_type": "code",
   "execution_count": null,
   "id": "6de0f458",
   "metadata": {},
   "outputs": [],
   "source": [
    "# nbdev_proc_nbs.__wrapped__()"
   ]
  },
  {
   "cell_type": "code",
   "execution_count": null,
   "id": "45d6bb5d",
   "metadata": {},
   "outputs": [],
   "source": [
    "#|export\n",
    "@call_parse\n",
    "def nbdev_readme(\n",
    "    path:str=None, # Path to notebooks\n",
    "    chk_time:bool=False): # Only build if out of date\n",
    "    cfg = get_config()\n",
    "    cfg_path = cfg.config_path\n",
    "    path = Path(path) if path else cfg.nbs_path\n",
    "    idx_path = path/cfg.readme_nb\n",
    "    if not idx_path.exists(): return print(f\"Could not find {idx_path}\")\n",
    "    readme_path = cfg_path/'README.md'\n",
    "    if chk_time and readme_path.exists() and readme_path.stat().st_mtime>=idx_path.stat().st_mtime: return\n",
    "\n",
    "    yml_path = path/'sidebar.yml'\n",
    "    moved=False\n",
    "    if yml_path.exists():\n",
    "        # move out of the way to avoid rendering whole website\n",
    "        yml_path.rename(path/'sidebar.yml.bak')\n",
    "        moved=True\n",
    "\n",
    "    try:\n",
    "        cache = proc_nbs(path)\n",
    "        idx_cache = cache/cfg.readme_nb\n",
    "        _sprun(f'cd \"{cache}\" && quarto render \"{idx_cache}\" -o README.md -t gfm --no-execute')\n",
    "    finally:\n",
    "        if moved: (path/'sidebar.yml.bak').rename(yml_path)\n",
    "    tmp_doc_path = cache/cfg.doc_path.name\n",
    "    readme = tmp_doc_path/'README.md'\n",
    "    if readme.exists():\n",
    "        _rdmi = tmp_doc_path/(idx_cache.stem + '_files')\n",
    "        if readme_path.exists(): readme_path.unlink() # py37 doesn't have `missing_ok`\n",
    "        move(readme, cfg_path)\n",
    "        if _rdmi.exists(): copytree(_rdmi, cfg_path/_rdmi.name) # Move Supporting files for README"
   ]
  },
  {
   "cell_type": "code",
   "execution_count": null,
   "id": "f1e1cf1b",
   "metadata": {},
   "outputs": [],
   "source": [
    "#|hide\n",
    "# nbdev_readme.__wrapped__(chk_time=True)"
   ]
  },
  {
   "cell_type": "code",
   "execution_count": null,
   "id": "37d16049",
   "metadata": {},
   "outputs": [],
   "source": [
    "#|export\n",
    "@call_parse\n",
    "@delegates(_nbglob_docs)\n",
    "def nbdev_docs(\n",
    "    path:str=None, # Path to notebooks\n",
    "    n_workers:int=defaults.cpus,  # Number of workers\n",
    "    **kwargs):\n",
    "    \"Create Quarto docs and README.md\"\n",
    "    cache,cfg,path = _pre_docs(path, n_workers=n_workers, **kwargs)\n",
    "    nbdev_readme.__wrapped__(path=path, chk_time=True)\n",
    "    _sprun(f'cd \"{cache}\" && quarto render --no-cache')\n",
    "    shutil.rmtree(cfg.doc_path, ignore_errors=True)\n",
    "    move(cache/cfg.doc_path.name, cfg.config_path)"
   ]
  },
  {
   "cell_type": "code",
   "execution_count": null,
   "id": "20ff3463",
   "metadata": {},
   "outputs": [],
   "source": [
    "#|hide\n",
    "# nbdev_docs.__wrapped__()"
   ]
  },
  {
   "cell_type": "code",
   "execution_count": null,
   "id": "23886f9c",
   "metadata": {},
   "outputs": [],
   "source": [
    "#|export\n",
    "@call_parse\n",
    "def prepare():\n",
    "    \"Export, test, and clean notebooks, and render README if needed\"\n",
    "    import nbdev.test, nbdev.clean\n",
    "    nbdev_export.__wrapped__()\n",
    "    nbdev.test.nbdev_test.__wrapped__()\n",
    "    nbdev.clean.nbdev_clean.__wrapped__()\n",
    "    refresh_quarto_yml()\n",
    "    nbdev_readme.__wrapped__(chk_time=True)"
   ]
  },
  {
   "cell_type": "markdown",
   "id": "d439c417",
   "metadata": {},
   "source": [
    "## Preview"
   ]
  },
  {
   "cell_type": "code",
   "execution_count": null,
   "id": "5f701608",
   "metadata": {},
   "outputs": [],
   "source": [
    "#|export\n",
    "@contextmanager\n",
    "def fs_watchdog(func, path, recursive:bool=True):\n",
    "    \"File system watchdog dispatching to `func`\"\n",
    "    from watchdog.observers import Observer\n",
    "    from watchdog.events import FileSystemEventHandler\n",
    "    class _ProcessHandler(FileSystemEventHandler): dispatch=func\n",
    "    observer = Observer()\n",
    "    observer.schedule(_ProcessHandler, path, recursive=True)\n",
    "    observer.start()\n",
    "    try: yield\n",
    "    except KeyboardInterrupt: pass\n",
    "    finally:\n",
    "        observer.stop()\n",
    "        observer.join()"
   ]
  },
  {
   "cell_type": "code",
   "execution_count": null,
   "id": "b6ddeadd",
   "metadata": {},
   "outputs": [],
   "source": [
    "#|export\n",
    "@call_parse\n",
    "@delegates(_nbglob_docs)\n",
    "def nbdev_preview(\n",
    "    path:str=None, # Path to notebooks\n",
    "    port:int=None, # The port on which to run preview\n",
    "    host:str=None, # The host on which to run preview\n",
    "    n_workers:int=defaults.cpus,  # Number of workers\n",
    "    **kwargs):\n",
    "    \"Preview docs locally\"\n",
    "    os.environ['QUARTO_PREVIEW']='1'\n",
    "    cache,cfg,path = _pre_docs(path, n_workers=n_workers, **kwargs)\n",
    "    xtra = []\n",
    "    if port: xtra += ['--port', str(port)]\n",
    "    if host: xtra += ['--host', host]\n",
    "\n",
    "    def _f(e):\n",
    "        res = _proc_file(Path(e.src_path), cache, path)\n",
    "        if res:\n",
    "            try: serve_drv.main(res)\n",
    "            except: traceback.print_exc()\n",
    "\n",
    "    os.chdir(cache)\n",
    "    xtra = xtra or []\n",
    "    with fs_watchdog(_f, path): subprocess.run(['quarto','preview']+xtra)"
   ]
  },
  {
   "cell_type": "code",
   "execution_count": null,
   "id": "d67f517a",
   "metadata": {},
   "outputs": [],
   "source": [
    "#|hide\n",
    "# nbdev_preview.__wrapped__(n_workers=0)"
   ]
  },
  {
   "cell_type": "markdown",
   "id": "aa35b010",
   "metadata": {},
   "source": [
    "## Export -"
   ]
  },
  {
   "cell_type": "code",
   "execution_count": null,
   "id": "3d8031ce",
   "metadata": {},
   "outputs": [],
   "source": [
    "#|hide\n",
    "import nbdev; nbdev.nbdev_export()"
   ]
  },
  {
   "cell_type": "code",
   "execution_count": null,
   "id": "12588a26-43a6-42c4-bacd-896293c871ab",
   "metadata": {},
   "outputs": [],
   "source": []
  }
 ],
 "metadata": {
  "kernelspec": {
   "display_name": "Python 3 (ipykernel)",
   "language": "python",
   "name": "python3"
  }
 },
 "nbformat": 4,
 "nbformat_minor": 5
}
