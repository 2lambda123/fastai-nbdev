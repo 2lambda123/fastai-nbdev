{
 "cells": [
  {
   "cell_type": "markdown",
   "id": "f0f931c2",
   "metadata": {},
   "source": [
    "# qmd\n",
    "\n",
    "> Basic qmd generation helpers (experimental)\n",
    "- order: 15"
   ]
  },
  {
   "cell_type": "code",
   "execution_count": null,
   "id": "2b548a67",
   "metadata": {},
   "outputs": [],
   "source": [
    "#|default_exp qmd"
   ]
  },
  {
   "cell_type": "code",
   "execution_count": null,
   "id": "6a35c7c4-748f-4c82-a9bf-c780a8d83e90",
   "metadata": {},
   "outputs": [],
   "source": [
    "#|export\n",
    "from __future__ import annotations\n",
    "import sys,os,inspect\n",
    "\n",
    "from fastcore.utils import *\n",
    "from fastcore.meta import delegates"
   ]
  },
  {
   "cell_type": "code",
   "execution_count": null,
   "id": "1e623a3d-3e77-44c6-adf3-4768b78328c5",
   "metadata": {},
   "outputs": [],
   "source": [
    "#|hide\n",
    "from fastcore.test import *"
   ]
  },
  {
   "cell_type": "code",
   "execution_count": null,
   "id": "5a64f1f4",
   "metadata": {},
   "outputs": [],
   "source": [
    "#| export\n",
    "def meta(md,  # Markdown to add meta to\n",
    "         classes=None,  # List of CSS classes to add\n",
    "         style=None,  # Dict of CSS styles to add\n",
    "         **kwargs):   # Additional attributes to add to meta\n",
    "    \"A metadata section for qmd div in `{}`\"\n",
    "    if style: kwargs['style'] = \"; \".join(f'{k}: {v}' for k,v in style.items())\n",
    "    props = ' '.join(f'{k}=\"{v}\"' for k,v in kwargs.items())\n",
    "    classes = ' '.join('.'+c for c in L(classes))\n",
    "    meta = []\n",
    "    if classes: meta.append(classes)\n",
    "    if props: meta.append(props)\n",
    "    meta = ' '.join(meta)\n",
    "    return md + (\"{\" + meta + \"}\" if meta else \"\")"
   ]
  },
  {
   "cell_type": "code",
   "execution_count": null,
   "id": "52637a70",
   "metadata": {},
   "outputs": [],
   "source": [
    "#| export\n",
    "def div(txt,  # Markdown to add meta to\n",
    "        classes=None,  # List of CSS classes to add\n",
    "        style=None,  # Dict of CSS styles to add\n",
    "        **kwargs):\n",
    "    \"A qmd div with optional metadata section\"\n",
    "    return meta(\"::: \", classes=classes, style=style, **kwargs) + f\"\\n\\n{txt}\\n\\n:::\\n\\n\""
   ]
  },
  {
   "cell_type": "code",
   "execution_count": null,
   "id": "f9f499f4",
   "metadata": {},
   "outputs": [],
   "source": [
    "#| export\n",
    "def img(fname,  # Image to link to\n",
    "        classes=None,  # List of CSS classes to add\n",
    "        style=None,   # Dict of CSS styles to add\n",
    "        height=None,  # Height attribute\n",
    "        relative=None,  # Tuple of (position,px)\n",
    "        link=False,   # Hyperlink to this image\n",
    "        **kwargs):\n",
    "    \"A qmd image\"\n",
    "    kwargs,style = kwargs or {}, style or {}\n",
    "    if height: kwargs[\"height\"]= f\"{height}px\"\n",
    "    if relative:\n",
    "        pos,px = relative\n",
    "        style[\"position\"] = \"relative\"\n",
    "        style[pos] = f\"{px}px\"\n",
    "    res = meta(f'![]({fname})', classes=classes, style=style, **kwargs)\n",
    "    return  f'[{res}]({fname})' if link else res"
   ]
  },
  {
   "cell_type": "code",
   "execution_count": null,
   "id": "16d7aa5f",
   "metadata": {},
   "outputs": [],
   "source": [
    "#| export\n",
    "def btn(txt, # Button text\n",
    "        link,  # Button link URL\n",
    "        classes=None,  # List of CSS classes to add\n",
    "        style=None,    # Dict of CSS styles to add\n",
    "        **kwargs):\n",
    "    \"A qmd button\"\n",
    "    return meta(f'[{txt}]({link})', classes=classes, style=style, role=\"button\")"
   ]
  },
  {
   "cell_type": "code",
   "execution_count": null,
   "id": "e414ed33",
   "metadata": {},
   "outputs": [],
   "source": [
    "#| export\n",
    "def tbl_row(cols:list,  # Auto-stringified columns to show in the row\n",
    "           ):\n",
    "    \"Create a markdown table row from `cols`\"\n",
    "    return '|' + '|'.join(str(c or '') for c in cols) + '|'"
   ]
  },
  {
   "cell_type": "code",
   "execution_count": null,
   "id": "38f0641b",
   "metadata": {},
   "outputs": [],
   "source": [
    "#| export\n",
    "def tbl_sep(sizes:int|list=3  # List of column sizes, or single `int` if all sizes the same\n",
    "           ):\n",
    "    \"Create a markdown table separator with relative column size `sizes`\"\n",
    "    if isinstance(sizes,int): sizes = [3]*sizes\n",
    "    return tbl_row('-'*s for s in sizes)"
   ]
  },
  {
   "cell_type": "code",
   "execution_count": null,
   "id": "a0d6553e-05ab-4db2-b739-aeee59a9ff31",
   "metadata": {},
   "outputs": [],
   "source": [
    "#| export\n",
    "def _install_nbdev():\n",
    "    return div('''#### pip\n",
    "\n",
    "```sh\n",
    "pip install -U nbdev\n",
    "```\n",
    "\n",
    "#### conda\n",
    "\n",
    "```sh\n",
    "conda install -c fastai nbdev\n",
    "```\n",
    "''', ['panel-tabset'])"
   ]
  },
  {
   "cell_type": "markdown",
   "id": "aa35b010",
   "metadata": {},
   "source": [
    "## Export -"
   ]
  },
  {
   "cell_type": "code",
   "execution_count": null,
   "id": "3d8031ce",
   "metadata": {},
   "outputs": [],
   "source": [
    "#|hide\n",
    "import nbdev; nbdev.nbdev_export()"
   ]
  },
  {
   "cell_type": "code",
   "execution_count": null,
   "id": "12588a26-43a6-42c4-bacd-896293c871ab",
   "metadata": {},
   "outputs": [],
   "source": []
  }
 ],
 "metadata": {
  "kernelspec": {
   "display_name": "python3",
   "language": "python",
   "name": "python3"
  }
 },
 "nbformat": 4,
 "nbformat_minor": 5
}
