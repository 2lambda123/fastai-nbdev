{
 "cells": [
  {
   "cell_type": "code",
   "execution_count": null,
   "id": "79ed0425-068a-4e9e-8ccf-245039ae8698",
   "metadata": {},
   "outputs": [],
   "source": [
    "#default_exp mdx"
   ]
  },
  {
   "cell_type": "markdown",
   "id": "1a07b01c",
   "metadata": {},
   "source": [
    "# Preprocessors For MDX\n",
    "\n",
    "> Custom preprocessors that help convert notebook content into MDX"
   ]
  },
  {
   "cell_type": "code",
   "execution_count": null,
   "id": "ec9908ec",
   "metadata": {},
   "outputs": [],
   "source": [
    "# export\n",
    "from nbprocess.read import get_config\n",
    "from nbprocess.processor import *\n",
    "\n",
    "from fastcore.basics import *\n",
    "from fastcore.foundation import *\n",
    "from traitlets.config import Config\n",
    "from pathlib import Path\n",
    "import re, uuid\n",
    "from nbprocess.media import ImagePath, ImageSave, HTMLEscape"
   ]
  },
  {
   "cell_type": "code",
   "execution_count": null,
   "id": "e96e0515",
   "metadata": {},
   "outputs": [],
   "source": [
    "#hide\n",
    "from nbprocess.export import read_nb\n",
    "from nbconvert import NotebookExporter\n",
    "from nbprocess.test_utils import run_preprocessor, show_plain_md\n",
    "# from nbprocess.run import _gen_nb\n",
    "import json\n",
    "\n",
    "__file__ = '../nbprocess/export.py'\n",
    "_test_file = '../tests/docs_test.ipynb'"
   ]
  },
  {
   "cell_type": "markdown",
   "id": "43d60ddb-f5b2-4421-85ab-44843b8f5b1e",
   "metadata": {},
   "source": [
    "This module defines [nbconvert.Custom Preprocessors](https://nbconvert.readthedocs.io/en/latest/nbconvert_library.html#Custom-Preprocessors) that facilitate transforming notebook content into MDX, which is a variation of markdown."
   ]
  },
  {
   "cell_type": "markdown",
   "id": "0c2e8801",
   "metadata": {},
   "source": [
    "## Cell Tag Cheatsheet"
   ]
  },
  {
   "cell_type": "markdown",
   "id": "fb1a8652",
   "metadata": {},
   "source": [
    "These preprocessors allow you to make special comments to enable/disable them.  Here is a list of all special comments:\n",
    "\n",
    "All comments start with `#meta` or `#cell_meta`, which are both aliases for the same thing.  For brevity, we will use `#meta` in this cheatsheet."
   ]
  },
  {
   "cell_type": "markdown",
   "id": "31c10a4d",
   "metadata": {},
   "source": [
    "### Show/Hide Cells"
   ]
  },
  {
   "cell_type": "markdown",
   "id": "00c0c0b1-df9b-4b5a-9a31-f741a69f900e",
   "metadata": {},
   "source": [
    "1. Remove entire cells:  `#meta:tag=remove_cell` or `#meta:tag=hide`\n",
    "2. Remove output: `#meta:tag=remove_output` or `#meta:tag=remove_output` or `#meta:tag=hide_outputs` or `#meta:tag=hide_output`\n",
    "3. Remove input: same as above, except `input` instead of `output`."
   ]
  },
  {
   "cell_type": "markdown",
   "id": "94fe7e9d-76f1-4023-b038-a001e77bfa2c",
   "metadata": {},
   "source": [
    "## Injecting Metadata Into Cells -"
   ]
  },
  {
   "cell_type": "code",
   "execution_count": null,
   "id": "d724801a",
   "metadata": {},
   "outputs": [],
   "source": [
    "#export\n",
    "_re_meta= r'^\\s*#(?:cell_meta|meta):\\S+\\s*[\\n\\r]'\n",
    "\n",
    "@preprocess_cell\n",
    "def InjectMeta(cell):\n",
    "    \"Inject metadata into a cell for further preprocessing with a comment.\"\n",
    "    _pattern = r'(^\\s*#(?:cell_meta|meta):)(\\S+)(\\s*[\\n\\r])'\n",
    "    if cell.cell_type == 'code' and re.search(_re_meta, cell.source, flags=re.MULTILINE):\n",
    "        cell_meta = re.findall(_pattern, cell.source, re.MULTILINE)\n",
    "        d = cell.metadata.get('nbprocess', {})\n",
    "        for _, m, _ in cell_meta:\n",
    "            if '=' in m:\n",
    "                k,v = m.split('=')\n",
    "                d[k] = v\n",
    "            else: print(f\"Warning cell_meta:{m} does not have '=' will be ignored.\")\n",
    "        cell.metadata['nbprocess'] = d"
   ]
  },
  {
   "cell_type": "markdown",
   "id": "109942b9-6af1-4bee-b1fe-e5677857d151",
   "metadata": {},
   "source": [
    "To inject metadata make a comment in a cell with the following pattern: `#cell_meta:{key=value}`. Note that `#meta` is an alias for `#cell_meta`\n",
    "\n",
    "For example, consider the following code:"
   ]
  },
  {
   "cell_type": "code",
   "execution_count": null,
   "id": "90d60081-e886-467a-9f53-b64a1f3bd4d7",
   "metadata": {},
   "outputs": [
    {
     "name": "stdout",
     "output_type": "stream",
     "text": [
      "#meta:show_steps=start,train\n",
      "import re\n"
     ]
    }
   ],
   "source": [
    "_test_file = '../tests/docs_test.ipynb'\n",
    "first_cell = read_nb(_test_file)['cells'][2]\n",
    "print(first_cell['source'])"
   ]
  },
  {
   "cell_type": "markdown",
   "id": "fc8b719e-3fed-4cef-9b11-49b684f38185",
   "metadata": {},
   "source": [
    "At the moment, this cell has no metadata:"
   ]
  },
  {
   "cell_type": "code",
   "execution_count": null,
   "id": "49cb2de4",
   "metadata": {},
   "outputs": [
    {
     "data": {
      "text/markdown": [],
      "text/plain": []
     },
     "execution_count": null,
     "metadata": {},
     "output_type": "execute_result"
    }
   ],
   "source": [
    "first_cell.metadata"
   ]
  },
  {
   "cell_type": "markdown",
   "id": "d739a476-b659-4e4b-93db-c3df2fc11b33",
   "metadata": {},
   "source": [
    "However, after we process this notebook with `InjectMeta`, the appropriate metadata will be injected:"
   ]
  },
  {
   "cell_type": "code",
   "execution_count": null,
   "id": "0705cfea-6abb-4bfe-8225-e04c32c6eb75",
   "metadata": {},
   "outputs": [],
   "source": [
    "c = Config()\n",
    "c.NotebookExporter.preprocessors = [InjectMeta]\n",
    "exp = NotebookExporter(config=c)\n",
    "cells, _ = exp.from_filename(_test_file)\n",
    "first_cell = json.loads(cells)['cells'][2]\n",
    "\n",
    "assert first_cell['metadata'] == {'nbprocess': {'show_steps': 'start,train'}}"
   ]
  },
  {
   "cell_type": "markdown",
   "id": "7011576a-978f-4851-88d3-6cbbc23fbf07",
   "metadata": {},
   "source": [
    "## Strip Ansi Characters From Output -"
   ]
  },
  {
   "cell_type": "code",
   "execution_count": null,
   "id": "84073fa6-5907-41f2-b8b8-568a96112fbd",
   "metadata": {},
   "outputs": [],
   "source": [
    "#export\n",
    "_re_ansi_escape = re.compile(r'\\x1B(?:[@-Z\\\\-_]|\\[[0-?]*[ -/]*[@-~])')\n",
    "\n",
    "@preprocess_cell\n",
    "def StripAnsi(cell):\n",
    "    \"Strip Ansi Characters.\"\n",
    "    for o in cell.get('outputs', []):\n",
    "        if o.get('name') == 'stdout': o['text'] = _re_ansi_escape.sub('', o.text)"
   ]
  },
  {
   "cell_type": "markdown",
   "id": "463b9def-91ad-4b05-92c3-e074954e4faf",
   "metadata": {},
   "source": [
    "Gets rid of colors that are streamed from standard out, which can interfere with static site generators:"
   ]
  },
  {
   "cell_type": "code",
   "execution_count": null,
   "id": "c54afbf8-a50b-4a97-a7f5-1a78cba6da13",
   "metadata": {},
   "outputs": [],
   "source": [
    "c, _ = run_preprocessor([StripAnsi], _test_file)\n",
    "assert not _re_ansi_escape.findall(c)"
   ]
  },
  {
   "cell_type": "markdown",
   "id": "ece9c1a2-b339-4857-8e5a-a3a06577ad4a",
   "metadata": {},
   "source": [
    "## Insert Warning Into Markdown -"
   ]
  },
  {
   "cell_type": "code",
   "execution_count": null,
   "id": "3d28fc80",
   "metadata": {},
   "outputs": [],
   "source": [
    "# export\n",
    "@preprocess\n",
    "def InsertWarning(nb):\n",
    "    \"\"\"Insert Autogenerated Warning Into Notebook after the first cell.\"\"\"\n",
    "    content = \"<!-- WARNING: THIS FILE WAS AUTOGENERATED! DO NOT EDIT! -->\"\n",
    "    mdcell = AttrDict(cell_type='markdown', id=uuid.uuid4().hex[:36], metadata={}, source=content)\n",
    "    nb.cells.insert(1, mdcell)"
   ]
  },
  {
   "cell_type": "markdown",
   "id": "cad52f89-3710-4361-9759-8d5129cdc63d",
   "metadata": {},
   "source": [
    "This preprocessor inserts a warning in the markdown destination that the file is autogenerated.  This warning is inserted in the second cell so we do not interfere with front matter."
   ]
  },
  {
   "cell_type": "code",
   "execution_count": null,
   "id": "ccac0945-6725-49e6-94e4-72684bf08417",
   "metadata": {},
   "outputs": [],
   "source": [
    "c, _ = run_preprocessor([InsertWarning], _test_file)\n",
    "assert \"<!--- WARNING: THIS FILE WAS AUTOGENERATED!\" in c"
   ]
  },
  {
   "cell_type": "markdown",
   "id": "4d9ac4d3-f82d-4325-94d3-04ede6c351c1",
   "metadata": {},
   "source": [
    "## Remove Empty Code Cells -"
   ]
  },
  {
   "cell_type": "code",
   "execution_count": null,
   "id": "69dea46a-671c-4f87-aaa5-e45a6f3baeb8",
   "metadata": {},
   "outputs": [],
   "source": [
    "# export\n",
    "def _keepCell(cell): return cell['cell_type'] != 'code' or cell.source.strip()\n",
    "\n",
    "@preprocess\n",
    "def RmEmptyCode(nb):\n",
    "    \"Remove empty code cells.\"\n",
    "    nb.cells = filter(_keepCell,nb.cells)"
   ]
  },
  {
   "cell_type": "code",
   "execution_count": null,
   "id": "b2e508d6-226c-40cf-99ff-a38d68770daa",
   "metadata": {},
   "outputs": [],
   "source": [
    "c, _ = run_preprocessor([RmEmptyCode], _test_file)\n",
    "assert '```python\\n\\n```' not in c"
   ]
  },
  {
   "cell_type": "markdown",
   "id": "269d2ec4-c25a-4144-857c-f59304702a08",
   "metadata": {},
   "source": [
    "## Turn Metadata into Cell Tags -"
   ]
  },
  {
   "cell_type": "code",
   "execution_count": null,
   "id": "09db6f97-cd1f-429c-9366-c685779f0a45",
   "metadata": {},
   "outputs": [],
   "source": [
    "#export\n",
    "@preprocess_cell\n",
    "def UpdateTags(cell):\n",
    "    root = cell.metadata.get('nbprocess', {})\n",
    "    tags = root.get('tags', root.get('tag')) # allow the singular also\n",
    "    if tags: cell.metadata['tags'] = cell.metadata.get('tags', []) + tags.split(',')"
   ]
  },
  {
   "cell_type": "markdown",
   "id": "e7dc5382-c0c9-4f9e-ac5a-0ad1f3aec1f5",
   "metadata": {},
   "source": [
    "`UpdateTags` is meant to be used with `InjectMeta` and `TagRemovePreprocessor` to configure the visibility of cells in rendered docs."
   ]
  },
  {
   "cell_type": "code",
   "execution_count": null,
   "id": "22d2adae-3c45-4044-ab10-b183618ac2c7",
   "metadata": {},
   "outputs": [],
   "source": [
    "# Configure an exporter from scratch\n",
    "c = Config()\n",
    "c.TagRemovePreprocessor.remove_cell_tags = (\"remove_cell\",)\n",
    "c.TagRemovePreprocessor.remove_all_outputs_tags = ('remove_output',)\n",
    "c.TagRemovePreprocessor.remove_input_tags = ('remove_input',)\n",
    "c.MarkdownExporter.preprocessors = [InjectMeta, UpdateTags, TagRemovePreprocessor]\n",
    "exp = MarkdownExporter(config=c)\n",
    "result = exp.from_filename(_test_file)[0]\n",
    "\n",
    "# show the results\n",
    "assert 'you will not be able to see this cell at all either' not in result"
   ]
  },
  {
   "cell_type": "markdown",
   "id": "0f45fc6d-9730-41f6-8f82-c8ed79d42fbb",
   "metadata": {},
   "source": [
    "## Hide Specific Lines of Code -"
   ]
  },
  {
   "cell_type": "code",
   "execution_count": null,
   "id": "eb415328-044f-44ca-ac77-4f5ae65c2235",
   "metadata": {},
   "outputs": [],
   "source": [
    "#export\n",
    "@preprocess_cell\n",
    "def HideInputLines(cell):\n",
    "    \"Hide lines of code in code cells with the comment `#meta_hide_line` at the end of a line of code.\"\n",
    "    tok = '#meta_hide_line'\n",
    "    if cell.cell_type == 'code' and tok in cell.source:\n",
    "        cell.source = '\\n'.join([c for c in cell.source.splitlines() if not c.strip().endswith(tok)])"
   ]
  },
  {
   "cell_type": "code",
   "execution_count": null,
   "id": "20322d06-7adb-4d50-b1d5-b10ec5f5f2ae",
   "metadata": {},
   "outputs": [],
   "source": [
    "c, _ = run_preprocessor([InjectMeta, HideInputLines], _test_file)\n",
    "\n",
    "_res = \"\"\"```python\n",
    "def show():\n",
    "    a = 2\n",
    "```\"\"\"\n",
    "assert _res in c"
   ]
  },
  {
   "cell_type": "markdown",
   "id": "1092aa0b-f1f2-4913-b9bc-d6dfb405871c",
   "metadata": {},
   "source": [
    "## Clean Flags and Magics -"
   ]
  },
  {
   "cell_type": "code",
   "execution_count": null,
   "id": "68189e46-881e-4986-bc4b-0c98e037db99",
   "metadata": {},
   "outputs": [],
   "source": [
    "#export\n",
    "_tst_flags = get_config()['tst_flags'].split('|')\n",
    "\n",
    "@preprocess_cell\n",
    "def CleanFlags(cell):\n",
    "    \"A preprocessor to remove Flags\"\n",
    "    if cell.cell_type != 'code': return\n",
    "    for p in [re.compile(r'^#\\s*{0}\\s*'.format(f), re.MULTILINE) for f in _tst_flags]:\n",
    "        cell.source = p.sub('', cell.source).strip()"
   ]
  },
  {
   "cell_type": "code",
   "execution_count": null,
   "id": "70f36b41-e14f-4181-b5eb-0f63bbac9f65",
   "metadata": {},
   "outputs": [],
   "source": [
    "c, _ = run_preprocessor([CleanFlags], _test_file)\n",
    "assert '#notest' not in c"
   ]
  },
  {
   "cell_type": "code",
   "execution_count": null,
   "id": "848fd452-3d63-4c41-aaa6-e14cbeb9fdcd",
   "metadata": {},
   "outputs": [],
   "source": [
    "#export\n",
    "@preprocess_cell\n",
    "def CleanMagics(cell):\n",
    "    \"A preprocessor to remove cell magic commands and #cell_meta: comments\"\n",
    "    pattern = re.compile(r'(^\\s*(%%|%).+?[\\n\\r])|({0})'.format(_re_meta), re.MULTILINE)\n",
    "    if cell.cell_type == 'code': cell.source = pattern.sub('', cell.source).strip()"
   ]
  },
  {
   "cell_type": "markdown",
   "id": "71917138-14f7-4c00-a864-76889b333cd7",
   "metadata": {},
   "source": [
    "`CleanMagics` strips magic cell commands `%%` so they do not appear in rendered markdown files:"
   ]
  },
  {
   "cell_type": "code",
   "execution_count": null,
   "id": "386c787c-9623-4d5c-b4c6-9bfcd822fb56",
   "metadata": {},
   "outputs": [],
   "source": [
    "c, _ = run_preprocessor([CleanMagics], _test_file)\n",
    "assert '%%' not in c"
   ]
  },
  {
   "cell_type": "markdown",
   "id": "f985181e-e9c2-489a-b59d-f3f8f3fe9051",
   "metadata": {},
   "source": [
    "## Format Shell Commands -"
   ]
  },
  {
   "cell_type": "code",
   "execution_count": null,
   "id": "97249bda-91dd-42ef-9d36-5efc45fad564",
   "metadata": {},
   "outputs": [],
   "source": [
    "#export\n",
    "@preprocess_cell\n",
    "def BashIdentify(cell):\n",
    "    \"A preprocessor to identify bash commands and mark them appropriately\"\n",
    "    pattern = re.compile('^\\s*!', flags=re.MULTILINE)\n",
    "    if cell.cell_type == 'code' and pattern.search(cell.source):\n",
    "        cell.metadata.magics_language = 'bash'\n",
    "        cell.source = pattern.sub('', cell.source).strip()"
   ]
  },
  {
   "cell_type": "markdown",
   "id": "36ffc28f-1735-48ac-942a-74c692afa99b",
   "metadata": {},
   "source": [
    "When we issue a shell command in a notebook with `!`, we need to change the code-fence from `python` to `bash` and remove the `!`:"
   ]
  },
  {
   "cell_type": "code",
   "execution_count": null,
   "id": "98afbdae-b121-4631-a4ea-69b339b8a077",
   "metadata": {},
   "outputs": [],
   "source": [
    "c, _ = run_preprocessor([BashIdentify], _test_file)\n",
    "assert \"```bash\" in c"
   ]
  },
  {
   "cell_type": "markdown",
   "id": "b8487d8d-429b-4cbf-94a2-7482e79d8cd4",
   "metadata": {},
   "source": [
    "## Remove `ShowDoc` Input Cells -"
   ]
  },
  {
   "cell_type": "code",
   "execution_count": null,
   "id": "8b58a09e-f32c-421d-9c5d-30dff9f8e802",
   "metadata": {},
   "outputs": [],
   "source": [
    "#export\n",
    "_re_showdoc = re.compile(r'^ShowDoc', re.MULTILINE)\n",
    "\n",
    "def _isShowDoc(cell):\n",
    "    \"Return True if cell contains ShowDoc.\"\n",
    "    return cell['cell_type'] == 'code' and _re_showdoc.search(cell.source)\n",
    "\n",
    "@preprocess_cell\n",
    "def CleanShowDoc(cell):\n",
    "    \"Ensure that ShowDoc output gets cleaned in the associated notebook.\"\n",
    "    _re_html = re.compile(r'<HTMLRemove>.*</HTMLRemove>', re.DOTALL)\n",
    "    if not _isShowDoc(cell): return\n",
    "    all_outs = [o['data'] for o in cell.outputs if 'data' in o]\n",
    "    html_outs = [o['text/html'] for o in all_outs if 'text/html' in o]\n",
    "    if len(html_outs) != 1: return\n",
    "    cleaned_html = self._re_html.sub('', html_outs[0])\n",
    "    return AttrDict({'cell_type':'raw', 'id':cell.id, 'metadata':cell.metadata, 'source':cleaned_html})"
   ]
  },
  {
   "cell_type": "code",
   "execution_count": null,
   "id": "31e21ba2-a9bc-4c80-b45a-4c88a60e2a25",
   "metadata": {},
   "outputs": [],
   "source": [
    "_result, _ = run_preprocessor([CleanShowDoc], _test_file)\n",
    "assert '<HTMLRemove>' not in _result"
   ]
  },
  {
   "cell_type": "markdown",
   "id": "c2bc8f89",
   "metadata": {},
   "source": [
    "## Composing Preprocessors Into A Pipeline"
   ]
  },
  {
   "cell_type": "markdown",
   "id": "7ce327f3-4bfd-4268-8224-7ce8c299aa0c",
   "metadata": {},
   "source": [
    "Lets see how you can compose all of these preprocessors together to process notebooks appropriately:"
   ]
  },
  {
   "cell_type": "code",
   "execution_count": null,
   "id": "fac43e18-9e51-4ede-af74-3c5d710925a1",
   "metadata": {},
   "outputs": [],
   "source": [
    "#export\n",
    "def get_mdx_exporter(template_file='ob.tpl'):\n",
    "    \"\"\"A mdx notebook exporter which composes many pre-processors together.\"\"\"\n",
    "    c = Config()\n",
    "    c.TagRemovePreprocessor.remove_cell_tags = (\"remove_cell\", \"hide\")\n",
    "    c.TagRemovePreprocessor.remove_all_outputs_tags = (\"remove_output\", \"remove_outputs\", \"hide_output\", \"hide_outputs\")\n",
    "    c.TagRemovePreprocessor.remove_input_tags = ('remove_input', 'remove_inputs', \"hide_input\", \"hide_inputs\")\n",
    "    pp = [InjectMeta, CleanMagics, BashIdentify, UpdateTags, InsertWarning, TagRemovePreprocessor,\n",
    "          CleanFlags, CleanShowDoc, RmEmptyCode, StripAnsi, HideInputLines, ImageSave, ImagePath, HTMLEscape]\n",
    "    c.MarkdownExporter.preprocessors = pp\n",
    "    tmp_dir = Path(__file__).parent/'templates/'\n",
    "    tmp_file = tmp_dir/f\"{template_file}\"\n",
    "    if not tmp_file.exists(): raise ValueError(f\"{tmp_file} does not exist in {tmp_dir}\")\n",
    "    c.MarkdownExporter.template_file = str(tmp_file)\n",
    "    return MarkdownExporter(config=c)"
   ]
  },
  {
   "cell_type": "markdown",
   "id": "744165eb-e905-44b6-9899-bf11e3ea7b2c",
   "metadata": {},
   "source": [
    "`get_mdx_exporter` combines all of the previous preprocessors, along with the built in `TagRemovePreprocessor` to allow for hiding cell inputs/outputs based on cell tags."
   ]
  },
  {
   "cell_type": "code",
   "execution_count": null,
   "id": "2b3190b3",
   "metadata": {},
   "outputs": [
    {
     "name": "stdout",
     "output_type": "stream",
     "text": [
      "## a title\n",
      "\n",
      "<!--- WARNING: THIS FILE WAS AUTOGENERATED! DO NOT EDIT!\n",
      "\n",
      "some md\n",
      "\n",
      "\n",
      "```python\n",
      "import re\n",
      "```\n",
      "\n",
      "\n",
      "```python\n",
      "print('\\033[94mhello')\n",
      "```\n",
      "\n",
      "<CodeOutputBlock lang=\"python\">\n",
      "\n",
      "    hello\n",
      "\n",
      "\n",
      "</CodeOutputBlock>\n",
      "\n",
      "\n",
      "```python\n",
      "1+1\n",
      "```\n",
      "\n",
      "<CodeOutputBlock lang=\"python\">\n",
      "\n",
      "\n",
      "\n",
      "\n",
      "    2\n",
      "\n",
      "\n",
      "\n",
      "</CodeOutputBlock>\n",
      "\n",
      "\n",
      "```python\n",
      "import pandas as pd\n",
      "pd.DataFrame(dict(a=[1,2]))\n",
      "```\n",
      "    \n",
      "<HTMLOutputBlock >\n",
      "\n",
      "\n",
      "\n",
      "\n",
      "```html\n",
      "<div>\n",
      "<style scoped>\n",
      "    .dataframe tbody tr th:only-of-type {\n",
      "        vertical-align: middle;\n",
      "    }\n",
      "\n",
      "    .dataframe tbody tr th {\n",
      "        vertical-align: top;\n",
      "    }\n",
      "\n",
      "    .dataframe thead th {\n",
      "        text-align: right;\n",
      "    }\n",
      "</style>\n",
      "<table border=\"1\" class=\"dataframe\">\n",
      "  <thead>\n",
      "    <tr style=\"text-align: right;\">\n",
      "      <th></th>\n",
      "      <th>a</th>\n",
      "    </tr>\n",
      "  </thead>\n",
      "  <tbody>\n",
      "    <tr>\n",
      "      <th>0</th>\n",
      "      <td>1</td>\n",
      "    </tr>\n",
      "    <tr>\n",
      "      <th>1</th>\n",
      "      <td>2</td>\n",
      "    </tr>\n",
      "  </tbody>\n",
      "</table>\n",
      "</div>\n",
      "```\n",
      "\n",
      "\n",
      "\n",
      "</HTMLOutputBlock>\n",
      "\n",
      "\n",
      "```python\n",
      "import matplotlib.pyplot as plt\n",
      "plt.figure(figsize=(2,1))\n",
      "plt.plot([1,2]);\n",
      "```\n",
      "\n",
      "<CodeOutputBlock lang=\"python\">\n",
      "\n",
      "\n",
      "    \n",
      "![png](_docs_test_files/output_6_0.png)\n",
      "    \n",
      "\n",
      "\n",
      "</CodeOutputBlock>\n",
      "\n",
      "My pic:\n",
      "![image-2.png](attachment:image-2.png)\n",
      "\n",
      "\n",
      "```python\n",
      "print('the output is removed, so you can only see the print statement.')\n",
      "```\n",
      "\n",
      "<CodeOutputBlock lang=\"python\">\n",
      "\n",
      "    hello, you cannot see the code that created me.\n",
      "\n",
      "\n",
      "</CodeOutputBlock>\n",
      "\n",
      "\n",
      "```python\n",
      "def show():\n",
      "    a = 2\n",
      "```\n",
      "\n",
      "\n",
      "```python\n",
      "print('hi')\n",
      "```\n",
      "\n",
      "<CodeOutputBlock lang=\"python\">\n",
      "\n",
      "    hi\n",
      "    CPU times: user 112 µs, sys: 37 µs, total: 149 µs\n",
      "    Wall time: 120 µs\n",
      "\n",
      "\n",
      "</CodeOutputBlock>\n",
      "\n",
      "\n",
      "```bash\n",
      "echo hi\n",
      "```\n",
      "\n",
      "<CodeOutputBlock lang=\"bash\">\n",
      "\n",
      "    hi\r\n",
      "\n",
      "\n",
      "</CodeOutputBlock>\n",
      "\n",
      "\n",
      "```python\n",
      "def ShowDoc(a): ...\n",
      "```\n",
      "\n",
      "\n",
      "```python\n",
      "ShowDoc(1)\n",
      "```\n",
      "\n"
     ]
    }
   ],
   "source": [
    "exp = get_mdx_exporter()\n",
    "print(exp.from_filename(_test_file)[0])"
   ]
  },
  {
   "cell_type": "markdown",
   "id": "6710f5c3",
   "metadata": {},
   "source": [
    "## Export -"
   ]
  },
  {
   "cell_type": "code",
   "execution_count": null,
   "id": "73881100",
   "metadata": {},
   "outputs": [],
   "source": [
    "#skip\n",
    "from nbprocess.export import nbs_export\n",
    "nbs_export()"
   ]
  },
  {
   "cell_type": "code",
   "execution_count": null,
   "id": "e141634d",
   "metadata": {},
   "outputs": [],
   "source": []
  }
 ],
 "metadata": {
  "kernelspec": {
   "display_name": "Python 3 (ipykernel)",
   "language": "python",
   "name": "python3"
  }
 },
 "nbformat": 4,
 "nbformat_minor": 5
}
