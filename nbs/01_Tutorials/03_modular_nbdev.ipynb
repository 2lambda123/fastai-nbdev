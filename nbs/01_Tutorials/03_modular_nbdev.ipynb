{
 "cells": [
  {
   "cell_type": "markdown",
   "id": "a2ed9821",
   "metadata": {},
   "source": [
    "# Modular nbdev\n",
    "\n",
    "> How to use nbdev's various tools separately"
   ]
  },
  {
   "cell_type": "markdown",
   "id": "a97e9b2c",
   "metadata": {},
   "source": [
    "While `nbdev_new` gets you started with everything you need to create a delightful Python package, you can also use each of nbdev's components on their own. You might find this useful if you're porting a large system over to nbdev, or if you'd like to customise the nbdev workflow for your own project. Note that all of the commands below work without a settings.ini file."
   ]
  },
  {
   "cell_type": "markdown",
   "id": "5de0e130",
   "metadata": {},
   "source": [
    "#### `nbdev_test`: Test notebooks"
   ]
  },
  {
   "cell_type": "markdown",
   "id": "bafd703f",
   "metadata": {},
   "source": [
    "You can test an individual notebook with the terminal command:\n",
    "\n",
    "```sh\n",
    "nbdev_test --path notebook.ipynb\n",
    "```\n",
    "\n",
    "...or a folder of notebooks:\n",
    "\n",
    "```sh\n",
    "nbdev_test --path tests/\n",
    "```"
   ]
  },
  {
   "cell_type": "markdown",
   "id": "a2a38c4e",
   "metadata": {},
   "source": [
    "#### `nb_export`: Export notebooks to modules"
   ]
  },
  {
   "cell_type": "markdown",
   "id": "072eb8ea",
   "metadata": {},
   "source": [
    "You can export a notebook to a module with the Python function:\n",
    "\n",
    "```python\n",
    "nb_export('notebook.ipynb', 'pkg')\n",
    "```\n",
    "\n",
    "...provided the notebook specifies a `default_exp` directive at the top, and `export` directives above each cell to be exported. We recommend including this in a code cell at the bottom of your notebook for convenience."
   ]
  },
  {
   "cell_type": "markdown",
   "id": "77673b03",
   "metadata": {},
   "source": [
    "#### `nbdev_install_hooks`: Improve Jupyter/git integration"
   ]
  },
  {
   "cell_type": "markdown",
   "id": "6f8b49e3",
   "metadata": {},
   "source": [
    "You can install nbdev hooks into any git repo with the terminal command:\n",
    "\n",
    "```sh\n",
    "nbdev_install_hooks\n",
    "```\n",
    "\n",
    "Or directly use any of its underlying commands, for example, to implement your own hooks or extensions:\n",
    "\n",
    "- `nbdev_clean`\n",
    "- `nbdev_fix`\n",
    "- `nbdev_merge`\n",
    "- `nbdev_trust`"
   ]
  }
 ],
 "metadata": {
  "kernelspec": {
   "display_name": "Python 3 (ipykernel)",
   "language": "python",
   "name": "python3"
  }
 },
 "nbformat": 4,
 "nbformat_minor": 5
}
