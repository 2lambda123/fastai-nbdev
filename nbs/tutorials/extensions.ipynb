{
 "cells": [
  {
   "cell_type": "markdown",
   "id": "e457d9df-9dc0-40ba-a4b9-107a3de72556",
   "metadata": {},
   "source": [
    "# Writing nbdev plugins\n",
    "\n",
    "> How to customize nbdev processors to do what you want\n",
    "\n",
    "- order: 9"
   ]
  },
  {
   "cell_type": "code",
   "execution_count": null,
   "id": "7dd89fcf-a6a8-4ae7-bb79-4b81f0586211",
   "metadata": {},
   "outputs": [],
   "source": [
    "#| hide\n",
    "from __future__ import annotations\n",
    "from fastcore.test import *\n",
    "from nbdev.showdoc import *\n",
    "from nbdev.qmd import *"
   ]
  },
  {
   "cell_type": "markdown",
   "id": "521da717-490e-473c-8d4c-c0ae0db3061d",
   "metadata": {},
   "source": [
    "## What will this cover?\n",
    "\n",
    "With `nbdev` it is *exceedingly* easy to customize it to your own doing. Does your particular library or setup require you to inject some custom quarto bits in certain cells? What about if you want to do something more trivial as finding shortcuts to replace the `---` annotation used in quarto. \n",
    "\n",
    "Writing custom plugins is exactly how you can achieve this, and it's quite trivial to do so! \n",
    "\n",
    "This tutorial *won't* cover some of the basics when it comes to nbdev, and instead comes with the understanding you know how to navigate nbdev (such as what are directives, `export`, etc). "
   ]
  },
  {
   "cell_type": "markdown",
   "id": "ba8290bf-a950-45ae-8eec-b2b0f903b57a",
   "metadata": {},
   "source": [
    "## Getting started, how does `nbdev` make this easy?\n",
    "\n",
    "First, let's write out some problem we want to achieve here. For the sake of simplicity, let's say instead of doing:"
   ]
  },
  {
   "cell_type": "markdown",
   "id": "dc8b0d1f-91b4-4dc9-9cce-860dbc4e003f",
   "metadata": {},
   "source": [
    "```\n",
    "::: {.column-margin}\n",
    "Some text\n",
    ":::\n",
    "```"
   ]
  },
  {
   "cell_type": "markdown",
   "id": "da68881d-c1a7-421b-83b2-1b694bafb6fe",
   "metadata": {},
   "source": [
    "We wanted a shorter way to write this out, making use of how nbdev and quarto writes their *directives*? \n",
    "\n",
    "This tutorial will show how to end up with an API that looks like:\n",
    "\n",
    "```\n",
    "#| .column-margin\n",
    "\n",
    "Some text\n",
    "```"
   ]
  },
  {
   "cell_type": "markdown",
   "id": "391cc508-468b-432c-b1e6-c631fdadce87",
   "metadata": {},
   "source": [
    "And this will include cases where a div should be put across *multiple* cells as well, by specifying a `start` and an `end."
   ]
  },
  {
   "cell_type": "markdown",
   "id": "0d7f2752-e134-4521-83a5-24bf442107e6",
   "metadata": {},
   "source": [
    "This can be achieved in under 50 lines of code! "
   ]
  },
  {
   "cell_type": "markdown",
   "id": "89145675-4759-4366-98a9-492ed5292c39",
   "metadata": {},
   "source": [
    "`nbdev` let's us create what are called *processors* (this is how `export` will shove code into modules, for example). These processors are acted on each **cell** of a notebook and can modify its contents. These can then be wrapped into a module the same way that nbdev will do `nbdev_export` or `nbdev_docs`, however thanks to the power of extensions going too deep into that actually isn't required!"
   ]
  },
  {
   "cell_type": "markdown",
   "id": "f542766c-a777-4d39-b6f8-5b33d393290d",
   "metadata": {},
   "source": [
    "## Bringing in what we need\n",
    "\n",
    "The actual imports we need to use from `nbdev` is truly not that many! We just need two, `extract_directives` to read in the list of `#|` written, and the `Processor` class that will actually perform what we want. The rest of the imports are there to make some of our lives easier as will be explained later "
   ]
  },
  {
   "cell_type": "code",
   "execution_count": null,
   "id": "3600afb5-7c48-426b-8cfb-918a12f55488",
   "metadata": {},
   "outputs": [],
   "source": [
    "#| exports\n",
    "from nbdev.process import extract_directives\n",
    "from nbdev.processors import Processor\n",
    "\n",
    "from fastcore.basics import listify\n",
    "\n",
    "from string import Template"
   ]
  },
  {
   "cell_type": "markdown",
   "id": "1d380c6b-3aa2-4c2a-af24-ee1a1227b2ed",
   "metadata": {},
   "source": [
    "Lastly for *testing* purposes we'll utilize `nbdev`'s `mk_cell` and `NBProcessor` class which will let us mock running our processor on a real notebook!"
   ]
  },
  {
   "cell_type": "code",
   "execution_count": null,
   "id": "510fa8bc-0cc7-425d-8afc-2f5479bfe93b",
   "metadata": {},
   "outputs": [],
   "source": [
    "from nbdev.processors import mk_cell, NBProcessor"
   ]
  },
  {
   "cell_type": "markdown",
   "id": "709365bd-00bc-4e27-9a95-2a5872181ad6",
   "metadata": {},
   "source": [
    "## Writing a converter\n",
    "\n",
    "The first step here is creating a quick and easy way to take the quarto div we want to use (such as `.column-margin`) and convert it quickly into something quarto will then read (such as `::: {.column-margin}`. This one little string Template will do all of the dirty work when it comes to our layouts quickly:"
   ]
  },
  {
   "cell_type": "code",
   "execution_count": null,
   "id": "e624eb8c-3fde-413b-b453-3f5f842abcae",
   "metadata": {},
   "outputs": [],
   "source": [
    "_LAYOUT_STR = Template(\"::: {$layout}\\n${content}\\n\")"
   ]
  },
  {
   "cell_type": "markdown",
   "id": "d3338d02-4103-4667-b8f6-880dd5d63670",
   "metadata": {},
   "source": [
    "::: {.callout-tip}\n",
    "\n",
    "This doesn't have to be a string template, I just found this the easiest to use!\n",
    ":::"
   ]
  },
  {
   "cell_type": "markdown",
   "id": "87dd0a3b-1729-4999-adfa-759a2b5592f0",
   "metadata": {},
   "source": [
    "Next we need to write a simple converter that operates at the *cell* level:"
   ]
  },
  {
   "cell_type": "code",
   "execution_count": null,
   "id": "58f21e4f-e638-43ea-afd5-964330178bf6",
   "metadata": {},
   "outputs": [],
   "source": [
    "def convert_layout(\n",
    "    cell:dict, # A single cell from a Jupyter Notebook\n",
    "    is_multicell=False # Whether the div should be wrapped around multiple cells\n",
    "):\n",
    "    content = cell.source\n",
    "    code = cell.source.splitlines(True)\n",
    "    div_ = cell.directives_[\"div\"]\n",
    "    # We check if end is in the first line of the cell source\n",
    "    if \"end\" in div_:\n",
    "        # If it just the end tag with nothing else\n",
    "        if len(code) == 1:\n",
    "            cell.source = \":::\"\n",
    "        else:\n",
    "            code.source += \":::\"\n",
    "    else:\n",
    "        # Actually modify the code\n",
    "        cell.source = _LAYOUT_STR.substitute(\n",
    "            layout = \" \".join(div_),\n",
    "            content = content\n",
    "        )\n",
    "        if not is_multicell:\n",
    "            cell.source += \":::\""
   ]
  },
  {
   "cell_type": "markdown",
   "id": "affe402c-4906-4a46-8d58-c5114ed28c04",
   "metadata": {},
   "source": [
    "Let's go into detail on what's happening here.\n",
    "\n",
    "```python\n",
    "    content = cell.source\n",
    "```\n",
    "\n",
    "The source text of whatever exists in a notebook cell will live in `.source`.\n",
    "\n",
    "```python\n",
    "    code = cell.source.splitlines(True)\n",
    "```\n",
    "Then I want to extract the content of the cell and split them into multiple lines, seperated by newlines. This let's us check if a cell just contains `#| div end`, which means that the div that was started earlier should stop.\n",
    "\n",
    "```python\n",
    "    div_ = cell.directives_[\"div\"]\n",
    "```\n",
    "Any directives (that bit marked with `#| `) for any type of cell will exist in the `directives_` attribute as a dictionary. For our particular processor we only care about the `div` directive"
   ]
  },
  {
   "cell_type": "markdown",
   "id": "cc0da3f1-ea32-43d3-9053-e3f6ef11e84b",
   "metadata": {},
   "source": [
    "```python\n",
    "   if \"end\" in div_:\n",
    "        # If it just the end tag with nothing else\n",
    "        if len(code) == 1:\n",
    "            cell.source = \":::\"\n",
    "        else:\n",
    "            code.source += \":::\"\n",
    "    else:\n",
    "        # Actually modify the code\n",
    "        cell.source = _LAYOUT_STR.substitute(\n",
    "            layout = \" \".join(div_),\n",
    "            content = content\n",
    "        )\n",
    "        if not is_multicell:\n",
    "            cell.source += \":::\"\n",
    "```\n",
    "\n",
    "From there this last bit simply checks whether to add the ending div block (`:::`) to the cell or will use that `_LAYOUT_STR` made earlier which will inject the boilerplate div CSS code in for Quarto."
   ]
  },
  {
   "cell_type": "markdown",
   "id": "683f0583-d168-4012-b73c-e1f15bb6cb37",
   "metadata": {},
   "source": [
    "Let's see it in action:"
   ]
  },
  {
   "cell_type": "code",
   "execution_count": null,
   "id": "f35cff2d-46d5-4259-be65-913cd0ae207d",
   "metadata": {},
   "outputs": [],
   "source": [
    "cell = mk_cell(\n",
    "    \"\"\"#| div .margin-column\n",
    "Here is something for the sidebar!\"\"\",\n",
    "    cell_type=\"markdown\"\n",
    ")"
   ]
  },
  {
   "cell_type": "markdown",
   "id": "558d2fd7-8947-4135-ab03-b2e61d1de512",
   "metadata": {},
   "source": [
    "`nbdev` will pull out those directives and store them in the cell `directives_` attribute using the `extract_directives` function:"
   ]
  },
  {
   "cell_type": "code",
   "execution_count": null,
   "id": "bafb13a9-7755-4324-84e5-21e31907039f",
   "metadata": {},
   "outputs": [
    {
     "data": {
      "text/plain": [
       "{'div': ['.margin-column']}"
      ]
     },
     "execution_count": null,
     "metadata": {},
     "output_type": "execute_result"
    }
   ],
   "source": [
    "cell.directives_ = extract_directives(cell, \"#\")\n",
    "cell.directives_"
   ]
  },
  {
   "cell_type": "markdown",
   "id": "5c2da9dc-a1be-41e6-abc9-752af66a90a0",
   "metadata": {},
   "source": [
    "And now we can test out!"
   ]
  },
  {
   "cell_type": "code",
   "execution_count": null,
   "id": "1d937adf-d52e-479d-8046-e1d722ccb318",
   "metadata": {},
   "outputs": [
    {
     "name": "stdout",
     "output_type": "stream",
     "text": [
      "::: {.margin-column}\n",
      "Here is something for the sidebar!\n",
      ":::\n"
     ]
    }
   ],
   "source": [
    "convert_layout(cell)\n",
    "print(cell.source)"
   ]
  },
  {
   "cell_type": "markdown",
   "id": "a4947f11-22e5-4d48-8df1-ee7f810dcba9",
   "metadata": {},
   "source": [
    "Looks exactly like we wanted earlier! Great!\n",
    "\n",
    "Now, how do we tell nbdev to use this and create this `Processor`?"
   ]
  },
  {
   "cell_type": "markdown",
   "id": "308cd141-5d65-49e9-a81b-c6802418b901",
   "metadata": {},
   "source": [
    "## Writing a `Processor`\n",
    "\n",
    "The second-to-last step here is to create the actual `Processor` nbdev utilizes to apply procs. The basic understanding of these is simply that you should create a class, have it inherit `Processor`, and any modifications that should be done must be defined in a `cell` function which takes in a `cell` and modifies it in-place:"
   ]
  },
  {
   "cell_type": "code",
   "execution_count": null,
   "id": "80e1d079-e5ef-4f22-8345-195285b66c3e",
   "metadata": {},
   "outputs": [],
   "source": [
    "class LayoutProc(Processor):\n",
    "    \"A processor that will turn `div` based tags into proper quarto ones\"\n",
    "    # A class attribute on whether a div should span multiple cells or not\n",
    "    has_partial = False\n",
    "    def cell(self, cell):\n",
    "        # Only apply it to markdown cells that contain the \"div\" directive\n",
    "        if cell.cell_type == \"markdown\" and \"div\" in cell.directives_:\n",
    "            # Extract the directives\n",
    "            div_ = cell.directives_[\"div\"]\n",
    "            # If it's the end of a multi-span div, convert the layout\n",
    "            if self.has_partial and \"end\" in div_:\n",
    "                convert_layout(cell)\n",
    "            # Otherwise...\n",
    "            else:\n",
    "                is_start = div_[-1] == \"start\"\n",
    "                # If we have \"start\" (which means multi-span div), \n",
    "                # change `has_partial` and remove start\n",
    "                if is_start:\n",
    "                    self.has_partial = True\n",
    "                    div_.remove(\"start\")\n",
    "                # Finally apply the processor\n",
    "                convert_layout(cell, is_start)"
   ]
  },
  {
   "cell_type": "markdown",
   "id": "35b7d7aa-b1d0-49d4-a8c6-090ded1547ab",
   "metadata": {},
   "source": [
    "How can we test if this will work or not? Jupyter Notebooks are just specially formatted dictionaries, so we can write one and use `nbdev`'s `dict2nb` to convert it to a \"true\" dictionary quickly. Then we can apply the processor to those cells though the `NBProcessor` class (what `nbdev` uses to apply these)"
   ]
  },
  {
   "cell_type": "code",
   "execution_count": null,
   "id": "9463b345-2e93-447a-aae8-6f5a10c28adc",
   "metadata": {},
   "outputs": [],
   "source": [
    "from nbdev.process import NBProcessor, dict2nb"
   ]
  },
  {
   "cell_type": "code",
   "execution_count": null,
   "id": "8b0162b6-1019-4eed-a3da-41a0f34fe7de",
   "metadata": {},
   "outputs": [],
   "source": [
    "nb = {\n",
    "    \"cells\":[\n",
    "    mk_cell(\"\"\"#| div .column-margin\n",
    "A test\"\"\", \"markdown\"),\n",
    "    mk_cell(\"\"\"#| div .column-margin start\n",
    "A test\"\"\", \"markdown\"),\n",
    "    mk_cell(\"\"\"#| div end\"\"\", \"markdown\"),\n",
    "]}"
   ]
  },
  {
   "cell_type": "markdown",
   "id": "d1be7109-d2df-45e2-9a69-ee5e5591f63e",
   "metadata": {},
   "source": [
    "The `NBProcessor` takes in a list of procs (processors) that should be applied, and a notebook:"
   ]
  },
  {
   "cell_type": "code",
   "execution_count": null,
   "id": "94424d4d-027d-4c61-83c7-3eef0d792926",
   "metadata": {},
   "outputs": [],
   "source": [
    "processor = NBProcessor(procs=LayoutProc, nb=dict2nb(nb))"
   ]
  },
  {
   "cell_type": "markdown",
   "id": "4d10a56a-0a04-4475-8786-64d68670b31e",
   "metadata": {},
   "source": [
    "The act of applying these processors is done through calling `.process():`"
   ]
  },
  {
   "cell_type": "code",
   "execution_count": null,
   "id": "bb6c5cbe-e877-4218-819d-b168b4f4774e",
   "metadata": {},
   "outputs": [],
   "source": [
    "processor.process()"
   ]
  },
  {
   "cell_type": "markdown",
   "id": "f646f503-c018-456c-a397-81df8cd9846b",
   "metadata": {},
   "source": [
    "And now we can run a small test to ensure that the cell contents have been changed to use the properly formatted quarto syntax:"
   ]
  },
  {
   "cell_type": "code",
   "execution_count": null,
   "id": "68733fe8-cc90-4662-b50f-a90aaaacbe46",
   "metadata": {},
   "outputs": [],
   "source": [
    "test_eq(processor.nb.cells[0].source, \"::: {.column-margin}\\nA test\\n:::\")\n",
    "test_eq(processor.nb.cells[1].source, \"::: {.column-margin}\\nA test\\n\")\n",
    "test_eq(processor.nb.cells[2].source, \":::\")"
   ]
  },
  {
   "cell_type": "markdown",
   "id": "a03b6bb9-764f-481b-a5d4-01936283d753",
   "metadata": {},
   "source": [
    "Great! We've successfully created a plugin for nbdev that will let us lazily write markdown quarto directives easily. Now how can we actually *use* this?"
   ]
  },
  {
   "cell_type": "markdown",
   "id": "939edb39-3845-437f-96c7-7ac7465a247d",
   "metadata": {},
   "source": [
    "## How to enable the plugin on your project\n",
    "\n",
    "This requires two simple changes to your `settings.ini`.\n",
    "\n",
    "First, if say this were code that lived in `nbdev`, we can add a special `procs` key and specify where the processor comes from:\n",
    "\n",
    "```ini\n",
    "procs = \n",
    "    nbdev.extensions:LayoutProc\n",
    "```\n",
    "\n",
    "As you can see it follows the format of `library.module:processor_name`\n",
    "\n",
    "If say this were something built in an external library (such as how this processor is based on the one that lives in [nbdev-extensions](https://muellerzr.github.io/nbdev-extensions), you should add that to the requirements of your project:\n",
    "```ini\n",
    "requirements = nbdev-extensions\n",
    "```\n",
    "\n",
    "And you're done! Now when calling `nbdev_docs` or `nbdev_preview` the processor we just made will be *automatically* applied to your notebooks and perform this conversion!"
   ]
  },
  {
   "cell_type": "markdown",
   "id": "52cad971-b227-4426-880e-c4c1fc09f482",
   "metadata": {},
   "source": [
    "## Conclusion, nbdev-extensions and a bit about me!\n",
    "\n",
    "Basically if there's any part of a cell and how it should look either from exporting modules, building documentation, or creating your own special command to perform post-processing it can be done quickly and efficiently with this `Processor` class nbdev provides!\n",
    "\n",
    "If you're interested in seeing more examples of nbdev-extensions and where you can take it I've (Zachary Mueller) written a library dedicated to it called [nbdev-extensions](https://muellerzr.github.io/nbdev-extensions) where any ideas that may benefit how I approach nbdev I then turn into an extension for the world to use.\n",
    "\n",
    "Thanks for reading!"
   ]
  },
  {
   "cell_type": "code",
   "execution_count": null,
   "id": "8d566a4f-c3ff-4749-97b4-dd1a81c7234a",
   "metadata": {},
   "outputs": [],
   "source": []
  }
 ],
 "metadata": {
  "kernelspec": {
   "display_name": "Python 3 (ipykernel)",
   "language": "python",
   "name": "python3"
  }
 },
 "nbformat": 4,
 "nbformat_minor": 5
}
