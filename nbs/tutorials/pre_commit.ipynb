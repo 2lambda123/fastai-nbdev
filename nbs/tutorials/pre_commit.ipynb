{
 "cells": [
  {
   "cell_type": "markdown",
   "id": "2f2a6752-fa19-4096-8bd2-5ca82e1a9ffb",
   "metadata": {},
   "source": [
    "# Pre-commit hooks\n",
    "\n",
    "> How to use nbdev's git pre-commit hooks\n",
    "- order: 5"
   ]
  },
  {
   "cell_type": "code",
   "execution_count": null,
   "id": "6b6629a1-e679-48ec-8cd8-21d65d5422b2",
   "metadata": {},
   "outputs": [],
   "source": [
    "#| hide\n",
    "from nbdev.qmd import _install_nbdev"
   ]
  },
  {
   "cell_type": "markdown",
   "id": "f9c2fff2-db3a-4ba2-ba16-8a6b1d9aa9e1",
   "metadata": {},
   "source": [
    "We provide hooks for the [pre-commit framework](https://pre-commit.com/) to catch and fix uncleaned and unexported notebooks, locally, without having to wait for continuous integration pipelines to run. "
   ]
  },
  {
   "cell_type": "markdown",
   "id": "4411d7f9-5dc1-4ba8-b7a3-8e822ad21901",
   "metadata": {},
   "source": [
    "They might also be useful as an alternative to the [Jupyter clean hook](/tutorials/git_friendly_jupyter.ipynb#nbdev_clean-on-saving-notebooks-in-jupyter) if you're using a notebook editor that isn't yet supported (e.g. VSCode)."
   ]
  },
  {
   "cell_type": "markdown",
   "id": "0c3c7192-892a-4ff9-acb0-a89fe8a2e4bc",
   "metadata": {},
   "source": [
    "## Install nbdev and pre-commit"
   ]
  },
  {
   "cell_type": "markdown",
   "id": "29cade2a-32ea-4640-8585-ef0448f8b7f3",
   "metadata": {},
   "source": [
    "To get started, install nbdev:"
   ]
  },
  {
   "cell_type": "code",
   "execution_count": null,
   "id": "3acdaca2-0fa0-4355-a585-e12174b7a304",
   "metadata": {},
   "outputs": [
    {
     "name": "stdout",
     "output_type": "stream",
     "text": [
      "::: {.panel-tabset}\n",
      "\n",
      "#### pip\n",
      "\n",
      "```sh\n",
      "pip install -U nbdev\n",
      "```\n",
      "\n",
      "#### conda\n",
      "\n",
      "```sh\n",
      "conda install -c fastai nbdev\n",
      "```\n",
      "\n",
      "\n",
      ":::\n",
      "\n",
      "\n"
     ]
    }
   ],
   "source": [
    "#| echo: false\n",
    "#| output: asis\n",
    "print(_install_nbdev())"
   ]
  },
  {
   "cell_type": "markdown",
   "id": "d161041d-7585-4177-beb2-06d2fb3919e9",
   "metadata": {},
   "source": [
    "...then install pre-commit (check [their latest instructions](https://pre-commit.com/#install) if you have any difficulty with these commands):\n",
    "\n",
    "::: {.panel-tabset}\n",
    "\n",
    "#### pip\n",
    "\n",
    "```sh\n",
    "pip install pre-commit\n",
    "```\n",
    "\n",
    "#### conda\n",
    "\n",
    "```sh\n",
    "conda install -c conda-forge pre-commit\n",
    "```\n",
    "\n",
    "#### homebrew (macOS)\n",
    "\n",
    "```sh\n",
    "brew install pre-commit\n",
    "```\n",
    "\n",
    ":::"
   ]
  },
  {
   "cell_type": "markdown",
   "id": "e94e4d29-e137-4f08-b7ee-b6aa06dc49a9",
   "metadata": {},
   "source": [
    "## Configure pre-commit for your repo"
   ]
  },
  {
   "cell_type": "markdown",
   "id": "ebd3c984-8419-4fa9-9c5a-abca1924f88d",
   "metadata": {},
   "source": [
    "Create a file named `.pre-commit-config.yaml` in the root of your repo, with the following contents:\n",
    "\n",
    "```yaml\n",
    "repos:\n",
    "- repo: https://github.com/fastai/nbdev\n",
    "  rev: 2.2.10\n",
    "  hooks:\n",
    "  - id: nbdev_clean\n",
    "  - id: nbdev_export\n",
    "```\n",
    "\n",
    "Include only the hook(s) you'd like to run, as well as any other [supported hooks](https://pre-commit.com/hooks.html)."
   ]
  },
  {
   "cell_type": "markdown",
   "id": "16dab296-26f5-47a3-8230-e63ea403f320",
   "metadata": {},
   "source": [
    "::: {.callout-tip}\n",
    "If you expect all collaborators to use pre-commit, add the `.pre-commit-config.yaml` file to your repo. Otherwise, add it to your `.gitignore`.\n",
    ":::"
   ]
  },
  {
   "cell_type": "markdown",
   "id": "a801d92a-30f5-4c87-b57f-ad0e11b72c0e",
   "metadata": {},
   "source": [
    "Install pre-commit hooks into your repo:\n",
    "\n",
    "```sh\n",
    "pre-commit install\n",
    "```"
   ]
  },
  {
   "cell_type": "markdown",
   "id": "a4a7cd01-6106-48fb-96fe-26d0f0e71572",
   "metadata": {},
   "source": [
    "## Make a commit and enjoy pre-commit in action"
   ]
  },
  {
   "cell_type": "markdown",
   "id": "4f04112c-38d3-4422-a819-bf08342214d4",
   "metadata": {},
   "source": [
    "When you do a `git commit` in a repo that has pre-commit hooks installed, your new workflow will be as follows:\n",
    "\n",
    "1. pre-commit runs each hook on your _staged_ changes (as in, changes that you `git add`ed)\n",
    "2. If a hook changes files -- for example, if a commited notebook wasn't cleaned -- pre-commit stops the commit, leaving those changes as _unstaged_\n",
    "3. You can now stage those changes and make any edits required to get pre-commit to pass\n",
    "4. Redo the `git commit`, and if it succeeds, your commit will be created."
   ]
  },
  {
   "cell_type": "markdown",
   "id": "436f12f9-81e6-4c16-a407-c23a510e7327",
   "metadata": {},
   "source": [
    "Using it in practice isn't as complicated as it might sound. The best way to figure out if it works for you is to give it a try."
   ]
  },
  {
   "cell_type": "markdown",
   "id": "dc9b349e-db45-42cd-9268-4f87f754ce51",
   "metadata": {},
   "source": [
    "### How to override pre-commit if you get stuck"
   ]
  },
  {
   "cell_type": "markdown",
   "id": "570e52db-3608-47cb-9a23-70b44b9b71ad",
   "metadata": {},
   "source": [
    "If you struggle to get pre-commit to pass a commit that you absolutely think is correct, you can [temporarily disable a hook](https://pre-commit.com/#temporarily-disabling-hooks) like this:\n",
    "\n",
    "```sh\n",
    "SKIP=hook git commit\n",
    "```\n",
    "\n",
    "...where `hook` refers to a valid hook in your configuration, for example, to disable the `nbdev_export` hook:\n",
    "\n",
    "```sh\n",
    "SKIP=nbdev_export git commit\n",
    "```\n",
    "\n",
    "You can also disable pre-commit entirely with the `--no-verify` flag:\n",
    "\n",
    "```sh\n",
    "git commit --no-verify\n",
    "```"
   ]
  },
  {
   "cell_type": "markdown",
   "id": "09492b76-359a-40a8-9c3d-a19d3d80bd19",
   "metadata": {},
   "source": [
    "Finally, if you decide it's not for you, you can completely remove pre-commit hooks from your repo with:\n",
    "\n",
    "```sh\n",
    "pre-commit uninstall\n",
    "```"
   ]
  },
  {
   "cell_type": "code",
   "execution_count": null,
   "id": "2607c475-3efc-4e9d-a956-e3be801ecbf7",
   "metadata": {},
   "outputs": [],
   "source": []
  }
 ],
 "metadata": {
  "kernelspec": {
   "display_name": "Python 3 (ipykernel)",
   "language": "python",
   "name": "python3"
  }
 },
 "nbformat": 4,
 "nbformat_minor": 5
}
