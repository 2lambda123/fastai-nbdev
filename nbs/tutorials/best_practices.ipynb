{
 "cells": [
  {
   "cell_type": "markdown",
   "id": "08f83295",
   "metadata": {},
   "source": [
    "# Notebook best practices\n",
    "\n",
    "> How to write great nbdev notebooks\n",
    "\n",
    "- order: 2"
   ]
  },
  {
   "cell_type": "code",
   "execution_count": null,
   "id": "a5048e9c",
   "metadata": {},
   "outputs": [],
   "source": [
    "#| hide\n",
    "from __future__ import annotations\n",
    "import numpy as np\n",
    "from fastcore.test import *\n",
    "from nbdev.showdoc import *\n",
    "from nbdev.qmd import *"
   ]
  },
  {
   "cell_type": "markdown",
   "id": "f857fa37",
   "metadata": {},
   "source": [
    "The flexibility offered by notebook development can be overwhelming. You might have grown comfortable with well-defined standards like [numpy](https://numpydoc.readthedocs.io/en/latest/format.html#docstring-standard) and [sphinx](https://sphinx-rtd-tutorial.readthedocs.io/en/latest/docstrings.html) docstrings which weren't designed for notebooks. In this page, we'll guide you through practices that we've found to improve the notebooks we develop."
   ]
  },
  {
   "cell_type": "markdown",
   "id": "96eb516d",
   "metadata": {},
   "source": [
    "If you prefer to learn by example, you might want to start with the [nbdev vs numpy docstring](#example-numpy-docstring-vs-nbdev) section."
   ]
  },
  {
   "cell_type": "markdown",
   "id": "4b377e90",
   "metadata": {},
   "source": [
    "We're always open to improving our workflows, and don't like to be too prescriptive about style. Please feel free to [contribute your ideas in the forum](https://forums.fast.ai/c/nbdev/48)."
   ]
  },
  {
   "cell_type": "markdown",
   "id": "a48bdd2b",
   "metadata": {},
   "source": [
    "### Know which form of notebook you're writing"
   ]
  },
  {
   "cell_type": "markdown",
   "id": "f64403de",
   "metadata": {},
   "source": [
    "First of all, decide which form of notebook you're writing. We're fans of the [divio system](https://documentation.divio.com/) which classifies documentation into four forms: tutorials, how-to guides, explanations, and references. They've laid this out beautifully in the following diagram:"
   ]
  },
  {
   "cell_type": "markdown",
   "id": "e6f017dc",
   "metadata": {},
   "source": [
    "<a href=\"https://documentation.divio.com/_images/overview.png\">![](https://documentation.divio.com/_images/overview.png){.rounded  alt=\"A 2x2 matrix, from top-left to bottom-right, 'Tutorials (learning-oriented)', 'How-to guides (problem-oriented)', 'Explanation (understanding-oriented), and 'Reference (information-oriented)'. Horizontal axis reads 'Most useful when we're studying' on the left, and 'Most useful when we're working' on the right. Vertical axis reads 'Practical steps' on top, and 'Theoretical knowledge' below.\"}</a>"
   ]
  },
  {
   "cell_type": "markdown",
   "id": "360fa1dc",
   "metadata": {},
   "source": [
    "## Start with a great title and subtitle"
   ]
  },
  {
   "cell_type": "markdown",
   "id": "077102ab",
   "metadata": {},
   "source": [
    "Start with a markdown cell at the top of your notebook with its title in an H1 header, and subtitle in a blockquote. For example:"
   ]
  },
  {
   "cell_type": "markdown",
   "id": "2bf12c10",
   "metadata": {},
   "source": [
    "```markdown\n",
    "# Great title\n",
    "\n",
    "> And an even better subtitle\n",
    "```"
   ]
  },
  {
   "cell_type": "markdown",
   "id": "dedb473d",
   "metadata": {},
   "source": [
    "The title will also be used to reference your page in the sidebar. You can also optionally add [frontmatter](/api/frontmatter.ipynb) to this cell to customize nbdev and Quarto."
   ]
  },
  {
   "cell_type": "markdown",
   "id": "d22e2490",
   "metadata": {},
   "source": [
    "## Introduce your notebook"
   ]
  },
  {
   "cell_type": "markdown",
   "id": "5a9742a4",
   "metadata": {},
   "source": [
    "Introduce your notebook with markdown cells below the title. We recommend a slightly different approach depending on the [form of documentation](#know-which-form-of-notebook-youre-writing):\n",
    "\n",
    "- **Reference:** Start with a brief description of the technical component, and an overview that links to the main symbols in the page (you might want to [use doclinks](#reference-related-symbols-with-doclinks))\n",
    "- **Tutorials and how-to guides:** Describe what the reader will learn and how. Keep it short and get to the subject matter quickly\n",
    "- **Explanations:** Since these are typically very focused, a short description of the topic is often sufficient."
   ]
  },
  {
   "cell_type": "markdown",
   "id": "0c76aa13",
   "metadata": {},
   "source": [
    "## Use lots of code examples, pictures, plots, and videos"
   ]
  },
  {
   "cell_type": "markdown",
   "id": "a00bcdff",
   "metadata": {},
   "source": [
    "Take advantage of the richness of notebooks by including code examples, pictures, plots, and videos. "
   ]
  },
  {
   "cell_type": "markdown",
   "id": "b486143a",
   "metadata": {},
   "source": [
    "Here are a few examples to get you started:\n",
    "\n",
    "- fastai's documentation makes extensive use of code examples, plots, images, and tables, for example, the [computer vision intro](https://docs.fast.ai/23_tutorial.vision.html)\n",
    "- [`nbdev.release`](/api/release.ipynb) opens with a terminal screencast demo in SVG format created with [asciinema](https://asciinema.org/) and [svg-term-cli](https://github.com/marionebl/svg-term-cli)\n",
    "- The [documentation explanation](/explanations/docs.ipynb#overview) describes a complex data pipeline using a [Mermaid diagram](https://quarto.org/docs/authoring/diagrams.html)\n",
    "- The [directives explanation](/explanations/directives.ipynb) showcases all of nbdev's directives with executable examples in call-out cards (and makes great use of emojis too!)\n",
    "- [RDKit](https://www.rdkit.org/docs/Cookbook.html#drawing-molecules-jupyter) renders beautiful molecule diagrams"
   ]
  },
  {
   "cell_type": "markdown",
   "id": "71c85ff3",
   "metadata": {},
   "source": [
    "## Keep docstrings short; elaborate in separate cells"
   ]
  },
  {
   "cell_type": "markdown",
   "id": "3b0ee64c",
   "metadata": {},
   "source": [
    "While nbdev renders docstrings as markdown, they aren't rendered correctly when using `symbol?` or `help(symbol)` and they can't include executed code. By splitting longer docstrings across separate code and markdown cells you can [use code examples, pictures, plots, and videos](#use-lots-of-code-examples-pictures-plots-and-videos)."
   ]
  },
  {
   "cell_type": "markdown",
   "id": "71f45249",
   "metadata": {},
   "source": [
    "We find a single-line summary sufficient for most docstrings."
   ]
  },
  {
   "cell_type": "markdown",
   "id": "204169fe",
   "metadata": {},
   "source": [
    "## Document parameters with docments"
   ]
  },
  {
   "cell_type": "markdown",
   "id": "5cd81e29",
   "metadata": {},
   "source": [
    "[`fastcore.docments`](https://fastcore.fast.ai/docments.html) is a concise way to document parameters that is beautifully rendered by nbdev. For example, this function:"
   ]
  },
  {
   "cell_type": "code",
   "execution_count": null,
   "id": "08b3fc52",
   "metadata": {},
   "outputs": [],
   "source": [
    "def draw_n(n:int, # Number of cards to draw\n",
    "           replace:bool=True # Draw with replacement?\n",
    "          )->list: # List of cards\n",
    "    \"Draw `n` cards.\""
   ]
  },
  {
   "cell_type": "markdown",
   "id": "4da5e594",
   "metadata": {},
   "source": [
    "...would include the following table as part of its documentation:"
   ]
  },
  {
   "cell_type": "code",
   "execution_count": null,
   "id": "48dd5364",
   "metadata": {},
   "outputs": [
    {
     "name": "stdout",
     "output_type": "stream",
     "text": [
      "::: {.py-2 .px-3 .mb-4 .border .rounded .shadow-sm}\n",
      "\n",
      "|    | **Type** | **Default** | **Details** |\n",
      "| -- | -------- | ----------- | ----------- |\n",
      "| n | int |  | Number of cards to draw |\n",
      "| replace | bool | True | Draw with replacement? |\n",
      "| **Returns** | **list** |  | **List of cards** |\n",
      "\n",
      ":::\n",
      "\n",
      "\n"
     ]
    }
   ],
   "source": [
    "#| echo: false\n",
    "#| output: asis\n",
    "print(div(DocmentTbl(draw_n)._repr_markdown_(),\n",
    "          classes='py-2 px-3 mb-4 border rounded shadow-sm'.split()))"
   ]
  },
  {
   "cell_type": "markdown",
   "id": "7eb859b3",
   "metadata": {},
   "source": [
    "nbdev also supports some numpy docstring sections. For example, this code snippet would produce the same table (there's no need to include types like in the docstring if you already have annotations):"
   ]
  },
  {
   "cell_type": "code",
   "execution_count": null,
   "id": "3d89283a",
   "metadata": {},
   "outputs": [],
   "source": [
    "def draw_n(n:int, replace:bool=True) -> Cards:\n",
    "    \"\"\"\n",
    "    Draw `n` cards.\n",
    "    \n",
    "    Parameters\n",
    "    ----------\n",
    "    n\n",
    "        Number of cards to draw\n",
    "    replace\n",
    "        Draw with replacement?\n",
    "        \n",
    "    Returns\n",
    "    -------\n",
    "    cards\n",
    "        List of cards\n",
    "    \"\"\""
   ]
  },
  {
   "cell_type": "markdown",
   "id": "52616927",
   "metadata": {},
   "source": [
    "::: {.callout-tip appearance=\"simple\"}\n",
    "\n",
    "You can render a symbol's parameters table directly with `DocmentTbl`. In fact, that's how we rendered the table above.\n",
    "\n",
    ":::"
   ]
  },
  {
   "cell_type": "markdown",
   "id": "f967dffc",
   "metadata": {},
   "source": [
    "## Consider turning code examples into tests by adding assertions"
   ]
  },
  {
   "cell_type": "markdown",
   "id": "1ceddcab",
   "metadata": {},
   "source": [
    "nbdev blurs the lines between code, docs, and tests. _Every_ code cell is run as a test (unless it's explicitly marked otherwise), and any error in the cell fails the test."
   ]
  },
  {
   "cell_type": "markdown",
   "id": "cc85415b",
   "metadata": {},
   "source": [
    "Consider turning your code examples into tests by adding assertions -- if they would make valuable tests and if it doesn't hurt readability. [`fastcore.test`](https://fastcore.fast.ai/test.html) provides a set of light wrappers around `assert` for better notebook tests (for example, they print both objects on error if they differ). "
   ]
  },
  {
   "cell_type": "markdown",
   "id": "09c2fc5b",
   "metadata": {},
   "source": [
    "Here's an example using `fastcore.test.test_eq`:"
   ]
  },
  {
   "cell_type": "code",
   "execution_count": null,
   "id": "f42cf559",
   "metadata": {},
   "outputs": [],
   "source": [
    "def inc(x): return x + 1\n",
    "test_eq(inc(3), 4)"
   ]
  },
  {
   "cell_type": "markdown",
   "id": "39da5019",
   "metadata": {},
   "source": [
    "## Document error-cases as tests"
   ]
  },
  {
   "cell_type": "markdown",
   "id": "1797812c",
   "metadata": {},
   "source": [
    "Docstring-driven approaches typically document the errors raised by an object using plaintext descriptions, for example, in a \"raises\" section."
   ]
  },
  {
   "cell_type": "markdown",
   "id": "3f30a861",
   "metadata": {},
   "source": [
    "In nbdev, we recommend documenting errors with actual failing code using `fastcore.test.test_fail`. For example:"
   ]
  },
  {
   "cell_type": "code",
   "execution_count": null,
   "id": "a2cd0a74",
   "metadata": {},
   "outputs": [],
   "source": [
    "def divide(x, y): return x / y\n",
    "test_fail(lambda: divide(1, 0), contains=\"division by zero\")"
   ]
  },
  {
   "cell_type": "markdown",
   "id": "fd5460ff",
   "metadata": {},
   "source": [
    "The first argument is a `lambda` since we need to allow `test_fail` to control its execution and catch any errors."
   ]
  },
  {
   "cell_type": "markdown",
   "id": "984750ab",
   "metadata": {},
   "source": [
    "## Reference related symbols with doclinks"
   ]
  },
  {
   "cell_type": "markdown",
   "id": "12ce67f8",
   "metadata": {},
   "source": [
    "If you surround a symbol with backticks, nbdev will automatically link to that symbol's reference page. We call these [doclinks](/api/doclinks.ipynb)."
   ]
  },
  {
   "cell_type": "markdown",
   "id": "e7c686c2",
   "metadata": {},
   "source": [
    "Prefer fully qualified symbol paths, like `package.module.symbol` instead of `symbol`. It may be more verbose but it helps users know which module a symbol originates from, which is especially important for third-party packages."
   ]
  },
  {
   "cell_type": "markdown",
   "id": "9e542ed1",
   "metadata": {},
   "source": [
    "Any package created with nbdev will automatically support doclinks. Non-nbdev packages can be supported by creating a minimal nbdev-index package. [`nbdev-index`](https://github.com/fastai/nbdev-index) is a collection of such packages, which already supports django, numpy, pandas, pytorch, scipy, sphinx, the Python standard library, and even other programming languages like APL!"
   ]
  },
  {
   "cell_type": "markdown",
   "id": "f7cdb4ee",
   "metadata": {},
   "source": [
    "## Add rich representations to your classes"
   ]
  },
  {
   "cell_type": "markdown",
   "id": "8a27b373",
   "metadata": {},
   "source": [
    "This is another way to take advantage of the [rich display feature of notebooks](https://ipython.readthedocs.io/en/stable/config/integrating.html#rich-display). You can provide rich representations to your object by defining a `_repr_markdown_` method that returns markdown text (which may also include HTML/CSS)."
   ]
  },
  {
   "cell_type": "markdown",
   "id": "5a1222a5",
   "metadata": {},
   "source": [
    "Here's a simple example to get you started:"
   ]
  },
  {
   "cell_type": "code",
   "execution_count": null,
   "id": "2428f2a5",
   "metadata": {},
   "outputs": [],
   "source": [
    "class Color:\n",
    "    def __init__(self, color): self.color = color\n",
    "    def _repr_markdown_(self):\n",
    "        style = f'background-color: {self.color}; width: 50px; height: 50px; margin: 10px'\n",
    "        return f'<div style=\"{style}\"></div>'"
   ]
  },
  {
   "cell_type": "code",
   "execution_count": null,
   "id": "a1bd9c61",
   "metadata": {},
   "outputs": [
    {
     "data": {
      "text/markdown": [
       "<div style=\"background-color: green; width: 50px; height: 50px; margin: 10px\"></div>"
      ],
      "text/plain": [
       "<__main__.Color at 0x1075290d0>"
      ]
     },
     "execution_count": null,
     "metadata": {},
     "output_type": "execute_result"
    }
   ],
   "source": [
    "Color('green')"
   ]
  },
  {
   "cell_type": "code",
   "execution_count": null,
   "id": "1e7332e1",
   "metadata": {},
   "outputs": [
    {
     "data": {
      "text/markdown": [
       "<div style=\"background-color: blue; width: 50px; height: 50px; margin: 10px\"></div>"
      ],
      "text/plain": [
       "<__main__.Color at 0x1075406d0>"
      ]
     },
     "execution_count": null,
     "metadata": {},
     "output_type": "execute_result"
    }
   ],
   "source": [
    "Color('blue')"
   ]
  },
  {
   "cell_type": "markdown",
   "id": "20f79bf8",
   "metadata": {},
   "source": [
    "Also see [the earlier list of example projects](#use-lots-of-code-examples-pictures-plots-and-videos) that make use of beautiful visual representations."
   ]
  },
  {
   "cell_type": "markdown",
   "id": "92bdf0e6",
   "metadata": {},
   "source": [
    "## Document class methods with `show_doc` or `fastcore.basics.patch`"
   ]
  },
  {
   "cell_type": "markdown",
   "id": "c13da395",
   "metadata": {},
   "source": [
    "nbdev automatically documents exported function and class definitions with `show_doc`. However, it's up to you to document class methods. There are two ways to do that: calling `show_doc` on the method, or defining the method with the `fastcore.basics.patch` decorator."
   ]
  },
  {
   "cell_type": "markdown",
   "id": "d99db795",
   "metadata": {},
   "source": [
    "::: {.panel-tabset}"
   ]
  },
  {
   "cell_type": "markdown",
   "id": "8739d401",
   "metadata": {},
   "source": [
    "### Notebook (show_doc)"
   ]
  },
  {
   "cell_type": "markdown",
   "id": "0ed2eb50",
   "metadata": {},
   "source": [
    "If your class is defined in a single cell, use `show_doc`. Here's what your notebook might look like:"
   ]
  },
  {
   "cell_type": "markdown",
   "id": "6f084ffa",
   "metadata": {},
   "source": [
    "::: {.pt-4 .pb-1 .px-3 .mb-2 .border .rounded .shadow-sm}\n",
    "\n",
    "```python\n",
    "#| export\n",
    "class Number:\n",
    "    \"A number.\"\n",
    "    def __init__(self, num): self.num = num\n",
    "    def __add__(self, other):\n",
    "        \"Sum of this and `other`.\"\n",
    "        return Number(self.num + other.num)\n",
    "    def __repr__(self): return f'Number({self.num})'\n",
    "```\n",
    "\n",
    "For example, here is the number 5:\n",
    "\n",
    "```python\n",
    "Number(5)\n",
    "```\n",
    "\n",
    "```python\n",
    "show_doc(Number.__add__)\n",
    "```\n",
    "\n",
    "For example:\n",
    "\n",
    "```python\n",
    "Number(3) + Number(4)\n",
    "```\n",
    "\n",
    ":::"
   ]
  },
  {
   "cell_type": "markdown",
   "id": "5c5d8036",
   "metadata": {},
   "source": [
    "### Notebook (@patch)"
   ]
  },
  {
   "cell_type": "markdown",
   "id": "77fa89e2",
   "metadata": {},
   "source": [
    "If you split your class definition across cells with `fastcore.basics.patch`, here's what your notebook might look like:"
   ]
  },
  {
   "cell_type": "markdown",
   "id": "8e058c39",
   "metadata": {},
   "source": [
    "::: {.pt-4 .pb-1 .px-3 .mb-2 .border .rounded .shadow-sm}\n",
    "\n",
    "```python\n",
    "#| export\n",
    "class Number:\n",
    "    \"A number.\"\n",
    "    def __init__(self, num): self.num = num\n",
    "    def __repr__(self): return f'Number({self.num})'\n",
    "```\n",
    "\n",
    "For example, here is the number 5:\n",
    "\n",
    "```python\n",
    "Number(5)\n",
    "```\n",
    "\n",
    "```python\n",
    "#| export\n",
    "@patch\n",
    "def __add__(self:Number, other):\n",
    "    \"Sum of this and `other`.\"\n",
    "    return Number(self.num + other.num)\n",
    "```\n",
    "\n",
    "For example:\n",
    "\n",
    "```python\n",
    "Number(3) + Number(4)\n",
    "```\n",
    "\n",
    ":::"
   ]
  },
  {
   "cell_type": "markdown",
   "id": "e0733e60",
   "metadata": {},
   "source": [
    "### Docs"
   ]
  },
  {
   "cell_type": "markdown",
   "id": "38e418ca",
   "metadata": {},
   "source": [
    "In either case, this is how the documentation would be rendered:"
   ]
  },
  {
   "cell_type": "markdown",
   "id": "0ab8682a",
   "metadata": {},
   "source": [
    "::: {}"
   ]
  },
  {
   "cell_type": "code",
   "execution_count": null,
   "id": "3f8bd614",
   "metadata": {},
   "outputs": [],
   "source": [
    "#| hide\n",
    "class Number:\n",
    "    \"A number.\"\n",
    "    def __init__(self, num): self.num = num\n",
    "    def __add__(self, other):\n",
    "        \"Sum of this and `other`.\"\n",
    "        return Number(self.num + other.num)\n",
    "    def __repr__(self): return f'Number({self.num})'"
   ]
  },
  {
   "cell_type": "code",
   "execution_count": null,
   "id": "9f49d293",
   "metadata": {},
   "outputs": [
    {
     "data": {
      "text/markdown": [
       "---\n",
       "\n",
       "### Number\n",
       "\n",
       ">      Number (num)\n",
       "\n",
       "A number."
      ],
      "text/plain": [
       "---\n",
       "\n",
       "### Number\n",
       "\n",
       ">      Number (num)\n",
       "\n",
       "A number."
      ]
     },
     "execution_count": null,
     "metadata": {},
     "output_type": "execute_result"
    }
   ],
   "source": [
    "#| eval: false\n",
    "show_doc(Number)"
   ]
  },
  {
   "cell_type": "markdown",
   "id": "bb9fe1c7",
   "metadata": {},
   "source": [
    "For example, here is the number 5:"
   ]
  },
  {
   "cell_type": "code",
   "execution_count": null,
   "id": "e11b7da9",
   "metadata": {},
   "outputs": [
    {
     "data": {
      "text/plain": [
       "Number(5)"
      ]
     },
     "execution_count": null,
     "metadata": {},
     "output_type": "execute_result"
    }
   ],
   "source": [
    "Number(5)"
   ]
  },
  {
   "cell_type": "code",
   "execution_count": null,
   "id": "e65aa0b9",
   "metadata": {},
   "outputs": [
    {
     "data": {
      "text/markdown": [
       "---\n",
       "\n",
       "### Number.__add__\n",
       "\n",
       ">      Number.__add__ (other)\n",
       "\n",
       "Sum of this and `other`."
      ],
      "text/plain": [
       "---\n",
       "\n",
       "### Number.__add__\n",
       "\n",
       ">      Number.__add__ (other)\n",
       "\n",
       "Sum of this and `other`."
      ]
     },
     "execution_count": null,
     "metadata": {},
     "output_type": "execute_result"
    }
   ],
   "source": [
    "#| eval: false\n",
    "show_doc(Number.__add__)"
   ]
  },
  {
   "cell_type": "markdown",
   "id": "9c901d93",
   "metadata": {},
   "source": [
    "For example:"
   ]
  },
  {
   "cell_type": "code",
   "execution_count": null,
   "id": "f27b5cc0",
   "metadata": {},
   "outputs": [
    {
     "data": {
      "text/plain": [
       "Number(7)"
      ]
     },
     "execution_count": null,
     "metadata": {},
     "output_type": "execute_result"
    }
   ],
   "source": [
    "Number(3) + Number(4)"
   ]
  },
  {
   "cell_type": "markdown",
   "id": "9b96d368",
   "metadata": {},
   "source": [
    ":::"
   ]
  },
  {
   "cell_type": "markdown",
   "id": "9086592e",
   "metadata": {},
   "source": [
    ":::"
   ]
  },
  {
   "cell_type": "markdown",
   "id": "840c0cc0",
   "metadata": {},
   "source": [
    "## Group symbols with H2 sections"
   ]
  },
  {
   "cell_type": "markdown",
   "id": "7c645118",
   "metadata": {},
   "source": [
    "As your notebooks grow, consider grouping related symbols using markdown cells with level 2 headers. Since nbdev displays documented symbols as level 3 headers, this would group all symbols below your level 2 header.\n",
    "\n",
    "Here is the markdown syntax:"
   ]
  },
  {
   "cell_type": "markdown",
   "id": "ad2629ad",
   "metadata": {},
   "source": [
    "```markdown\n",
    "## Section title\n",
    "```"
   ]
  },
  {
   "cell_type": "markdown",
   "id": "b4e7f322",
   "metadata": {},
   "source": [
    "## Split long explanations with H4 sections"
   ]
  },
  {
   "cell_type": "markdown",
   "id": "d0b8423b",
   "metadata": {},
   "source": [
    "Similar to the previous section, as a symbol's explanation grows, consider grouping its cells using level 4 headers. This is the recommended way to structure your reference docs, for example, to achieve numpy-style structures with sections like notes, examples, methods, and so on.\n",
    "\n",
    "Here's the markdown syntax:"
   ]
  },
  {
   "cell_type": "markdown",
   "id": "81ed35a8",
   "metadata": {},
   "source": [
    "```markdown\n",
    "#### Section title\n",
    "```"
   ]
  },
  {
   "cell_type": "markdown",
   "id": "634d46cb",
   "metadata": {},
   "source": [
    "## Example: numpy docstring vs nbdev"
   ]
  },
  {
   "cell_type": "markdown",
   "id": "04d02340",
   "metadata": {},
   "source": [
    "In this section, we'll compare the numpy docstring format to our approach with nbdev, using the `numpy.all` function to demonstrate."
   ]
  },
  {
   "cell_type": "markdown",
   "id": "820cdbae",
   "metadata": {},
   "source": [
    "Expand the code section below to see how `numpy.all` is defined and documented using the numpy docstring format."
   ]
  },
  {
   "cell_type": "code",
   "execution_count": null,
   "id": "a343fa26",
   "metadata": {},
   "outputs": [],
   "source": [
    "#| code-fold: true\n",
    "def all(a, axis=None, out=None, keepdims=np._NoValue, *, where=np._NoValue):\n",
    "    \"\"\"\n",
    "    Test whether all array elements along a given axis evaluate to True.\n",
    "    Parameters\n",
    "    ----------\n",
    "    a : array_like\n",
    "        Input array or object that can be converted to an array.\n",
    "    axis : None or int or tuple of ints, optional\n",
    "        Axis or axes along which a logical AND reduction is performed.\n",
    "        The default (``axis=None``) is to perform a logical AND over all\n",
    "        the dimensions of the input array. `axis` may be negative, in\n",
    "        which case it counts from the last to the first axis.\n",
    "        .. versionadded:: 1.7.0\n",
    "        If this is a tuple of ints, a reduction is performed on multiple\n",
    "        axes, instead of a single axis or all the axes as before.\n",
    "    out : ndarray, optional\n",
    "        Alternate output array in which to place the result.\n",
    "        It must have the same shape as the expected output and its\n",
    "        type is preserved (e.g., if ``dtype(out)`` is float, the result\n",
    "        will consist of 0.0's and 1.0's). See :ref:`ufuncs-output-type` for more\n",
    "        details.\n",
    "    keepdims : bool, optional\n",
    "        If this is set to True, the axes which are reduced are left\n",
    "        in the result as dimensions with size one. With this option,\n",
    "        the result will broadcast correctly against the input array.\n",
    "        If the default value is passed, then `keepdims` will not be\n",
    "        passed through to the `all` method of sub-classes of\n",
    "        `ndarray`, however any non-default value will be.  If the\n",
    "        sub-class' method does not implement `keepdims` any\n",
    "        exceptions will be raised.\n",
    "    where : array_like of bool, optional\n",
    "        Elements to include in checking for all `True` values.\n",
    "        See `~numpy.ufunc.reduce` for details.\n",
    "        .. versionadded:: 1.20.0\n",
    "    Returns\n",
    "    -------\n",
    "    all : ndarray, bool\n",
    "        A new boolean or array is returned unless `out` is specified,\n",
    "        in which case a reference to `out` is returned.\n",
    "    See Also\n",
    "    --------\n",
    "    ndarray.all : equivalent method\n",
    "    any : Test whether any element along a given axis evaluates to True.\n",
    "    Notes\n",
    "    -----\n",
    "    Not a Number (NaN), positive infinity and negative infinity\n",
    "    evaluate to `True` because these are not equal to zero.\n",
    "    Examples\n",
    "    --------\n",
    "    >>> np.all([[True,False],[True,True]])\n",
    "    False\n",
    "    >>> np.all([[True,False],[True,True]], axis=0)\n",
    "    array([ True, False])\n",
    "    >>> np.all([-1, 4, 5])\n",
    "    True\n",
    "    >>> np.all([1.0, np.nan])\n",
    "    True\n",
    "    >>> np.all([[True, True], [False, True]], where=[[True], [False]])\n",
    "    True\n",
    "    >>> o=np.array(False)\n",
    "    >>> z=np.all([-1, 4, 5], out=o)\n",
    "    >>> id(z), id(o), z\n",
    "    (28293632, 28293632, array(True)) # may vary\n",
    "    \"\"\"\n",
    "    pass"
   ]
  },
  {
   "cell_type": "markdown",
   "id": "b000d52a",
   "metadata": {},
   "source": [
    "Here is how we'd define, document, _and test_ it in a notebook using nbdev, with additional commentary in the margin on the right."
   ]
  },
  {
   "cell_type": "markdown",
   "id": "2098170f",
   "metadata": {},
   "source": [
    "::: {}"
   ]
  },
  {
   "cell_type": "markdown",
   "id": "23706b14",
   "metadata": {},
   "source": [
    "```python\n",
    "#| export\n",
    "from __future__ import annotations\n",
    "import numpy as np\n",
    "```"
   ]
  },
  {
   "cell_type": "markdown",
   "id": "bcef9289",
   "metadata": {},
   "source": [
    "```python\n",
    "#| export\n",
    "def all(a, # Input array or object that can be converted to an array.\n",
    "        axis:int|tuple|None=None, # Axis or axes along which a logical AND reduction is performed (default: all).\n",
    "        out:np.ndarray|None=None, # Alternate output array in which to place the result.\n",
    "        keepdims:bool=np._NoValue, # If this is set to True, the axes which are reduced are left in the result as dimensions with size one.\n",
    "        where=np._NoValue, # Elements to include in checking for all `True` values. See `numpy.ufunc.reduce` for details. New in version 1.20.0.\n",
    "        ) -> np.ndarray|bool: # A new boolean or array is returned unless `out` is specified, in which case a reference to `out` is returned.\n",
    "    \"Test whether all array elements along a given axis evaluate to `True`.\"\n",
    "    pass\n",
    "```"
   ]
  },
  {
   "cell_type": "markdown",
   "id": "e1e52fc2",
   "metadata": {},
   "source": [
    "::: {.column-margin}\n",
    "We start by defining our function with type annotations and docments.\n",
    ":::"
   ]
  },
  {
   "cell_type": "code",
   "execution_count": null,
   "id": "a9c15f65",
   "metadata": {},
   "outputs": [
    {
     "data": {
      "text/markdown": [
       "---\n",
       "\n",
       "### all\n",
       "\n",
       ">      all (a, axis:Union[int,tuple,NoneType]=None,\n",
       ">           out:Optional[numpy.ndarray]=None, keepdims:bool=<no value>,\n",
       ">           where=<no value>)\n",
       "\n",
       "Test whether all array elements along a given axis evaluate to `True`.\n",
       "\n",
       "|    | **Type** | **Default** | **Details** |\n",
       "| -- | -------- | ----------- | ----------- |\n",
       "| a |  |  | Input array or object that can be converted to an array. |\n",
       "| axis | int \\| tuple \\| None | None | Axis or axes along which a logical AND reduction is performed (default: all). |\n",
       "| out | np.ndarray \\| None | None | Alternate output array in which to place the result. |\n",
       "| keepdims | bool | <no value> | If this is set to True, the axes which are reduced are left in the result as dimensions with size one. |\n",
       "| where | _NoValueType | <no value> | Elements to include in checking for all `True` values. See `numpy.ufunc.reduce` for details. New in version 1.20.0. |\n",
       "| **Returns** | **np.ndarray \\| bool** |  | **A new boolean or array is returned unless `out` is specified, in which case a reference to `out` is returned.** |"
      ],
      "text/plain": [
       "---\n",
       "\n",
       "### all\n",
       "\n",
       ">      all (a, axis:Union[int,tuple,NoneType]=None,\n",
       ">           out:Optional[numpy.ndarray]=None, keepdims:bool=<no value>,\n",
       ">           where=<no value>)\n",
       "\n",
       "Test whether all array elements along a given axis evaluate to `True`.\n",
       "\n",
       "|    | **Type** | **Default** | **Details** |\n",
       "| -- | -------- | ----------- | ----------- |\n",
       "| a |  |  | Input array or object that can be converted to an array. |\n",
       "| axis | int \\| tuple \\| None | None | Axis or axes along which a logical AND reduction is performed (default: all). |\n",
       "| out | np.ndarray \\| None | None | Alternate output array in which to place the result. |\n",
       "| keepdims | bool | <no value> | If this is set to True, the axes which are reduced are left in the result as dimensions with size one. |\n",
       "| where | _NoValueType | <no value> | Elements to include in checking for all `True` values. See `numpy.ufunc.reduce` for details. New in version 1.20.0. |\n",
       "| **Returns** | **np.ndarray \\| bool** |  | **A new boolean or array is returned unless `out` is specified, in which case a reference to `out` is returned.** |"
      ]
     },
     "execution_count": null,
     "metadata": {},
     "output_type": "execute_result"
    }
   ],
   "source": [
    "#| eval: false\n",
    "def all(a, # Input array or object that can be converted to an array.\n",
    "        axis:int|tuple|None=None, # Axis or axes along which a logical AND reduction is performed (default: all).\n",
    "        out:np.ndarray|None=None, # Alternate output array in which to place the result.\n",
    "        keepdims:bool=np._NoValue, # If this is set to True, the axes which are reduced are left in the result as dimensions with size one.\n",
    "        where=np._NoValue, # Elements to include in checking for all `True` values. See `numpy.ufunc.reduce` for details. New in version 1.20.0.\n",
    "        ) -> np.ndarray|bool: # A new boolean or array is returned unless `out` is specified, in which case a reference to `out` is returned.\n",
    "    \"Test whether all array elements along a given axis evaluate to `True`.\"\n",
    "    pass\n",
    "\n",
    "show_doc(all)"
   ]
  },
  {
   "cell_type": "markdown",
   "id": "8e0afcee",
   "metadata": {},
   "source": [
    "::: {.column-margin}\n",
    "Our function's reference docs would automatically be rendered like this.\n",
    ":::"
   ]
  },
  {
   "cell_type": "markdown",
   "id": "b046ddb0",
   "metadata": {},
   "source": [
    "For example:"
   ]
  },
  {
   "cell_type": "markdown",
   "id": "96858e77",
   "metadata": {},
   "source": [
    "::: {.column-margin}\n",
    "Describe the basic usage of our function with code examples.\n",
    ":::"
   ]
  },
  {
   "cell_type": "code",
   "execution_count": null,
   "id": "660d8d0e",
   "metadata": {},
   "outputs": [],
   "source": [
    "x = [[True,False],[True,True]]\n",
    "test_eq(np.all(x), False)"
   ]
  },
  {
   "cell_type": "markdown",
   "id": "a69e7aa9",
   "metadata": {},
   "source": [
    "With `axis`:"
   ]
  },
  {
   "cell_type": "markdown",
   "id": "a825a091",
   "metadata": {},
   "source": [
    "::: {.column-margin}\n",
    "Then describe advanced usage for each optional parameter. We start here with `axis`.\n",
    ":::"
   ]
  },
  {
   "cell_type": "code",
   "execution_count": null,
   "id": "c0fbc0d3",
   "metadata": {},
   "outputs": [],
   "source": [
    "test_eq(np.all(x, axis=0), [True,False])"
   ]
  },
  {
   "cell_type": "markdown",
   "id": "d64ec587",
   "metadata": {},
   "source": [
    "`axis` may be negative, in which case it counts from the last to the first axis:"
   ]
  },
  {
   "cell_type": "code",
   "execution_count": null,
   "id": "9420f6e9",
   "metadata": {},
   "outputs": [],
   "source": [
    "test_eq(np.all(x, axis=-1), [False,True])"
   ]
  },
  {
   "cell_type": "markdown",
   "id": "da0102eb",
   "metadata": {},
   "source": [
    "If `axis` is a tuple of ints, a reduction is performed on multiple\n",
    "axes, instead of a single axis or all the axes as before."
   ]
  },
  {
   "cell_type": "code",
   "execution_count": null,
   "id": "3a0d512c",
   "metadata": {},
   "outputs": [],
   "source": [
    "test_eq(np.all(x, axis=(0,1)), False)"
   ]
  },
  {
   "cell_type": "markdown",
   "id": "82ed9811",
   "metadata": {},
   "source": [
    "Integers, floats, not a number (nan), and infinity all evaluate to `True` because they're not equal to zero:"
   ]
  },
  {
   "cell_type": "code",
   "execution_count": null,
   "id": "28867183",
   "metadata": {},
   "outputs": [],
   "source": [
    "test_eq(np.all([-1, 1, -1.0, 1.0, np.nan, np.inf, -np.inf]), True)"
   ]
  },
  {
   "cell_type": "markdown",
   "id": "ccd85026",
   "metadata": {},
   "source": [
    "You can use `where` to test specific elements. For example, this tests only the second column:"
   ]
  },
  {
   "cell_type": "code",
   "execution_count": null,
   "id": "3b3e9f4b",
   "metadata": {},
   "outputs": [],
   "source": [
    "test_eq(np.all(x, where=[[False],[True]]), True)"
   ]
  },
  {
   "cell_type": "markdown",
   "id": "86cb99a6",
   "metadata": {},
   "source": [
    "The output can be stored in an optional `out` array. If provided, a reference to `out` will be returned:"
   ]
  },
  {
   "cell_type": "code",
   "execution_count": null,
   "id": "b06237f9",
   "metadata": {},
   "outputs": [],
   "source": [
    "o = np.array(False)\n",
    "z = np.all([-1, 4, 5], out=o)\n",
    "test_is(z, o)\n",
    "test_eq(z, True)"
   ]
  },
  {
   "cell_type": "markdown",
   "id": "bc4351dc",
   "metadata": {},
   "source": [
    "`out` must have the same shape as the expected output and its type is preserved (e.g., if `dtype(out)` is float, the result will consist of 0.0's and 1.0's). See [Output type determination](https://numpy.org/doc/stable/user/basics.ufuncs.html#ufuncs-output-type) for more\n",
    "details."
   ]
  },
  {
   "cell_type": "markdown",
   "id": "289a6018",
   "metadata": {},
   "source": [
    "With `keepdims`, the result will broadcast correctly against the input array."
   ]
  },
  {
   "cell_type": "code",
   "execution_count": null,
   "id": "a4690b5c",
   "metadata": {},
   "outputs": [],
   "source": [
    "test_eq(np.all(x, axis=0, keepdims=True), [[True, False]]) # Note the nested list"
   ]
  },
  {
   "cell_type": "markdown",
   "id": "ac76c238",
   "metadata": {},
   "source": [
    "If the default value is passed, then `keepdims` will not be passed through to the `all` method of sub-classes of `ndarray`, however any non-default value will be. If the sub-class' method does not implement `keepdims` any exceptions will be raised."
   ]
  },
  {
   "cell_type": "code",
   "execution_count": null,
   "id": "5ea3b90b",
   "metadata": {},
   "outputs": [],
   "source": [
    "class MyArray(np.ndarray):\n",
    "    def all(self, axis=None, out=None): pass\n",
    "\n",
    "y = MyArray((2,2))\n",
    "y[:] = x\n",
    "np.all(y) # No TypeError since `keepdims` isn't passed\n",
    "test_fail(lambda: np.all(y, keepdims=True), contains=\"all() got an unexpected keyword argument 'keepdims'\")"
   ]
  },
  {
   "cell_type": "markdown",
   "id": "36376339",
   "metadata": {},
   "source": [
    "The `numpy.ndarray.all` method is equivalent to calling `numpy.all` with the array:"
   ]
  },
  {
   "cell_type": "markdown",
   "id": "230647d4",
   "metadata": {},
   "source": [
    "::: {.column-margin}\n",
    "We describe related symbols with doclinks and code examples.\n",
    ":::"
   ]
  },
  {
   "cell_type": "code",
   "execution_count": null,
   "id": "1b2904bc",
   "metadata": {},
   "outputs": [],
   "source": [
    "test_eq(np.array(x).all(), np.all(x))"
   ]
  },
  {
   "cell_type": "markdown",
   "id": "1bf3592c",
   "metadata": {},
   "source": [
    "In contrast, `numpy.any` tests whether _any_ element evaluates to `True` (rather than _all_ elements):"
   ]
  },
  {
   "cell_type": "code",
   "execution_count": null,
   "id": "0cc7a22a",
   "metadata": {},
   "outputs": [],
   "source": [
    "test_eq(np.any(x), True)"
   ]
  },
  {
   "cell_type": "markdown",
   "id": "cc050fd7",
   "metadata": {},
   "source": [
    ":::"
   ]
  },
  {
   "cell_type": "code",
   "execution_count": null,
   "id": "488448e2",
   "metadata": {},
   "outputs": [],
   "source": []
  }
 ],
 "metadata": {
  "kernelspec": {
   "display_name": "Python 3 (ipykernel)",
   "language": "python",
   "name": "python3"
  }
 },
 "nbformat": 4,
 "nbformat_minor": 5
}
