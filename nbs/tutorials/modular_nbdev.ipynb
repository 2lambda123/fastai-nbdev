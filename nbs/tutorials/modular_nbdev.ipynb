{
 "cells": [
  {
   "cell_type": "markdown",
   "id": "a2ed9821",
   "metadata": {},
   "source": [
    "# Modular nbdev\n",
    "\n",
    "> How to use nbdev's various tools separately\n",
    "- order: 9"
   ]
  },
  {
   "cell_type": "markdown",
   "id": "a97e9b2c",
   "metadata": {},
   "source": [
    "While `nbdev_new` gets you started with everything you need to create a delightful Python package, **you can also use each of nbdev's components listed below on their own**. You might find this useful if you're porting a large system over to nbdev, or if you'd like to customise the nbdev workflow for your own project. Note that all of the commands below work without a settings.ini file."
   ]
  },
  {
   "cell_type": "markdown",
   "id": "5de0e130",
   "metadata": {},
   "source": [
    "#### `nbdev_test`: Test notebooks"
   ]
  },
  {
   "cell_type": "markdown",
   "id": "bafd703f",
   "metadata": {},
   "source": [
    "You can test an individual notebook with the terminal command:\n",
    "\n",
    "```sh\n",
    "nbdev_test --path notebook.ipynb\n",
    "```\n",
    "\n",
    "...or a folder of notebooks:\n",
    "\n",
    "```sh\n",
    "nbdev_test --path tests/\n",
    "```"
   ]
  },
  {
   "cell_type": "markdown",
   "id": "a2a38c4e",
   "metadata": {},
   "source": [
    "#### `nb_export`: Export notebooks to modules"
   ]
  },
  {
   "cell_type": "markdown",
   "id": "072eb8ea",
   "metadata": {},
   "source": [
    "You can export a notebook to a module with the Python function:\n",
    "\n",
    "```python\n",
    "nb_export('notebook.ipynb', 'pkg')\n",
    "```\n",
    "\n",
    "...provided the notebook specifies a `default_exp` directive at the top, and `export` directives above each cell to be exported. We recommend including this in a code cell at the bottom of your notebook for convenience."
   ]
  },
  {
   "cell_type": "markdown",
   "id": "77673b03",
   "metadata": {},
   "source": [
    "#### `nbdev_install_hooks`: Improve Jupyter/git integration"
   ]
  },
  {
   "cell_type": "markdown",
   "id": "6f8b49e3",
   "metadata": {},
   "source": [
    "You can install nbdev hooks into any git repo with the terminal command:\n",
    "\n",
    "```sh\n",
    "nbdev_install_hooks\n",
    "```\n",
    "\n",
    "Or directly use any of its underlying commands, for example, to implement your own hooks or extensions:\n",
    "\n",
    "- `nbdev_clean`\n",
    "- `nbdev_fix`\n",
    "- `nbdev_merge`\n",
    "- `nbdev_trust`"
   ]
  },
  {
   "cell_type": "markdown",
   "id": "d12eaaae-04b1-41f9-a162-e8a4d7d3bef4",
   "metadata": {},
   "source": [
    "#### Pre-commit hooks: Automatically check notebooks before commits"
   ]
  },
  {
   "cell_type": "markdown",
   "id": "a5992830-a000-4862-8eb8-d4856d7cdffd",
   "metadata": {},
   "source": [
    "Check out the [pre-commit hooks tutorial](/tutorials/pre_commit.ipynb) for more."
   ]
  },
  {
   "cell_type": "markdown",
   "id": "9b9a56e1",
   "metadata": {},
   "source": [
    "#### [`nbdev.release`](/api/release.html): Easy packaging on PyPI, conda, and GitHub"
   ]
  },
  {
   "cell_type": "markdown",
   "id": "40810bf2",
   "metadata": {},
   "source": [
    "Check out the `nbdev.release` docs for more. Note that this functionality requires a settings.ini file."
   ]
  },
  {
   "cell_type": "markdown",
   "id": "22d910d0",
   "metadata": {},
   "source": [
    "#### [`nbdev.quarto`](/api/quarto.html): Technical documentation with Quarto"
   ]
  },
  {
   "cell_type": "markdown",
   "id": "368989e9",
   "metadata": {},
   "source": [
    "Check out the `nbdev.quarto` docs for more. Note that this functionality requires a settings.ini file."
   ]
  },
  {
   "cell_type": "code",
   "execution_count": null,
   "id": "f021291b",
   "metadata": {},
   "outputs": [],
   "source": []
  }
 ],
 "metadata": {
  "kernelspec": {
   "display_name": "Python 3 (ipykernel)",
   "language": "python",
   "name": "python3"
  }
 },
 "nbformat": 4,
 "nbformat_minor": 5
}
