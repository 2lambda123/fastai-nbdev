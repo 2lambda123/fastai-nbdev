{
 "cells": [
  {
   "cell_type": "markdown",
   "id": "a2ed9821",
   "metadata": {},
   "source": [
    "# Modular nbdev\n",
    "\n",
    "> How to use nbdev's various tools separately\n",
    "- order: 9\n",
    "- skip_showdoc: true"
   ]
  },
  {
   "cell_type": "markdown",
   "id": "a97e9b2c",
   "metadata": {},
   "source": [
    "While `nbdev_new` gets you started with everything you need to create a delightful Python package, **you can also use each of nbdev's components listed below on their own**. You might find this useful if you're porting a large system over to nbdev, documenting an existing code base, or if you'd like to customize the nbdev workflow for your own project. Note that all of the commands below work without a `settings.ini` file unless otherwise noted."
   ]
  },
  {
   "cell_type": "markdown",
   "id": "b838f2c9-c24a-457c-9401-40708c5bfba0",
   "metadata": {},
   "source": [
    "## Document existing code: `show_doc`\n",
    "\n",
    "nbdev allows you to document existing code, even code that is not written in nbdev! `nbdev.showdoc.show_doc` allows you to render beautiful API documentation in notebooks and on Quarto sites.  For example, you can render API documentation for `numpy.all` like this:  \n",
    "\n",
    "::: {.py-2 .px-3 .mb-4 fig-align=\"center\" .border .rounded .shadow-sm}"
   ]
  },
  {
   "cell_type": "code",
   "execution_count": null,
   "id": "bf7cc968-8068-4250-920e-92171bebc17a",
   "metadata": {},
   "outputs": [
    {
     "data": {
      "text/markdown": [
       "---\n",
       "\n",
       "### all\n",
       "\n",
       ">      all (a, axis=None, out=None, keepdims=<no value>, where=<no value>)\n",
       "\n",
       "Test whether all array elements along a given axis evaluate to True.\n",
       "\n",
       "|    | **Type** | **Default** | **Details** |\n",
       "| -- | -------- | ----------- | ----------- |\n",
       "| a | array_like |  | Input array or object that can be converted to an array. |\n",
       "| axis | NoneType | None | Axis or axes along which a logical AND reduction is performed.<br>The default (``axis=None``) is to perform a logical AND over all<br>the dimensions of the input array. `axis` may be negative, in<br>which case it counts from the last to the first axis.<br><br>.. versionadded:: 1.7.0<br><br>If this is a tuple of ints, a reduction is performed on multiple<br>axes, instead of a single axis or all the axes as before. |\n",
       "| out | NoneType | None | Alternate output array in which to place the result.<br>It must have the same shape as the expected output and its<br>type is preserved (e.g., if ``dtype(out)`` is float, the result<br>will consist of 0.0's and 1.0's). See :ref:`ufuncs-output-type` for more<br>details. |\n",
       "| keepdims | _NoValueType | <no value> | If this is set to True, the axes which are reduced are left<br>in the result as dimensions with size one. With this option,<br>the result will broadcast correctly against the input array.<br><br>If the default value is passed, then `keepdims` will not be<br>passed through to the `all` method of sub-classes of<br>`ndarray`, however any non-default value will be.  If the<br>sub-class' method does not implement `keepdims` any<br>exceptions will be raised. |\n",
       "| where | _NoValueType | <no value> | Elements to include in checking for all `True` values.<br>See `~numpy.ufunc.reduce` for details.<br><br>.. versionadded:: 1.20.0 |\n",
       "| **Returns** | **ndarray, bool** |  | **A new boolean or array is returned unless `out` is specified,<br>in which case a reference to `out` is returned.** |"
      ],
      "text/plain": [
       "---\n",
       "\n",
       "### all\n",
       "\n",
       ">      all (a, axis=None, out=None, keepdims=<no value>, where=<no value>)\n",
       "\n",
       "Test whether all array elements along a given axis evaluate to True.\n",
       "\n",
       "|    | **Type** | **Default** | **Details** |\n",
       "| -- | -------- | ----------- | ----------- |\n",
       "| a | array_like |  | Input array or object that can be converted to an array. |\n",
       "| axis | NoneType | None | Axis or axes along which a logical AND reduction is performed.<br>The default (``axis=None``) is to perform a logical AND over all<br>the dimensions of the input array. `axis` may be negative, in<br>which case it counts from the last to the first axis.<br><br>.. versionadded:: 1.7.0<br><br>If this is a tuple of ints, a reduction is performed on multiple<br>axes, instead of a single axis or all the axes as before. |\n",
       "| out | NoneType | None | Alternate output array in which to place the result.<br>It must have the same shape as the expected output and its<br>type is preserved (e.g., if ``dtype(out)`` is float, the result<br>will consist of 0.0's and 1.0's). See :ref:`ufuncs-output-type` for more<br>details. |\n",
       "| keepdims | _NoValueType | <no value> | If this is set to True, the axes which are reduced are left<br>in the result as dimensions with size one. With this option,<br>the result will broadcast correctly against the input array.<br><br>If the default value is passed, then `keepdims` will not be<br>passed through to the `all` method of sub-classes of<br>`ndarray`, however any non-default value will be.  If the<br>sub-class' method does not implement `keepdims` any<br>exceptions will be raised. |\n",
       "| where | _NoValueType | <no value> | Elements to include in checking for all `True` values.<br>See `~numpy.ufunc.reduce` for details.<br><br>.. versionadded:: 1.20.0 |\n",
       "| **Returns** | **ndarray, bool** |  | **A new boolean or array is returned unless `out` is specified,<br>in which case a reference to `out` is returned.** |"
      ]
     },
     "execution_count": null,
     "metadata": {},
     "output_type": "execute_result"
    }
   ],
   "source": [
    "#|echo: true\n",
    "#|eval: false\n",
    "from nbdev.showdoc import show_doc\n",
    "from numpy import all\n",
    "show_doc(all)"
   ]
  },
  {
   "cell_type": "markdown",
   "id": "4477baba-96ec-4d5f-aa75-a35fbe99a057",
   "metadata": {},
   "source": [
    ":::\n",
    "\n",
    "\n",
    "::: {.callout-note}\n",
    "\n",
    "`show_doc` automatically parses docstrings that are written in the numpy style.  For more information [read here](../api/showdoc.ipynb#numpy-docstrings).\n",
    "\n",
    ":::"
   ]
  },
  {
   "cell_type": "markdown",
   "id": "5de0e130",
   "metadata": {},
   "source": [
    "## Testing notebooks: `nbdev_test`\n",
    "\n",
    "Testing notebooks can be very useful outside of nbdev, especially if you are documenting an existing code base and want to incorporate tests for your docs. The `nbdev_test` CLI utility allows you to accomplish this:"
   ]
  },
  {
   "cell_type": "markdown",
   "id": "bafd703f",
   "metadata": {},
   "source": [
    "You can test an individual notebook with the terminal command:\n",
    "\n",
    "```sh\n",
    "nbdev_test --path notebook.ipynb\n",
    "```\n",
    "\n",
    "...or a folder of notebooks:\n",
    "\n",
    "```sh\n",
    "nbdev_test --path tests/\n",
    "```"
   ]
  },
  {
   "cell_type": "markdown",
   "id": "a2a38c4e",
   "metadata": {},
   "source": [
    "## Export code to modules: `nb_export`"
   ]
  },
  {
   "cell_type": "markdown",
   "id": "072eb8ea",
   "metadata": {},
   "source": [
    "You can export a notebook to a module with the Python function:\n",
    "\n",
    "```python\n",
    "nb_export('notebook.ipynb', 'pkg')\n",
    "```\n",
    "\n",
    "...provided the notebook specifies a `default_exp` directive at the top, and `export` directives above each cell to be exported. We recommend including this in a code cell at the bottom of your notebook for convenience."
   ]
  },
  {
   "cell_type": "markdown",
   "id": "77673b03",
   "metadata": {},
   "source": [
    "## Jupyter-git integration\n",
    "\n",
    "Jupyter and Git don't normally play well together, especially for things like merge conflicts.  We have outlined all of these problems, and our solutions in [this blog post](../blog/posts/2022-08-25-jupyter-git/index.qmd).  You can install our merge driver and hooks with the following command: \n",
    "\n",
    "```bash\n",
    "nbdev_install_hooks\n",
    "```\n",
    "\n",
    "We describe what `nbdev_install_hooks` does in detail on [this page](git_friendly_jupyter.ipynb)."
   ]
  },
  {
   "cell_type": "markdown",
   "id": "6f8b49e3",
   "metadata": {},
   "source": [
    "You can also directly use any of its underlying commands, for example, to implement your own hooks or extensions:\n",
    "\n",
    "- `nbdev_clean`\n",
    "- `nbdev_fix`\n",
    "- `nbdev_merge`\n",
    "- `nbdev_trust`"
   ]
  },
  {
   "cell_type": "markdown",
   "id": "d12eaaae-04b1-41f9-a162-e8a4d7d3bef4",
   "metadata": {},
   "source": [
    "To configure your own hooks, Check out the [pre-commit hooks tutorial](/tutorials/pre_commit.ipynb)."
   ]
  },
  {
   "cell_type": "markdown",
   "id": "7f6c261f-d47f-4d1a-a695-05370f81a9c9",
   "metadata": {},
   "source": [
    "## Python packaging"
   ]
  },
  {
   "cell_type": "markdown",
   "id": "9b9a56e1",
   "metadata": {},
   "source": [
    "`nbdev.release`provides utlities for easy packaging on PyPI, conda, and GitHub. Check out the [`nbdev.release`](/api/release.html) docs for more information. Note that this functionality requires a settings.ini file."
   ]
  },
  {
   "cell_type": "code",
   "execution_count": null,
   "id": "f021291b",
   "metadata": {},
   "outputs": [],
   "source": []
  }
 ],
 "metadata": {
  "kernelspec": {
   "display_name": "Python 3 (ipykernel)",
   "language": "python",
   "name": "python3"
  }
 },
 "nbformat": 4,
 "nbformat_minor": 5
}
