{
 "cells": [
  {
   "cell_type": "code",
   "execution_count": null,
   "id": "c497928c-8111-473e-aeae-38975d78f707",
   "metadata": {},
   "outputs": [],
   "source": [
    "#|default_exp migrate"
   ]
  },
  {
   "cell_type": "markdown",
   "id": "e9c38f72-896e-45ed-8809-731bfa7b2178",
   "metadata": {},
   "source": [
    "# migrate\n",
    "> Utilities for migrating to nbdev"
   ]
  },
  {
   "cell_type": "code",
   "execution_count": null,
   "id": "5b687fa0-dc50-48df-8bfc-e98df34e7572",
   "metadata": {},
   "outputs": [],
   "source": [
    "#|export\n",
    "from nbdev.process import first_code_ln\n",
    "from nbdev.read import *\n",
    "from nbdev.processors import yml2dict, filter_fm\n",
    "from nbdev.read import read_nb, config_key\n",
    "from nbdev.sync import write_nb\n",
    "from nbdev.clean import process_write\n",
    "from nbdev.showdoc import show_doc\n",
    "from fastcore.all import *\n",
    "import shutil"
   ]
  },
  {
   "cell_type": "markdown",
   "id": "4b088531-3b5c-4d6a-9969-b0ff90633549",
   "metadata": {},
   "source": [
    "## Aliases For Redirects\n",
    "\n",
    "fastpages and Jekyll style blog posts automatically generate URLs based on the category and filename.  Furhtermore, we want to create [Quarto aliases](https://quarto.org/docs/websites/website-navigation.html#redirects) to new Quarto generated paths to minimize broken links when you migrate from older versions of nbdev or fastpages."
   ]
  },
  {
   "cell_type": "code",
   "execution_count": null,
   "id": "52f60fb5-bc54-474a-876c-9146dd092681",
   "metadata": {},
   "outputs": [],
   "source": [
    "#|export\n",
    "def _cat_slug(d):\n",
    "    \"Get the partial slug from the category front matter.\"\n",
    "    slug = '/'.join(sorted(d.get('categories', '')))\n",
    "    return '/' + slug if slug else ''"
   ]
  },
  {
   "cell_type": "code",
   "execution_count": null,
   "id": "d449b10d-60de-417e-bfab-97af1f3b4b7b",
   "metadata": {},
   "outputs": [],
   "source": [
    "#|hide\n",
    "_fm1 = NB('../tests/2020-09-01-fastcore.ipynb')\n",
    "test_eq(_cat_slug(_fm1.fmdict), '/fastai/fastcore')\n",
    "\n",
    "_fm2 = NB('../tests/2020-02-20-test.ipynb')\n",
    "test_eq(_cat_slug(_fm2.fmdict), '/jupyter')"
   ]
  },
  {
   "cell_type": "code",
   "execution_count": null,
   "id": "9fac0338-a503-4680-984f-60153843d5ef",
   "metadata": {},
   "outputs": [],
   "source": [
    "#|export\n",
    "def _file_slug(fname): \n",
    "    \"Get the partial slug from the filename.\"\n",
    "    p = Path(fname)\n",
    "    dt = '/'+p.name[:10].replace('-', '/')+'/'\n",
    "    return dt + p.stem[11:]    "
   ]
  },
  {
   "cell_type": "code",
   "execution_count": null,
   "id": "65d5859a-571a-4ad7-8c50-57765b4603a8",
   "metadata": {},
   "outputs": [],
   "source": [
    "#|hide\n",
    "test_eq(_file_slug('../tests/2020-09-01-fastcore.ipynb'), '/2020/09/01/fastcore')"
   ]
  },
  {
   "cell_type": "code",
   "execution_count": null,
   "id": "244b0d01-a166-4549-9a45-1f8b1195c3c8",
   "metadata": {},
   "outputs": [],
   "source": [
    "#|export\n",
    "_re_dt = re.compile(r'^\\d{4}-\\d{2}-\\d{2}')\n",
    "\n",
    "def _alias(fm:dict, p:Path):\n",
    "    p = Path(p)\n",
    "    if not _re_dt.search(p.name): return {}\n",
    "    return {'aliases': [f\"{fm.pop('permalink').strip()}\"] if 'permalink' in fm else [f'{_cat_slug(fm) + _file_slug(p)}']}"
   ]
  },
  {
   "cell_type": "code",
   "execution_count": null,
   "id": "549dddc0-7d98-4bbd-b7b0-bc0257ca356c",
   "metadata": {},
   "outputs": [],
   "source": [
    "#|export\n",
    "def nb_alias_fm(path):\n",
    "    \"Fix slugs for fastpages and jekyll compatibility.\"\n",
    "    nb = NB(path)\n",
    "    nb.update_raw_fm(_alias(nb.fmdict, path)) #use the combined markdown & raw front matter to determine the alias\n",
    "    return nb"
   ]
  },
  {
   "cell_type": "code",
   "execution_count": null,
   "id": "bf7f888e-9965-4745-84a1-36e78208be28",
   "metadata": {},
   "outputs": [],
   "source": [
    "# This notebook already has existing raw front matter\n",
    "_raw_fm_cell = nb_alias_fm('../tests/2020-09-01-fastcore.ipynb').cells[0].source\n",
    "assert 'aliases:\\n- /fastcore/' in _raw_fm_cell\n",
    "print(_raw_fm_cell)"
   ]
  },
  {
   "cell_type": "code",
   "execution_count": null,
   "id": "e86efa9b-38e0-49e0-ac1c-7b3440af37db",
   "metadata": {},
   "outputs": [],
   "source": [
    "# This notebook doesn't have any existing raw front matter\n",
    "_raw_fm_cell = nb_alias_fm('../tests/2020-02-20-test.ipynb').cells[0].source\n",
    "assert 'aliases:\\n- /jupyter/2020/02/20/test' in _raw_fm_cell\n",
    "print(_raw_fm_cell)"
   ]
  },
  {
   "cell_type": "markdown",
   "id": "153e6fda-8a42-45ef-a097-9b4a29d0663d",
   "metadata": {},
   "source": [
    "## Callouts\n",
    "\n",
    "In fastpages, there was a markdown shortuct for callouts for `Note`, `Tip`, `Important` and `Warning` with block quotes.  Since Quarto has its own [callout blocks](https://quarto.org/docs/authoring/callouts.html#callout-types) with markdown syntax, we do not implement these shortcuts in nbdev.  Instead, we offer a manual conversion utility for these callouts so that you can migrate from fastpages to Quarto."
   ]
  },
  {
   "cell_type": "code",
   "execution_count": null,
   "id": "e99a0998-cbfc-46ca-a068-5695437ebc5a",
   "metadata": {},
   "outputs": [],
   "source": [
    "#|export\n",
    "_re_callout = re.compile(r'^>\\s(Warning|Note|Important|Tip):(.*)', flags=re.MULTILINE)\n",
    "def _co(x): return \"\\n:::{.callout-\"+x[1].lower()+\"}\\n\\n\" + f\"{x[2].strip()}\\n\\n\" + \":::\\n\"\n",
    "def convert_callout(s): \n",
    "    \"Convert nbdev v1 to v2 callouts.\"\n",
    "    return _re_callout.sub(_co, s)"
   ]
  },
  {
   "cell_type": "markdown",
   "id": "3dfbe786-cb2a-48ec-bb03-57c1d99249ad",
   "metadata": {},
   "source": [
    "For example, the below markdown:"
   ]
  },
  {
   "cell_type": "code",
   "execution_count": null,
   "id": "84e8740c-b281-4c42-8c11-45dfaccdf4e4",
   "metadata": {},
   "outputs": [],
   "source": [
    "_callouts=\"\"\"\n",
    "## Boxes / Callouts\n",
    "\n",
    "> Warning: There will be no second warning!\n",
    "\n",
    "Other text\n",
    "\n",
    "> Important: Pay attention! It's important.\n",
    "\n",
    "> Tip: This is my tip.\n",
    "\n",
    "> Note: Take note of `this.`\n",
    "\"\"\""
   ]
  },
  {
   "cell_type": "markdown",
   "id": "ac093e47-ff12-44b9-bfa8-30da5bbfe696",
   "metadata": {},
   "source": [
    "Gets converted to:"
   ]
  },
  {
   "cell_type": "code",
   "execution_count": null,
   "id": "8797e53f-a741-410f-a1e3-0c09f84580c6",
   "metadata": {},
   "outputs": [],
   "source": [
    "#| echo:false\n",
    "_c = convert_callout(_callouts)\n",
    "assert '> Tip:' not in _c\n",
    "assert 'Other text' in _c\n",
    "print(_c)"
   ]
  },
  {
   "cell_type": "code",
   "execution_count": null,
   "id": "0cc423f8-eb17-42de-a28a-ba255556d24b",
   "metadata": {},
   "outputs": [],
   "source": [
    "#|export\n",
    "def _listify(s): return s.splitlines() if type(s) == str else s\n",
    "\n",
    "def _nb_repl_callouts(nb):\n",
    "    \"Replace nbdev v1 with v2 callouts.\"\n",
    "    for cell in nb['cells']:\n",
    "        if cell.get('source') and cell.get('cell_type') == 'markdown':\n",
    "            cell['source'] = ''.join([convert_callout(c) for c in _listify(cell['source'])])\n",
    "    return nb"
   ]
  },
  {
   "cell_type": "markdown",
   "id": "bdbb6379",
   "metadata": {},
   "source": [
    "## Convert Notebook Directives"
   ]
  },
  {
   "cell_type": "markdown",
   "id": "7ea931c9-e3a8-428e-8d41-61b0390254b8",
   "metadata": {},
   "source": [
    "nbdev v2 directives start with a `#|` whereas v1 directives were comments without a pipe `|`.  Furthermore, there are some directives with different names that need to be changed for v2."
   ]
  },
  {
   "cell_type": "code",
   "execution_count": null,
   "id": "1abf7dc6-4a01-4c44-bdc3-0147820091ca",
   "metadata": {},
   "outputs": [],
   "source": [
    "#|export\n",
    "_dirmap = merge({k:'code-fold: true' for k in ['collapse', 'collapse_input', 'collapse_hide']}, {'collapse_show':'code-fold: show'})\n",
    "def _subv1(s): return _dirmap.get(s, s)"
   ]
  },
  {
   "cell_type": "code",
   "execution_count": null,
   "id": "0dde9fe8-d3ad-47b8-bd87-85b9536e9f96",
   "metadata": {},
   "outputs": [],
   "source": [
    "#|export\n",
    "def _re_v1():\n",
    "    d = ['default_exp', 'export', 'exports', 'exporti', 'hide', 'hide_input', 'collapse_show', 'collapse',\n",
    "         'collapse_hide', 'collapse_input', 'hide_output',  'default_cls_lvl']\n",
    "    d += L(config_key('tst_flags', path=False)).filter()\n",
    "    d += [s.replace('_', '-') for s in d] # allow for hyphenated version of old directives\n",
    "    _tmp = '|'.join(list(set(d)))\n",
    "    return re.compile(f\"^[ \\f\\v\\t]*?(#)\\s*({_tmp})(?!\\S)\", re.MULTILINE)\n",
    "\n",
    "def _repl_directives(code_str): \n",
    "    def _fmt(x): return f\"#| {_subv1(x[2].replace('-', '_').strip())}\"\n",
    "    return _re_v1().sub(_fmt, code_str)"
   ]
  },
  {
   "cell_type": "markdown",
   "id": "c9fee5f4-6771-4c38-879e-4e1a0a47dd5f",
   "metadata": {},
   "source": [
    "for example, if any of the lines below are valid nbdev v1 directives, they replaced with a `#|`, and their names are aliased to new directive names where appropriate:"
   ]
  },
  {
   "cell_type": "code",
   "execution_count": null,
   "id": "610dcd47-b3cc-487a-905f-2796a6ebe4f8",
   "metadata": {},
   "outputs": [],
   "source": [
    "#|hide\n",
    "_test_dir = \"\"\"\n",
    "#default_exp\n",
    " #export\n",
    "# collapse-show\n",
    "#collapse-hide\n",
    "#collapse\n",
    "# collapse_output\n",
    "not_dir='#export'\n",
    "# hide_input\n",
    "foo\n",
    "\"\"\"\n",
    "test_eq(_repl_directives(_test_dir),\n",
    "\"\"\"\n",
    "#| default_exp\n",
    "#| export\n",
    "#| code-fold: show\n",
    "#| code-fold: true\n",
    "#| code-fold: true\n",
    "# collapse_output\n",
    "not_dir='#export'\n",
    "#| hide_input\n",
    "foo\n",
    "\"\"\")"
   ]
  },
  {
   "cell_type": "code",
   "execution_count": null,
   "id": "cddcad93-1e44-4cbe-8dbd-9538533d0f8e",
   "metadata": {},
   "outputs": [],
   "source": [
    "#|export\n",
    "\n",
    "def repl_v1dir(nb):\n",
    "    \"Replace nbdev v1 with v2 directives.\"\n",
    "    for cell in nb['cells']:\n",
    "        if cell.get('source') and cell.get('cell_type') == 'code':\n",
    "            ss = listify(cell['source'])\n",
    "            first_code = first_code_ln(ss, re_pattern=_re_v1())\n",
    "            if not first_code: first_code = len(ss)\n",
    "            if not ss: pass\n",
    "            else: cell['source'] = ''.join([_repl_directives(c) for c in ss[:first_code]] + ss[first_code:])\n",
    "    return nb"
   ]
  },
  {
   "cell_type": "code",
   "execution_count": null,
   "id": "81fae7e1-b145-4c18-a139-07a61637163a",
   "metadata": {},
   "outputs": [],
   "source": [
    "#|hide\n",
    "_code = _test_dir.splitlines(True)\n",
    "\n",
    "tst = {'cell_type': 'code', 'execution_count': 26,\n",
    "       'metadata': {'hide_input': True, 'meta': 23},\n",
    "       'outputs': [{'execution_count': 2,\n",
    "                    'data': {\n",
    "                        'application/vnd.google.colaboratory.intrinsic+json': {'type': 'string'},\n",
    "                        'plain/text': ['sample output',]\n",
    "                    }, 'output': 'super'}],\n",
    "       'source': _code}\n",
    "nb = {'metadata': {'kernelspec': 'some_spec', 'jekyll': 'some_meta', 'meta': 37}, 'cells': [tst]}"
   ]
  },
  {
   "cell_type": "markdown",
   "id": "f0cc290d-7742-4a57-ab18-3eb0aa31a77a",
   "metadata": {},
   "source": [
    "This is a cell with relevant values before we replace directives:"
   ]
  },
  {
   "cell_type": "code",
   "execution_count": null,
   "id": "651056eb-a8fd-49c2-a8af-613cc2e8a03c",
   "metadata": {},
   "outputs": [],
   "source": [
    "nb['cells'][0]['source']"
   ]
  },
  {
   "cell_type": "markdown",
   "id": "6c87ad3a-7ae5-4bb2-8904-72c3d8fd1421",
   "metadata": {},
   "source": [
    "And after:"
   ]
  },
  {
   "cell_type": "code",
   "execution_count": null,
   "id": "b81076db-a130-441a-96b2-0edb754a9182",
   "metadata": {},
   "outputs": [],
   "source": [
    "_nb = repl_v1dir(nb)['cells'][0]['source']\n",
    "test_eq(_nb.strip(),\n",
    "\"\"\"\n",
    "#| default_exp\n",
    "#| export\n",
    "#| code-fold: show\n",
    "#| code-fold: true\n",
    "#| code-fold: true\n",
    "# collapse_output\n",
    "not_dir='#export'\n",
    "# hide_input\n",
    "foo\n",
    "\"\"\".strip())"
   ]
  },
  {
   "cell_type": "markdown",
   "id": "120a9d51-bae9-4f22-8d6e-0711d12b08ab",
   "metadata": {},
   "source": [
    "### Migrate notebooks"
   ]
  },
  {
   "cell_type": "code",
   "execution_count": null,
   "id": "c8440f8b-f69e-44d2-8556-8869c1eedf0f",
   "metadata": {},
   "outputs": [],
   "source": [
    "#|export\n",
    "def migrate_nb(path, overwrite=False):\n",
    "    \"Migrate nbdev v1 and fastpages notebooks to nbdev v2.\"\n",
    "    nb = compose(nb_alias_fm, _nb_repl_callouts, repl_v1dir)(path)\n",
    "    if overwrite: write_nb(nb, path)\n",
    "    return nb"
   ]
  },
  {
   "cell_type": "markdown",
   "id": "daa09ef5-ae47-40a4-9838-09943b3a6b12",
   "metadata": {},
   "source": [
    "`migrate_nb` will do the following:\n",
    "    \n",
    "- Place aliases in raw front matter so that your old URLs can redirect to Quarto URLs\n",
    "- Convert directives from v1 to v2 \n",
    "- Convert callouts from v1 to v2\n",
    "\n",
    "Here is an example (also note how existing front matter that is already there, such as `execute: echo: false` is retained):"
   ]
  },
  {
   "cell_type": "code",
   "execution_count": null,
   "id": "a003953e-60d9-4374-98e6-451c2f03bbff",
   "metadata": {},
   "outputs": [],
   "source": [
    "_nb = migrate_nb('../tests/2022-08-10-migrate.ipynb')\n",
    "assert '\\n:::{.callout-note}\\n\\nthis is a note\\n\\n:::\\n' in _nb.text\n",
    "assert \"#| hide\\nprint('hello')\" in _nb.text\n",
    "assert '- /bar/foo/2022/08/10/migrate' in _nb.text[0]\n",
    "_nb.print_txt()"
   ]
  },
  {
   "cell_type": "markdown",
   "id": "91ebc9d7-07bc-4659-bef3-4f809e12daa4",
   "metadata": {},
   "source": [
    ":::{.callout-note}\n",
    "\n",
    "`migrate_nb` will not move markdown front matter to raw front matter.  `nbdev` will make a best effort to infer front matter from Markdown, however, it is recommended you use raw cells and front matter for customizing the display of your notebook per the [Quarto docs](https://quarto.org/docs/reference/formats/html.html).\n",
    "\n",
    ":::"
   ]
  },
  {
   "cell_type": "markdown",
   "id": "4b76a431-7490-4021-9677-0cc17ee4bab1",
   "metadata": {},
   "source": [
    "### Migrate Markdown Files"
   ]
  },
  {
   "cell_type": "code",
   "execution_count": null,
   "id": "4cb91f17-ea7d-49c7-888f-98e32a3dcd1e",
   "metadata": {},
   "outputs": [],
   "source": [
    "#|export\n",
    "_re_fm_md = re.compile(r'^---(.*\\S+.)?---', flags=re.DOTALL)\n",
    "\n",
    "def _md_fmdict(txt):\n",
    "    \"Get front matter as a dict from a markdown file.\"\n",
    "    m = _re_fm_md.match(txt)\n",
    "    return yml2dict(m.group(1)) if m else {}"
   ]
  },
  {
   "cell_type": "code",
   "execution_count": null,
   "id": "921a86d9-231a-475d-bf2c-e74746ec9b77",
   "metadata": {},
   "outputs": [],
   "source": [
    "#|hide\n",
    "_mdtxt = Path('../tests/2020-01-14-test-markdown-post.md').read_text()\n",
    "test_eq(_md_fmdict(_mdtxt), \n",
    "                {'toc': True,\n",
    "               'layout': 'post',\n",
    "               'description': 'A minimal example of using markdown with fastpages.',\n",
    "               'categories': ['markdown'],\n",
    "               'title': 'An Example Markdown Post'})"
   ]
  },
  {
   "cell_type": "code",
   "execution_count": null,
   "id": "d5d575f3-b3b8-487d-8740-b1ebdccf6b34",
   "metadata": {},
   "outputs": [],
   "source": [
    "#|export\n",
    "def migrate_md(path, overwrite=False):\n",
    "    \"Make fastpages front matter in markdown files quarto compliant.\"\n",
    "    p = Path(path)\n",
    "    md = p.read_text()\n",
    "    fm = _md_fmdict(md)\n",
    "    if fm:\n",
    "        fm = filter_fm(merge(_alias(fm, p), fm))\n",
    "        txt = _re_fm_md.sub(dict2fm(fm), md)\n",
    "        if overwrite: p.write_text(txt)\n",
    "        return txt\n",
    "    else: return md "
   ]
  },
  {
   "cell_type": "markdown",
   "id": "f2fc664a-7dcd-409c-8051-2a18ecda6228",
   "metadata": {},
   "source": [
    "Here is what the front matter of a markdown post looks like before:"
   ]
  },
  {
   "cell_type": "code",
   "execution_count": null,
   "id": "cbebe788-63cd-4b67-bbc3-80b2eabf712d",
   "metadata": {},
   "outputs": [],
   "source": [
    "#|eval: false\n",
    "print(run('head -n13 ../tests/2020-01-14-test-markdown-post.md'))"
   ]
  },
  {
   "cell_type": "markdown",
   "id": "5da2e267-485a-453a-b3bd-3eae01327187",
   "metadata": {},
   "source": [
    "And this is what the front matter looks like after:"
   ]
  },
  {
   "cell_type": "code",
   "execution_count": null,
   "id": "aaf970ea-602a-4ea9-ab88-2a3f3f35705f",
   "metadata": {},
   "outputs": [],
   "source": [
    "#|hide\n",
    "_res = migrate_md('../tests/2020-01-14-test-markdown-post.md')\n",
    "assert \"\"\"---\n",
    "aliases:\n",
    "- /markdown/2020/01/14/test-markdown-post\n",
    "categories:\n",
    "- markdown\n",
    "description: A minimal example of using markdown with fastpages.\n",
    "title: An Example Markdown Post\n",
    "toc: true\n",
    "\n",
    "---\"\"\" in _res"
   ]
  },
  {
   "cell_type": "code",
   "execution_count": null,
   "id": "ee72fa10-41bb-4c82-99b7-fdc311a752bb",
   "metadata": {},
   "outputs": [],
   "source": [
    "print(_res[:310])"
   ]
  },
  {
   "cell_type": "code",
   "execution_count": null,
   "id": "3eb0cd02-e1ee-4910-be82-570434b974b5",
   "metadata": {},
   "outputs": [],
   "source": [
    "#|export\n",
    "@call_parse\n",
    "def nbdev_migrate(\n",
    "    path:str = '.', # A path to search\n",
    "    file_glob:str = '*.ipynb', # A file glob\n",
    "    no_skip:bool=False, # Do not skip directories beginning with an underscore\n",
    "):\n",
    "    \"Convert all directives and callouts in `fname` from v1 to v2\"\n",
    "    _skip_re = None if no_skip else '^[_.]'\n",
    "    if path is None: path = config_key(\"nbs_path\")\n",
    "    if Path(path).is_file(): file_glob=None\n",
    "    for f in globtastic(path, file_glob=file_glob, skip_folder_re=_skip_re): \n",
    "        if f.suffix == '.ipynb': migrate_nb(f, overwrite=True)\n",
    "        if f.suffix == '.md': migrate_md(f, overwrite=True)"
   ]
  },
  {
   "cell_type": "code",
   "execution_count": null,
   "id": "31b841da-0f92-48d3-8fda-fe802ad2abc6",
   "metadata": {},
   "outputs": [],
   "source": [
    "#|hide\n",
    "def _nb2str(p): return '\\n'.join(NB(p).text)\n",
    "try:\n",
    "    _orig =  Path('../tests/2020-02-20-test.ipynb') # nbdev v1 notebook\n",
    "    _tmp =  Path('../tests/2020-02-20-test-COPY.ipynb') # A copy of this nb that will be migrated\n",
    "    shutil.copy(_orig, _tmp)\n",
    "    nbdev_migrate(_tmp)\n",
    "\n",
    "    assert ':::{.callout-warning}' not in _nb2str(_orig) and ':::{.callout-warning}' in _nb2str(_tmp)\n",
    "    assert '#| code-fold: true' not in _nb2str(_orig) and '#| code-fold: true' in _nb2str(_tmp)\n",
    "    assert '#| single-value' not in _nb2str(_tmp)\n",
    "\n",
    "finally:\n",
    "    if _tmp.exists(): _tmp.unlink() # missing_ok not in python 3.7"
   ]
  },
  {
   "cell_type": "code",
   "execution_count": null,
   "id": "23b80446-ec40-449a-88c1-2dcd10fefbbf",
   "metadata": {},
   "outputs": [],
   "source": [
    "#|hide\n",
    "try:\n",
    "    _orig =  Path('../tests/2020-01-14-test-markdown-post.md') \n",
    "    _tmp =  Path('../tests/2020-01-14-test-markdown-post-COPY.md')\n",
    "    shutil.copy(_orig, _tmp)\n",
    "    nbdev_migrate(_tmp)\n",
    "    \n",
    "    assert 'aliases:' in _tmp.read_text() and 'aliases:' not in _orig.read_text()\n",
    "finally:\n",
    "    if _tmp.exists(): _tmp.unlink() # missing_ok not in python 3.7"
   ]
  },
  {
   "cell_type": "markdown",
   "id": "a67431f9-52b1-45f8-9d9c-f5a6cb2aebb5",
   "metadata": {},
   "source": [
    "## Export -"
   ]
  },
  {
   "cell_type": "code",
   "execution_count": null,
   "id": "2945bb49-33e8-4066-8ef4-db3573a1f9ab",
   "metadata": {},
   "outputs": [],
   "source": [
    "#|hide\n",
    "import nbdev; nbdev.nbdev_export()"
   ]
  },
  {
   "cell_type": "code",
   "execution_count": null,
   "id": "8d81d5c9-3710-4c80-878e-a7ac0e36f3eb",
   "metadata": {},
   "outputs": [],
   "source": []
  }
 ],
 "metadata": {
  "kernelspec": {
   "display_name": "Python 3 (ipykernel)",
   "language": "python",
   "name": "python3"
  }
 },
 "nbformat": 4,
 "nbformat_minor": 5
}
