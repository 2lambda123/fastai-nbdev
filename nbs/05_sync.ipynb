{
 "cells": [
  {
   "cell_type": "code",
   "execution_count": null,
   "metadata": {},
   "outputs": [],
   "source": [
    "#|default_exp sync"
   ]
  },
  {
   "cell_type": "markdown",
   "metadata": {},
   "source": [
    "# sync\n",
    "\n",
    "> Propagating small changes in the library back to notebooks"
   ]
  },
  {
   "cell_type": "markdown",
   "metadata": {},
   "source": [
    "The library is primarily developed in notebooks so any big changes should be made there. But sometimes, it's easier to fix small bugs or typos in the modules directly. `nbprocess_update_lib` is the function that will propagate those changes back to the corresponding notebooks. Note that you can't create new cells or reorder cells with that functionality, so your corrections should remain limited."
   ]
  },
  {
   "cell_type": "code",
   "execution_count": null,
   "metadata": {},
   "outputs": [],
   "source": [
    "#|export\n",
    "from nbprocess.imports import *\n",
    "from nbprocess.read import *\n",
    "from nbprocess.maker import *\n",
    "from nbprocess.process import *\n",
    "from nbprocess.export import *\n",
    "\n",
    "from execnb.nbio import *\n",
    "from fastcore.script import *\n",
    "from fastcore.xtras import *\n",
    "\n",
    "import ast,tempfile,json"
   ]
  },
  {
   "cell_type": "code",
   "execution_count": null,
   "metadata": {},
   "outputs": [],
   "source": [
    "#|hide\n",
    "from pdb import set_trace"
   ]
  },
  {
   "cell_type": "code",
   "execution_count": null,
   "metadata": {},
   "outputs": [],
   "source": [
    "#|export\n",
    "def absolute_import(name, fname, level):\n",
    "    \"Unwarps a relative import in `name` according to `fname`\"\n",
    "    if not level: return name\n",
    "    mods = fname.split(os.path.sep)\n",
    "    if not name: return '.'.join(mods)\n",
    "    return '.'.join(mods[:len(mods)-level+1]) + f\".{name}\""
   ]
  },
  {
   "cell_type": "code",
   "execution_count": null,
   "metadata": {},
   "outputs": [],
   "source": [
    "test_eq(absolute_import('xyz', 'nbprocess', 0), 'xyz')\n",
    "test_eq(absolute_import('', 'nbprocess', 1), 'nbprocess')\n",
    "test_eq(absolute_import('core', 'nbprocess', 1), 'nbprocess.core')\n",
    "test_eq(absolute_import('core', 'nbprocess/vision', 2), 'nbprocess.core')\n",
    "test_eq(absolute_import('transform', 'nbprocess/vision', 1), 'nbprocess.vision.transform')\n",
    "test_eq(absolute_import('notebook.core', 'nbprocess/data', 2), 'nbprocess.notebook.core')"
   ]
  },
  {
   "cell_type": "code",
   "execution_count": null,
   "metadata": {},
   "outputs": [],
   "source": [
    "#|export\n",
    "_re_import = re.compile(\"from\\s+\\S+\\s+import\\s+\\S\")"
   ]
  },
  {
   "cell_type": "code",
   "execution_count": null,
   "metadata": {},
   "outputs": [],
   "source": [
    "#|hide\n",
    "assert _re_import.match('from foo import bar')\n",
    "assert not _re_import.match('#from foo import bar')"
   ]
  },
  {
   "cell_type": "code",
   "execution_count": null,
   "metadata": {},
   "outputs": [],
   "source": [
    "#|export\n",
    "def _to_absolute(code, lib_name):\n",
    "    if not _re_import.search(code): return code\n",
    "    res = update_import(code, ast.parse(code).body, lib_name, absolute_import)\n",
    "    return ''.join(res) if res else code\n",
    "\n",
    "def _update_lib(nbname, nb_locs, lib_name=None):\n",
    "    if lib_name is None: lib_name = get_config().lib_name\n",
    "    nbp = NBProcessor(nbname, ExportModuleProc(), rm_directives=False)\n",
    "    nb = nbp.nb\n",
    "    nbp.process()\n",
    "\n",
    "    for name,idx,code in nb_locs:\n",
    "        assert name==nbname\n",
    "        cell = nb.cells[int(idx)-1]\n",
    "        lines = cell.source.splitlines(True)\n",
    "        directives = ''.join(cell.source.splitlines(True)[:len(cell.directives_)])\n",
    "        cell.source = directives + _to_absolute(code, lib_name)\n",
    "    write_nb(nb, nbname)\n",
    "\n",
    "def _get_call(s):\n",
    "    top,*rest = s.splitlines()\n",
    "    return *top.split(),'\\n'.join(rest)"
   ]
  },
  {
   "cell_type": "code",
   "execution_count": null,
   "metadata": {},
   "outputs": [],
   "source": [
    "#|export\n",
    "@call_parse\n",
    "def nbprocess_update(fname:str): # A python file name to convert\n",
    "    \"Propagates any change in the modules matching `fname` to the notebooks that created them\"\n",
    "    if os.environ.get('IN_TEST',0): return\n",
    "    code_cells = Path(fname).read_text().split(\"\\n# %% \")[1:]\n",
    "    locs = L(_get_call(s) for s in code_cells if not s.startswith('auto '))\n",
    "    for nbname,nb_locs in groupby(locs, 0).items(): _update_lib(nbname, nb_locs)"
   ]
  },
  {
   "cell_type": "code",
   "execution_count": null,
   "metadata": {},
   "outputs": [],
   "source": [
    "#|hide\n",
    "# nbprocess_update(\"../nbprocess/sync.py\")"
   ]
  },
  {
   "cell_type": "markdown",
   "metadata": {},
   "source": [
    "## Export -"
   ]
  },
  {
   "cell_type": "code",
   "execution_count": null,
   "metadata": {},
   "outputs": [],
   "source": [
    "#|hide\n",
    "#|eval: false\n",
    "from nbprocess.doclinks import nbprocess_export\n",
    "nbprocess_export()"
   ]
  },
  {
   "cell_type": "code",
   "execution_count": null,
   "metadata": {},
   "outputs": [],
   "source": []
  }
 ],
 "metadata": {
  "kernelspec": {
   "display_name": "Python 3 (ipykernel)",
   "language": "python",
   "name": "python3"
  }
 },
 "nbformat": 4,
 "nbformat_minor": 4
}
