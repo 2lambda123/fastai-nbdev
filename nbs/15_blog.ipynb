{
 "cells": [
  {
   "cell_type": "code",
   "execution_count": null,
   "id": "c497928c-8111-473e-aeae-38975d78f707",
   "metadata": {},
   "outputs": [],
   "source": [
    "#|default_exp blog"
   ]
  },
  {
   "cell_type": "markdown",
   "id": "e9c38f72-896e-45ed-8809-731bfa7b2178",
   "metadata": {},
   "source": [
    "# Blogging with nbprocess\n",
    "> Utilities for blogging with nbprocess including migrating a blog from fastpages"
   ]
  },
  {
   "cell_type": "code",
   "execution_count": null,
   "id": "5b687fa0-dc50-48df-8bfc-e98df34e7572",
   "metadata": {},
   "outputs": [],
   "source": [
    "#|export\n",
    "from nbprocess.processors import md_fmdict, construct_fm, insert_frontmatter, is_frontmatter\n",
    "from nbprocess.read import read_nb\n",
    "from nbprocess.sync import write_nb\n",
    "from fastcore.all import *\n",
    "from json import loads"
   ]
  },
  {
   "cell_type": "code",
   "execution_count": null,
   "id": "a7edd980-b987-4f45-8c58-65ed5f145575",
   "metadata": {},
   "outputs": [],
   "source": [
    "#|export\n",
    "def _get_fm(path): return md_fmdict(read_nb(path), remove=False)\n",
    "def _get_raw_fm(nb): \n",
    "    return first(nb.cells.filter(lambda x: x.cell_type == 'raw')).source"
   ]
  },
  {
   "cell_type": "code",
   "execution_count": null,
   "id": "52f60fb5-bc54-474a-876c-9146dd092681",
   "metadata": {},
   "outputs": [],
   "source": [
    "#|export\n",
    "def cat_slug(fmdict):\n",
    "    \"Get the partial slug from the category front matter.\"\n",
    "    cats = [c for c in fmdict.get('categories', '').strip().strip('][').split(', ') if c]\n",
    "    return '/' + '/'.join(sorted(cats)) if cats else ''"
   ]
  },
  {
   "cell_type": "code",
   "execution_count": null,
   "id": "d449b10d-60de-417e-bfab-97af1f3b4b7b",
   "metadata": {},
   "outputs": [],
   "source": [
    "_fm1 = _get_fm('../tests/2020-09-01-fastcore.ipynb')\n",
    "test_eq(cat_slug(_fm1), '/fastai/fastcore')"
   ]
  },
  {
   "cell_type": "code",
   "execution_count": null,
   "id": "72d63826-1ed7-4064-a3bb-3dd9b7d086d5",
   "metadata": {},
   "outputs": [],
   "source": [
    "_fm2 = _get_fm('../tests/2020-02-20-test.ipynb')\n",
    "test_eq(cat_slug(_fm2), '/jupyter')"
   ]
  },
  {
   "cell_type": "code",
   "execution_count": null,
   "id": "9fac0338-a503-4680-984f-60153843d5ef",
   "metadata": {},
   "outputs": [],
   "source": [
    "#|export\n",
    "def file_slug(fname): \n",
    "    \"Get the partial slug from the filename.\"\n",
    "    p = Path(fname)\n",
    "    dt = '/'+p.name[:10].replace('-', '/')+'/'\n",
    "    return dt + p.stem[11:]    "
   ]
  },
  {
   "cell_type": "code",
   "execution_count": null,
   "id": "65d5859a-571a-4ad7-8c50-57765b4603a8",
   "metadata": {},
   "outputs": [],
   "source": [
    "test_eq(file_slug('../tests/2020-09-01-fastcore.ipynb'), \n",
    "        '/2020/09/01/fastcore')"
   ]
  },
  {
   "cell_type": "code",
   "execution_count": null,
   "id": "c8440f8b-f69e-44d2-8556-8869c1eedf0f",
   "metadata": {},
   "outputs": [],
   "source": [
    "#|export\n",
    "def migrate_nb_fm(path, overwrite=True):\n",
    "    \"Migrate fastpages front matter in notebooks to a raw cell for nbdev.\"\n",
    "    nb = read_nb(path)\n",
    "    if is_frontmatter(nb): return None\n",
    "    fm = md_fmdict(nb)\n",
    "    if 'permalink' in fm: fm['aliases'] = '[' + fm.pop('permalink').strip() + ']'\n",
    "    else: fm['aliases'] = '[' + cat_slug(fm) + file_slug(path) + ']'\n",
    "    insert_frontmatter(nb, fm_dict=fm)\n",
    "    if overwrite: write_nb(nb, path)\n",
    "    return nb"
   ]
  },
  {
   "cell_type": "code",
   "execution_count": null,
   "id": "a003953e-60d9-4374-98e6-451c2f03bbff",
   "metadata": {},
   "outputs": [
    {
     "name": "stdout",
     "output_type": "stream",
     "text": [
      "---\n",
      "title: \"fastcore: An Underrated Python Library\"\n",
      "description: A unique python library that extends the python programming language and provides utilities that enhance productivity.\n",
      "author:  \"<a href='https://twitter.com/HamelHusain'>Hamel Husain</a>\"\n",
      "image:  images/copied_from_nb/fastcore_imgs/td.png\n",
      "categories:  [fastcore, fastai]\n",
      "aliases: [/fastcore/]\n",
      "---\n"
     ]
    }
   ],
   "source": [
    "_nb = migrate_nb_fm('../tests/2020-09-01-fastcore.ipynb', overwrite=False)\n",
    "print(_get_raw_fm(_nb))"
   ]
  },
  {
   "cell_type": "code",
   "execution_count": null,
   "id": "2010dbfc-be80-428c-a9cf-dd8fc80ac972",
   "metadata": {},
   "outputs": [
    {
     "name": "stdout",
     "output_type": "stream",
     "text": [
      "---\n",
      "title: Fastpages Notebook Blog Post\n",
      "description: A tutorial of fastpages for Jupyter notebooks.\n",
      "image:  images/chart-preview.png\n",
      "categories:  [jupyter]\n",
      "aliases: [/jupyter/2020/02/20/test]\n",
      "---\n"
     ]
    }
   ],
   "source": [
    "_nb = migrate_nb_fm('../tests/2020-02-20-test.ipynb', overwrite=False)\n",
    "print(_get_raw_fm(_nb))"
   ]
  }
 ],
 "metadata": {
  "kernelspec": {
   "display_name": "Python 3 (ipykernel)",
   "language": "python",
   "name": "python3"
  }
 },
 "nbformat": 4,
 "nbformat_minor": 5
}
