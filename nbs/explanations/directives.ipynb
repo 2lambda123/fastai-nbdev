{
 "cells": [
  {
   "cell_type": "code",
   "execution_count": null,
   "metadata": {},
   "outputs": [],
   "source": [
    "#|hide\n",
    "from fastcore.test import *\n",
    "from nbdev.showdoc import show_doc"
   ]
  },
  {
   "cell_type": "markdown",
   "metadata": {},
   "source": [
    "# Directives\n",
    "\n",
    "> A cheat sheet of directives available in nbdev."
   ]
  },
  {
   "cell_type": "markdown",
   "metadata": {},
   "source": [
    "Directives are special comments that are preceeded by `#|` that control:\n",
    "\n",
    "1. Cell visibility in rendered documentation\n",
    "2. Execution of cells for tests and docs\n",
    "3. How source code is generated from notebook cells\n",
    "\n",
    "Quarto contains many directives for categories 1 and 2.  nbdev augments Quarto by adding more directives for all three categories.  All Quarto directives can be used in nbdev notebooks.  \n",
    "\n",
    "This cheat sheet lists all nbdev directives in addition to some Quarto directives we believe are important.  We recommend consulting the [quarto docs](https://quarto.org/docs/reference/cells/cells-jupyter.html) to see all of the directives available to you.\n",
    "\n",
    "To clarify the origin of directives we use the following emojis:\n",
    "- 📔 for nbdev-only directives \n",
    "- ❤️ for Quarto directives (which also work in nbdev)"
   ]
  },
  {
   "cell_type": "markdown",
   "metadata": {},
   "source": [
    "## Cell Visibility\n",
    "\n",
    "The following directives control cell visibility in rendered documentation:"
   ]
  },
  {
   "cell_type": "markdown",
   "metadata": {},
   "source": [
    "### 📔 `#|hide`"
   ]
  },
  {
   "cell_type": "markdown",
   "metadata": {},
   "source": [
    "When you use this directive, you will not see the cell input or output. \n",
    "\n",
    "<details>\n",
    "  <summary>See Example</summary>\n",
    "\n",
    "For example, the following input will result in the contents of the cell and it's output from being hidden:\n",
    "\n",
    "```python\n",
    "#|hide\n",
    "print('you will not see this')\n",
    "```\n",
    "\n",
    "Note that using `#|hide` is equivalent to using the following two directives together in a cell:\n",
    "\n",
    "```python\n",
    "#| echo: false\n",
    "#| output: false\n",
    "print('you will not see this')\n",
    "```\n",
    "\n",
    "The `#| echo` and `#| output` directives are discussed in a later section.\n",
    "    \n",
    "</details>"
   ]
  },
  {
   "cell_type": "markdown",
   "metadata": {},
   "source": [
    "### ❤️ `#|echo: <true|false>`\n",
    "\n",
    "Toggle the visibility of code-cell inputs.\n",
    "\n",
    "<details>\n",
    "  <summary>See Example</summary>\n",
    "\n",
    "```python\n",
    "#|echo: false\n",
    "print('you can see the output but not the code!')\n",
    "```\n",
    "\n",
    "    \n",
    "which results in:\n",
    "    \n",
    "    \n",
    "```\n",
    "you can see the output but not the code!\n",
    "```\n",
    "    \n",
    "</details>"
   ]
  },
  {
   "cell_type": "markdown",
   "metadata": {},
   "source": [
    "### ❤️ `#|output: <true|false|asis>`\n",
    "\n",
    "Setting this to `false` hides the output of a cell. Setting this to `asis` renders the output as raw markdown. See the [Quarto docs](https://quarto.org/docs/reference/cells/cells-jupyter.html#cell-output) for more information.\n",
    "\n",
    "<details>\n",
    "  <summary>See Example of <code>#|output: false</code></summary>\n",
    "  \n",
    "The following cell will not display any output:\n",
    "\n",
    "```python\n",
    "#|output: false\n",
    "1 + 1\n",
    "```\n",
    "</details>\n",
    "<details>\n",
    "  <summary>See Example of <code>#|output: asis</code></summary>\n",
    "    \n",
    "The following cell with `#|output: asis` will produce the output `hello fastai` rendered as markdown instead of a string:  \n",
    "    \n",
    "```python    \n",
    "#|output: asis\n",
    "print(\"`hello fastai`\")\n",
    "```         \n",
    "</details>"
   ]
  },
  {
   "cell_type": "markdown",
   "metadata": {},
   "source": [
    "### 📔 `#|hide_line`\n",
    "\n",
    "You can use this to hide as specific line in your code.  \n",
    "\n",
    "<details>\n",
    "  <summary>See Example</summary>\n",
    "\n",
    "For example:\n",
    "\n",
    "```python\n",
    "def _secret(): ...\n",
    "\n",
    "for i in range(3):\n",
    "    _secret() #|hide_line\n",
    "    print(i)\n",
    "```\n",
    "\n",
    "becomes this:"
   ]
  },
  {
   "cell_type": "code",
   "execution_count": null,
   "metadata": {},
   "outputs": [
    {
     "name": "stdout",
     "output_type": "stream",
     "text": [
      "0\n",
      "1\n",
      "2\n"
     ]
    }
   ],
   "source": [
    "def _secret(): ...\n",
    "\n",
    "for i in range(3):\n",
    "    _secret() #|hide_line\n",
    "    print(i)"
   ]
  },
  {
   "cell_type": "markdown",
   "metadata": {},
   "source": [
    "</details>"
   ]
  },
  {
   "cell_type": "markdown",
   "metadata": {},
   "source": [
    "### 📔 `#|filter_stream <keyword> ...`\n",
    "\n",
    "This allows you to filter lines containing specific keywords in cell outputs.  For example\n",
    "\n",
    "\n",
    "```python\n",
    "#|filter_stream FutureWarning MultiIndex\n",
    "print('\\n'.join(['A line', 'Foobar baz FutureWarning blah', \n",
    "                 'zig zagMultiIndex zoom', 'Another line.']))\n",
    "```\n",
    "\n",
    "will output this:"
   ]
  },
  {
   "cell_type": "code",
   "execution_count": null,
   "metadata": {},
   "outputs": [
    {
     "name": "stdout",
     "output_type": "stream",
     "text": [
      "A line\n",
      "Foobar baz FutureWarning blah\n",
      "zig zagMultiIndex zoom\n",
      "Another line.\n"
     ]
    }
   ],
   "source": [
    "#|echo: false\n",
    "#|filter_stream FutureWarning MultiIndex\n",
    "print('\\n'.join(['A line', 'Foobar baz FutureWarning blah', \n",
    "                 'zig zagMultiIndex zoom', 'Another line.']))"
   ]
  },
  {
   "cell_type": "markdown",
   "metadata": {},
   "source": [
    "### ❤️ `#|code-fold: <show|true>`"
   ]
  },
  {
   "cell_type": "markdown",
   "metadata": {},
   "source": [
    "The `#|code-fold` directive allows you to collapse code (note: must use  `code-fold` and not `code_fold`):\n",
    "\n",
    "```python\n",
    "#|code-fold: true\n",
    "def foo():\n",
    "    print(\"this\")\n",
    "    print(\"is\")\n",
    "    print(\"a\")\n",
    "    print(\"long\")\n",
    "    print(\"body\")\n",
    "```\n",
    "\n",
    "which results in (click to expand):"
   ]
  },
  {
   "cell_type": "code",
   "execution_count": null,
   "metadata": {},
   "outputs": [],
   "source": [
    "#|code-fold: true\n",
    "def foo():\n",
    "    print(\"this\")\n",
    "    print(\"is\")\n",
    "    print(\"a\")\n",
    "    print(\"long\")\n",
    "    print(\"body\")"
   ]
  },
  {
   "cell_type": "markdown",
   "metadata": {},
   "source": [
    "With `true` it is collapsed by default, with `show` it is shown by default and still collapsible. The directive also works with `#|exports` but not with `#|export`:\n",
    "\n",
    "```python\n",
    "#|exports\n",
    "#|code-fold: true\n",
    "def foo():\n",
    "    print(\"this\")\n",
    "    print(\"is\")\n",
    "    print(\"a\")\n",
    "    print(\"long\")\n",
    "    print(\"body\")\n",
    "```\n",
    "\n",
    "which results in (click to expand):"
   ]
  },
  {
   "cell_type": "code",
   "execution_count": null,
   "metadata": {},
   "outputs": [],
   "source": [
    "#|echo: true\n",
    "#|code-fold: true\n",
    "def foo():\n",
    "    print(\"this\")\n",
    "    print(\"is\")\n",
    "    print(\"a\")\n",
    "    print(\"long\")\n",
    "    print(\"body\")"
   ]
  },
  {
   "cell_type": "markdown",
   "metadata": {},
   "source": [
    "## Generating Source Code"
   ]
  },
  {
   "cell_type": "markdown",
   "metadata": {},
   "source": [
    "### 📔 `#|default_exp <name>`"
   ]
  },
  {
   "cell_type": "markdown",
   "metadata": {},
   "source": [
    "Required for every notebook. This directive names the module where things will be exported. For example:\n",
    "\n",
    "```python\n",
    "#| default_exp baz\n",
    "\n",
    "# In a new notebook cell:\n",
    "\n",
    "#| export\n",
    "def my_function(): pass\n",
    "```\n",
    "\n",
    "If our package is named: `bitsnbytes` then we can do:\n",
    "\n",
    "```python\n",
    "from bitsnbytes.baz import my_function\n",
    "```\n",
    "\n",
    "You can define the package name by using `lib_name` in `settings.ini`."
   ]
  },
  {
   "cell_type": "markdown",
   "metadata": {},
   "source": [
    "### 📔 `#|export`"
   ]
  },
  {
   "cell_type": "markdown",
   "metadata": {},
   "source": [
    "Exports the items in the cell into the generated module and documentation. For example:\n",
    "\n",
    "```python\n",
    "#|export\n",
    "def say_hello(to):\n",
    "    \"Say hello to somebody\"\n",
    "    return f'Hello {to}!'\n",
    "```\n",
    "\n",
    "The documentation will look like this:"
   ]
  },
  {
   "cell_type": "code",
   "execution_count": null,
   "metadata": {},
   "outputs": [],
   "source": [
    "#|exec_doc\n",
    "#|echo: false\n",
    "def say_hello(to):\n",
    "    \"Say hello to somebody\"\n",
    "    return f'Hello {to}!'"
   ]
  },
  {
   "cell_type": "code",
   "execution_count": null,
   "metadata": {},
   "outputs": [
    {
     "data": {
      "text/markdown": [
       "---\n",
       "\n",
       "### say_hello\n",
       "\n",
       ">      say_hello (to)\n",
       "\n",
       "Say hello to somebody"
      ],
      "text/plain": [
       "---\n",
       "\n",
       "### say_hello\n",
       "\n",
       ">      say_hello (to)\n",
       "\n",
       "Say hello to somebody"
      ]
     },
     "execution_count": null,
     "metadata": {},
     "output_type": "execute_result"
    }
   ],
   "source": [
    "#|echo: false\n",
    "# Note: we are using show_doc like this to simulate the effect of #|export without using export\n",
    "show_doc(say_hello)"
   ]
  },
  {
   "cell_type": "markdown",
   "metadata": {},
   "source": [
    "The docs are generated from this export using `showdoc.show_doc`. For a detailed discussion of `showdoc.show_doc` see [here](https://nbdev.fast.ai/explanations/showdoc.html). The exports are automatically included in `__all__` for the module."
   ]
  },
  {
   "cell_type": "markdown",
   "metadata": {},
   "source": [
    "### 📔 `#|export <some.thing>`"
   ]
  },
  {
   "cell_type": "markdown",
   "metadata": {},
   "source": [
    "Similar to `#|export` above. Instead of exporting to the module named by `#|default_exp` export to the specified module.\n",
    "\n",
    "If our package is named: `bitsnbytes`, and we have previously included: `#|default_exp core` in this notebook, and we have an existing notebook with `#|default_exp bar`, then:\n",
    "\n",
    "```python\n",
    "# Earlier in the notebook:\n",
    "\n",
    "#|default_exp core\n",
    "\n",
    "# A new notebook cell:\n",
    "\n",
    "#|export bar\n",
    "def foo(): pass\n",
    "```\n",
    "\n",
    "then we can import this as:\n",
    "```python\n",
    "from bitsnbytes.bar import foo\n",
    "```"
   ]
  },
  {
   "cell_type": "markdown",
   "metadata": {},
   "source": [
    "### 📔 `#|exporti`"
   ]
  },
  {
   "cell_type": "markdown",
   "metadata": {},
   "source": [
    "An `i`nternal export. Not included in `__all__` or the docs. Useful for a function that is called by other functions in this module but is not part of the public API.\n",
    "\n",
    "Equivalently you can prefix your function or method with `_` e.g. `def _private(): pass`."
   ]
  },
  {
   "cell_type": "markdown",
   "metadata": {},
   "source": [
    "### 📔 `#|exports`"
   ]
  },
  {
   "cell_type": "markdown",
   "metadata": {},
   "source": [
    "A `s`ource export. Like `#|export` but in addition to showing docs via `showdoc.show_doc`, it also shows the source code. Given the following code:\n",
    "\n",
    "```python\n",
    "#|exports\n",
    "def say_hello(to):\n",
    "    \"Say hello to somebody\"\n",
    "    return f'Hello {to}!'\n",
    "```\n",
    "\n",
    "this will produce the following output:"
   ]
  },
  {
   "cell_type": "code",
   "execution_count": null,
   "metadata": {},
   "outputs": [],
   "source": [
    "#|exec_doc\n",
    "#|echo: true\n",
    "def say_hello(to):\n",
    "    \"Say hello to somebody\"\n",
    "    return f'Hello {to}!'"
   ]
  },
  {
   "cell_type": "code",
   "execution_count": null,
   "metadata": {},
   "outputs": [
    {
     "data": {
      "text/markdown": [
       "---\n",
       "\n",
       "### say_hello\n",
       "\n",
       ">      say_hello (to)\n",
       "\n",
       "Say hello to somebody"
      ],
      "text/plain": [
       "---\n",
       "\n",
       "### say_hello\n",
       "\n",
       ">      say_hello (to)\n",
       "\n",
       "Say hello to somebody"
      ]
     },
     "execution_count": null,
     "metadata": {},
     "output_type": "execute_result"
    }
   ],
   "source": [
    "#|echo: false\n",
    "show_doc(say_hello)"
   ]
  },
  {
   "cell_type": "markdown",
   "metadata": {},
   "source": [
    "## Cell Execution"
   ]
  },
  {
   "cell_type": "markdown",
   "metadata": {},
   "source": [
    "### 📔 `#|exec_doc`"
   ]
  },
  {
   "cell_type": "code",
   "execution_count": null,
   "metadata": {},
   "outputs": [],
   "source": [
    "#|hide\n",
    "import datetime"
   ]
  },
  {
   "cell_type": "markdown",
   "metadata": {},
   "source": [
    "Ensures that a cell is executed each time before generating docs. When a cell does not have this annotation, it is run according to the default rules [described here](https://nbdev.fast.ai/explanations/showdoc.html). "
   ]
  },
  {
   "cell_type": "code",
   "execution_count": null,
   "metadata": {},
   "outputs": [
    {
     "data": {
      "text/plain": [
       "datetime.datetime(2022, 8, 17, 23, 21, 42, 175324)"
      ]
     },
     "execution_count": null,
     "metadata": {},
     "output_type": "execute_result"
    }
   ],
   "source": [
    "datetime.datetime.now()"
   ]
  },
  {
   "cell_type": "markdown",
   "metadata": {},
   "source": [
    "However with the annotation:\n",
    "```python\n",
    "#|exec_doc\n",
    "datetime.datetime.now()\n",
    "```\n",
    "\n",
    "we can see that the time has been updated:"
   ]
  },
  {
   "cell_type": "code",
   "execution_count": null,
   "metadata": {},
   "outputs": [
    {
     "data": {
      "text/plain": [
       "datetime.datetime(2022, 8, 17, 23, 21, 42, 572294)"
      ]
     },
     "execution_count": null,
     "metadata": {},
     "output_type": "execute_result"
    }
   ],
   "source": [
    "#|exec_doc\n",
    "datetime.datetime.now()"
   ]
  },
  {
   "cell_type": "markdown",
   "metadata": {},
   "source": [
    "### 📔 `#|notest`"
   ]
  },
  {
   "cell_type": "code",
   "execution_count": null,
   "metadata": {},
   "outputs": [],
   "source": [
    "#|notest\n",
    "assert 1 == 2"
   ]
  },
  {
   "cell_type": "markdown",
   "metadata": {},
   "source": [
    "Do not run this cell during testing. This is the default test flag that [comes with nbdev](https://github.com/fastai/nbdev/blob/cdd1187d9d4d130197259143ad00bdeb9c4266d4/settings.ini#L51).\n",
    "\n",
    "It is possible to specify additional values. For example see [fastai](https://github.com/fastai/fastai/blob/c5b9aa050e1ed382b40a7f772a07d74453fdcacb/settings.ini#L27). This allows you to toggle certain tests on and off by running `nbdev_test --flags`."
   ]
  },
  {
   "cell_type": "markdown",
   "metadata": {},
   "source": [
    "### ❤️ `#|eval: <true|false>`"
   ]
  },
  {
   "cell_type": "markdown",
   "metadata": {},
   "source": [
    "This quarto directive is respected by `nbdev`.  When set to `false`, this cell is ignored during testing.  The `#|notest` directive gives you more fine-grained control over testing.\n",
    "\n",
    "Example:\n",
    "\n",
    "```python\n",
    "#|eval: false\n",
    "raise Exception(\"I'm not raised because I'm not run\")\n",
    "```"
   ]
  },
  {
   "cell_type": "markdown",
   "metadata": {},
   "source": [
    "### 📔 `no directive`"
   ]
  },
  {
   "cell_type": "markdown",
   "metadata": {},
   "source": [
    "\n",
    "For completeness sake, when a cell has no directive applied to it e.g. the cell does not include any line that starts with `#|`, then the cell:\n",
    "\n",
    "* is show in the docs as-is,\n",
    "* manually added `showdoc.show_doc` cells are run automatically,\n",
    "* executes in tests,\n",
    "* if it contains `import x` or `from x import y` then the cell is run\n",
    "\n",
    "See [this page](https://nbdev.fast.ai/explanations/showdoc.html) for more."
   ]
  }
 ],
 "metadata": {
  "jupytext": {
   "split_at_heading": true
  },
  "kernelspec": {
   "display_name": "Python 3 (ipykernel)",
   "language": "python",
   "name": "python3"
  }
 },
 "nbformat": 4,
 "nbformat_minor": 4
}
