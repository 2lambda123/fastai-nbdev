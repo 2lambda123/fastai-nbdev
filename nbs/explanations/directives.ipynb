{
 "cells": [
  {
   "cell_type": "code",
   "execution_count": null,
   "metadata": {},
   "outputs": [],
   "source": [
    "#|hide\n",
    "from fastcore.test import *\n",
    "from nbdev.showdoc import show_doc"
   ]
  },
  {
   "cell_type": "markdown",
   "metadata": {},
   "source": [
    "# Directives\n",
    "\n",
    "> The directives available in nbdev. "
   ]
  },
  {
   "cell_type": "markdown",
   "metadata": {},
   "source": [
    "Directives are special comments that are preceeded by `#|` that do pre or post processing of notebook data before docs are rendered. Some of these directives are part of Quarto, but others are unique to nbdev. All Quarto directives can be used in an nbdev notebook.\n",
    "\n",
    "Directives can affect the following places:\n",
    "* the Python module,\n",
    "* the `__all__` export, see the [Python docs](https://docs.python.org/3/tutorial/modules.html#importing-from-a-package) for more,\n",
    "* the tests,\n",
    "* the documentation"
   ]
  },
  {
   "cell_type": "markdown",
   "metadata": {},
   "source": [
    "## 📔 `#|default_exp <name>`"
   ]
  },
  {
   "cell_type": "markdown",
   "metadata": {},
   "source": [
    "Required for every notebook. This directive names the module where things will be exported. For example:\n",
    "\n",
    "```python\n",
    "#| default_exp baz\n",
    "\n",
    "# In a new notebook cell:\n",
    "\n",
    "#| export\n",
    "def my_function(): pass\n",
    "```\n",
    "\n",
    "If our package is named: `bitsnbytes` then we can do:\n",
    "\n",
    "```python\n",
    "from bitsnbytes.baz import my_function\n",
    "```\n",
    "\n",
    "You can define the package name by using `lib_name` in `settings.ini`."
   ]
  },
  {
   "cell_type": "markdown",
   "metadata": {},
   "source": [
    "## 📔 `#|export`"
   ]
  },
  {
   "cell_type": "markdown",
   "metadata": {},
   "source": [
    "Exports the items in the cell into the generated module and documentation. For example:\n",
    "\n",
    "```python\n",
    "#|export\n",
    "def say_hello(to):\n",
    "    \"Say hello to somebody\"\n",
    "    return f'Hello {to}!'\n",
    "```\n",
    "\n",
    "The documentation will look like this:"
   ]
  },
  {
   "cell_type": "code",
   "execution_count": null,
   "metadata": {},
   "outputs": [],
   "source": [
    "#|exec_doc\n",
    "#|echo: false\n",
    "def say_hello(to):\n",
    "    \"Say hello to somebody\"\n",
    "    return f'Hello {to}!'"
   ]
  },
  {
   "cell_type": "code",
   "execution_count": null,
   "metadata": {},
   "outputs": [],
   "source": [
    "#|echo: false\n",
    "# Note: we are using show_doc like this to simulate the effect of #|export without using export\n",
    "show_doc(say_hello)"
   ]
  },
  {
   "cell_type": "markdown",
   "metadata": {},
   "source": [
    "The docs are generated from this export using `showdoc.show_doc`. For a detailed discussion of `showdoc.show_doc` see [here](https://nbdev.fast.ai/explanations/showdoc.html). The exports are automatically included in `__all__` for the module."
   ]
  },
  {
   "cell_type": "markdown",
   "metadata": {},
   "source": [
    "## 📔 `#|export <some.thing>`"
   ]
  },
  {
   "cell_type": "markdown",
   "metadata": {},
   "source": [
    "Similar to `#|export` above. Instead of exporting to the module named by `#|default_exp` export to the specified module.\n",
    "\n",
    "If our package is named: `bitsnbytes`, and we have previously included: `#|default_exp core` in this notebook, and we have an existing notebook with `#|default_exp bar`, then:\n",
    "\n",
    "```python\n",
    "# Earlier in the notebook:\n",
    "\n",
    "#|default_exp core\n",
    "\n",
    "# A new notebook cell:\n",
    "\n",
    "#|export bar\n",
    "def foo(): pass\n",
    "```\n",
    "\n",
    "then we can import this as:\n",
    "```python\n",
    "from bitsnbytes.bar import foo\n",
    "```"
   ]
  },
  {
   "cell_type": "markdown",
   "metadata": {},
   "source": [
    "## 📔 `#|exporti`"
   ]
  },
  {
   "cell_type": "markdown",
   "metadata": {},
   "source": [
    "An `i`nternal export. Not included in `__all__` or the docs. Useful for a function that is called by other functions in this module but is not part of the public API.\n",
    "\n",
    "Equivalently you can prefix your function or method with `_` e.g. `def _private(): pass`."
   ]
  },
  {
   "cell_type": "markdown",
   "metadata": {},
   "source": [
    "## 📔 `#|exports`"
   ]
  },
  {
   "cell_type": "markdown",
   "metadata": {},
   "source": [
    "A `s`ource export. Like `#|export` but in addition to showing docs via `showdoc.show_doc`, it also shows the source code. Given the following code:\n",
    "\n",
    "```python\n",
    "#|exports\n",
    "def say_hello(to):\n",
    "    \"Say hello to somebody\"\n",
    "    return f'Hello {to}!'\n",
    "```\n",
    "\n",
    "this will produce the following output:"
   ]
  },
  {
   "cell_type": "code",
   "execution_count": null,
   "metadata": {},
   "outputs": [],
   "source": [
    "#|exec_doc\n",
    "#|echo: true\n",
    "def say_hello(to):\n",
    "    \"Say hello to somebody\"\n",
    "    return f'Hello {to}!'"
   ]
  },
  {
   "cell_type": "code",
   "execution_count": null,
   "metadata": {},
   "outputs": [],
   "source": [
    "#|echo: false\n",
    "show_doc(say_hello)"
   ]
  },
  {
   "cell_type": "markdown",
   "metadata": {},
   "source": [
    "## 📔 `#|exec_doc`"
   ]
  },
  {
   "cell_type": "code",
   "execution_count": null,
   "metadata": {},
   "outputs": [],
   "source": [
    "#|hide\n",
    "import datetime"
   ]
  },
  {
   "cell_type": "markdown",
   "metadata": {},
   "source": [
    "Ensures that a cell is executed each time before generating docs. When a cell does not have this annotation, it is run according to the default rules [described here](https://nbdev.fast.ai/explanations/showdoc.html). "
   ]
  },
  {
   "cell_type": "code",
   "execution_count": null,
   "metadata": {},
   "outputs": [
    {
     "data": {
      "text/plain": [
       "datetime.datetime(2022, 8, 16, 21, 2, 42, 918107)"
      ]
     },
     "execution_count": null,
     "metadata": {},
     "output_type": "execute_result"
    }
   ],
   "source": [
    "datetime.datetime.now()"
   ]
  },
  {
   "cell_type": "markdown",
   "metadata": {},
   "source": [
    "However with the annotation:\n",
    "```python\n",
    "#|exec_doc\n",
    "datetime.datetime.now()\n",
    "```\n",
    "\n",
    "we can see that the time has been updated:"
   ]
  },
  {
   "cell_type": "code",
   "execution_count": null,
   "metadata": {},
   "outputs": [
    {
     "data": {
      "text/plain": [
       "datetime.datetime(2022, 8, 16, 21, 3, 42, 444782)"
      ]
     },
     "execution_count": null,
     "metadata": {},
     "output_type": "execute_result"
    }
   ],
   "source": [
    "#|exec_doc\n",
    "datetime.datetime.now()"
   ]
  },
  {
   "cell_type": "markdown",
   "metadata": {},
   "source": [
    "## 📔 `#|notest`"
   ]
  },
  {
   "cell_type": "code",
   "execution_count": null,
   "metadata": {},
   "outputs": [],
   "source": [
    "#|notest\n",
    "assert 1 == 2"
   ]
  },
  {
   "cell_type": "markdown",
   "metadata": {},
   "source": [
    "Do not run this cell during testing. This is the default test flag that [comes with nbdev](https://github.com/fastai/nbdev/blob/cdd1187d9d4d130197259143ad00bdeb9c4266d4/settings.ini#L51).\n",
    "\n",
    "It is possible to specify additional values. For example see [fastai](https://github.com/fastai/fastai/blob/c5b9aa050e1ed382b40a7f772a07d74453fdcacb/settings.ini#L27). This allows you to toggle certain tests on and off by running `nbdev_test --flags`."
   ]
  },
  {
   "cell_type": "markdown",
   "metadata": {},
   "source": [
    "## 📔 `#|hide`"
   ]
  },
  {
   "cell_type": "markdown",
   "metadata": {},
   "source": [
    "When you use this directive, you will not see the cell input or output. Given the following input:\n",
    "\n",
    "```python\n",
    "#|hide\n",
    "print('you will not see this')\n",
    "```"
   ]
  },
  {
   "cell_type": "code",
   "execution_count": null,
   "metadata": {},
   "outputs": [
    {
     "name": "stdout",
     "output_type": "stream",
     "text": [
      "you will not see this\n"
     ]
    }
   ],
   "source": [
    "#|hide\n",
    "print('you will not see this')"
   ]
  },
  {
   "cell_type": "markdown",
   "metadata": {},
   "source": [
    "You will not see any output above.\n",
    "\n",
    "As opposed to:\n",
    "```python\n",
    "print('you will see this')\n",
    "```"
   ]
  },
  {
   "cell_type": "code",
   "execution_count": null,
   "metadata": {},
   "outputs": [
    {
     "name": "stdout",
     "output_type": "stream",
     "text": [
      "you will see this\n"
     ]
    }
   ],
   "source": [
    "print('you will see this')"
   ]
  },
  {
   "cell_type": "markdown",
   "metadata": {},
   "source": [
    "This is equivalent to the combination of:\n",
    "```\n",
    "#| echo: false\n",
    "```\n",
    "which allows you to hide the cell input and\n",
    "```\n",
    "#| output: false\n",
    "```\n",
    "which allows you to hide the cell output."
   ]
  },
  {
   "cell_type": "markdown",
   "metadata": {},
   "source": [
    "## 📔 `#|hide_line`\n",
    "\n",
    "You can use this to hide as specific line in your code.  For example:\n",
    "\n",
    "```python\n",
    "def _secret(): ...\n",
    "\n",
    "for i in range(3):\n",
    "    _secret() #|hide_line\n",
    "    print(i)\n",
    "```\n",
    "\n",
    "becomes this:"
   ]
  },
  {
   "cell_type": "code",
   "execution_count": null,
   "metadata": {},
   "outputs": [
    {
     "name": "stdout",
     "output_type": "stream",
     "text": [
      "0\n",
      "1\n",
      "2\n"
     ]
    }
   ],
   "source": [
    "def _secret(): ...\n",
    "\n",
    "for i in range(3):\n",
    "    _secret() #|hide_line\n",
    "    print(i)"
   ]
  },
  {
   "cell_type": "markdown",
   "metadata": {},
   "source": [
    "## 📔 `#|filter_stream <keyword> ...`\n",
    "\n",
    "This allows you to filter lines containing specific keywords in cell outputs.  For example\n",
    "\n",
    "\n",
    "```python\n",
    "#|filter_stream FutureWarning MultiIndex\n",
    "print('\\n'.join(['A line', 'Foobar baz FutureWarning blah', \n",
    "                 'zig zagMultiIndex zoom', 'Another line.']))\n",
    "```\n",
    "\n",
    "becomes this:"
   ]
  },
  {
   "cell_type": "code",
   "execution_count": null,
   "metadata": {},
   "outputs": [],
   "source": [
    "#|echo: false\n",
    "#|filter_stream FutureWarning MultiIndex\n",
    "print('\\n'.join(['A line', 'Foobar baz FutureWarning blah', \n",
    "                 'zig zagMultiIndex zoom', 'Another line.']))"
   ]
  },
  {
   "cell_type": "markdown",
   "metadata": {},
   "source": [
    "## 📔 `no directive`"
   ]
  },
  {
   "cell_type": "markdown",
   "metadata": {},
   "source": [
    "\n",
    "For completeness sake, when a cell has no directive applied to it e.g. the cell does not include any line that starts with `#|`, then the cell:\n",
    "\n",
    "* is show in the docs as-is,\n",
    "* manually added `showdoc.show_doc` cells are run automatically,\n",
    "* executes in tests,\n",
    "* if it contains `import x` or `from x import y` then the cell is run\n",
    "\n",
    "See [this page](https://nbdev.fast.ai/explanations/showdoc.html) for more."
   ]
  },
  {
   "cell_type": "markdown",
   "metadata": {},
   "source": [
    "# Quarto Directives\n",
    "\n",
    "See the [Quarto docs](https://quarto.org/docs/computations/execution-options.html) for even more execution options."
   ]
  },
  {
   "cell_type": "markdown",
   "metadata": {},
   "source": [
    "## ❤️ `#|output: <true|false|asis>`\n",
    "\n",
    "Shows or hides the output of evaluating the cell. For example:\n",
    "\n",
    "```python\n",
    "#|output: true\n",
    "1 + 1\n",
    "```\n",
    "shows the result of the output:"
   ]
  },
  {
   "cell_type": "code",
   "execution_count": null,
   "metadata": {},
   "outputs": [
    {
     "data": {
      "text/plain": [
       "2"
      ]
     },
     "metadata": {},
     "output_type": "display_data"
    }
   ],
   "source": [
    "#|output: true\n",
    "1 + 1"
   ]
  },
  {
   "cell_type": "markdown",
   "metadata": {},
   "source": [
    "whereas:\n",
    "```python\n",
    "#|output: false\n",
    "1 + 1\n",
    "```\n",
    "produces:"
   ]
  },
  {
   "cell_type": "code",
   "execution_count": null,
   "metadata": {},
   "outputs": [
    {
     "data": {
      "text/plain": [
       "2"
      ]
     },
     "metadata": {},
     "output_type": "display_data"
    }
   ],
   "source": [
    "#|output: false \n",
    "1 + 1"
   ]
  },
  {
   "cell_type": "markdown",
   "metadata": {},
   "source": [
    "with no output.\n",
    "\n",
    "Finally there is `asis` which is used for displaying raw markdown. The following cell will produce the raw output `### Heading 3` which will be rendered as a heading sized markdown element."
   ]
  },
  {
   "cell_type": "code",
   "execution_count": null,
   "metadata": {},
   "outputs": [
    {
     "name": "stdout",
     "output_type": "stream",
     "text": [
      "### Heading 3\n"
     ]
    }
   ],
   "source": [
    "#|output: asis\n",
    "print(\"### Heading 3\")"
   ]
  },
  {
   "cell_type": "code",
   "execution_count": null,
   "metadata": {},
   "outputs": [],
   "source": [
    "#|hide\n",
    "from IPython.display import display, Markdown"
   ]
  },
  {
   "cell_type": "markdown",
   "metadata": {},
   "source": [
    "Alternatively to display markdown you can use:\n",
    "```python\n",
    "#| echo: false\n",
    "from IPython.display import display, Markdown\n",
    "display(Markdown(\"### Heading 3\\n\"))\n",
    "display(Markdown(\"#### Heading 4\\n\"))\n",
    "```"
   ]
  },
  {
   "cell_type": "code",
   "execution_count": null,
   "metadata": {},
   "outputs": [
    {
     "data": {
      "text/markdown": [
       "### Heading 3\n"
      ],
      "text/plain": [
       "<IPython.core.display.Markdown object>"
      ]
     },
     "metadata": {},
     "output_type": "display_data"
    },
    {
     "data": {
      "text/markdown": [
       "#### Heading 4\n"
      ],
      "text/plain": [
       "<IPython.core.display.Markdown object>"
      ]
     },
     "metadata": {},
     "output_type": "display_data"
    }
   ],
   "source": [
    "#|echo: false\n",
    "display(Markdown(\"### Heading 3\\n\"))\n",
    "display(Markdown(\"#### Heading 4\\n\"))"
   ]
  },
  {
   "cell_type": "markdown",
   "metadata": {},
   "source": [
    "which results in actual markdown heading being rendered as above."
   ]
  },
  {
   "cell_type": "markdown",
   "metadata": {},
   "source": [
    "## ❤️ `#|echo: <true|false>`\n",
    "\n",
    "This makes sure that only the output of a code cell is shown, not its input.\n",
    "\n",
    "```python\n",
    "#|echo: false\n",
    "print('you can see the output but not the code!')\n",
    "```\n",
    "\n",
    "which results in:"
   ]
  },
  {
   "cell_type": "code",
   "execution_count": null,
   "metadata": {},
   "outputs": [
    {
     "name": "stdout",
     "output_type": "stream",
     "text": [
      "you can see the output but not the code!\n"
     ]
    }
   ],
   "source": [
    "#|echo: false\n",
    "print('you can see the output but not the code!')"
   ]
  },
  {
   "cell_type": "markdown",
   "metadata": {},
   "source": [
    "Compared to:\n",
    "```python\n",
    "#|echo: true\n",
    "print('you can see the code and the output!')\n",
    "```\n",
    "which results in:"
   ]
  },
  {
   "cell_type": "code",
   "execution_count": null,
   "metadata": {},
   "outputs": [
    {
     "name": "stdout",
     "output_type": "stream",
     "text": [
      "you can see the code and the output!\n"
     ]
    }
   ],
   "source": [
    "#|echo: true\n",
    "print('you can see the code and the output!')"
   ]
  },
  {
   "cell_type": "markdown",
   "metadata": {},
   "source": [
    "## ❤️ `#|code-fold: <show|true>`"
   ]
  },
  {
   "cell_type": "markdown",
   "metadata": {},
   "source": [
    "The `#|code-fold` directive allows you to collapse code (note: must use  `code-fold` and not `code_fold`):\n",
    "\n",
    "```python\n",
    "#|code-fold: true\n",
    "def foo():\n",
    "    print(\"this\")\n",
    "    print(\"is\")\n",
    "    print(\"a\")\n",
    "    print(\"long\")\n",
    "    print(\"body\")\n",
    "```\n",
    "\n",
    "which results in (click to expand):"
   ]
  },
  {
   "cell_type": "code",
   "execution_count": null,
   "metadata": {},
   "outputs": [],
   "source": [
    "#|code-fold: true\n",
    "def foo():\n",
    "    print(\"this\")\n",
    "    print(\"is\")\n",
    "    print(\"a\")\n",
    "    print(\"long\")\n",
    "    print(\"body\")"
   ]
  },
  {
   "cell_type": "markdown",
   "metadata": {},
   "source": [
    "With `true` it is collapsed by default, with `show` it is shown by default and still collapsible. The directive also works with `#|exports` but not with `#|export`:\n",
    "\n",
    "```python\n",
    "#|exports\n",
    "#|code-fold: true\n",
    "def foo():\n",
    "    print(\"this\")\n",
    "    print(\"is\")\n",
    "    print(\"a\")\n",
    "    print(\"long\")\n",
    "    print(\"body\")\n",
    "```\n",
    "\n",
    "which results in (click to expand):"
   ]
  },
  {
   "cell_type": "code",
   "execution_count": null,
   "metadata": {},
   "outputs": [],
   "source": [
    "#|echo: true\n",
    "#|code-fold: true\n",
    "def foo():\n",
    "    print(\"this\")\n",
    "    print(\"is\")\n",
    "    print(\"a\")\n",
    "    print(\"long\")\n",
    "    print(\"body\")"
   ]
  },
  {
   "cell_type": "markdown",
   "metadata": {},
   "source": [
    "## ❤️ `#|eval: <true|false>`"
   ]
  },
  {
   "cell_type": "markdown",
   "metadata": {},
   "source": [
    "This quarto directive is respected by `nbdev` to mean that you do not want to execute this cell during testing. The `#|notest` directive gives you more fine-grained control over testing than this.\n",
    "\n",
    "Example:\n",
    "\n",
    "```python\n",
    "#|eval: false\n",
    "raise Exception(\"I'm not raised because I'm not run\")\n",
    "```"
   ]
  },
  {
   "cell_type": "code",
   "execution_count": null,
   "metadata": {},
   "outputs": [],
   "source": [
    "#|eval: false\n",
    "raise Exception(\"I'm not raised because I'm not run\")"
   ]
  },
  {
   "cell_type": "markdown",
   "metadata": {},
   "source": [
    "Compared to:\n",
    "\n",
    "```python\n",
    "#|eval: true\n",
    "assert 1 + 1 == 2\n",
    "```"
   ]
  },
  {
   "cell_type": "code",
   "execution_count": null,
   "metadata": {},
   "outputs": [],
   "source": [
    "#|eval: true\n",
    "assert 1 + 1 == 2"
   ]
  }
 ],
 "metadata": {
  "jupytext": {
   "split_at_heading": true
  },
  "kernelspec": {
   "display_name": "Python 3.9.13 ('base')",
   "language": "python",
   "name": "python3"
  }
 },
 "nbformat": 4,
 "nbformat_minor": 4
}
