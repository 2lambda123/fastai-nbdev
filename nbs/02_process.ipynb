{
 "cells": [
  {
   "cell_type": "code",
   "execution_count": null,
   "id": "bce55715",
   "metadata": {},
   "outputs": [],
   "source": [
    "#|hide\n",
    "#|default_exp export"
   ]
  },
  {
   "cell_type": "markdown",
   "id": "f6b8b4a6",
   "metadata": {},
   "source": [
    "# nbprocess.export\n",
    "- Exporting a notebook to a library"
   ]
  },
  {
   "cell_type": "code",
   "execution_count": null,
   "id": "59172c3d",
   "metadata": {},
   "outputs": [],
   "source": [
    "#|export\n",
    "from nbprocess.read import *\n",
    "from nbprocess.maker import *\n",
    "from nbprocess.imports import *\n",
    "\n",
    "from fastcore.script import *\n",
    "from fastcore.imports import *\n",
    "from fastcore.xtras import *\n",
    "\n",
    "from collections import defaultdict\n",
    "from pprint import pformat\n",
    "from inspect import signature,Parameter\n",
    "import ast,contextlib,copy"
   ]
  },
  {
   "cell_type": "code",
   "execution_count": null,
   "id": "ce00cb74",
   "metadata": {},
   "outputs": [],
   "source": [
    "from fastcore.test import *\n",
    "from pdb import set_trace\n",
    "from importlib import reload\n",
    "import shutil"
   ]
  },
  {
   "cell_type": "markdown",
   "id": "cbe57d96",
   "metadata": {},
   "source": [
    "Special comments at the start of a cell can be used to provide information to `nbprocess` about how to process a cell, so we need to be able to find the location of these comments."
   ]
  },
  {
   "cell_type": "code",
   "execution_count": null,
   "id": "48fdaa8d",
   "metadata": {},
   "outputs": [],
   "source": [
    "minimal = read_nb('../tests/minimal.ipynb')"
   ]
  },
  {
   "cell_type": "code",
   "execution_count": null,
   "id": "c1104914",
   "metadata": {},
   "outputs": [],
   "source": [
    "#|export\n",
    "def _directive(s):\n",
    "    s = (s.strip()[2:]).strip().split()\n",
    "    if not s: return None\n",
    "    direc,*args = s\n",
    "    return direc,args"
   ]
  },
  {
   "cell_type": "code",
   "execution_count": null,
   "id": "3cca78a4",
   "metadata": {},
   "outputs": [],
   "source": [
    "#|export\n",
    "def extract_directives(cell):\n",
    "    \"Take leading comment directives from lines of code in `ss`, remove `#|`, and split\"\n",
    "    ss = cell.source.splitlines(True)\n",
    "    first_code = first(i for i,o in enumerate(ss) if not o.strip() or not re.match(r'\\s*#\\|', o))\n",
    "    if not ss or first_code==0: return {}\n",
    "    cell['source'] = ''.join(ss[first_code:])\n",
    "    res = L(_directive(s) for s in ss[:first_code]).filter()\n",
    "    return {k:v for k,v in res}"
   ]
  },
  {
   "cell_type": "markdown",
   "id": "d58cda54",
   "metadata": {},
   "source": [
    "Comment directives start with `#`, followed by whitespace delimited tokens, which `extract_directives` extracts from the start of a cell, up until a blank line or a line containing something other than comments. The extracted lines are removed from the source."
   ]
  },
  {
   "cell_type": "code",
   "execution_count": null,
   "id": "d223f56d",
   "metadata": {},
   "outputs": [],
   "source": [
    "exp  = AttrDict(source = \"\"\"#|export module\n",
    "#| hide\n",
    "1+2\n",
    "#bar\"\"\")\n",
    "test_eq(extract_directives(exp), dict(export=['module'],hide=[]))\n",
    "test_eq(exp.source, \"1+2\\n#bar\")"
   ]
  },
  {
   "cell_type": "code",
   "execution_count": null,
   "id": "e6701805",
   "metadata": {},
   "outputs": [],
   "source": [
    "#|export\n",
    "def opt_set(var, newval):\n",
    "    \"newval if newval else var\"\n",
    "    return newval if newval else var"
   ]
  },
  {
   "cell_type": "code",
   "execution_count": null,
   "id": "7c81f109",
   "metadata": {},
   "outputs": [],
   "source": [
    "#|export\n",
    "class NBProcessor:\n",
    "    \"Process cells and nbdev comments in a notebook\"\n",
    "    def __init__(self, path=None, procs=None, preprocs=None, postprocs=None, nb=None, debug=False):\n",
    "        self.nb = read_nb(path) if nb is None else nb\n",
    "        self.procs,self.preprocs,self.postprocs = map(L, (procs,preprocs,postprocs))\n",
    "        self.debug = debug\n",
    "\n",
    "    def _process_cell(self, cell):\n",
    "        self.cell = cell\n",
    "        cell['_directives'] = extract_directives(cell)\n",
    "        for proc in self.procs:\n",
    "            if cell.cell_type=='code':\n",
    "                for cmd,args in cell._directives.items(): self._process_comment(proc, cmd, args)\n",
    "            if callable(proc): cell = opt_set(cell, proc(cell))\n",
    "\n",
    "    def _process_comment(self, proc, cmd, args):\n",
    "        f = getattr(proc, f'_{cmd}_', None)\n",
    "        if not f: return True\n",
    "        if self.debug: print(cmd, args, f)\n",
    "        return f(self, *args)\n",
    "        \n",
    "    def process(self):\n",
    "        \"Process all cells with `process_cell`\"\n",
    "        for proc in self.preprocs: self.nb = opt_set(self.nb, proc(self.nb))\n",
    "        for i in range_of(self.nb.cells): self._process_cell(self.nb.cells[i])\n",
    "        self.nb.cells = [c for c in self.nb.cells if c and getattr(c,'source',None) is not None]\n",
    "        for proc in self.postprocs: self.nb = opt_set(self.nb, proc(self.nb))"
   ]
  },
  {
   "cell_type": "markdown",
   "id": "48be014b",
   "metadata": {},
   "source": [
    "Cell processors can be callables (e.g regular functions), in which case they are called for every cell:"
   ]
  },
  {
   "cell_type": "code",
   "execution_count": null,
   "id": "68c33556",
   "metadata": {},
   "outputs": [
    {
     "name": "stdout",
     "output_type": "stream",
     "text": [
      "exec(\"o_y=1\")\n",
      "exec(\"p_y=1\")\n",
      "_all_ = [o_y, 'p_y']\n"
     ]
    }
   ],
   "source": [
    "everything_fn = '../tests/01_everything.ipynb'\n",
    "\n",
    "def print_execs(cell):\n",
    "    if 'exec' in cell.source: print(cell.source)\n",
    "\n",
    "NBProcessor(everything_fn, print_execs).process()"
   ]
  },
  {
   "cell_type": "markdown",
   "id": "508dc7b1",
   "metadata": {},
   "source": [
    "Comment directives are put in a cell attribute `_directive` as a dictionary keyed by directive name:"
   ]
  },
  {
   "cell_type": "code",
   "execution_count": null,
   "id": "ade6fbbf",
   "metadata": {},
   "outputs": [
    {
     "name": "stdout",
     "output_type": "stream",
     "text": [
      "['testing']\n"
     ]
    }
   ],
   "source": [
    "def printme_func(cell):\n",
    "    if 'printme' in cell._directives: print(cell._directives['printme'])\n",
    "\n",
    "NBProcessor(everything_fn, printme_func).process()"
   ]
  },
  {
   "cell_type": "markdown",
   "id": "33105f67",
   "metadata": {},
   "source": [
    "However, a more convenient way to handle comment directives is to use a *class* as a processor, and include a method in your class with the same name as your directive, surrounded by underscores:"
   ]
  },
  {
   "cell_type": "code",
   "execution_count": null,
   "id": "4d697c41",
   "metadata": {},
   "outputs": [
    {
     "name": "stdout",
     "output_type": "stream",
     "text": [
      "testing\n"
     ]
    }
   ],
   "source": [
    "class _PrintExample:\n",
    "    def _printme_(self, nbp, to_print): print(to_print)\n",
    "\n",
    "everything_fn = '../tests/01_everything.ipynb'\n",
    "npb = NBProcessor(everything_fn, _PrintExample())\n",
    "npb.process()"
   ]
  },
  {
   "cell_type": "markdown",
   "id": "e95db40d",
   "metadata": {},
   "source": [
    "## Export -"
   ]
  },
  {
   "cell_type": "code",
   "execution_count": null,
   "id": "4e85652c",
   "metadata": {},
   "outputs": [],
   "source": [
    "#|skip\n",
    "basic_export_nb2('00_read.ipynb', 'read')\n",
    "basic_export_nb2('01_maker.ipynb', 'maker')\n",
    "basic_export_nb2('02_process.ipynb', 'process')\n",
    "\n",
    "g = exec_new('import nbprocess.process')\n",
    "assert hasattr(g['nbprocess'].process, 'NBProcessor')"
   ]
  },
  {
   "cell_type": "code",
   "execution_count": null,
   "id": "079a05ac",
   "metadata": {},
   "outputs": [],
   "source": []
  }
 ],
 "metadata": {
  "kernelspec": {
   "display_name": "Python 3 (ipykernel)",
   "language": "python",
   "name": "python3"
  }
 },
 "nbformat": 4,
 "nbformat_minor": 5
}
