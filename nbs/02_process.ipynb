{
 "cells": [
  {
   "cell_type": "code",
   "execution_count": null,
   "id": "bce55715",
   "metadata": {},
   "outputs": [],
   "source": [
    "#|hide\n",
    "#|default_exp export"
   ]
  },
  {
   "cell_type": "markdown",
   "id": "f6b8b4a6",
   "metadata": {},
   "source": [
    "# nbprocess.export\n",
    "- Exporting a notebook to a library"
   ]
  },
  {
   "cell_type": "code",
   "execution_count": null,
   "id": "59172c3d",
   "metadata": {},
   "outputs": [],
   "source": [
    "#|export\n",
    "from nbprocess.read import *\n",
    "from nbprocess.maker import *\n",
    "from nbprocess.imports import *\n",
    "\n",
    "from fastcore.script import *\n",
    "from fastcore.imports import *\n",
    "from fastcore.xtras import *\n",
    "\n",
    "from collections import defaultdict\n",
    "from pprint import pformat\n",
    "from inspect import signature,Parameter\n",
    "import ast,contextlib,copy"
   ]
  },
  {
   "cell_type": "code",
   "execution_count": null,
   "id": "ce00cb74",
   "metadata": {},
   "outputs": [],
   "source": [
    "from fastcore.test import *\n",
    "from pdb import set_trace\n",
    "from importlib import reload\n",
    "import shutil"
   ]
  },
  {
   "cell_type": "markdown",
   "id": "ed6531b4",
   "metadata": {},
   "source": [
    "## NBProcessor -"
   ]
  },
  {
   "cell_type": "markdown",
   "id": "cbe57d96",
   "metadata": {},
   "source": [
    "Special comments at the start of a cell can be used to provide information to `nbprocess` about how to process a cell, so we need to be able to find the location of these comments."
   ]
  },
  {
   "cell_type": "code",
   "execution_count": null,
   "id": "48fdaa8d",
   "metadata": {},
   "outputs": [],
   "source": [
    "minimal = read_nb('../tests/minimal.ipynb')"
   ]
  },
  {
   "cell_type": "code",
   "execution_count": null,
   "id": "3cca78a4",
   "metadata": {},
   "outputs": [],
   "source": [
    "#|export\n",
    "def extract_comments(ss):\n",
    "    \"Take leading comments from lines of code in `ss`, remove `#|`, and split\"\n",
    "    ss = ss.splitlines()\n",
    "    first_code = first(i for i,o in enumerate(ss) if not o.strip() or not re.match(r'\\s*#\\|', o))\n",
    "    return L((s.strip()[2:]).strip().split() for s in ss[:first_code]).filter()"
   ]
  },
  {
   "cell_type": "markdown",
   "id": "d58cda54",
   "metadata": {},
   "source": [
    "nbprocess comments start with `#`, followed by whitespace delimited tokens, which `extract_comments` extracts from the start of a cell, up until a blank line or a line containing something other than comments:"
   ]
  },
  {
   "cell_type": "code",
   "execution_count": null,
   "id": "d223f56d",
   "metadata": {},
   "outputs": [],
   "source": [
    "exp  = \"\"\"#|export module\n",
    "#| hide\n",
    "1+2\n",
    "#bar\"\"\"\n",
    "test_eq(extract_comments(exp), [['export', 'module'],['hide']])"
   ]
  },
  {
   "cell_type": "code",
   "execution_count": null,
   "id": "7f1e0a42",
   "metadata": {},
   "outputs": [],
   "source": [
    "#|export\n",
    "@functools.lru_cache(maxsize=None)\n",
    "def _param_count(f):\n",
    "    \"Number of parameters accepted by function `f`\"\n",
    "    params = list(signature(f).parameters.values())\n",
    "    # If there's a `*args` then `f` can take as many params as needed\n",
    "    if first(params, lambda o: o.kind==Parameter.VAR_POSITIONAL): return 99\n",
    "    return len([o for o in params if o.kind in (Parameter.POSITIONAL_ONLY,Parameter.POSITIONAL_OR_KEYWORD)])"
   ]
  },
  {
   "cell_type": "code",
   "execution_count": null,
   "id": "e6701805",
   "metadata": {},
   "outputs": [],
   "source": [
    "#|export\n",
    "def opt_set(var, newval):\n",
    "    \"newval if newval else var\"\n",
    "    return newval if newval else var"
   ]
  },
  {
   "cell_type": "code",
   "execution_count": null,
   "id": "7c81f109",
   "metadata": {},
   "outputs": [],
   "source": [
    "#|export\n",
    "class NBProcessor:\n",
    "    \"Process cells and nbdev comments in a notebook\"\n",
    "    def __init__(self, path=None, procs=None, preprocs=None, postprocs=None, nb=None, debug=False):\n",
    "        self.nb = read_nb(path) if nb is None else nb\n",
    "        self.procs,self.preprocs,self.postprocs = map(L, (procs,preprocs,postprocs))\n",
    "        self.debug = debug\n",
    "\n",
    "    def _process_cell(self, cell):\n",
    "        self.cell = cell\n",
    "        if not hasattr(cell, '_comments'): cell._comments = extract_comments(cell.source)\n",
    "        for proc in self.procs:\n",
    "            if cell.cell_type=='code': cell._comments.map(self._process_comment,proc)\n",
    "            if callable(proc): cell = opt_set(cell, proc(cell))\n",
    "\n",
    "    def _process_comment(self, proc, comment):\n",
    "        cmd,*args = comment\n",
    "        f = getattr(proc, f'_{cmd}_', None)\n",
    "        if not f or _param_count(f)-1<len(args): return True\n",
    "        if self.debug: print(cmd, args, f)\n",
    "        return f(self, *args)\n",
    "        \n",
    "    def process(self):\n",
    "        \"Process all cells with `process_cell`\"\n",
    "        for proc in self.preprocs: self.nb = opt_set(self.nb, proc(self.nb))\n",
    "        for i in range_of(self.nb.cells): self._process_cell(self.nb.cells[i])\n",
    "        self.nb.cells = [c for c in self.nb.cells if c and getattr(c,'source',None) is not None]\n",
    "        for proc in self.postprocs: self.nb = opt_set(self.nb, proc(self.nb))"
   ]
  },
  {
   "cell_type": "code",
   "execution_count": null,
   "id": "844bd0fc",
   "metadata": {},
   "outputs": [
    {
     "name": "stdout",
     "output_type": "stream",
     "text": [
      "testing\n"
     ]
    }
   ],
   "source": [
    "class _PrintExample:\n",
    "    def _printme_(self, nbp, to_print): print(to_print)\n",
    "\n",
    "everything_fn = '../tests/01_everything.ipynb'\n",
    "proc = NBProcessor(everything_fn, _PrintExample())\n",
    "proc.process()"
   ]
  },
  {
   "cell_type": "markdown",
   "id": "8e363e0c",
   "metadata": {},
   "source": [
    "## Notebook Processors"
   ]
  },
  {
   "cell_type": "code",
   "execution_count": null,
   "id": "dfdcb1c3",
   "metadata": {},
   "outputs": [],
   "source": [
    "_test_file = '../tests/docs_test.ipynb'\n",
    "\n",
    "def _run_procs(procs=None, preprocs=None, postprocs=None):\n",
    "    nbp = NBProcessor(_test_file, procs, preprocs=preprocs, postprocs=postprocs)\n",
    "    nbp.process()\n",
    "    return '\\n'.join([cell.source for cell in nbp.nb.cells])"
   ]
  },
  {
   "cell_type": "markdown",
   "id": "1cf7b474",
   "metadata": {},
   "source": [
    "### Injecting Metadata Into Cells -"
   ]
  },
  {
   "cell_type": "code",
   "execution_count": null,
   "id": "5408fb59",
   "metadata": {},
   "outputs": [],
   "source": [
    "#|export\n",
    "_re_meta= r'^\\s*#(?:cell_meta|meta):\\S+\\s*[\\n\\r]'\n",
    "\n",
    "def inject_meta(cell):\n",
    "    \"Inject metadata into a cell for further preprocessing with a comment.\"\n",
    "    _pattern = r'(^\\s*#(?:cell_meta|meta):)(\\S+)(\\s*[\\n\\r])'\n",
    "    if cell.cell_type == 'code' and re.search(_re_meta, cell.source, flags=re.MULTILINE):\n",
    "        cell_meta = re.findall(_pattern, cell.source, re.MULTILINE)\n",
    "        d = cell.metadata.get('nbprocess', {})\n",
    "        for _, m, _ in cell_meta:\n",
    "            if '=' in m:\n",
    "                k,v = m.split('=')\n",
    "                d[k] = v\n",
    "            else: print(f\"Warning cell_meta:{m} does not have '=' will be ignored.\")\n",
    "        cell.metadata['nbprocess'] = d"
   ]
  },
  {
   "cell_type": "code",
   "execution_count": null,
   "id": "086380c2",
   "metadata": {},
   "outputs": [],
   "source": [
    "#|export\n",
    "def show_meta(cell):\n",
    "    \"Show cell metadata\"\n",
    "    meta = cell.metadata.get('nbprocess')\n",
    "    if meta: print(meta)"
   ]
  },
  {
   "cell_type": "markdown",
   "id": "4c667280",
   "metadata": {},
   "source": [
    "To inject metadata make a comment in a cell with the following pattern: `#cell_meta:{key=value}`. Note that `#meta` is an alias for `#cell_meta`\n",
    "\n",
    "For example, at the moment, this notebook has no cells with metadata, which we can see b using `show_meta`:"
   ]
  },
  {
   "cell_type": "code",
   "execution_count": null,
   "id": "b7a84be4",
   "metadata": {},
   "outputs": [],
   "source": [
    "_run_procs([show_meta]);"
   ]
  },
  {
   "cell_type": "markdown",
   "id": "3ad1b206",
   "metadata": {},
   "source": [
    "However, after we process this notebook with `inject_meta`, the appropriate metadata will be injected:"
   ]
  },
  {
   "cell_type": "code",
   "execution_count": null,
   "id": "1c22658d",
   "metadata": {},
   "outputs": [],
   "source": [
    "_run_procs([inject_meta,show_meta]);"
   ]
  },
  {
   "cell_type": "markdown",
   "id": "ece9c1a2-b339-4857-8e5a-a3a06577ad4a",
   "metadata": {},
   "source": [
    "### Insert Warning Into Markdown -"
   ]
  },
  {
   "cell_type": "code",
   "execution_count": null,
   "id": "3d28fc80",
   "metadata": {},
   "outputs": [],
   "source": [
    "#| export\n",
    "def insert_warning(nb):\n",
    "    \"Insert Autogenerated Warning Into Notebook after the first cell.\"\n",
    "    content = \"<!-- WARNING: THIS FILE WAS AUTOGENERATED! DO NOT EDIT! -->\"\n",
    "    nb.cells.insert(1, AttrDict(cell_type='markdown', metadata={}, source=content))"
   ]
  },
  {
   "cell_type": "markdown",
   "id": "cad52f89-3710-4361-9759-8d5129cdc63d",
   "metadata": {},
   "source": [
    "This preprocessor inserts a warning in the markdown destination that the file is autogenerated.  This warning is inserted in the second cell so we do not interfere with front matter."
   ]
  },
  {
   "cell_type": "code",
   "execution_count": null,
   "id": "ccac0945-6725-49e6-94e4-72684bf08417",
   "metadata": {},
   "outputs": [],
   "source": [
    "res = _run_procs(preprocs=[insert_warning])\n",
    "assert \"<!-- WARNING: THIS FILE WAS AUTOGENERATED!\" in res"
   ]
  },
  {
   "cell_type": "code",
   "execution_count": null,
   "id": "9bc02bc5",
   "metadata": {},
   "outputs": [],
   "source": [
    " _run_procs([inject_meta, show_meta]);"
   ]
  },
  {
   "cell_type": "markdown",
   "id": "0299f8a6",
   "metadata": {},
   "source": [
    "### Remove cell bits based on tags"
   ]
  },
  {
   "cell_type": "code",
   "execution_count": null,
   "id": "995ebd32",
   "metadata": {},
   "outputs": [],
   "source": [
    "#|export\n",
    "def update_tags(cell):\n",
    "    root = cell.metadata.get('nbprocess', {})\n",
    "    tags = root.get('tags', root.get('tag')) # allow the singular also\n",
    "    if tags: cell.metadata['tags'] = cell.metadata.get('tags', []) + tags.split(',')"
   ]
  },
  {
   "cell_type": "markdown",
   "id": "53beb1db",
   "metadata": {},
   "source": [
    "`update_tags` is meant to be used with `inject_meta` to configure the visibility of cells in rendered docs."
   ]
  },
  {
   "cell_type": "code",
   "execution_count": null,
   "id": "2cb8d59b",
   "metadata": {},
   "outputs": [],
   "source": [
    "def TagRemove(cell_tag=None, outputs_tag=None, input_tag=None):\n",
    "    def _inner(cell):\n",
    "        tags = nested_idx(cell, 'metadata', 'tags') or []\n",
    "        if cell_tag in tags: cell['source'] = None\n",
    "        if outputs_tag in tags and 'outputs' in cell: del(cell['outputs'])\n",
    "        if input_tag in tags: del(cell['source'])\n",
    "    return _inner"
   ]
  },
  {
   "cell_type": "code",
   "execution_count": null,
   "id": "d4afab22",
   "metadata": {},
   "outputs": [],
   "source": [
    "res = _run_procs([inject_meta, update_tags, TagRemove(\"remove_cell\",'remove_output','remove_input')])\n",
    "assert 'you will not be able to see this cell at all either' not in res"
   ]
  },
  {
   "cell_type": "markdown",
   "id": "e95db40d",
   "metadata": {},
   "source": [
    "## Export -"
   ]
  },
  {
   "cell_type": "code",
   "execution_count": null,
   "id": "4e85652c",
   "metadata": {},
   "outputs": [],
   "source": [
    "#|skip\n",
    "basic_export_nb2('00_read.ipynb', 'read')\n",
    "basic_export_nb2('01_maker.ipynb', 'maker')\n",
    "basic_export_nb2('02_process.ipynb', 'process')\n",
    "\n",
    "g = exec_new('import nbprocess.process')\n",
    "assert hasattr(g['nbprocess'].process, 'NBProcessor')"
   ]
  },
  {
   "cell_type": "code",
   "execution_count": null,
   "id": "079a05ac",
   "metadata": {},
   "outputs": [],
   "source": []
  }
 ],
 "metadata": {
  "kernelspec": {
   "display_name": "Python 3 (ipykernel)",
   "language": "python",
   "name": "python3"
  }
 },
 "nbformat": 4,
 "nbformat_minor": 5
}
