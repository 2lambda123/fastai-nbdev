{
 "cells": [
  {
   "cell_type": "code",
   "execution_count": null,
   "metadata": {},
   "outputs": [],
   "source": [
    "#hide\n",
    "#default_exp export"
   ]
  },
  {
   "cell_type": "markdown",
   "metadata": {},
   "source": [
    "# nbprocess.export\n",
    "- Exporting a notebook to a library"
   ]
  },
  {
   "cell_type": "code",
   "execution_count": null,
   "metadata": {},
   "outputs": [],
   "source": [
    "#export\n",
    "from nbprocess.read import *\n",
    "from nbprocess.maker import *\n",
    "from nbprocess.imports import *\n",
    "\n",
    "from fastcore.script import *\n",
    "from fastcore.imports import *\n",
    "from fastcore.xtras import *\n",
    "\n",
    "from collections import defaultdict\n",
    "from pprint import pformat\n",
    "from inspect import signature,Parameter\n",
    "import ast,contextlib,copy"
   ]
  },
  {
   "cell_type": "code",
   "execution_count": null,
   "metadata": {},
   "outputs": [],
   "source": [
    "from fastcore.test import *\n",
    "from pdb import set_trace\n",
    "from importlib import reload\n",
    "import shutil"
   ]
  },
  {
   "cell_type": "markdown",
   "metadata": {},
   "source": [
    "## NBProcessor -"
   ]
  },
  {
   "cell_type": "markdown",
   "metadata": {},
   "source": [
    "Special comments at the start of a cell can be used to provide information to `nbprocess` about how to process a cell, so we need to be able to find the location of these comments."
   ]
  },
  {
   "cell_type": "code",
   "execution_count": null,
   "metadata": {},
   "outputs": [],
   "source": [
    "minimal = read_nb('../tests/minimal.ipynb')"
   ]
  },
  {
   "cell_type": "code",
   "execution_count": null,
   "metadata": {},
   "outputs": [],
   "source": [
    "#export\n",
    "def extract_comments(ss):\n",
    "    \"Take leading comments from lines of code in `ss`, remove `#`, and split\"\n",
    "    ss = ss.splitlines()\n",
    "    first_code = first(i for i,o in enumerate(ss) if not o.strip() or re.match('\\s*[^#\\s]', o))\n",
    "    return L((s.strip()[1:]).strip().split() for s in ss[:first_code]).filter()"
   ]
  },
  {
   "cell_type": "markdown",
   "metadata": {},
   "source": [
    "nbprocess comments start with `#`, followed by whitespace delimited tokens, which `extract_comments` extracts from the start of a cell, up until a blank line or a line containing something other than comments:"
   ]
  },
  {
   "cell_type": "code",
   "execution_count": null,
   "metadata": {},
   "outputs": [],
   "source": [
    "exp  = \"\"\"#export module\n",
    "# hide\n",
    "1+2\n",
    "#bar\"\"\"\n",
    "test_eq(extract_comments(exp), [['export', 'module'],['hide']])"
   ]
  },
  {
   "cell_type": "code",
   "execution_count": null,
   "metadata": {},
   "outputs": [],
   "source": [
    "#export\n",
    "@functools.lru_cache(maxsize=None)\n",
    "def _param_count(f):\n",
    "    \"Number of parameters accepted by function `f`\"\n",
    "    params = list(signature(f).parameters.values())\n",
    "    # If there's a `*args` then `f` can take as many params as needed\n",
    "    if first(params, lambda o: o.kind==Parameter.VAR_POSITIONAL): return 99\n",
    "    return len([o for o in params if o.kind in (Parameter.POSITIONAL_ONLY,Parameter.POSITIONAL_OR_KEYWORD)])"
   ]
  },
  {
   "cell_type": "code",
   "execution_count": null,
   "metadata": {},
   "outputs": [],
   "source": [
    "#export\n",
    "class NBProcessor:\n",
    "    \"Process cells and nbdev comments in a notebook\"\n",
    "    def __init__(self, path=None, procs=None, preprocs=None, postprocs=None, nb=None, debug=False):\n",
    "        self.nb = read_nb(path) if nb is None else nb\n",
    "        self.procs,self.preprocs,self.postprocs = map(L, (procs,preprocs,postprocs))\n",
    "        self.debug = debug\n",
    "\n",
    "    def _process_cell(self, cell):\n",
    "        self.cell = cell\n",
    "        cell._comments = extract_comments(cell.source)\n",
    "        for proc in self.procs:\n",
    "            if callable(proc): proc(cell)\n",
    "            if cell.cell_type=='code': cell._comments.map(self._process_comment,proc)\n",
    "\n",
    "    def _process_comment(self, proc, comment):\n",
    "        cmd,*args = comment\n",
    "        f = getattr(proc, f'_{cmd}_', None)\n",
    "        if not f or _param_count(f)-1<len(args): return True\n",
    "        if self.debug: print(cmd, args, f)\n",
    "        return f(self, *args)\n",
    "        \n",
    "    def process(self):\n",
    "        \"Process all cells with `process_cell`\"\n",
    "        for proc in self.preprocs:\n",
    "            nb = proc(self.nb)\n",
    "            if nb: self.nb = nb\n",
    "        for i in range_of(self.nb.cells): self._process_cell(self.nb.cells[i])\n",
    "        self.nb.cells = [c for c in self.nb.cells if c.source is not None]\n",
    "        for proc in self.postprocs:\n",
    "            nb = proc(self.nb)\n",
    "            if nb: self.nb = nb"
   ]
  },
  {
   "cell_type": "code",
   "execution_count": null,
   "metadata": {},
   "outputs": [
    {
     "name": "stdout",
     "output_type": "stream",
     "text": [
      "testing\n"
     ]
    }
   ],
   "source": [
    "class _PrintExample:\n",
    "    def _printme_(self, nbp, to_print): print(to_print)\n",
    "\n",
    "everything_fn = '../tests/01_everything.ipynb'\n",
    "proc = NBProcessor(everything_fn, _PrintExample())\n",
    "proc.process()"
   ]
  },
  {
   "cell_type": "markdown",
   "metadata": {},
   "source": [
    "## Export -"
   ]
  },
  {
   "cell_type": "code",
   "execution_count": null,
   "metadata": {},
   "outputs": [],
   "source": [
    "#skip\n",
    "basic_export_nb2('00_read.ipynb', 'read')\n",
    "basic_export_nb2('01_maker.ipynb', 'maker')\n",
    "basic_export_nb2('02_process.ipynb', 'process')\n",
    "\n",
    "g = exec_new('import nbprocess.process')\n",
    "assert hasattr(g['nbprocess'].process, 'NBProcessor')"
   ]
  },
  {
   "cell_type": "code",
   "execution_count": null,
   "metadata": {},
   "outputs": [],
   "source": []
  }
 ],
 "metadata": {
  "kernelspec": {
   "display_name": "Python 3 (ipykernel)",
   "language": "python",
   "name": "python3"
  }
 },
 "nbformat": 4,
 "nbformat_minor": 4
}
