{
 "cells": [
  {
   "cell_type": "raw",
   "metadata": {},
   "source": [
    "---\n",
    "title: clean\n",
    "description: Strip superfluous metadata from notebooks\n",
    "---"
   ]
  },
  {
   "cell_type": "code",
   "execution_count": null,
   "metadata": {
    "hide_input": false
   },
   "outputs": [],
   "source": [
    "#|default_exp clean"
   ]
  },
  {
   "cell_type": "code",
   "execution_count": null,
   "metadata": {},
   "outputs": [],
   "source": [
    "#|export\n",
    "import warnings,stat\n",
    "\n",
    "from execnb.nbio import *\n",
    "from fastcore.script import *\n",
    "from fastcore.basics import *\n",
    "from fastcore.imports import *\n",
    "\n",
    "from nbdev.imports import *\n",
    "from nbdev.read import *\n",
    "from nbdev.sync import *\n",
    "from nbdev.process import first_code_ln"
   ]
  },
  {
   "cell_type": "code",
   "execution_count": null,
   "metadata": {},
   "outputs": [],
   "source": [
    "#|hide\n",
    "from fastcore.test import *"
   ]
  },
  {
   "cell_type": "markdown",
   "metadata": {},
   "source": [
    "To avoid pointless conflicts while working with jupyter notebooks (with different execution counts or cell metadata), it is recommended to clean the notebooks before committing anything (done automatically if you install the git hooks with `nbdev_install_git_hooks`). The following functions are used to do that."
   ]
  },
  {
   "cell_type": "code",
   "execution_count": null,
   "metadata": {},
   "outputs": [],
   "source": [
    "#|export\n",
    "@call_parse\n",
    "def nbdev_trust(\n",
    "    fname:str=None,  # A notebook name or glob to trust\n",
    "    force_all:bool=False  # Also trust notebooks that haven't changed\n",
    "):\n",
    "    \"Trust notebooks matching `fname`\"\n",
    "    try: from nbformat.sign import NotebookNotary\n",
    "    except:\n",
    "        import warnings\n",
    "        warnings.warn(\"Please install jupyter and try again\")\n",
    "        return\n",
    "\n",
    "    fname = Path(fname if fname else config_key(\"nbs_path\", '.'))\n",
    "    path = fname if fname.is_dir() else fname.parent\n",
    "    check_fname = path/\".last_checked\"\n",
    "    last_checked = os.path.getmtime(check_fname) if check_fname.exists() else None\n",
    "    nbs = globtastic(fname, file_glob='*.ipynb', skip_folder_re='^[_.]') if fname.is_dir() else [fname]\n",
    "    for fn in nbs:\n",
    "        if last_checked and not force_all:\n",
    "            last_changed = os.path.getmtime(fn)\n",
    "            if last_changed < last_checked: continue\n",
    "        nb = read_nb(fn)\n",
    "        if not NotebookNotary().check_signature(nb): NotebookNotary().sign(nb)\n",
    "    check_fname.touch(exist_ok=True)"
   ]
  },
  {
   "cell_type": "markdown",
   "metadata": {},
   "source": [
    "## Utils"
   ]
  },
  {
   "cell_type": "code",
   "execution_count": null,
   "metadata": {},
   "outputs": [],
   "source": [
    "#|export\n",
    "def _clean_cell_output(cell):\n",
    "    \"Remove execution count in `cell`\"\n",
    "    if 'outputs' in cell:\n",
    "        for o in cell['outputs']:\n",
    "            if 'execution_count' in o: o['execution_count'] = None\n",
    "            o.get('data',{}).pop(\"application/vnd.google.colaboratory.intrinsic+json\", None)\n",
    "            o.get('metadata', {}).pop('tags', None)"
   ]
  },
  {
   "cell_type": "code",
   "execution_count": null,
   "metadata": {},
   "outputs": [],
   "source": [
    "#|export\n",
    "def _clean_cell(cell, clear_all=False, allowed_metadata_keys=None):\n",
    "    \"Clean `cell` by removing superfluous metadata or everything except the input if `clear_all`\"\n",
    "    if 'execution_count' in cell: cell['execution_count'] = None\n",
    "    if 'outputs' in cell:\n",
    "        if clear_all: cell['outputs'] = []\n",
    "        else:         _clean_cell_output(cell)\n",
    "    if cell['source'] == ['']: cell['source'] = []\n",
    "    cell['metadata'] = {} if clear_all else {\n",
    "        k:v for k,v in cell['metadata'].items() if k in allowed_metadata_keys}"
   ]
  },
  {
   "cell_type": "code",
   "execution_count": null,
   "metadata": {},
   "outputs": [],
   "source": [
    "#|export\n",
    "def clean_nb(\n",
    "    nb, # The notebook to clean\n",
    "    clear_all=False, # Remove all cell metadata and cell outputs\n",
    "    allowed_metadata_keys:list=None, # Preserve the list of keys in the main notebook metadata\n",
    "    allowed_cell_metadata_keys:list=None # Preserve the list of keys in cell level metadata\n",
    "):\n",
    "    \"Clean `nb` from superfluous metadata\"\n",
    "    metadata_keys = {\"kernelspec\", \"jekyll\", \"jupytext\", \"doc\"}\n",
    "    if allowed_metadata_keys: metadata_keys.update(allowed_metadata_keys)\n",
    "    cell_metadata_keys = {\"hide_input\"}\n",
    "    if allowed_cell_metadata_keys: cell_metadata_keys.update(allowed_cell_metadata_keys)\n",
    "    for c in nb['cells']: _clean_cell(c, clear_all=clear_all, allowed_metadata_keys=cell_metadata_keys)\n",
    "    nb['metadata'] = {k:v for k,v in nb['metadata'].items() if k in metadata_keys}"
   ]
  },
  {
   "cell_type": "markdown",
   "metadata": {},
   "source": [
    "The test notebook has metadata in both the main metadata section and contains cell level metadata in the second cell:"
   ]
  },
  {
   "cell_type": "code",
   "execution_count": null,
   "metadata": {},
   "outputs": [],
   "source": [
    "test_nb = read_nb('../tests/metadata.ipynb')\n",
    "\n",
    "assert set(['meta', 'jekyll', 'my_extra_key', 'my_removed_key']) <= set(test_nb.metadata.keys())\n",
    "assert set(['meta', 'hide_input', 'my_extra_cell_key', 'my_removed_cell_key']) == set(test_nb.cells[1].metadata.keys())"
   ]
  },
  {
   "cell_type": "markdown",
   "metadata": {},
   "source": [
    "After cleaning the notebook, all extra metadata is removed, only some keys are allowed by default:"
   ]
  },
  {
   "cell_type": "code",
   "execution_count": null,
   "metadata": {},
   "outputs": [],
   "source": [
    "clean_nb(test_nb)\n",
    "\n",
    "assert set(['jekyll', 'kernelspec']) == set(test_nb.metadata.keys())\n",
    "assert set(['hide_input']) == set(test_nb.cells[1].metadata.keys())"
   ]
  },
  {
   "cell_type": "markdown",
   "metadata": {},
   "source": [
    "We can preserve some additional keys at the notebook or cell levels:"
   ]
  },
  {
   "cell_type": "code",
   "execution_count": null,
   "metadata": {},
   "outputs": [],
   "source": [
    "test_nb = read_nb('../tests/metadata.ipynb')\n",
    "clean_nb(test_nb, allowed_metadata_keys={'my_extra_key'}, allowed_cell_metadata_keys={'my_extra_cell_key'})\n",
    "\n",
    "assert set(['jekyll', 'kernelspec', 'my_extra_key']) == set(test_nb.metadata.keys())\n",
    "assert set(['hide_input', 'my_extra_cell_key']) == set(test_nb.cells[1].metadata.keys())"
   ]
  },
  {
   "cell_type": "markdown",
   "metadata": {},
   "source": [
    "Passing the `clear_all=True` keyword removes everything from the cell metadata:"
   ]
  },
  {
   "cell_type": "code",
   "execution_count": null,
   "metadata": {},
   "outputs": [],
   "source": [
    "test_nb = read_nb('../tests/metadata.ipynb')\n",
    "clean_nb(test_nb, clear_all=True)\n",
    "\n",
    "assert set(['jekyll', 'kernelspec']) == set(test_nb.metadata.keys())\n",
    "test_eq(test_nb.cells[1].metadata, {})"
   ]
  },
  {
   "cell_type": "markdown",
   "metadata": {},
   "source": [
    "## clean_nbs -"
   ]
  },
  {
   "cell_type": "code",
   "execution_count": null,
   "metadata": {},
   "outputs": [],
   "source": [
    "#|export\n",
    "def _reconfigure(*strms):\n",
    "    for s in strms:\n",
    "        if hasattr(s,'reconfigure'): s.reconfigure(encoding='utf-8')"
   ]
  },
  {
   "cell_type": "code",
   "execution_count": null,
   "metadata": {},
   "outputs": [],
   "source": [
    "#|export\n",
    "def process_write(warn_msg, proc_nb, f_in, f_out=None, disp=False):\n",
    "    if not f_out: f_out = sys.stdout if disp else f_in\n",
    "    if isinstance(f_in, (str,Path)): f_in = Path(f_in).open()\n",
    "    try:\n",
    "        _reconfigure(f_in, f_out)\n",
    "        nb = loads(f_in.read())\n",
    "        proc_nb(nb)\n",
    "        write_nb(nb, f_out)\n",
    "    except Exception as e:\n",
    "        warn(f'{warn_msg}')\n",
    "        warn(e)"
   ]
  },
  {
   "cell_type": "code",
   "execution_count": null,
   "metadata": {},
   "outputs": [],
   "source": [
    "#|export\n",
    "@call_parse\n",
    "def nbdev_clean(\n",
    "    fname:str=None, # A notebook name or glob to clean\n",
    "    clear_all:bool=False, # Clean all metadata and outputs\n",
    "    disp:bool=False,  # Print the cleaned outputs\n",
    "    stdin:bool=False # Read notebook from input stream\n",
    "):\n",
    "    \"Clean all notebooks in `fname` to avoid merge conflicts\"\n",
    "    # Git hooks will pass the notebooks in stdin\n",
    "    allowed_metadata_keys = config_key(\"allowed_metadata_keys\", default='', missing_ok=True, path=False).split()\n",
    "    allowed_cell_metadata_keys = config_key(\"allowed_cell_metadata_keys\", default='', missing_ok=True, path=False).split()\n",
    "    _clean = partial(clean_nb, clear_all=clear_all,\n",
    "                     allowed_metadata_keys=allowed_metadata_keys,\n",
    "                     allowed_cell_metadata_keys=allowed_cell_metadata_keys)\n",
    "    _write = partial(process_write, warn_msg='Failed to clean notebook', proc_nb=_clean)\n",
    "    if stdin: return _write(f_in=sys.stdin, f_out=sys.stdout)\n",
    "    \n",
    "    if fname is None: fname = config_key(\"nbs_path\", '.', missing_ok=True)\n",
    "    for f in globtastic(fname, file_glob='*.ipynb', skip_folder_re='^[_.]'): _write(f_in=f, disp=disp)"
   ]
  },
  {
   "cell_type": "markdown",
   "metadata": {},
   "source": [
    "By default (`fname` left to `None`), the all the notebooks in `lib_folder` are cleaned. You can opt in to fully clean the notebook by removing every bit of metadata and the cell outputs by passing `clear_all=True`.\n",
    "\n",
    "If you want to keep some keys in the main notebook metadata you can set `allowed_metadata_keys` in `settings.ini`.\n",
    "Similarly for cell level metadata use: `allowed_cell_metadata_keys`. For example, to preserve both `k1` and `k2` at both the notebook and cell level adding the following in `settings.ini`:\n",
    "```\n",
    "...\n",
    "allowed_metadata_keys = k1 k2\n",
    "allowed_cell_metadata_keys = k1 k2\n",
    "...\n",
    "```"
   ]
  },
  {
   "cell_type": "code",
   "execution_count": null,
   "metadata": {},
   "outputs": [],
   "source": [
    "#|export\n",
    "@call_parse\n",
    "def nbdev_install_hooks():\n",
    "    \"Install git hooks to clean and trust notebooks automatically\"\n",
    "    nb_path = config_key(\"nbs_path\", '.')\n",
    "    path = get_config().config_path\n",
    "    hook_path = path/'.git'/'hooks'\n",
    "    fn = hook_path/'post-merge'\n",
    "    hook_path.mkdir(parents=True, exist_ok=True)\n",
    "    fn.write_text(\"#!/bin/bash\\nnbdev_trust\")\n",
    "    os.chmod(fn, os.stat(fn).st_mode | stat.S_IEXEC)\n",
    "    #Clean notebooks on commit/diff\n",
    "    (path/'.gitconfig').write_text(\"\"\"# Generated by nbdev_install_git_hooks\n",
    "#\n",
    "# If you need to disable this instrumentation do:\n",
    "#   git config --local --unset include.path\n",
    "#\n",
    "# To restore the filter\n",
    "#   git config --local include.path .gitconfig\n",
    "#\n",
    "# If you see notebooks not stripped, checked the filters are applied in .gitattributes\n",
    "#\n",
    "[filter \"clean-nbs\"]\n",
    "        clean = nbdev_clean --stdin\n",
    "        smudge = cat\n",
    "        required = true\n",
    "[diff \"ipynb\"]\n",
    "        textconv = nbdev_clean --disp --fname\n",
    "\"\"\")\n",
    "    cmd = \"git config --local include.path ../.gitconfig\"\n",
    "    run(cmd)\n",
    "    print(\"Hooks are installed and repo's .gitconfig is now trusted\")\n",
    "    (nb_path/'.gitattributes').write_text(\"**/*.ipynb filter=clean-nbs\\n**/*.ipynb diff=ipynb\\n\")"
   ]
  },
  {
   "cell_type": "markdown",
   "metadata": {},
   "source": [
    "## Export -"
   ]
  },
  {
   "cell_type": "code",
   "execution_count": null,
   "metadata": {},
   "outputs": [],
   "source": [
    "#|hide\n",
    "#|eval:false\n",
    "from nbdev.doclinks import nbdev_export\n",
    "nbdev_export()"
   ]
  },
  {
   "cell_type": "code",
   "execution_count": null,
   "metadata": {},
   "outputs": [],
   "source": []
  }
 ],
 "metadata": {
  "jupytext": {
   "split_at_heading": true
  },
  "kernelspec": {
   "display_name": "Python 3 (ipykernel)",
   "language": "python",
   "name": "python3"
  }
 },
 "nbformat": 4,
 "nbformat_minor": 4
}
