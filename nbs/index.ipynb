{
 "cells": [
  {
   "cell_type": "markdown",
   "metadata": {},
   "source": [
    "[![CI](https://github.com/fastai/nbprocess/actions/workflows/test.yaml/badge.svg)](https://github.com/fastai/nbprocess/actions/workflows/test.yaml) [![Deploy to GitHub Pages](https://github.com/fastai/nbprocess/actions/workflows/deploy.yaml/badge.svg)](https://github.com/fastai/nbprocess/actions/workflows/deploy.yaml)"
   ]
  },
  {
   "cell_type": "markdown",
   "metadata": {},
   "source": [
    "# nbprocess\n",
    "\n",
    "> Process and export Jupyter Notebooks fast"
   ]
  },
  {
   "cell_type": "markdown",
   "metadata": {},
   "source": [
    "This will become v2 of nbdev in the near-ish future."
   ]
  },
  {
   "cell_type": "markdown",
   "metadata": {},
   "source": [
    "## Install"
   ]
  },
  {
   "cell_type": "markdown",
   "metadata": {},
   "source": [
    "With pip:\n",
    "\n",
    "    pip install nbprocess\n",
    "\n",
    "With conda:\n",
    "\n",
    "    conda install -c fastai nbprocess"
   ]
  },
  {
   "cell_type": "markdown",
   "metadata": {},
   "source": [
    "## How to use"
   ]
  },
  {
   "cell_type": "markdown",
   "metadata": {},
   "source": [
    "By default docs are exported for use with [Quarto](https://quarto.org/). To install Quarto on Ubuntu, run `make install`. See the Quarto docs for other platforms.\n",
    "\n",
    "The following CLI tools are provided:\n",
    "\n",
    "- `nbprocess_create_config`: Create `settings.ini` skeleton\n",
    "- `nbprocess_export`: Export notebooks to Python modules\n",
    "- `nbprocess_update`: Update Python modules from a notebook\n",
    "- `nbprocess_fix`: Fix merge conflicts in notebooks\n",
    "- `nbprocess_filter`: A filter for Quarto\n",
    "- `nbprocess_quarto`: Create Quarto web site\n",
    "- `nbprocess_new`: Create a new `nbprocess` project\n",
    "- `nbprocess_migrate_directives`: helps you migrate all your directives from nbdev v1 to v2."
   ]
  },
  {
   "cell_type": "code",
   "execution_count": null,
   "metadata": {},
   "outputs": [],
   "source": []
  }
 ],
 "metadata": {
  "kernelspec": {
   "display_name": "Python 3 (ipykernel)",
   "language": "python",
   "name": "python3"
  },
  "language_info": {
   "codemirror_mode": {
    "name": "ipython",
    "version": 3
   },
   "file_extension": ".py",
   "mimetype": "text/x-python",
   "name": "python",
   "nbconvert_exporter": "python",
   "pygments_lexer": "ipython3",
   "version": "3.9.10"
  },
  "toc": {
   "base_numbering": 1,
   "nav_menu": {},
   "number_sections": false,
   "sideBar": true,
   "skip_h1_title": false,
   "title_cell": "Table of Contents",
   "title_sidebar": "Contents",
   "toc_cell": false,
   "toc_position": {},
   "toc_section_display": true,
   "toc_window_display": false
  }
 },
 "nbformat": 4,
 "nbformat_minor": 4
}
