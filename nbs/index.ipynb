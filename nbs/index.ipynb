{
 "cells": [
  {
   "cell_type": "markdown",
   "metadata": {},
   "source": [
    "[![CI](https://github.com/fastai/nbprocess/actions/workflows/test.yaml/badge.svg)](https://github.com/fastai/nbprocess/actions/workflows/test.yaml) [![Deploy to GitHub Pages](https://github.com/fastai/nbprocess/actions/workflows/deploy.yaml/badge.svg)](https://github.com/fastai/nbprocess/actions/workflows/deploy.yaml)"
   ]
  },
  {
   "cell_type": "markdown",
   "metadata": {},
   "source": [
    "# nbprocess\n",
    "\n",
    "> Process and export Jupyter Notebooks fast"
   ]
  },
  {
   "cell_type": "markdown",
   "metadata": {},
   "source": [
    "This will become v2 of nbdev in the near-ish future."
   ]
  },
  {
   "cell_type": "markdown",
   "metadata": {},
   "source": [
    "## Install"
   ]
  },
  {
   "cell_type": "markdown",
   "metadata": {},
   "source": [
    "With pip:\n",
    "\n",
    "    pip install nbprocess\n",
    "\n",
    "With conda:\n",
    "\n",
    "    conda install -c fastai nbprocess"
   ]
  },
  {
   "cell_type": "markdown",
   "metadata": {},
   "source": [
    "## How to use"
   ]
  },
  {
   "cell_type": "markdown",
   "metadata": {},
   "source": [
    "By default docs are exported for use with [Quarto](https://quarto.org/). To install Quarto on Ubuntu, run `nbprocess_install`. See the Quarto docs for other platforms.\n",
    "\n",
    "The following CLI tools are provided:"
   ]
  },
  {
   "cell_type": "markdown",
   "metadata": {},
   "source": [
    "```\n",
    "nbprocess_bump_version          Increment version in `settings.py` by one\n",
    "nbprocess_clean                 Clean all notebooks in `fname` to avoid merge conflicts\n",
    "nbprocess_conda                 Create and upload a conda package.\n",
    "nbprocess_create_config         Creates a new config file for `lib_name` and `user` and saves it.\n",
    "nbprocess_deploy                Deploy docs to GitHub Pages.\n",
    "nbprocess_docs                  Generate the docs.\n",
    "nbprocess_export                Export notebooks in `path` to python modules\n",
    "nbprocess_filter                A notebook filter for quarto\n",
    "nbprocess_fix                   Create working notebook from conflicted notebook `nbname`\n",
    "nbprocess_ghp_deploy            Deploy docs in doc_path from settings.ini to GitHub Pages\n",
    "nbprocess_help                  Show help for all console scripts\n",
    "nbprocess_install               Install quarto and the current library.\n",
    "nbprocess_install_hooks         Install git hooks to clean/trust notebooks automatically\n",
    "nbprocess_install_quarto        Installs latest quarto on mac or linux.  Prints instructions for Windows.\n",
    "nbprocess_migrate_directives     Convert all directives in `fname` from v1 to v2.\n",
    "nbprocess_new                   Create a new project from the current git repo\n",
    "nbprocess_prepare               Export notebooks to python modules, test code and clean notebooks.\n",
    "nbprocess_preview               Start a local docs webserver.\n",
    "nbprocess_pypi                  Create and upload python package to pypi.\n",
    "nbprocess_quarto                Create quarto docs and README.md\n",
    "nbprocess_release               Release both conda and pypi packages.\n",
    "nbprocess_sidebar               Create sidebar.yml\n",
    "nbprocess_test                  Test in parallel the notebooks matching `fname`, passing along `flags`\n",
    "nbprocess_trust                 Trust notebooks matching `fname`\n",
    "nbprocess_update                Propagates any change in the modules matching `fname` to the notebooks that created them\n",
    "```"
   ]
  },
  {
   "cell_type": "code",
   "execution_count": null,
   "metadata": {},
   "outputs": [],
   "source": []
  }
 ],
 "metadata": {
  "kernelspec": {
   "display_name": "Python 3 (ipykernel)",
   "language": "python",
   "name": "python3"
  }
 },
 "nbformat": 4,
 "nbformat_minor": 4
}
