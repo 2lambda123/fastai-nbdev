{
 "cells": [
  {
   "cell_type": "markdown",
   "metadata": {},
   "source": [
    "[![CI](https://github.com/fastai/nbprocess/actions/workflows/test.yaml/badge.svg)](https://github.com/fastai/nbprocess/actions/workflows/test.yaml) [![Deploy to GitHub Pages](https://github.com/fastai/nbprocess/actions/workflows/deploy.yaml/badge.svg)](https://github.com/fastai/nbprocess/actions/workflows/deploy.yaml)"
   ]
  },
  {
   "cell_type": "markdown",
   "metadata": {},
   "source": [
    "# nbprocess\n",
    "\n",
    "> Process and export Jupyter Notebooks fast"
   ]
  },
  {
   "cell_type": "markdown",
   "metadata": {},
   "source": [
    "This will become v2 of nbdev in the near-ish future."
   ]
  },
  {
   "cell_type": "markdown",
   "metadata": {},
   "source": [
    "## Install"
   ]
  },
  {
   "cell_type": "markdown",
   "metadata": {},
   "source": [
    "With pip:\n",
    "\n",
    "    pip install nbprocess\n",
    "\n",
    "With conda:\n",
    "\n",
    "    conda install -c fastai nbprocess"
   ]
  },
  {
   "cell_type": "markdown",
   "metadata": {},
   "source": [
    "## How to use"
   ]
  },
  {
   "cell_type": "markdown",
   "metadata": {},
   "source": [
    "By default docs are exported for use with [Quarto](https://quarto.org/). To install Quarto on Ubuntu, run `nbprocess_install`. See the Quarto docs for other platforms.\n",
    "\n",
    "You can run `nbprocess_help` from the terminal to see a list of all CLI tools:"
   ]
  },
  {
   "cell_type": "code",
   "execution_count": null,
   "metadata": {},
   "outputs": [
    {
     "name": "stdout",
     "output_type": "stream",
     "text": [
      "\u001b[1m\u001b[94mnbprocess_bump_version\u001b[0m          Increment version in `settings.py` by one\n",
      "\u001b[1m\u001b[94mnbprocess_clean\u001b[0m                 Clean all notebooks in `fname` to avoid merge conflicts\n",
      "\u001b[1m\u001b[94mnbprocess_conda\u001b[0m                 Create and upload a conda package.\n",
      "\u001b[1m\u001b[94mnbprocess_create_config\u001b[0m         Creates a new config file for `lib_name` and `user` and saves it.\n",
      "\u001b[1m\u001b[94mnbprocess_deploy\u001b[0m                Deploy docs to GitHub Pages.\n",
      "\u001b[1m\u001b[94mnbprocess_docs\u001b[0m                  Generate the docs.\n",
      "\u001b[1m\u001b[94mnbprocess_export\u001b[0m                Export notebooks in `path` to python modules\n",
      "\u001b[1m\u001b[94mnbprocess_filter\u001b[0m                A notebook filter for quarto\n",
      "\u001b[1m\u001b[94mnbprocess_fix\u001b[0m                   Create working notebook from conflicted notebook `nbname`\n",
      "\u001b[1m\u001b[94mnbprocess_ghp_deploy\u001b[0m            Deploy docs in doc_path from settings.ini to GitHub Pages\n",
      "\u001b[1m\u001b[94mnbprocess_help\u001b[0m                  Show help for all console scripts\n",
      "\u001b[1m\u001b[94mnbprocess_install\u001b[0m               Install quarto and the current library.\n",
      "\u001b[1m\u001b[94mnbprocess_install_hooks\u001b[0m         Install git hooks to clean/trust notebooks automatically\n",
      "\u001b[1m\u001b[94mnbprocess_install_quarto\u001b[0m        Installs latest quarto on mac or linux.  Prints instructions for Windows.\n",
      "\u001b[1m\u001b[94mnbprocess_migrate_directives\u001b[0m     Convert all directives in `fname` from v1 to v2.\n",
      "\u001b[1m\u001b[94mnbprocess_new\u001b[0m                   Create a new project from the current git repo\n",
      "\u001b[1m\u001b[94mnbprocess_prepare\u001b[0m               Export notebooks to python modules, test code and clean notebooks.\n",
      "\u001b[1m\u001b[94mnbprocess_preview\u001b[0m               Start a local docs webserver.\n",
      "\u001b[1m\u001b[94mnbprocess_pypi\u001b[0m                  Create and upload python package to pypi.\n",
      "\u001b[1m\u001b[94mnbprocess_quarto\u001b[0m                Create quarto docs and README.md\n",
      "\u001b[1m\u001b[94mnbprocess_release\u001b[0m               Release both conda and pypi packages.\n",
      "\u001b[1m\u001b[94mnbprocess_sidebar\u001b[0m               Create sidebar.yml\n",
      "\u001b[1m\u001b[94mnbprocess_test\u001b[0m                  Test in parallel the notebooks matching `fname`, passing along `flags`\n",
      "\u001b[1m\u001b[94mnbprocess_trust\u001b[0m                 Trust notebooks matching `fname`\n",
      "\u001b[1m\u001b[94mnbprocess_update\u001b[0m                Propagates any change in the modules matching `fname` to the notebooks that created them\n"
     ]
    }
   ],
   "source": [
    "!nbprocess_help"
   ]
  }
 ],
 "metadata": {
  "kernelspec": {
   "display_name": "Python 3 (ipykernel)",
   "language": "python",
   "name": "python3"
  }
 },
 "nbformat": 4,
 "nbformat_minor": 4
}
