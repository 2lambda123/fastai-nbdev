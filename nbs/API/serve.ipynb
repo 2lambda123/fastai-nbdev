{
 "cells": [
  {
   "cell_type": "markdown",
   "id": "36769638",
   "metadata": {},
   "source": [
    "# serve\n",
    "\n",
    "> A parallel ipynb processor (experimental)\n",
    "- order: 17"
   ]
  },
  {
   "cell_type": "code",
   "execution_count": null,
   "id": "f305fea5",
   "metadata": {},
   "outputs": [],
   "source": [
    "#| default_exp serve"
   ]
  },
  {
   "cell_type": "code",
   "execution_count": null,
   "id": "6899a335",
   "metadata": {},
   "outputs": [],
   "source": [
    "#|export\n",
    "import ast,subprocess,threading,sys,traceback\n",
    "from shutil import rmtree,copy2\n",
    "from contextlib import contextmanager\n",
    "\n",
    "from fastcore.utils import *\n",
    "from fastcore.parallel import parallel\n",
    "from fastcore.script import call_parse\n",
    "from fastcore.meta import delegates\n",
    "\n",
    "from nbdev.config import get_config\n",
    "from nbdev.doclinks import nbglob_cli,nbglob\n",
    "from nbdev.processors import FilterDefaults\n",
    "from nbdev import serve_drv"
   ]
  },
  {
   "cell_type": "code",
   "execution_count": null,
   "id": "32c11e55",
   "metadata": {},
   "outputs": [],
   "source": [
    "#|hide\n",
    "__file__ = '16_serve.ipynb'"
   ]
  },
  {
   "cell_type": "code",
   "execution_count": null,
   "id": "65766a33",
   "metadata": {},
   "outputs": [],
   "source": [
    "#|export\n",
    "def _is_qpy(path:Path):\n",
    "    \"Is `path` a py script starting with frontmatter?\"\n",
    "    path = Path(path)\n",
    "    if not path.suffix=='.py': return\n",
    "    p = ast.parse(path.read_text())\n",
    "#     try: p = ast.parse(path.read_text())\n",
    "#     except: return\n",
    "    if not p.body: return\n",
    "    a = p.body[0]\n",
    "    if isinstance(a, ast.Expr) and isinstance(a.value, ast.Constant):\n",
    "        v = a.value.value.strip()\n",
    "        vl = v.splitlines()\n",
    "        if vl[0]=='---' and vl[-1]=='---': return v\n",
    "\n",
    "def _exec_py(fname):\n",
    "    \"Exec a python script and warn on error\"\n",
    "    try: subprocess.check_output('python ' + fname, shell=True)\n",
    "    except subprocess.CalledProcessError as cpe: warn(str(cpe))"
   ]
  },
  {
   "cell_type": "code",
   "execution_count": null,
   "id": "abc3835a",
   "metadata": {},
   "outputs": [],
   "source": [
    "#|export\n",
    "def _proc_file(s, cache, path, mtime=None):\n",
    "    d = cache/s.relative_to(path)\n",
    "    if s.suffix=='.py': d = d.with_suffix('.qmd')\n",
    "    if d.exists():\n",
    "        dtime = d.stat().st_mtime\n",
    "        if mtime: dtime = max(dtime, mtime)\n",
    "        if s.stat().st_mtime<=dtime: return\n",
    "\n",
    "    d.parent.mkdir(parents=True, exist_ok=True)\n",
    "    if s.suffix=='.ipynb': return s,d,FilterDefaults\n",
    "    md = _is_qpy(s)\n",
    "    if md: return s,d,md\n",
    "    else: copy2(s,d)"
   ]
  },
  {
   "cell_type": "code",
   "execution_count": null,
   "id": "14463227",
   "metadata": {},
   "outputs": [],
   "source": [
    "#|export\n",
    "@call_parse\n",
    "@delegates(nbglob_cli)\n",
    "def proc_nbs(\n",
    "    path:str='', # Path to notebooks\n",
    "    n_workers:int=defaults.cpus,  # Number of workers\n",
    "    force:bool=False,  # Ignore cache and build all\n",
    "    file_glob:str='', # Only include files matching glob\n",
    "    **kwargs):\n",
    "    \"Process notebooks in `path` for docs rendering\"\n",
    "    from multiprocessing.forkserver import set_forkserver_preload\n",
    "    set_forkserver_preload(['io', 'contextlib', 'execnb.nbio'])\n",
    "\n",
    "    cfg = get_config()\n",
    "    cache = cfg.config_path/'_proc'\n",
    "    path = Path(path or cfg.nbs_path)\n",
    "    files = nbglob(path, func=Path, file_glob=file_glob, **kwargs)\n",
    "    if (path/'_quarto.yml').exists(): files.append(path/'_quarto.yml')\n",
    "\n",
    "    # If settings.ini or filter script newer than cache folder modified, delete cache\n",
    "    chk_mtime = max(cfg.config_file.stat().st_mtime, Path(__file__).stat().st_mtime)\n",
    "    cache.mkdir(parents=True, exist_ok=True)\n",
    "    cache_mtime = cache.stat().st_mtime\n",
    "    if force or (cache.exists and cache_mtime<chk_mtime): rmtree(cache)\n",
    "\n",
    "    files = files.map(_proc_file, mtime=cache_mtime, cache=cache, path=path).filter()\n",
    "    kw = {} if IN_NOTEBOOK else {'method':'forkserver' if os.name=='posix' else 'spawn'}\n",
    "    parallel(serve_drv.main, files, n_workers=n_workers, pause=0.01, **kw)\n",
    "    if cache.exists(): cache.touch()\n",
    "    return cache"
   ]
  },
  {
   "cell_type": "code",
   "execution_count": null,
   "id": "1745c2c3",
   "metadata": {},
   "outputs": [],
   "source": [
    "#|hide\n",
    "# proc_nbs.__wrapped__(n_workers=0)"
   ]
  },
  {
   "cell_type": "code",
   "execution_count": null,
   "id": "8b9f0aad",
   "metadata": {},
   "outputs": [],
   "source": [
    "#|export\n",
    "@contextmanager\n",
    "def fs_watchdog(func, path, recursive:bool=True):\n",
    "    \"File system watchdog dispatching to `func`\"\n",
    "    from watchdog.observers import Observer\n",
    "    from watchdog.events import FileSystemEventHandler\n",
    "    class _ProcessHandler(FileSystemEventHandler): dispatch=func\n",
    "    observer = Observer()\n",
    "    observer.schedule(_ProcessHandler, path, recursive=True)\n",
    "    observer.start()\n",
    "    try: yield\n",
    "    except KeyboardInterrupt: pass\n",
    "    finally:\n",
    "        observer.stop()\n",
    "        observer.join()"
   ]
  },
  {
   "cell_type": "code",
   "execution_count": null,
   "id": "6c4719aa",
   "metadata": {},
   "outputs": [],
   "source": [
    "#|export\n",
    "def preview_server(path:str='', xtra=None):\n",
    "    cache = get_config().config_path/'_proc'\n",
    "    path = Path(path or get_config().nbs_path)\n",
    "    def _f(e):\n",
    "        src = Path(e.src_path)\n",
    "        if src.is_file() and not any(o[0]=='.' for o in src.parts):\n",
    "            res = _proc_file(src, cache, path)\n",
    "            if res:\n",
    "                try: serve_drv.main(res)\n",
    "                except: traceback.print_exc()\n",
    "\n",
    "    os.chdir(cache)\n",
    "    xtra = xtra or []\n",
    "    with fs_watchdog(_f, path): subprocess.run(['quarto','preview']+xtra)"
   ]
  },
  {
   "cell_type": "code",
   "execution_count": null,
   "id": "64572221",
   "metadata": {},
   "outputs": [],
   "source": [
    "# preview_server()"
   ]
  },
  {
   "cell_type": "markdown",
   "id": "21e2dc07",
   "metadata": {},
   "source": [
    "## Export -"
   ]
  },
  {
   "cell_type": "code",
   "execution_count": null,
   "id": "04dd6d30",
   "metadata": {},
   "outputs": [],
   "source": [
    "#|hide\n",
    "import nbdev; nbdev.nbdev_export()"
   ]
  },
  {
   "cell_type": "code",
   "execution_count": null,
   "id": "3d36e494",
   "metadata": {},
   "outputs": [],
   "source": []
  }
 ],
 "metadata": {
  "kernelspec": {
   "display_name": "Python 3 (ipykernel)",
   "language": "python",
   "name": "python3"
  }
 },
 "nbformat": 4,
 "nbformat_minor": 5
}
