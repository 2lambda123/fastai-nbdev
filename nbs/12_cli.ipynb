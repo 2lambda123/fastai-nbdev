{
 "cells": [
  {
   "cell_type": "code",
   "execution_count": null,
   "id": "510ed03d-0c3b-4caf-910d-e6eaec08fd63",
   "metadata": {},
   "outputs": [],
   "source": [
    "#|default_exp cli"
   ]
  },
  {
   "cell_type": "code",
   "execution_count": null,
   "id": "6a35c7c4-748f-4c82-a9bf-c780a8d83e90",
   "metadata": {},
   "outputs": [],
   "source": [
    "#|export\n",
    "from __future__ import annotations\n",
    "import warnings\n",
    "\n",
    "from nbdev.config import *\n",
    "from nbdev.process import *\n",
    "from nbdev.processors import *\n",
    "from nbdev.doclinks import *\n",
    "from nbdev.test import *\n",
    "from nbdev.clean import *\n",
    "from nbdev.quarto import refresh_quarto_yml\n",
    "from nbdev.frontmatter import FrontmatterProc\n",
    "\n",
    "from execnb.nbio import *\n",
    "from fastcore.meta import *\n",
    "from fastcore.utils import *\n",
    "from fastcore.script import call_parse\n",
    "from fastcore.style import S\n",
    "from fastcore.shutil import rmtree,move\n",
    "\n",
    "from urllib.error import HTTPError\n",
    "from contextlib import redirect_stdout\n",
    "import os, tarfile, sys"
   ]
  },
  {
   "cell_type": "code",
   "execution_count": null,
   "id": "1e623a3d-3e77-44c6-adf3-4768b78328c5",
   "metadata": {},
   "outputs": [],
   "source": [
    "#|hide\n",
    "from nbdev import show_doc\n",
    "from fastcore.test import *"
   ]
  },
  {
   "cell_type": "markdown",
   "id": "82f1d405-9652-4991-9a2c-24cae862ce46",
   "metadata": {},
   "source": [
    "# cli\n",
    "> CLI commands"
   ]
  },
  {
   "cell_type": "markdown",
   "id": "2b955a8e",
   "metadata": {},
   "source": [
    "## Prepare -"
   ]
  },
  {
   "cell_type": "code",
   "execution_count": null,
   "id": "422ba492",
   "metadata": {},
   "outputs": [],
   "source": [
    "#|export\n",
    "@call_parse\n",
    "def prepare():\n",
    "    \"Export, test, and clean notebooks\"\n",
    "    nbdev_export.__wrapped__()\n",
    "    nbdev_test.__wrapped__()\n",
    "    nbdev_clean.__wrapped__()"
   ]
  },
  {
   "cell_type": "markdown",
   "id": "e9fc60a8",
   "metadata": {},
   "source": [
    "## Filter -"
   ]
  },
  {
   "cell_type": "code",
   "execution_count": null,
   "id": "c3b89ff6",
   "metadata": {},
   "outputs": [],
   "source": [
    "#|export\n",
    "class FilterDefaults:\n",
    "    \"Override `FilterDefaults` to change which notebook processors are used\"\n",
    "    def xtra_procs(self): return []\n",
    "\n",
    "    def base_procs(self):\n",
    "        return [FrontmatterProc, populate_language, add_show_docs, insert_warning,\n",
    "                strip_ansi, hide_line, filter_stream_, rm_header_dash,\n",
    "                clean_show_doc, exec_show_docs, rm_export, clean_magics, hide_, add_links, strip_hidden_metadata]\n",
    "\n",
    "    def procs(self):\n",
    "        \"Processors for export\"\n",
    "        return self.base_procs() + self.xtra_procs()\n",
    "    \n",
    "    def nb_proc(self, nb):\n",
    "        \"Get an `NBProcessor` with these processors\"\n",
    "        return NBProcessor(nb=nb, procs=self.procs())"
   ]
  },
  {
   "cell_type": "code",
   "execution_count": null,
   "id": "86c29369",
   "metadata": {},
   "outputs": [],
   "source": [
    "#|export\n",
    "@call_parse\n",
    "def nbdev_filter(\n",
    "    nb_txt:str=None,  # Notebook text (uses stdin if not provided)\n",
    "    fname:str=None,  # Notebook to read (uses `nb_txt` if not provided)\n",
    "):\n",
    "    \"A notebook filter for Quarto\"\n",
    "    os.environ[\"IN_TEST\"] = \"1\"\n",
    "    try: filt = get_config().get('exporter', FilterDefaults)()\n",
    "    except FileNotFoundError: filt = FilterDefaults()\n",
    "    printit = False\n",
    "    if fname: nb_txt = Path(fname).read_text()\n",
    "    elif not nb_txt: nb_txt,printit = sys.stdin.read(),True\n",
    "    nb = dict2nb(loads(nb_txt))\n",
    "    if printit:\n",
    "        with open(os.devnull, 'w') as dn:\n",
    "            with redirect_stdout(dn): filt.nb_proc(nb).process()\n",
    "    else: filt.nb_proc(nb).process()\n",
    "    res = nb2str(nb)\n",
    "    del os.environ[\"IN_TEST\"]\n",
    "    if printit: print(res, flush=True)\n",
    "    else: return res"
   ]
  },
  {
   "cell_type": "code",
   "execution_count": null,
   "id": "fe4dc8bf",
   "metadata": {},
   "outputs": [],
   "source": [
    "#|hide\n",
    "# print(nbdev_filter(fname='/Users/jhoward/git/nbdev/nbs/06_merge.ipynb'))"
   ]
  },
  {
   "cell_type": "markdown",
   "id": "3e7e76f7-7b19-4347-a52b-c33ad15d2178",
   "metadata": {},
   "source": [
    "## New -"
   ]
  },
  {
   "cell_type": "code",
   "execution_count": null,
   "id": "a1c001af-2c7c-4e0b-8c7d-a7d40c08f5e9",
   "metadata": {},
   "outputs": [],
   "source": [
    "#|export\n",
    "def extract_tgz(url, dest='.'):\n",
    "    from fastcore.net import urlopen\n",
    "    with urlopen(url) as u: tarfile.open(mode='r:gz', fileobj=u).extractall(dest)"
   ]
  },
  {
   "cell_type": "code",
   "execution_count": null,
   "id": "60df4b28",
   "metadata": {},
   "outputs": [],
   "source": [
    "#|export\n",
    "def _render_nb(fn, cfg):\n",
    "    \"Render templated values like `{{lib_name}}` in notebook at `fn` from `cfg`\"\n",
    "    txt = fn.read_text()\n",
    "    txt = txt.replace('from your_lib.core', f'from {cfg.lib_path}.core') # for compatibility with old templates\n",
    "    for k,v in cfg.d.items(): txt = txt.replace('{{'+k+'}}', v)\n",
    "    fn.write_text(txt)"
   ]
  },
  {
   "cell_type": "code",
   "execution_count": null,
   "id": "c4a663d9",
   "metadata": {},
   "outputs": [],
   "source": [
    "#|export\n",
    "@call_parse\n",
    "@delegates(nbdev_create_config)\n",
    "def nbdev_new(**kwargs):\n",
    "    \"Create a new project.\"\n",
    "    from fastcore.net import urljson\n",
    "    \n",
    "    nbdev_create_config.__wrapped__(**kwargs)\n",
    "    cfg = get_config()\n",
    "\n",
    "    path = Path()\n",
    "    tag = urljson('https://api.github.com/repos/fastai/nbdev-template/releases/latest')['tag_name']\n",
    "    url = f\"https://github.com/fastai/nbdev-template/archive/{tag}.tar.gz\"\n",
    "    extract_tgz(url)\n",
    "    tmpl_path = path/f'nbdev-template-{tag}'\n",
    "\n",
    "    nbexists = bool(first(path.glob('*.ipynb')))\n",
    "    for o in tmpl_path.ls():\n",
    "        if o.name == 'index.ipynb': _render_nb(o, cfg)\n",
    "        if o.name == '00_core.ipynb' and not nbexists: move(str(o), './')\n",
    "        elif not (path/o.name).exists(): move(str(o), './')\n",
    "    rmtree(tmpl_path)\n",
    "\n",
    "    refresh_quarto_yml()\n",
    "\n",
    "    nbdev_export.__wrapped__()"
   ]
  },
  {
   "cell_type": "code",
   "execution_count": null,
   "id": "bdbd3145",
   "metadata": {},
   "outputs": [],
   "source": [
    "#|hide\n",
    "# NOTE: temporarily disabled tests until we make them more robust"
   ]
  },
  {
   "cell_type": "code",
   "execution_count": null,
   "id": "abf9300e",
   "metadata": {},
   "outputs": [],
   "source": [
    "#|notest\n",
    "#|hide\n",
    "import nbdev; nbdev.nbdev_export() # Ensure we have the latest command below"
   ]
  },
  {
   "cell_type": "code",
   "execution_count": null,
   "id": "d3ba950c",
   "metadata": {},
   "outputs": [],
   "source": [
    "#|notest\n",
    "#|hide\n",
    "import tempfile"
   ]
  },
  {
   "cell_type": "code",
   "execution_count": null,
   "id": "bbc482ff",
   "metadata": {},
   "outputs": [],
   "source": [
    "#|notest\n",
    "#|hide\n",
    "# Ensure we're in an empty tempdir for testing\n",
    "cwd = get_config().path('nbs_path')\n",
    "try: rmtree(tmpdir)\n",
    "except (NameError, FileNotFoundError): pass\n",
    "tmpdir = Path(tempfile.mkdtemp())\n",
    "p = tmpdir/'my-project'\n",
    "p.mkdir()\n",
    "os.chdir(p)"
   ]
  },
  {
   "cell_type": "markdown",
   "id": "c49f83f0",
   "metadata": {},
   "source": [
    "Since it calls `nbdev_create_config` internally, settings can be passed as command line args, and missing settings are inferred from the current git/GitHub repo if possible, otherwise prompted for."
   ]
  },
  {
   "cell_type": "code",
   "execution_count": null,
   "id": "657c4ff9",
   "metadata": {},
   "outputs": [
    {
     "name": "stdout",
     "output_type": "stream",
     "text": [
      "settings.ini created.\r\n"
     ]
    }
   ],
   "source": [
    "#|notest\n",
    "!nbdev_new --repo my-project --user fastai --author fastai --author_email info@fast.ai --description 'A test project'"
   ]
  },
  {
   "cell_type": "markdown",
   "id": "f4b6bfde",
   "metadata": {},
   "source": [
    "Your repo will now contain the following:"
   ]
  },
  {
   "cell_type": "code",
   "execution_count": null,
   "id": "c63a9ba4",
   "metadata": {},
   "outputs": [
    {
     "name": "stdout",
     "output_type": "stream",
     "text": [
      "\u001b[34m.\u001b[m\u001b[m             .gitignore    MANIFEST.in   index.ipynb   setup.py\r\n",
      "\u001b[34m..\u001b[m\u001b[m            00_core.ipynb README.md     \u001b[34mmy_project\u001b[m\u001b[m    styles.css\r\n",
      "\u001b[34m.github\u001b[m\u001b[m       LICENSE       _quarto.yml   settings.ini\r\n"
     ]
    }
   ],
   "source": [
    "#|notest\n",
    "!ls -a"
   ]
  },
  {
   "cell_type": "markdown",
   "id": "100562fa",
   "metadata": {},
   "source": [
    "Information will be rendered from your config into `index.ipynb`:"
   ]
  },
  {
   "cell_type": "code",
   "execution_count": null,
   "id": "5bf63c97",
   "metadata": {},
   "outputs": [
    {
     "data": {
      "text/markdown": [
       "```python\n",
       "#| hide\n",
       "from my_project.core import *\n",
       "```"
      ],
      "text/plain": [
       "<IPython.core.display.Markdown object>"
      ]
     },
     "execution_count": null,
     "metadata": {},
     "output_type": "execute_result"
    }
   ],
   "source": [
    "#|notest\n",
    "index_nb = read_nb('index.ipynb')\n",
    "show_src(index_nb.cells[0].source)"
   ]
  },
  {
   "cell_type": "code",
   "execution_count": null,
   "id": "49c62cba",
   "metadata": {},
   "outputs": [
    {
     "data": {
      "text/markdown": [
       "```python\n",
       "# my-project\n",
       "\n",
       "> A test project\n",
       "```"
      ],
      "text/plain": [
       "<IPython.core.display.Markdown object>"
      ]
     },
     "execution_count": null,
     "metadata": {},
     "output_type": "execute_result"
    }
   ],
   "source": [
    "#|notest\n",
    "show_src(index_nb.cells[1].source)"
   ]
  },
  {
   "cell_type": "code",
   "execution_count": null,
   "id": "343f1e2e",
   "metadata": {},
   "outputs": [
    {
     "data": {
      "text/markdown": [
       "```sh\n",
       "pip install my_project\n",
       "```"
      ],
      "text/plain": [
       "<IPython.core.display.Markdown object>"
      ]
     },
     "execution_count": null,
     "metadata": {},
     "output_type": "execute_result"
    }
   ],
   "source": [
    "#|notest\n",
    "show_src(index_nb.cells[4].source.splitlines()[1], lang='sh')"
   ]
  },
  {
   "cell_type": "code",
   "execution_count": null,
   "id": "a4d1e103",
   "metadata": {},
   "outputs": [
    {
     "name": "stdout",
     "output_type": "stream",
     "text": [
      "Success.\r\n"
     ]
    }
   ],
   "source": [
    "#|notest\n",
    "#|hide\n",
    "# NOTE: temporarily disabled - it fails on linux but not mac\n",
    "# `nbdev_prepare` succeeds with no file changes on a new nbdev repo\n",
    "!rm -rf .git\n",
    "!git init -q\n",
    "!git add .\n",
    "!git commit -q -m'Initial commit'\n",
    "!nbdev_prepare\n",
    "test_eq(run('git status -uno -s'), '')"
   ]
  },
  {
   "cell_type": "code",
   "execution_count": null,
   "id": "7d0b7a4d",
   "metadata": {},
   "outputs": [],
   "source": [
    "#|notest\n",
    "#|hide\n",
    "os.chdir(cwd) # Go back to original working dir\n",
    "rmtree(tmpdir)"
   ]
  },
  {
   "cell_type": "markdown",
   "id": "280e0d6d-6559-4fc3-9478-320ce5eff0dc",
   "metadata": {},
   "source": [
    "## Help"
   ]
  },
  {
   "cell_type": "code",
   "execution_count": null,
   "id": "e34f6ff4-f85b-4805-b406-121279cc9246",
   "metadata": {},
   "outputs": [],
   "source": [
    "#|export\n",
    "@call_parse\n",
    "def chelp():\n",
    "    \"Show help for all console scripts\"\n",
    "    from fastcore.xtras import console_help\n",
    "    console_help('nbdev')"
   ]
  },
  {
   "cell_type": "code",
   "execution_count": null,
   "id": "b50d27fb-c343-47e2-a008-7ebdd02e1356",
   "metadata": {},
   "outputs": [
    {
     "name": "stdout",
     "output_type": "stream",
     "text": [
      "\u001b[1m\u001b[94mnbdev_bump_version\u001b[0m              Increment version in settings.ini by one\n",
      "\u001b[1m\u001b[94mnbdev_changelog\u001b[0m                 Create a CHANGELOG.md file from closed and labeled GitHub issues\n",
      "\u001b[1m\u001b[94mnbdev_clean\u001b[0m                     Clean all notebooks in `fname` to avoid merge conflicts\n",
      "\u001b[1m\u001b[94mnbdev_conda\u001b[0m                     Create a `meta.yaml` file ready to be built into a package, and optionally build and upload it\n",
      "\u001b[1m\u001b[94mnbdev_create_config\u001b[0m             Create a config file.\n",
      "\u001b[1m\u001b[94mnbdev_deploy\u001b[0m                    Deploy docs to GitHub Pages\n",
      "\u001b[1m\u001b[94mnbdev_docs\u001b[0m                      Create Quarto docs and README.md\n",
      "\u001b[1m\u001b[94mnbdev_export\u001b[0m                    Export notebooks in `path` to Python modules\n",
      "\u001b[1m\u001b[94mnbdev_filter\u001b[0m                    A notebook filter for Quarto\n",
      "\u001b[1m\u001b[94mnbdev_fix\u001b[0m                       Create working notebook from conflicted notebook `nbname`\n",
      "\u001b[1m\u001b[94mnbdev_help\u001b[0m                      Show help for all console scripts\n",
      "\u001b[1m\u001b[94mnbdev_install\u001b[0m                   Install Quarto and the current library\n",
      "\u001b[1m\u001b[94mnbdev_install_hooks\u001b[0m             Install Jupyter and git hooks to automatically clean, trust, and fix merge conflicts in notebooks\n",
      "\u001b[1m\u001b[94mnbdev_install_quarto\u001b[0m            Install latest Quarto on macOS or Linux, prints instructions for Windows\n",
      "\u001b[1m\u001b[94mnbdev_merge\u001b[0m                     Git merge driver for notebooks\n",
      "\u001b[1m\u001b[94mnbdev_migrate\u001b[0m                   Convert all directives and callouts in `fname` from v1 to v2\n",
      "\u001b[1m\u001b[94mnbdev_new\u001b[0m                       Create a new project.\n",
      "\u001b[1m\u001b[94mnbdev_prepare\u001b[0m                   Export, test, and clean notebooks\n",
      "\u001b[1m\u001b[94mnbdev_preview\u001b[0m                   Preview docs locally\n",
      "\u001b[1m\u001b[94mnbdev_pypi\u001b[0m                      Create and upload Python package to PyPI\n",
      "\u001b[1m\u001b[94mnbdev_quarto\u001b[0m                    Create Quarto docs and README.md\n",
      "\u001b[1m\u001b[94mnbdev_readme\u001b[0m                    Render README.md from index.ipynb\n",
      "\u001b[1m\u001b[94mnbdev_release_both\u001b[0m              Release both conda and PyPI packages\n",
      "\u001b[1m\u001b[94mnbdev_release_gh\u001b[0m                Calls `nbdev_changelog`, lets you edit the result, then pushes to git and calls `nbdev_release_git`\n",
      "\u001b[1m\u001b[94mnbdev_release_git\u001b[0m               Tag and create a release in GitHub for the current version\n",
      "\u001b[1m\u001b[94mnbdev_sidebar\u001b[0m                   Create sidebar.yml\n",
      "\u001b[1m\u001b[94mnbdev_test\u001b[0m                      Test in parallel notebooks matching `fname`, passing along `flags`\n",
      "\u001b[1m\u001b[94mnbdev_trust\u001b[0m                     Trust notebooks matching `fname`\n",
      "\u001b[1m\u001b[94mnbdev_update\u001b[0m                    Propagate change in modules matching `fname` to notebooks that created them\n"
     ]
    }
   ],
   "source": [
    "chelp()"
   ]
  },
  {
   "cell_type": "markdown",
   "id": "aa35b010",
   "metadata": {},
   "source": [
    "## Export -"
   ]
  },
  {
   "cell_type": "code",
   "execution_count": null,
   "id": "3d8031ce",
   "metadata": {},
   "outputs": [],
   "source": [
    "#|hide\n",
    "import nbdev; nbdev.nbdev_export()"
   ]
  },
  {
   "cell_type": "code",
   "execution_count": null,
   "id": "12588a26-43a6-42c4-bacd-896293c871ab",
   "metadata": {},
   "outputs": [],
   "source": []
  }
 ],
 "metadata": {
  "kernelspec": {
   "display_name": "Python 3 (ipykernel)",
   "language": "python",
   "name": "python3"
  }
 },
 "nbformat": 4,
 "nbformat_minor": 5
}
