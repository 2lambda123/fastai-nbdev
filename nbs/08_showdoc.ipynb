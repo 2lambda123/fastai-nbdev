{
 "cells": [
  {
   "cell_type": "code",
   "execution_count": 2,
   "id": "5b3e6248",
   "metadata": {},
   "outputs": [],
   "source": [
    "#|default_exp showdoc"
   ]
  },
  {
   "cell_type": "markdown",
   "id": "04b59a7c",
   "metadata": {},
   "source": [
    "# showdoc\n",
    "> Display symbol documentation in notebook and website"
   ]
  },
  {
   "cell_type": "code",
   "execution_count": 596,
   "id": "7f371f15",
   "metadata": {},
   "outputs": [],
   "source": [
    "#|export\n",
    "from fastcore.docments import *\n",
    "from fastcore.utils import *\n",
    "from importlib import import_module\n",
    "from nbprocess.doclinks import *\n",
    "import inspect\n",
    "from collections import OrderedDict\n",
    "\n",
    "from nbprocess.read import get_config"
   ]
  },
  {
   "cell_type": "markdown",
   "id": "f6c573b6-73cf-4c5e-b4a6-989b62071cc1",
   "metadata": {},
   "source": [
    "## Rendering docment Tables - "
   ]
  },
  {
   "cell_type": "code",
   "execution_count": 598,
   "id": "116cf7ee-d844-4b9e-a7e9-13b3c8e64009",
   "metadata": {},
   "outputs": [],
   "source": [
    "#|export\n",
    "def _non_empty_keys(d:dict):\n",
    "    return [k for k,v in d.items() if v not in [inspect._empty, None] and v]"
   ]
  },
  {
   "cell_type": "code",
   "execution_count": 552,
   "id": "3463691d-2f68-4d8b-98be-78643c301fe4",
   "metadata": {},
   "outputs": [],
   "source": [
    "_test = { 'anno': inspect._empty,\n",
    "          'default': bool,\n",
    "          'docment': None}\n",
    "test_eq(_non_empty_keys(_test), ['default'])"
   ]
  },
  {
   "cell_type": "code",
   "execution_count": 553,
   "id": "8ea735b2-a5ee-4176-8143-add7ab08a3cd",
   "metadata": {},
   "outputs": [],
   "source": [
    "#|export\n",
    "def _maybe_nm(o): \n",
    "    if o in [inspect._empty, None]: return ''\n",
    "    else: return o.__name__ if hasattr(o, '__name__') else str(o)"
   ]
  },
  {
   "cell_type": "code",
   "execution_count": 554,
   "id": "908341c8-dfb4-4e05-9122-30dcae4bc130",
   "metadata": {},
   "outputs": [],
   "source": [
    "test_eq(_maybe_nm(list), 'list')\n",
    "test_eq(_maybe_nm('fastai'), 'fastai')"
   ]
  },
  {
   "cell_type": "code",
   "execution_count": 555,
   "id": "63418af8-3f68-4301-9da3-da5787f8c257",
   "metadata": {},
   "outputs": [],
   "source": [
    "#|export\n",
    "def _list2row(l:list): \n",
    "    return '| '+' | '.join([_maybe_nm(o) for o in l]) + ' |'"
   ]
  },
  {
   "cell_type": "code",
   "execution_count": 556,
   "id": "b74936bc-a38d-4e98-a4f8-3c97a8bd8e86",
   "metadata": {},
   "outputs": [],
   "source": [
    "#|hide\n",
    "test_eq(_list2row(['Hamel', 'Jeremy']), '| Hamel | Jeremy |')\n",
    "test_eq(_list2row([inspect._empty, bool, 'foo']), '|  | bool | foo |')"
   ]
  },
  {
   "cell_type": "code",
   "execution_count": 599,
   "id": "7eff0337-25ff-4fbe-afe0-a7ef0788ebf9",
   "metadata": {},
   "outputs": [],
   "source": [
    "#|export\n",
    "class DocmentTbl:\n",
    "    # this is the column order we want these items to appear\n",
    "    _map = OrderedDict({'anno':'Type', 'default':'Default', 'docment':'Details'})\n",
    "    \n",
    "    def __init__(self, obj, verbose=False, returns=True):\n",
    "        \"Compute the docment table string\"\n",
    "        self.verbose=verbose\n",
    "        self.params = L(inspect.signature(obj).parameters.keys())\n",
    "        self.dm = docments(obj, full=True, returns=returns)\n",
    "    \n",
    "    @property\n",
    "    def _columns(self):\n",
    "        \"Compute the set of fields that have at least one non-empty value\"\n",
    "        cols = set(flatten(L(self.dm.values()).filter().map(_non_empty_keys)))\n",
    "        candidates = self._map if self.verbose else {'docment': 'Details'}\n",
    "        return {k:v for k,v in candidates.items() if k in cols}\n",
    "    \n",
    "    @property\n",
    "    def has_docment(self): return bool(self._columns)\n",
    "    \n",
    "    def _row(self, nm, props): \n",
    "        \"unpack data for single row to correspond with column names.\"\n",
    "        return [nm] + [props[c] for c in self._columns]\n",
    "    \n",
    "    @property\n",
    "    def _row_list(self):\n",
    "        \"unpack data for all rows.\"\n",
    "        ordered_params = [(p, self.dm[p]) for p in self.params]\n",
    "        return L([self._row(nm, props) for nm,props in ordered_params])\n",
    "    \n",
    "    @property\n",
    "    def _hdr_list(self): return ['  '] + [f'**{l}**' for l in L(self._columns.values())]\n",
    "\n",
    "    @property\n",
    "    def hdr_str(self):\n",
    "        \"The markdown string for the header portion of the table\"\n",
    "        md = _list2row(self._hdr_list)\n",
    "        return md + '\\n' + _list2row(['-' * len(l) for l in self._hdr_list])\n",
    "    \n",
    "    @property\n",
    "    def params_str(self): \n",
    "        \"The markdown string for the parameters portion of the table.\"\n",
    "        return '\\n'.join(self._row_list.map(_list2row))\n",
    "    \n",
    "    @property\n",
    "    def table_str(self): \n",
    "        return '\\n'.join([self.hdr_str, self.params_str]) if self._columns else ''"
   ]
  },
  {
   "cell_type": "code",
   "execution_count": 600,
   "id": "7339ca82-b816-424f-b7f4-63b8db99cef0",
   "metadata": {},
   "outputs": [],
   "source": [
    "def foo(a, \n",
    "        b, # a docment \n",
    "        c:str): ..."
   ]
  },
  {
   "cell_type": "code",
   "execution_count": 601,
   "id": "2a502993-9a72-4a8b-9a68-db8798064795",
   "metadata": {},
   "outputs": [
    {
     "name": "stdout",
     "output_type": "stream",
     "text": [
      "|    | **Type** | **Details** |\n",
      "| -- | -------- | ----------- |\n",
      "| a |  |  |\n",
      "| b |  | a docment |\n",
      "| c | str |  |\n"
     ]
    }
   ],
   "source": [
    "print(DocmentTbl(foo, verbose=True).table_str)"
   ]
  },
  {
   "cell_type": "code",
   "execution_count": null,
   "id": "b18421bf-108e-433f-b7ca-9f13749bcc42",
   "metadata": {},
   "outputs": [],
   "source": []
  },
  {
   "cell_type": "markdown",
   "id": "0eb7314a-675d-4fd8-8f9b-425666e1bd86",
   "metadata": {},
   "source": [
    "# Hamel Experiment End -  "
   ]
  },
  {
   "cell_type": "code",
   "execution_count": 4,
   "id": "660d5f98",
   "metadata": {},
   "outputs": [],
   "source": [
    "#|export\n",
    "def get_name(obj):\n",
    "    \"Get the name of `obj`\"\n",
    "    if hasattr(obj, '__name__'):       return obj.__name__\n",
    "    elif getattr(obj, '_name', False): return obj._name\n",
    "    elif hasattr(obj,'__origin__'):    return str(obj.__origin__).split('.')[-1] #for types\n",
    "    elif type(obj)==property:          return _get_property_name(obj)\n",
    "    else:                              return str(obj).split('.')[-1]"
   ]
  },
  {
   "cell_type": "code",
   "execution_count": 5,
   "id": "befa0e84",
   "metadata": {},
   "outputs": [],
   "source": [
    "#|export\n",
    "def qual_name(obj):\n",
    "    \"Get the qualified name of `obj`\"\n",
    "    if hasattr(obj,'__qualname__'): return obj.__qualname__\n",
    "    if inspect.ismethod(obj):       return f\"{get_name(obj.__self__)}.{get_name(fn)}\"\n",
    "    return get_name(obj)"
   ]
  },
  {
   "cell_type": "code",
   "execution_count": 6,
   "id": "e2570925",
   "metadata": {},
   "outputs": [],
   "source": [
    "#|export\n",
    "class ShowDocRenderer:\n",
    "    def __init__(self, sym, disp:bool=True):\n",
    "        \"Show documentation for `sym`\"\n",
    "        store_attr()\n",
    "        self.nm = qual_name(sym)\n",
    "        self.isfunc = inspect.isfunction(sym)\n",
    "        self.sig = inspect.signature(sym)\n",
    "        self.docs = docstring(sym)"
   ]
  },
  {
   "cell_type": "code",
   "execution_count": 7,
   "id": "61d7f084",
   "metadata": {},
   "outputs": [],
   "source": [
    "#|export\n",
    "class BasicMarkdownRenderer(ShowDocRenderer):\n",
    "    def _repr_markdown_(self):\n",
    "        doc = '---\\n\\n'\n",
    "        if self.isfunc: doc += '#'\n",
    "        doc += f'### {self.nm}\\n\\n> **`{self.nm}`**` {self.sig}`'\n",
    "        if self.docs: doc += f\"\\n\\n{self.docs}\"\n",
    "        return doc"
   ]
  },
  {
   "cell_type": "code",
   "execution_count": 8,
   "id": "1256ef79",
   "metadata": {},
   "outputs": [],
   "source": [
    "#|export\n",
    "def show_doc(sym, disp=True, renderer=None):\n",
    "    if renderer is None: renderer = get_config().get('renderer', None)\n",
    "    if renderer is None: renderer=BasicMarkdownRenderer\n",
    "    elif isinstance(renderer,str):\n",
    "        p,m = renderer.rsplit('.', 1)\n",
    "        renderer = getattr(import_module(p), m)\n",
    "    return renderer(sym or show_doc, disp=disp)"
   ]
  },
  {
   "cell_type": "markdown",
   "id": "a38843d9-4fa3-40f3-bb4d-949344b2bdee",
   "metadata": {},
   "source": [
    "You can use `show_doc` to document apis of functions, classes or methods:"
   ]
  },
  {
   "cell_type": "code",
   "execution_count": 593,
   "id": "53a1bc00",
   "metadata": {},
   "outputs": [
    {
     "data": {
      "text/markdown": [
       "---\n",
       "\n",
       "#### f\n",
       "\n",
       "> **`f`**` (x: int = 1)`\n",
       "\n",
       "func docstring"
      ],
      "text/plain": [
       "<__main__.BasicMarkdownRenderer at 0x7fea51fad130>"
      ]
     },
     "execution_count": 593,
     "metadata": {},
     "output_type": "execute_result"
    }
   ],
   "source": [
    "def f(x:int=1):\n",
    "    \"func docstring\"\n",
    "    ...\n",
    "\n",
    "show_doc(f)"
   ]
  },
  {
   "cell_type": "code",
   "execution_count": 594,
   "id": "1c28ec9d-29ff-497f-97b0-ca262f530cf6",
   "metadata": {},
   "outputs": [
    {
     "data": {
      "text/markdown": [
       "---\n",
       "\n",
       "### Foo\n",
       "\n",
       "> **`Foo`**` (e: int)`\n",
       "\n",
       "This is the docstring for the __init__ method"
      ],
      "text/plain": [
       "<__main__.BasicMarkdownRenderer at 0x7fea51fadf40>"
      ]
     },
     "execution_count": 594,
     "metadata": {},
     "output_type": "execute_result"
    }
   ],
   "source": [
    "class Foo:\n",
    "    def __init__(d:str,e:int):\n",
    "        \"This is the docstring for the __init__ method\"\n",
    "        ...\n",
    "\n",
    "show_doc(Foo)"
   ]
  },
  {
   "cell_type": "code",
   "execution_count": 595,
   "id": "3441e6c7-472b-411c-a179-b1e37dcbceac",
   "metadata": {},
   "outputs": [
    {
     "data": {
      "text/markdown": [
       "---\n",
       "\n",
       "#### Foo.a_method\n",
       "\n",
       "> **`Foo.a_method`**` (a: list, b: dict, c)`\n",
       "\n",
       "This is a method"
      ],
      "text/plain": [
       "<__main__.BasicMarkdownRenderer at 0x7fea51fad730>"
      ]
     },
     "execution_count": 595,
     "metadata": {},
     "output_type": "execute_result"
    }
   ],
   "source": [
    "class Foo:\n",
    "    def a_method(a:list,b:dict,c):\n",
    "        \"This is a method\"\n",
    "        ...\n",
    "\n",
    "show_doc(Foo.a_method)"
   ]
  },
  {
   "cell_type": "code",
   "execution_count": 25,
   "id": "147626ee",
   "metadata": {},
   "outputs": [],
   "source": [
    "#|export\n",
    "class BasicHtmlRenderer(ShowDocRenderer):\n",
    "    def _repr_html_(self):\n",
    "        doc = '<hr/>\\n'\n",
    "        lvl = 4 if self.isfunc else 3\n",
    "        doc += f'<h{lvl}>{self.nm}</h{lvl}>\\n<blockquote><code>{self.nm}{self.sig}</code></blockquote>'\n",
    "        if self.docs: doc += f\"<p>{self.docs}</p>\"\n",
    "        return doc"
   ]
  },
  {
   "cell_type": "code",
   "execution_count": 26,
   "id": "059071e3",
   "metadata": {},
   "outputs": [
    {
     "data": {
      "text/html": [
       "<hr/>\n",
       "<h3>F</h3>\n",
       "<blockquote><code>F(x: int = 1)</code></blockquote><p>class docstring</p>"
      ],
      "text/plain": [
       "<__main__.BasicHtmlRenderer at 0x7f98a0210790>"
      ]
     },
     "execution_count": 26,
     "metadata": {},
     "output_type": "execute_result"
    }
   ],
   "source": [
    "class F:\n",
    "    \"class docstring\"\n",
    "    def __init__(self, x:int=1): ...\n",
    "\n",
    "show_doc(F, renderer=BasicHtmlRenderer)"
   ]
  },
  {
   "cell_type": "code",
   "execution_count": 27,
   "id": "35043aa7-6b60-4ddf-8949-39a78577f23d",
   "metadata": {},
   "outputs": [],
   "source": [
    "#|export\n",
    "def showdoc_nm(tree):\n",
    "    \"Get the fully qualified name for showdoc.\"\n",
    "    return ifnone(get_patch_name(tree), tree.name)"
   ]
  },
  {
   "cell_type": "code",
   "execution_count": 28,
   "id": "fe22731d-ad7d-4080-ac91-e0d24e8b681c",
   "metadata": {},
   "outputs": [],
   "source": [
    "#|hide\n",
    "import ast\n",
    "code=\"\"\"\n",
    "@bar\n",
    "@patch\n",
    "@foo\n",
    "def a_method(self:Foo, a:list,b:dict,c):\n",
    "    \"This is a method\"\n",
    "    ...\n",
    "\"\"\"\n",
    "\n",
    "code2=\"\"\"\n",
    "@bar\n",
    "@foo\n",
    "def a_method(self:Foo, a:list,b:dict,c):\n",
    "    \"This is a method\"\n",
    "    ...\n",
    "\"\"\"\n",
    "\n",
    "_tree = ast.parse(code).body[0]\n",
    "test_eq(showdoc_nm(_tree), 'Foo.a_method')\n",
    "\n",
    "_tree2 = ast.parse(code2).body[0]\n",
    "test_eq(showdoc_nm(_tree2), 'a_method')"
   ]
  },
  {
   "cell_type": "markdown",
   "id": "ec7a2f01",
   "metadata": {},
   "source": [
    "## Export -"
   ]
  },
  {
   "cell_type": "code",
   "execution_count": 29,
   "id": "d20a1ed8",
   "metadata": {},
   "outputs": [],
   "source": [
    "#|hide\n",
    "#|eval: false\n",
    "from nbprocess.doclinks import nbprocess_export\n",
    "nbprocess_export()"
   ]
  },
  {
   "cell_type": "code",
   "execution_count": null,
   "id": "ae7bde11-3a9c-4ff6-a500-0523211e2955",
   "metadata": {},
   "outputs": [],
   "source": []
  }
 ],
 "metadata": {
  "kernelspec": {
   "display_name": "Python 3 (ipykernel)",
   "language": "python",
   "name": "python3"
  },
  "language_info": {
   "codemirror_mode": {
    "name": "ipython",
    "version": 3
   },
   "file_extension": ".py",
   "mimetype": "text/x-python",
   "name": "python",
   "nbconvert_exporter": "python",
   "pygments_lexer": "ipython3",
   "version": "3.9.7"
  }
 },
 "nbformat": 4,
 "nbformat_minor": 5
}
