{
 "cells": [
  {
   "cell_type": "code",
   "execution_count": null,
   "id": "5b3e6248",
   "metadata": {},
   "outputs": [],
   "source": [
    "#|default_exp showdoc"
   ]
  },
  {
   "cell_type": "markdown",
   "id": "04b59a7c",
   "metadata": {},
   "source": [
    "# showdoc\n",
    "> Display symbol documentation in notebook and website"
   ]
  },
  {
   "cell_type": "code",
   "execution_count": null,
   "id": "7f371f15",
   "metadata": {},
   "outputs": [],
   "source": [
    "#|export\n",
    "from fastcore.docments import *\n",
    "from fastcore.utils import *\n",
    "from importlib import import_module\n",
    "import inspect\n",
    "\n",
    "from nbprocess.read import get_config"
   ]
  },
  {
   "cell_type": "code",
   "execution_count": null,
   "id": "660d5f98",
   "metadata": {},
   "outputs": [],
   "source": [
    "#|export\n",
    "def get_name(obj):\n",
    "    \"Get the name of `obj`\"\n",
    "    if hasattr(obj, '__name__'):       return obj.__name__\n",
    "    elif getattr(obj, '_name', False): return obj._name\n",
    "    elif hasattr(obj,'__origin__'):    return str(obj.__origin__).split('.')[-1] #for types\n",
    "    elif type(obj)==property:          return _get_property_name(obj)\n",
    "    else:                              return str(obj).split('.')[-1]"
   ]
  },
  {
   "cell_type": "code",
   "execution_count": null,
   "id": "befa0e84",
   "metadata": {},
   "outputs": [],
   "source": [
    "#|export\n",
    "def qual_name(obj):\n",
    "    \"Get the qualified name of `obj`\"\n",
    "    if hasattr(obj,'__qualname__'): return obj.__qualname__\n",
    "    if inspect.ismethod(obj):       return f\"{get_name(obj.__self__)}.{get_name(fn)}\"\n",
    "    return get_name(obj)"
   ]
  },
  {
   "cell_type": "code",
   "execution_count": null,
   "id": "e2570925",
   "metadata": {},
   "outputs": [],
   "source": [
    "#|export\n",
    "class ShowDocRenderer:\n",
    "    def __init__(self, sym, disp:bool=True):\n",
    "        \"Show documentation for `sym`\"\n",
    "        store_attr()\n",
    "        self.nm = qual_name(sym)\n",
    "        self.isfunc = inspect.isfunction(sym)\n",
    "        self.sig = inspect.signature(sym)\n",
    "        self.docs = docstring(sym)"
   ]
  },
  {
   "cell_type": "code",
   "execution_count": null,
   "id": "61d7f084",
   "metadata": {},
   "outputs": [],
   "source": [
    "#|export\n",
    "class BasicMarkdownRenderer(ShowDocRenderer):\n",
    "    def _repr_markdown_(self):\n",
    "        doc = '---\\n\\n'\n",
    "        if self.isfunc: doc += '#'\n",
    "        doc += f'### {self.nm}\\n\\n> **`{self.nm}`**` {self.sig}`'\n",
    "        if self.docs: doc += f\"\\n\\n{self.docs}\"\n",
    "        return doc"
   ]
  },
  {
   "cell_type": "code",
   "execution_count": null,
   "id": "1256ef79",
   "metadata": {},
   "outputs": [],
   "source": [
    "#|export\n",
    "def show_doc(sym, disp=True, renderer=None):\n",
    "    if renderer is None: renderer = get_config().get('renderer', None)\n",
    "    if renderer is None: renderer=BasicMarkdownRenderer\n",
    "    elif isinstance(renderer,str):\n",
    "        p,m = renderer.rsplit('.', 1)\n",
    "        renderer = getattr(import_module(p), m)\n",
    "    return renderer(sym or show_doc, disp=disp)"
   ]
  },
  {
   "cell_type": "code",
   "execution_count": null,
   "id": "53a1bc00",
   "metadata": {},
   "outputs": [
    {
     "data": {
      "text/markdown": [
       "---\n",
       "\n",
       "#### f\n",
       "\n",
       "> **`f`**` (x: int = 1)`\n",
       "\n",
       "func docstring"
      ],
      "text/plain": [
       "<__main__.BasicMarkdownRenderer at 0x7f9bb840bee0>"
      ]
     },
     "execution_count": null,
     "metadata": {},
     "output_type": "execute_result"
    }
   ],
   "source": [
    "def f(x:int=1):\n",
    "    \"func docstring\"\n",
    "    ...\n",
    "\n",
    "show_doc(f)"
   ]
  },
  {
   "cell_type": "code",
   "execution_count": null,
   "id": "147626ee",
   "metadata": {},
   "outputs": [],
   "source": [
    "#|export\n",
    "class BasicHtmlRenderer(ShowDocRenderer):\n",
    "    def _repr_html_(self):\n",
    "        doc = '<hr/>\\n'\n",
    "        lvl = 4 if self.isfunc else 3\n",
    "        doc += f'<h{lvl}>{self.nm}</h{lvl}>\\n<blockquote><code>{self.nm}{self.sig}</code></blockquote>'\n",
    "        if self.docs: doc += f\"<p>{self.docs}</p>\"\n",
    "        return doc"
   ]
  },
  {
   "cell_type": "code",
   "execution_count": null,
   "id": "059071e3",
   "metadata": {},
   "outputs": [
    {
     "data": {
      "text/html": [
       "<hr/>\n",
       "<h3>F</h3>\n",
       "<blockquote><code>F(x: int = 1)</code></blockquote><p>class docstring</p>"
      ],
      "text/plain": [
       "<__main__.BasicHtmlRenderer at 0x7f9bb83fdd90>"
      ]
     },
     "execution_count": null,
     "metadata": {},
     "output_type": "execute_result"
    }
   ],
   "source": [
    "class F:\n",
    "    \"class docstring\"\n",
    "    def __init__(self, x:int=1): ...\n",
    "\n",
    "show_doc(F, renderer=BasicHtmlRenderer)"
   ]
  },
  {
   "cell_type": "markdown",
   "id": "ec7a2f01",
   "metadata": {},
   "source": [
    "## Export -"
   ]
  },
  {
   "cell_type": "code",
   "execution_count": null,
   "id": "d20a1ed8",
   "metadata": {},
   "outputs": [],
   "source": [
    "#|hide\n",
    "from nbprocess.doclinks import nbprocess_export\n",
    "nbprocess_export()"
   ]
  }
 ],
 "metadata": {
  "kernelspec": {
   "display_name": "Python 3 (ipykernel)",
   "language": "python",
   "name": "python3"
  }
 },
 "nbformat": 4,
 "nbformat_minor": 5
}
