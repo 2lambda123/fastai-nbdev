{
 "cells": [
  {
   "cell_type": "code",
   "execution_count": 1,
   "id": "5b3e6248",
   "metadata": {},
   "outputs": [],
   "source": [
    "#|default_exp showdoc"
   ]
  },
  {
   "cell_type": "markdown",
   "id": "04b59a7c",
   "metadata": {},
   "source": [
    "# showdoc\n",
    "> Display symbol documentation in notebook and website"
   ]
  },
  {
   "cell_type": "code",
   "execution_count": 2,
   "id": "7f371f15",
   "metadata": {},
   "outputs": [],
   "source": [
    "#|export\n",
    "from fastcore.docments import *\n",
    "from fastcore.utils import *\n",
    "from importlib import import_module\n",
    "from nbprocess.doclinks import *\n",
    "import inspect\n",
    "from collections import OrderedDict\n",
    "from dataclasses import dataclass, is_dataclass\n",
    "from nbprocess.read import get_config"
   ]
  },
  {
   "cell_type": "markdown",
   "id": "f6c573b6-73cf-4c5e-b4a6-989b62071cc1",
   "metadata": {},
   "source": [
    "## Rendering docment Tables\n",
    "\n",
    "Render nicely formatted tables that shows `docments` for any function or method.  "
   ]
  },
  {
   "cell_type": "code",
   "execution_count": 3,
   "id": "5de6dc35-565d-4847-8505-b9feb680cb1a",
   "metadata": {},
   "outputs": [],
   "source": [
    "def _non_empty_keys(d:dict): return L([k for k,v in d.items() if v != inspect._empty])\n",
    "def _bold(s): return f'**{s}**' if s.strip() else s"
   ]
  },
  {
   "cell_type": "code",
   "execution_count": 4,
   "id": "8ea735b2-a5ee-4176-8143-add7ab08a3cd",
   "metadata": {},
   "outputs": [],
   "source": [
    "#|export\n",
    "def _maybe_nm(o): \n",
    "    if (o == inspect._empty): return ''\n",
    "    else: return o.__name__ if hasattr(o, '__name__') else str(o)"
   ]
  },
  {
   "cell_type": "code",
   "execution_count": 5,
   "id": "908341c8-dfb4-4e05-9122-30dcae4bc130",
   "metadata": {},
   "outputs": [],
   "source": [
    "test_eq(_maybe_nm(list), 'list')\n",
    "test_eq(_maybe_nm('fastai'), 'fastai')"
   ]
  },
  {
   "cell_type": "code",
   "execution_count": 6,
   "id": "63418af8-3f68-4301-9da3-da5787f8c257",
   "metadata": {},
   "outputs": [],
   "source": [
    "#|export\n",
    "def _list2row(l:list): return '| '+' | '.join([_maybe_nm(o) for o in l]) + ' |'"
   ]
  },
  {
   "cell_type": "code",
   "execution_count": 7,
   "id": "b74936bc-a38d-4e98-a4f8-3c97a8bd8e86",
   "metadata": {},
   "outputs": [],
   "source": [
    "#|hide\n",
    "test_eq(_list2row(['Hamel', 'Jeremy']), '| Hamel | Jeremy |')\n",
    "test_eq(_list2row([inspect._empty, bool, 'foo']), '|  | bool | foo |')"
   ]
  },
  {
   "cell_type": "code",
   "execution_count": 8,
   "id": "7eff0337-25ff-4fbe-afe0-a7ef0788ebf9",
   "metadata": {},
   "outputs": [],
   "source": [
    "#|export\n",
    "class DocmentTbl:\n",
    "    # this is the column order we want these items to appear\n",
    "    _map = OrderedDict({'anno':'Type', 'default':'Default', 'docment':'Details'})\n",
    "    \n",
    "    def __init__(self, obj, verbose=True, returns=True):\n",
    "        \"Compute the docment table string\"\n",
    "        self.verbose = verbose\n",
    "        self.returns = False if isdataclass(obj) else returns\n",
    "        self.params = L(inspect.signature(obj).parameters.keys())\n",
    "        _dm = docments(obj, full=True, returns=returns)\n",
    "        if 'self' in _dm: del _dm['self']\n",
    "        for d in _dm.values(): d['docment'] = ifnone(d['docment'], inspect._empty)\n",
    "        self.dm = _dm\n",
    "    \n",
    "    @property\n",
    "    def _columns(self):\n",
    "        \"Compute the set of fields that have at least one non-empty value so we don't show tables empty columns\"\n",
    "        cols = set(flatten(L(self.dm.values()).filter().map(_non_empty_keys)))\n",
    "        candidates = self._map if self.verbose else {'docment': 'Details'}\n",
    "        return OrderedDict({k:v for k,v in candidates.items() if k in cols})\n",
    "    \n",
    "    @property\n",
    "    def has_docment(self): return self._columns and self._row_list\n",
    "\n",
    "    @property\n",
    "    def has_return(self): return self.returns and bool(_non_empty_keys(self.dm.get('return', {})))\n",
    "    \n",
    "    def _row(self, nm, props): \n",
    "        \"unpack data for single row to correspond with column names.\"\n",
    "        return [nm] + [props[c] for c in self._columns]\n",
    "    \n",
    "    @property\n",
    "    def _row_list(self):\n",
    "        \"unpack data for all rows.\"\n",
    "        ordered_params = [(p, self.dm[p]) for p in self.params if p != 'self']\n",
    "        return L([self._row(nm, props) for nm,props in ordered_params])\n",
    "    \n",
    "    @property\n",
    "    def _hdr_list(self): return ['  '] + [_bold(l) for l in L(self._columns.values())]\n",
    "\n",
    "    @property\n",
    "    def hdr_str(self):\n",
    "        \"The markdown string for the header portion of the table\"\n",
    "        md = _list2row(self._hdr_list)\n",
    "        return md + '\\n' + _list2row(['-' * len(l) for l in self._hdr_list])\n",
    "    \n",
    "    @property\n",
    "    def params_str(self): \n",
    "        \"The markdown string for the parameters portion of the table.\"\n",
    "        return '\\n'.join(self._row_list.map(_list2row))\n",
    "    \n",
    "    @property\n",
    "    def return_str(self):\n",
    "        \"The markdown string for the returns portion of the table.\"\n",
    "        return _list2row(['**Returns**']+[_bold(_maybe_nm(self.dm['return'][c])) for c in self._columns])\n",
    "    \n",
    "    def __str__(self):\n",
    "        if not self.has_docment: return ''\n",
    "        _tbl = [self.hdr_str, self.params_str]\n",
    "        if self.has_return: _tbl.append(self.return_str)\n",
    "        return '\\n'.join(_tbl)\n",
    "    \n",
    "    def __eq__(self,other): return self.__str__() == str(other).strip()\n",
    "\n",
    "    def _repr_markdown_(self): return self.__str__()"
   ]
  },
  {
   "cell_type": "markdown",
   "id": "6bf2c677-d0d5-42cf-a2c7-fcbdec725720",
   "metadata": {},
   "source": [
    "`DocmentTbl` can render a markdown table showing `docments` if appropriate.  This is an example of how a `docments` table will render for a function:"
   ]
  },
  {
   "cell_type": "code",
   "execution_count": 9,
   "id": "ac9a8ddc-9fe6-48c6-b2a5-bc0f1a7a0926",
   "metadata": {},
   "outputs": [
    {
     "data": {
      "text/markdown": [
       "|    | **Type** | **Default** | **Details** |\n",
       "| -- | -------- | ----------- | ----------- |\n",
       "| a |  |  | description of param a |\n",
       "| b | bool | True | description of param b |\n",
       "| c | str | None |  |\n",
       "| **Returns** | **int** |  |  |"
      ],
      "text/plain": [
       "<__main__.DocmentTbl at 0x7f7e60308460>"
      ]
     },
     "execution_count": 9,
     "metadata": {},
     "output_type": "execute_result"
    }
   ],
   "source": [
    "def _f(a,      # description of param a \n",
    "       b=True, # description of param b\n",
    "       c:str=None\n",
    "       ) -> int: ...\n",
    "\n",
    "_dm = DocmentTbl(_f)\n",
    "_dm"
   ]
  },
  {
   "cell_type": "code",
   "execution_count": 10,
   "id": "c44d2bba-377e-4f72-9c4e-1b583acaedb7",
   "metadata": {},
   "outputs": [],
   "source": [
    "#|hide\n",
    "_exp_res=\"\"\"\n",
    "|    | **Type** | **Default** | **Details** |\n",
    "| -- | -------- | ----------- | ----------- |\n",
    "| a |  |  | description of param a |\n",
    "| b | bool | True | description of param b |\n",
    "| c | str | None |  |\n",
    "| **Returns** | **int** |  |  |\n",
    "\"\"\"\n",
    "\n",
    "test_eq(_dm, _exp_res)"
   ]
  },
  {
   "cell_type": "markdown",
   "id": "affcab1f-d4a6-4f0e-9f5a-da92611e7cf2",
   "metadata": {},
   "source": [
    "If one column in the table has no information, for example because there are no `docments`, that column will not be shown.  In the below example, the **Details** column, will not be shown.  Additionally, if the return of the function is not annotated the **Returns** row will not be rendered:"
   ]
  },
  {
   "cell_type": "code",
   "execution_count": 11,
   "id": "7339ca82-b816-424f-b7f4-63b8db99cef0",
   "metadata": {},
   "outputs": [
    {
     "data": {
      "text/markdown": [
       "|    | **Type** | **Default** |\n",
       "| -- | -------- | ----------- |\n",
       "| a |  |  |\n",
       "| b | bool | True |\n",
       "| c | str | None |"
      ],
      "text/plain": [
       "<__main__.DocmentTbl at 0x7f7e602f86a0>"
      ]
     },
     "execution_count": 11,
     "metadata": {},
     "output_type": "execute_result"
    }
   ],
   "source": [
    "def _f(a, \n",
    "        b=True,\n",
    "        c:str=None\n",
    "       ): ...\n",
    "\n",
    "_dm2 = DocmentTbl(_f)\n",
    "_dm2"
   ]
  },
  {
   "cell_type": "code",
   "execution_count": 12,
   "id": "fe5e2e8d-356f-4123-8b88-0398b4cfe565",
   "metadata": {},
   "outputs": [
    {
     "data": {
      "text/plain": [
       "False"
      ]
     },
     "execution_count": 12,
     "metadata": {},
     "output_type": "execute_result"
    }
   ],
   "source": [
    "_dm2.has_return"
   ]
  },
  {
   "cell_type": "code",
   "execution_count": 13,
   "id": "b18421bf-108e-433f-b7ca-9f13749bcc42",
   "metadata": {},
   "outputs": [],
   "source": [
    "#|hide\n",
    "_exp_res2 = \"\"\"\n",
    "|    | **Type** | **Default** |\n",
    "| -- | -------- | ----------- |\n",
    "| a |  |  |\n",
    "| b | bool | True |\n",
    "| c | str | None |\n",
    "\"\"\"\n",
    "\n",
    "test_eq(_dm2, _exp_res2)"
   ]
  },
  {
   "cell_type": "markdown",
   "id": "d9e7a6d5-4fff-4df2-8f35-f4b4be968d28",
   "metadata": {},
   "source": [
    "`DocmentTbl` also works on classes.  By default, the `__init__` will be rendered:"
   ]
  },
  {
   "cell_type": "code",
   "execution_count": 14,
   "id": "0b945cff-7850-48af-bece-741b94338ed3",
   "metadata": {},
   "outputs": [],
   "source": [
    "class _Test:\n",
    "    def __init__(self, \n",
    "                 a,      # description of param a \n",
    "                 b=True, # description of param b\n",
    "                 c:str=None):\n",
    "        ...\n",
    "        \n",
    "    def foo(self, \n",
    "            c:int,      # description of param c\n",
    "            d=True, # description of param d\n",
    "           ):\n",
    "        ..."
   ]
  },
  {
   "cell_type": "code",
   "execution_count": 15,
   "id": "a3230ab3-5902-48bb-925a-99cfea7d6a37",
   "metadata": {},
   "outputs": [
    {
     "data": {
      "text/markdown": [
       "|    | **Type** | **Default** | **Details** |\n",
       "| -- | -------- | ----------- | ----------- |\n",
       "| a |  |  | description of param a |\n",
       "| b | bool | True | description of param b |\n",
       "| c | str | None |  |"
      ],
      "text/plain": [
       "<__main__.DocmentTbl at 0x7f7e60308430>"
      ]
     },
     "execution_count": 15,
     "metadata": {},
     "output_type": "execute_result"
    }
   ],
   "source": [
    "DocmentTbl(_Test)"
   ]
  },
  {
   "cell_type": "markdown",
   "id": "d2debf2b-6c58-4966-8600-8e6cbba3b3fd",
   "metadata": {},
   "source": [
    "You can also pass a method to be rendered as well:"
   ]
  },
  {
   "cell_type": "code",
   "execution_count": 16,
   "id": "c499a450-0182-4ad0-8cab-f10f190a7545",
   "metadata": {},
   "outputs": [
    {
     "data": {
      "text/markdown": [
       "|    | **Type** | **Default** | **Details** |\n",
       "| -- | -------- | ----------- | ----------- |\n",
       "| c | int |  | description of param c |\n",
       "| d | bool | True | description of param d |"
      ],
      "text/plain": [
       "<__main__.DocmentTbl at 0x7f7e602f8490>"
      ]
     },
     "execution_count": 16,
     "metadata": {},
     "output_type": "execute_result"
    }
   ],
   "source": [
    "DocmentTbl(_Test.foo)"
   ]
  },
  {
   "cell_type": "code",
   "execution_count": 17,
   "id": "c113ea93-9e0f-4b52-a5fd-87ed0de24c90",
   "metadata": {},
   "outputs": [],
   "source": [
    "#|hide\n",
    "_exp_res3 = \"\"\"\n",
    "|    | **Type** | **Default** | **Details** |\n",
    "| -- | -------- | ----------- | ----------- |\n",
    "| c | int |  | description of param c |\n",
    "| d | bool | True | description of param d |\n",
    "\"\"\"\n",
    "\n",
    "test_eq(DocmentTbl(_Test.foo), _exp_res3)"
   ]
  },
  {
   "cell_type": "markdown",
   "id": "3ebcfdfb-2580-4389-b747-7f91022347b5",
   "metadata": {},
   "source": [
    "Dataclasses can also be rendered: "
   ]
  },
  {
   "cell_type": "code",
   "execution_count": 18,
   "id": "0c5de0b5-c0a4-4852-b9c4-743d4badc976",
   "metadata": {},
   "outputs": [],
   "source": [
    "@dataclass\n",
    "class _TestClass:\n",
    "    \"\"\"Class for keeping track of an item in inventory.\"\"\"\n",
    "    name: str\n",
    "    unit_price: float\n",
    "    quantity_on_hand: int = 0\n",
    "\n",
    "    def total_cost(self, tax=1.14) -> float:\n",
    "        return self.unit_price * self.quantity_on_hand * tax"
   ]
  },
  {
   "cell_type": "code",
   "execution_count": 19,
   "id": "6115e0ca-9760-4398-848f-3a1e0edb2966",
   "metadata": {},
   "outputs": [
    {
     "data": {
      "text/markdown": [
       "|    | **Type** | **Default** |\n",
       "| -- | -------- | ----------- |\n",
       "| name | str |  |\n",
       "| unit_price | float |  |\n",
       "| quantity_on_hand | int | 0 |"
      ],
      "text/plain": [
       "<__main__.DocmentTbl at 0x7f7e60327af0>"
      ]
     },
     "execution_count": 19,
     "metadata": {},
     "output_type": "execute_result"
    }
   ],
   "source": [
    "DocmentTbl(_TestClass)"
   ]
  },
  {
   "cell_type": "code",
   "execution_count": 20,
   "id": "96af94ad-9729-4a24-9fb2-8f84ef5b9b42",
   "metadata": {},
   "outputs": [],
   "source": [
    "#|hide\n",
    "test_eq(DocmentTbl(_TestClass),\n",
    "\"\"\"\n",
    "|    | **Type** | **Default** |\n",
    "| -- | -------- | ----------- |\n",
    "| name | str |  |\n",
    "| unit_price | float |  |\n",
    "| quantity_on_hand | int | 0 |\n",
    "\"\"\")"
   ]
  },
  {
   "cell_type": "markdown",
   "id": "0eb7314a-675d-4fd8-8f9b-425666e1bd86",
   "metadata": {},
   "source": [
    "## Show Complete Documentation For An Object\n",
    "Render the signature as well as the `docments` to show complete documentation for an object."
   ]
  },
  {
   "cell_type": "code",
   "execution_count": 21,
   "id": "660d5f98",
   "metadata": {},
   "outputs": [],
   "source": [
    "#|export\n",
    "def get_name(obj):\n",
    "    \"Get the name of `obj`\"\n",
    "    if hasattr(obj, '__name__'):       return obj.__name__\n",
    "    elif getattr(obj, '_name', False): return obj._name\n",
    "    elif hasattr(obj,'__origin__'):    return str(obj.__origin__).split('.')[-1] #for types\n",
    "    elif type(obj)==property:          return _get_property_name(obj)\n",
    "    else:                              return str(obj).split('.')[-1]"
   ]
  },
  {
   "cell_type": "code",
   "execution_count": 22,
   "id": "befa0e84",
   "metadata": {},
   "outputs": [],
   "source": [
    "#|export\n",
    "def qual_name(obj):\n",
    "    \"Get the qualified name of `obj`\"\n",
    "    if hasattr(obj,'__qualname__'): return obj.__qualname__\n",
    "    if inspect.ismethod(obj):       return f\"{get_name(obj.__self__)}.{get_name(fn)}\"\n",
    "    return get_name(obj)"
   ]
  },
  {
   "cell_type": "code",
   "execution_count": 23,
   "id": "e2570925",
   "metadata": {},
   "outputs": [],
   "source": [
    "#|export\n",
    "class ShowDocRenderer:\n",
    "    def __init__(self, sym, disp:bool=True):\n",
    "        \"Show documentation for `sym`\"\n",
    "        store_attr()\n",
    "        self.nm = qual_name(sym)\n",
    "        self.isfunc = inspect.isfunction(sym)\n",
    "        self.sig = inspect.signature(sym)\n",
    "        self.docs = docstring(sym)\n",
    "        self.dm = DocmentTbl(sym)"
   ]
  },
  {
   "cell_type": "code",
   "execution_count": 24,
   "id": "61d7f084",
   "metadata": {},
   "outputs": [],
   "source": [
    "#|export\n",
    "class BasicMarkdownRenderer(ShowDocRenderer):\n",
    "    def _repr_markdown_(self):\n",
    "        doc = '---\\n\\n'\n",
    "        if self.isfunc: doc += '#'\n",
    "        doc += f'### {self.nm}\\n\\n> **`{self.nm}`**` {self.sig}`'\n",
    "        if self.docs: doc += f\"\\n\\n{self.docs}\"\n",
    "        return doc"
   ]
  },
  {
   "cell_type": "code",
   "execution_count": 25,
   "id": "1256ef79",
   "metadata": {},
   "outputs": [],
   "source": [
    "#|export\n",
    "def show_doc(sym, disp=True, renderer=None):\n",
    "    if renderer is None: renderer = get_config().get('renderer', None)\n",
    "    if renderer is None: renderer=BasicMarkdownRenderer\n",
    "    elif isinstance(renderer,str):\n",
    "        p,m = renderer.rsplit('.', 1)\n",
    "        renderer = getattr(import_module(p), m)\n",
    "    return renderer(sym or show_doc, disp=disp)"
   ]
  },
  {
   "cell_type": "markdown",
   "id": "a38843d9-4fa3-40f3-bb4d-949344b2bdee",
   "metadata": {},
   "source": [
    "You can use `show_doc` to document apis of functions, classes or methods:"
   ]
  },
  {
   "cell_type": "code",
   "execution_count": 26,
   "id": "53a1bc00",
   "metadata": {},
   "outputs": [
    {
     "data": {
      "text/markdown": [
       "---\n",
       "\n",
       "#### f\n",
       "\n",
       "> **`f`**` (x: int = 1)`\n",
       "\n",
       "func docstring"
      ],
      "text/plain": [
       "<__main__.BasicMarkdownRenderer at 0x7f7e603140a0>"
      ]
     },
     "execution_count": 26,
     "metadata": {},
     "output_type": "execute_result"
    }
   ],
   "source": [
    "def f(x:int=1):\n",
    "    \"func docstring\"\n",
    "    ...\n",
    "\n",
    "show_doc(f)"
   ]
  },
  {
   "cell_type": "code",
   "execution_count": 27,
   "id": "1c28ec9d-29ff-497f-97b0-ca262f530cf6",
   "metadata": {},
   "outputs": [
    {
     "data": {
      "text/markdown": [
       "---\n",
       "\n",
       "### Foo\n",
       "\n",
       "> **`Foo`**` (e: int)`\n",
       "\n",
       "This is the docstring for the __init__ method"
      ],
      "text/plain": [
       "<__main__.BasicMarkdownRenderer at 0x7f7e60327580>"
      ]
     },
     "execution_count": 27,
     "metadata": {},
     "output_type": "execute_result"
    }
   ],
   "source": [
    "class Foo:\n",
    "    def __init__(d:str,e:int):\n",
    "        \"This is the docstring for the __init__ method\"\n",
    "        ...\n",
    "\n",
    "show_doc(Foo)"
   ]
  },
  {
   "cell_type": "code",
   "execution_count": 28,
   "id": "3441e6c7-472b-411c-a179-b1e37dcbceac",
   "metadata": {},
   "outputs": [
    {
     "data": {
      "text/markdown": [
       "---\n",
       "\n",
       "#### Foo.a_method\n",
       "\n",
       "> **`Foo.a_method`**` (a: list, b: dict, c)`\n",
       "\n",
       "This is a method"
      ],
      "text/plain": [
       "<__main__.BasicMarkdownRenderer at 0x7f7e603142b0>"
      ]
     },
     "execution_count": 28,
     "metadata": {},
     "output_type": "execute_result"
    }
   ],
   "source": [
    "class Foo:\n",
    "    def a_method(a:list,b:dict,c):\n",
    "        \"This is a method\"\n",
    "        ...\n",
    "\n",
    "show_doc(Foo.a_method)"
   ]
  },
  {
   "cell_type": "code",
   "execution_count": 29,
   "id": "147626ee",
   "metadata": {},
   "outputs": [],
   "source": [
    "#|export\n",
    "class BasicHtmlRenderer(ShowDocRenderer):\n",
    "    def _repr_html_(self):\n",
    "        doc = '<hr/>\\n'\n",
    "        lvl = 4 if self.isfunc else 3\n",
    "        doc += f'<h{lvl}>{self.nm}</h{lvl}>\\n<blockquote><code>{self.nm}{self.sig}</code></blockquote>'\n",
    "        if self.docs: doc += f\"<p>{self.docs}</p>\"\n",
    "        return doc"
   ]
  },
  {
   "cell_type": "code",
   "execution_count": 30,
   "id": "059071e3",
   "metadata": {},
   "outputs": [
    {
     "data": {
      "text/html": [
       "<hr/>\n",
       "<h3>F</h3>\n",
       "<blockquote><code>F(x: int = 1)</code></blockquote><p>class docstring</p>"
      ],
      "text/plain": [
       "<__main__.BasicHtmlRenderer at 0x7f7e603554c0>"
      ]
     },
     "execution_count": 30,
     "metadata": {},
     "output_type": "execute_result"
    }
   ],
   "source": [
    "class F:\n",
    "    \"class docstring\"\n",
    "    def __init__(self, x:int=1): ...\n",
    "\n",
    "show_doc(F, renderer=BasicHtmlRenderer)"
   ]
  },
  {
   "cell_type": "code",
   "execution_count": 31,
   "id": "35043aa7-6b60-4ddf-8949-39a78577f23d",
   "metadata": {},
   "outputs": [],
   "source": [
    "#|export\n",
    "def showdoc_nm(tree):\n",
    "    \"Get the fully qualified name for showdoc.\"\n",
    "    return ifnone(get_patch_name(tree), tree.name)"
   ]
  },
  {
   "cell_type": "code",
   "execution_count": 32,
   "id": "fe22731d-ad7d-4080-ac91-e0d24e8b681c",
   "metadata": {},
   "outputs": [],
   "source": [
    "#|hide\n",
    "import ast\n",
    "code=\"\"\"\n",
    "@bar\n",
    "@patch\n",
    "@foo\n",
    "def a_method(self:Foo, a:list,b:dict,c):\n",
    "    \"This is a method\"\n",
    "    ...\n",
    "\"\"\"\n",
    "\n",
    "code2=\"\"\"\n",
    "@bar\n",
    "@foo\n",
    "def a_method(self:Foo, a:list,b:dict,c):\n",
    "    \"This is a method\"\n",
    "    ...\n",
    "\"\"\"\n",
    "\n",
    "_tree = ast.parse(code).body[0]\n",
    "test_eq(showdoc_nm(_tree), 'Foo.a_method')\n",
    "\n",
    "_tree2 = ast.parse(code2).body[0]\n",
    "test_eq(showdoc_nm(_tree2), 'a_method')"
   ]
  },
  {
   "cell_type": "markdown",
   "id": "ec7a2f01",
   "metadata": {},
   "source": [
    "## Export -"
   ]
  },
  {
   "cell_type": "code",
   "execution_count": 33,
   "id": "d20a1ed8",
   "metadata": {},
   "outputs": [],
   "source": [
    "#|hide\n",
    "#|eval: false\n",
    "from nbprocess.doclinks import nbprocess_export\n",
    "nbprocess_export()"
   ]
  },
  {
   "cell_type": "code",
   "execution_count": null,
   "id": "ae7bde11-3a9c-4ff6-a500-0523211e2955",
   "metadata": {},
   "outputs": [],
   "source": []
  }
 ],
 "metadata": {
  "kernelspec": {
   "display_name": "Python 3 (ipykernel)",
   "language": "python",
   "name": "python3"
  },
  "language_info": {
   "codemirror_mode": {
    "name": "ipython",
    "version": 3
   },
   "file_extension": ".py",
   "mimetype": "text/x-python",
   "name": "python",
   "nbconvert_exporter": "python",
   "pygments_lexer": "ipython3",
   "version": "3.9.7"
  }
 },
 "nbformat": 4,
 "nbformat_minor": 5
}
