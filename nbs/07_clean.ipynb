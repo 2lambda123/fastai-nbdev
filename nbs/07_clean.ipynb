{
 "cells": [
  {
   "cell_type": "code",
   "execution_count": null,
   "metadata": {
    "hide_input": false
   },
   "outputs": [],
   "source": [
    "#|default_exp clean"
   ]
  },
  {
   "cell_type": "code",
   "execution_count": null,
   "metadata": {},
   "outputs": [],
   "source": [
    "#|export\n",
    "from fastcore.script import *\n",
    "from fastcore.utils import *\n",
    "from fastcore.imports import *\n",
    "\n",
    "from nbprocess.imports import *\n",
    "from nbprocess.read import *\n",
    "from nbprocess.sync import *"
   ]
  },
  {
   "cell_type": "markdown",
   "metadata": {},
   "source": [
    "# clean\n",
    "\n",
    "> Strip superfluous metadata from notebooks"
   ]
  },
  {
   "cell_type": "markdown",
   "metadata": {},
   "source": [
    "To avoid pointless conflicts while working with jupyter notebooks (with different execution counts or cell metadata), it is recommended to clean the notebooks before committing anything (done automatically if you install the git hooks with `nbdev_install_git_hooks`). The following functions are used to do that."
   ]
  },
  {
   "cell_type": "markdown",
   "metadata": {},
   "source": [
    "## Utils"
   ]
  },
  {
   "cell_type": "code",
   "execution_count": null,
   "metadata": {},
   "outputs": [],
   "source": [
    "#|export\n",
    "def _clean_cell_output(cell):\n",
    "    \"Remove execution count in `cell`\"\n",
    "    if 'outputs' in cell:\n",
    "        for o in cell['outputs']:\n",
    "            if 'execution_count' in o: o['execution_count'] = None\n",
    "            o.get('data',{}).pop(\"application/vnd.google.colaboratory.intrinsic+json\", None)\n",
    "            o.get('metadata', {}).pop('tags', None)"
   ]
  },
  {
   "cell_type": "code",
   "execution_count": null,
   "metadata": {},
   "outputs": [],
   "source": [
    "#|export\n",
    "def _clean_cell(cell, clear_all=False):\n",
    "    \"Clean `cell` by removing superfluous metadata or everything except the input if `clear_all`\"\n",
    "    if 'execution_count' in cell: cell['execution_count'] = None\n",
    "    if 'outputs' in cell:\n",
    "        if clear_all: cell['outputs'] = []\n",
    "        else:         _clean_cell_output(cell)\n",
    "    if cell['source'] == ['']: cell['source'] = []\n",
    "    cell['metadata'] = {} if clear_all else {\n",
    "        k:v for k,v in cell['metadata'].items() if k==\"hide_input\"}"
   ]
  },
  {
   "cell_type": "code",
   "execution_count": null,
   "metadata": {},
   "outputs": [],
   "source": [
    "#|export\n",
    "def clean_nb(nb, clear_all=False):\n",
    "    \"Clean `nb` from superfluous metadata\"\n",
    "    for c in nb['cells']: _clean_cell(c, clear_all=clear_all)\n",
    "    nb['metadata'] = {k:v for k,v in nb['metadata'].items() if k in\n",
    "                     (\"kernelspec\", \"jekyll\", \"jupytext\", \"doc\")}"
   ]
  },
  {
   "cell_type": "code",
   "execution_count": null,
   "metadata": {},
   "outputs": [],
   "source": [
    "tst = {'cell_type': 'code', 'execution_count': 26,\n",
    "       'metadata': {'hide_input': True, 'meta': 23},\n",
    "       'outputs': [{'execution_count': 2,\n",
    "                    'data': {\n",
    "                        'application/vnd.google.colaboratory.intrinsic+json': {'type': 'string'},\n",
    "                        'plain/text': ['sample output',]\n",
    "                    }, 'output': 'super'}],\n",
    "       'source': 'awesome_code'}\n",
    "nb = {'metadata': {'kernelspec': 'some_spec', 'jekyll': 'some_meta', 'meta': 37}, 'cells': [tst]}\n",
    "\n",
    "clean_nb(nb)\n",
    "test_eq(nb['cells'][0], {'cell_type': 'code', 'execution_count': None,\n",
    "              'metadata': {'hide_input': True},\n",
    "              'outputs': [{'execution_count': None, \n",
    "                           'data': { 'plain/text': ['sample output',]},\n",
    "                           'output': 'super'}],\n",
    "              'source': 'awesome_code'})\n",
    "test_eq(nb['metadata'], {'kernelspec': 'some_spec', 'jekyll': 'some_meta'})"
   ]
  },
  {
   "cell_type": "markdown",
   "metadata": {},
   "source": [
    "## Main function"
   ]
  },
  {
   "cell_type": "code",
   "execution_count": null,
   "metadata": {},
   "outputs": [],
   "source": [
    "#|export\n",
    "def _wrapio(strm): return io.TextIOWrapper(strm, encoding='utf-8', line_buffering=True)\n",
    "\n",
    "def _clean_write(nb, f_in, f_out=None, clear_all=False):\n",
    "    if not f_out: f_out = f_in\n",
    "    nb = json.load(f_in)\n",
    "    clean_nb(nb, clear_all=clear_all)\n",
    "    write_nb(nb, f_out)"
   ]
  },
  {
   "cell_type": "code",
   "execution_count": null,
   "metadata": {},
   "outputs": [],
   "source": [
    "#|export\n",
    "@call_parse\n",
    "def nbdev_clean_nbs(\n",
    "    fname:str=None, # A notebook name or glob to convert\n",
    "    clear_all:bool_arg=False, # Clean all metadata and outputs\n",
    "    read_stdin:bool_arg=False # Read input stream and not nb folder\n",
    "):\n",
    "    \"Clean all notebooks in `fname` to avoid merge conflicts\"\n",
    "    # Git hooks will pass the notebooks in stdin\n",
    "    if read_stdin: return _clean_write(nb, _wrapio(sys.stdin), _wrapio(sys.stdout), clear_all=clear_all)\n",
    "\n",
    "    if fname is None: fname = get_config().path(\"nbs_path\")\n",
    "    for f in globtastic(fname, file_glob='*.ipynb', skip_folder_re='^[_.]'):\n",
    "        _clean_write(nb, f, clear_all=clear_all)"
   ]
  },
  {
   "cell_type": "markdown",
   "metadata": {},
   "source": [
    "By default (`fname` left to `None`), the all the notebooks in `lib_folder` are cleaned. You can opt in to fully clean the notebook by removing every bit of metadata and the cell outputs by passing `clear_all=True`."
   ]
  },
  {
   "cell_type": "markdown",
   "metadata": {},
   "source": [
    "## Export -"
   ]
  },
  {
   "cell_type": "code",
   "execution_count": null,
   "metadata": {},
   "outputs": [],
   "source": [
    "#|hide\n",
    "from nbprocess.export import nbs_export\n",
    "nbs_export()"
   ]
  },
  {
   "cell_type": "code",
   "execution_count": null,
   "metadata": {},
   "outputs": [],
   "source": []
  }
 ],
 "metadata": {
  "jupytext": {
   "split_at_heading": true
  },
  "kernelspec": {
   "display_name": "Python 3 (ipykernel)",
   "language": "python",
   "name": "python3"
  }
 },
 "nbformat": 4,
 "nbformat_minor": 1
}
