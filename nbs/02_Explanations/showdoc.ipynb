{
 "cells": [
  {
   "cell_type": "code",
   "execution_count": null,
   "metadata": {},
   "outputs": [],
   "source": [
    "#| hide\n",
    "from fastcore.utils import *\n",
    "from nbdev.config import *\n",
    "from nbdev.showdoc import show_doc"
   ]
  },
  {
   "cell_type": "markdown",
   "metadata": {},
   "source": [
    "# show_doc\n",
    "\n",
    "> How nbdev renders show_doc"
   ]
  },
  {
   "cell_type": "markdown",
   "metadata": {},
   "source": [
    "## How `show_doc` works"
   ]
  },
  {
   "cell_type": "markdown",
   "metadata": {},
   "source": [
    "When your documention website is built, all functions and classes you export will be automatically documented with `show_doc`. This function outputs a summary of the symbol, showing its signature, docstring, and parameters. For instance, if you have this function:"
   ]
  },
  {
   "cell_type": "code",
   "execution_count": null,
   "metadata": {},
   "outputs": [],
   "source": [
    "#|exec_doc\n",
    "def say_gday(\n",
    "    greeting:str=\"G'day\",  # Greeting to use\n",
    "    strine:bool=True,      # Use incomprehensible Aussie accent?\n",
    "    dropbears:bool=False): # Also warn about drop-bears?\n",
    "    \"Says g'day, the classic Aussie greeting\"\n",
    "    ..."
   ]
  },
  {
   "cell_type": "markdown",
   "metadata": {},
   "source": [
    "This is how it's rendered in the documentation, by automatically generating a temporary cell containing:\n",
    "\n",
    "```python\n",
    "show_doc(say_gday)\n",
    "```"
   ]
  },
  {
   "cell_type": "code",
   "execution_count": null,
   "metadata": {},
   "outputs": [
    {
     "data": {
      "text/markdown": [
       "---\n",
       "\n",
       "### say_gday\n",
       "\n",
       ">      say_gday (greeting:str=\"G'day\", strine:bool=True, dropbears:bool=False)\n",
       "\n",
       "Says g'day, the classic Aussie greeting\n",
       "\n",
       "|    | **Type** | **Default** | **Details** |\n",
       "| -- | -------- | ----------- | ----------- |\n",
       "| greeting | str | G'day | Greeting to use |\n",
       "| strine | bool | True | Use incomprehensible Aussie accent? |\n",
       "| dropbears | bool | False | Also warn about drop-bears? |"
      ],
      "text/plain": [
       "---\n",
       "\n",
       "### say_gday\n",
       "\n",
       ">      say_gday (greeting:str=\"G'day\", strine:bool=True, dropbears:bool=False)\n",
       "\n",
       "Says g'day, the classic Aussie greeting\n",
       "\n",
       "|    | **Type** | **Default** | **Details** |\n",
       "| -- | -------- | ----------- | ----------- |\n",
       "| greeting | str | G'day | Greeting to use |\n",
       "| strine | bool | True | Use incomprehensible Aussie accent? |\n",
       "| dropbears | bool | False | Also warn about drop-bears? |"
      ]
     },
     "execution_count": null,
     "metadata": {},
     "output_type": "execute_result"
    }
   ],
   "source": [
    "show_doc(say_gday)"
   ]
  },
  {
   "cell_type": "markdown",
   "metadata": {},
   "source": [
    "Because this is done automatically any time you build your docs (including automatically by continuous integration), your documentation will always contain current information about your code.\n",
    "\n",
    "You can also document code that's not created in a notebook, by using `show_doc` with imported code. For instance, if we wanted to document `release_conda`, we can import it and call `show_doc(release_conda)`:"
   ]
  },
  {
   "cell_type": "code",
   "execution_count": null,
   "metadata": {},
   "outputs": [],
   "source": [
    "from nbdev.release import release_conda"
   ]
  },
  {
   "cell_type": "code",
   "execution_count": null,
   "metadata": {},
   "outputs": [
    {
     "data": {
      "text/markdown": [
       "---\n",
       "\n",
       "### release_conda\n",
       "\n",
       ">      release_conda (path:str='conda', do_build:<function bool_arg>=True,\n",
       ">                     build_args:str='', skip_upload:<function\n",
       ">                     store_true>=False, mambabuild:<function store_true>=False,\n",
       ">                     upload_user:str=None)\n",
       "\n",
       "Create a `meta.yaml` file ready to be built into a package, and optionally build and upload it\n",
       "\n",
       "|    | **Type** | **Default** | **Details** |\n",
       "| -- | -------- | ----------- | ----------- |\n",
       "| path | str | conda | Path where package will be created |\n",
       "| do_build | bool_arg | True | Run `conda build` step |\n",
       "| build_args | str |  | Additional args (as str) to send to `conda build` |\n",
       "| skip_upload | store_true | False | Skip `anaconda upload` step |\n",
       "| mambabuild | store_true | False | Use `mambabuild` (requires `boa`) |\n",
       "| upload_user | str | None | Optional user to upload package to |"
      ],
      "text/plain": [
       "---\n",
       "\n",
       "### release_conda\n",
       "\n",
       ">      release_conda (path:str='conda', do_build:<function bool_arg>=True,\n",
       ">                     build_args:str='', skip_upload:<function\n",
       ">                     store_true>=False, mambabuild:<function store_true>=False,\n",
       ">                     upload_user:str=None)\n",
       "\n",
       "Create a `meta.yaml` file ready to be built into a package, and optionally build and upload it\n",
       "\n",
       "|    | **Type** | **Default** | **Details** |\n",
       "| -- | -------- | ----------- | ----------- |\n",
       "| path | str | conda | Path where package will be created |\n",
       "| do_build | bool_arg | True | Run `conda build` step |\n",
       "| build_args | str |  | Additional args (as str) to send to `conda build` |\n",
       "| skip_upload | store_true | False | Skip `anaconda upload` step |\n",
       "| mambabuild | store_true | False | Use `mambabuild` (requires `boa`) |\n",
       "| upload_user | str | None | Optional user to upload package to |"
      ]
     },
     "execution_count": null,
     "metadata": {},
     "output_type": "execute_result"
    }
   ],
   "source": [
    "show_doc(release_conda)"
   ]
  },
  {
   "cell_type": "markdown",
   "metadata": {},
   "source": [
    "### Automatic Cell Execution\n",
    "\n",
    "When your documentation is built, all your manually added `show_doc` cells are run automatically. nbdev also executes all cells containing an `import` statement, and all exported cells -- that way we can be sure that the symbol used in your `show_doc` cell is available.\n",
    "\n",
    "We don't, however, execute any other cells. That's because you wouldn't want to wait for your entire notebook to run just to build your docs; for instance, your docs might demonstrate training a model which takes hours to complete!\n",
    "\n",
    "This leads to an important rule when authoring nbdev notebooks:\n",
    "\n",
    ":::{.callout-warning}\n",
    "\n",
    "Do not mix `import` statements (or calls to `show_doc`) with other code in a single cell. If you do, *all* the code in that cell will be executed every time you build your docs, which might lead to errors (since not all previous cells will have been executed.\n",
    "\n",
    "Instead, put your imports in separate cells, and calls to `show_doc` should contain only that one line of code -- the `show_doc` call.\n",
    "\n",
    ":::\n",
    "\n",
    "Note that nbdev automatically hides the actual `show_doc(...)` line of code. So your users only see the output."
   ]
  },
  {
   "cell_type": "markdown",
   "metadata": {},
   "source": [
    "Sometimes, however, you want to execute some additional cells. For instance, on our [Getting Started](../getting_started.html) page we show a list of all nbdev commands, automatically generated with `nbdev_help`. We want this page to always have the most up to date list of commands and docs, so we want it to always execute when the docs are rendered. To do that, add the following directive to the top of a cell:\n",
    "\n",
    "```python\n",
    "#| exec_doc\n",
    "```\n",
    "\n",
    "Alternatively, you can get nbdev to automatically execute *all* cells when rendering your docs, by adding the following to your notebook frontmatter:\n",
    "\n",
    "```\n",
    "---\n",
    "exec_all: true\n",
    "---\n",
    "```"
   ]
  },
  {
   "cell_type": "markdown",
   "metadata": {},
   "source": [
    "## Why use `show_doc`?"
   ]
  },
  {
   "cell_type": "markdown",
   "metadata": {},
   "source": [
    "Many Python developers use [sphinx autodoc](https://www.sphinx-doc.org/en/master/usage/extensions/autodoc.html) to automatically document a whole module all at once. Whilst this can work reasonably well, we think there are huge benefits for both developers and users in using nbdev's approach instead\n",
    "\n",
    "The premise of nbdev's approach is that your documentation is important enough to be worth you taking the time to think carefully though each thing you want to show your users, what examples you're going to provide, maybe adding some images to explain more complex ideas, and so forth. Jupyter provides a terrific environment for creating just these kinds of documents. For instance, with Jupyter you can:\n",
    "\n",
    "- Paste images directly from your clipboard into a cell\n",
    "- Insert code and have it executed and the results displayed to users\n",
    "- Create a hierarchy of headings to help structure your page\n",
    "- ...and much more.\n",
    "\n",
    "With `show_doc`, you can insert automatically-updated API details for your library anywhere in a page. That means that you get to decide exactly how your page should look, and what information is provided where. You don't have to limit yourself to the limits of ASCII art for diagrams, and can include full end-to-end code walkthrus of the processes your users will be following."
   ]
  },
  {
   "cell_type": "code",
   "execution_count": null,
   "metadata": {},
   "outputs": [],
   "source": []
  }
 ],
 "metadata": {
  "kernelspec": {
   "display_name": "Python 3 (ipykernel)",
   "language": "python",
   "name": "python3"
  }
 },
 "nbformat": 4,
 "nbformat_minor": 4
}
