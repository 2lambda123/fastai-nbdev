{
 "cells": [
  {
   "cell_type": "code",
   "execution_count": null,
   "id": "510ed03d-0c3b-4caf-910d-e6eaec08fd63",
   "metadata": {},
   "outputs": [],
   "source": [
    "#|default_exp filter"
   ]
  },
  {
   "cell_type": "code",
   "execution_count": null,
   "id": "3191cc5f-3119-4cf7-baf7-774d0f70cf99",
   "metadata": {},
   "outputs": [],
   "source": [
    "#|export\n",
    "from __future__ import annotations\n",
    "import json\n",
    "\n",
    "from nbprocess.read import *\n",
    "from nbprocess.sync import *\n",
    "from nbprocess.process import *\n",
    "from nbprocess.processors import *\n",
    "from fastcore.utils import *\n",
    "from fastcore.script import call_parse,bool_arg"
   ]
  },
  {
   "cell_type": "markdown",
   "id": "82f1d405-9652-4991-9a2c-24cae862ce46",
   "metadata": {},
   "source": [
    "# quarto\n",
    "\n",
    "> Filter for quarto processing"
   ]
  },
  {
   "cell_type": "code",
   "execution_count": null,
   "id": "c3b89ff6",
   "metadata": {},
   "outputs": [],
   "source": [
    "#|export\n",
    "class FilterDefaults:\n",
    "    def _nothing(self): return []\n",
    "    xtra_procs=xtra_preprocs=xtra_postprocs=_nothing\n",
    "    \n",
    "    def base_procs(self):\n",
    "        return [strip_ansi, meta_, hide_line, filter_stream_, clean_magics,\n",
    "                bash_identify, rm_header_dash, rm_export, clean_show_doc, remove_]\n",
    "    def base_preprocs(self): return [insert_warning]\n",
    "    def base_postprocs(self): return []\n",
    "\n",
    "    def procs(self):\n",
    "        \"Processors for export\"\n",
    "        return self.base_procs + self.xtra_procs\n",
    "\n",
    "    def preprocs(self):\n",
    "        \"Preprocessors for export\"\n",
    "        return self.base_preprocs + self.xtra_preprocs\n",
    "\n",
    "    def postprocs(self):\n",
    "        \"Postprocessors for export\"\n",
    "        return self.base_postprocs + self.xtra_postprocs"
   ]
  },
  {
   "cell_type": "code",
   "execution_count": null,
   "id": "0ce7675e",
   "metadata": {},
   "outputs": [],
   "source": [
    "#|export\n",
    "@call_parse\n",
    "def filter_nb(\n",
    "    nb_txt:str=None  # Notebook text (uses stdin if not provided)\n",
    "):\n",
    "    filt = get_config().get('exporter', FilterDefaults)()\n",
    "    printit = False\n",
    "    if not nb_txt:\n",
    "        nb_txt = sys.stdin.read()\n",
    "        printit = True\n",
    "    nb = dict2nb(json.loads(nb_txt))\n",
    "    nbp = NBProcessor(nb=nb, procs=exp.procs(), preprocs=exp.preprocs(), postprocs=exp.postprocs())\n",
    "    nbp.process()\n",
    "    res = nb2str(nb)\n",
    "    if printit: print(res)\n",
    "    else: return res"
   ]
  },
  {
   "cell_type": "code",
   "execution_count": null,
   "id": "3a228499",
   "metadata": {},
   "outputs": [],
   "source": [
    "#|export\n",
    "@call_parse\n",
    "def create_quarto(\n",
    "    path:str=None, # path to notebooks\n",
    "    symlinks:bool=False, # follow symlinks?\n",
    "    file_glob:str='*.ipynb', # Only include files matching glob\n",
    "    file_re:str=None, # Only include files matching regex\n",
    "    folder_re:str=None, # Only enter folders matching regex\n",
    "    skip_file_glob:str=None, # Skip files matching glob\n",
    "    skip_file_re:str=None, # Skip files matching regex\n",
    "    skip_folder_re:str='^[_.]' # Skip folders matching regex\n",
    "):\n",
    "    path = get_config().path(\"nbs_path\") if not path else Path(path)\n",
    "    files = globtastic(path, symlinks=symlinks, file_glob=file_glob, file_re=file_re,\n",
    "                       folder_re=folder_re, skip_file_glob=skip_file_glob,\n",
    "                       skip_file_re=skip_file_re, skip_folder_re=skip_folder_re\n",
    "                      ).sorted().map(Path)\n",
    "    yml = L((path/'_quarto.yml').read_text().splitlines(True))\n",
    "    re_contents = re.compile('^\\s+contents:\\s*$').search\n",
    "    yml = yml[yml.argfirst(re_contents)+1:]\n",
    "    return '\\n'.join(f'- {o.relative_to(path)}' for o in files)"
   ]
  },
  {
   "cell_type": "code",
   "execution_count": null,
   "id": "c945f8ab",
   "metadata": {},
   "outputs": [
    {
     "name": "stdout",
     "output_type": "stream",
     "text": [
      "- 00_read.ipynb\n",
      "- 01_maker.ipynb\n",
      "- 02_process.ipynb\n",
      "- 03_export.ipynb\n",
      "- 04_sync.ipynb\n",
      "- 05_merge.ipynb\n",
      "- 06_clean.ipynb\n",
      "- 07_processors.ipynb\n",
      "- 08_filter.ipynb\n",
      "- index.ipynb\n"
     ]
    }
   ],
   "source": [
    "print(create_quarto())"
   ]
  },
  {
   "cell_type": "markdown",
   "id": "aa35b010",
   "metadata": {},
   "source": [
    "## Export -"
   ]
  },
  {
   "cell_type": "code",
   "execution_count": null,
   "id": "3d8031ce",
   "metadata": {},
   "outputs": [],
   "source": [
    "#skip\n",
    "from nbprocess.export import nbs_export\n",
    "nbs_export()"
   ]
  },
  {
   "cell_type": "code",
   "execution_count": null,
   "id": "43fd1f75",
   "metadata": {},
   "outputs": [],
   "source": []
  }
 ],
 "metadata": {
  "kernelspec": {
   "display_name": "Python 3 (ipykernel)",
   "language": "python",
   "name": "python3"
  }
 },
 "nbformat": 4,
 "nbformat_minor": 5
}
