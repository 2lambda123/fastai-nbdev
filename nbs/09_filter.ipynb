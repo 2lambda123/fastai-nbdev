{
 "cells": [
  {
   "cell_type": "code",
   "execution_count": null,
   "id": "510ed03d-0c3b-4caf-910d-e6eaec08fd63",
   "metadata": {},
   "outputs": [],
   "source": [
    "#|default_exp filter"
   ]
  },
  {
   "cell_type": "code",
   "execution_count": null,
   "id": "3191cc5f-3119-4cf7-baf7-774d0f70cf99",
   "metadata": {},
   "outputs": [],
   "source": [
    "#|export\n",
    "from __future__ import annotations\n",
    "import json,shutil\n",
    "\n",
    "from nbprocess.read import *\n",
    "from nbprocess.sync import *\n",
    "from nbprocess.process import *\n",
    "from nbprocess.processors import *\n",
    "from fastcore.utils import *\n",
    "from fastcore.script import call_parse,bool_arg"
   ]
  },
  {
   "cell_type": "markdown",
   "id": "82f1d405-9652-4991-9a2c-24cae862ce46",
   "metadata": {},
   "source": [
    "# quarto\n",
    "\n",
    "> Filter for quarto processing"
   ]
  },
  {
   "cell_type": "code",
   "execution_count": null,
   "id": "c3b89ff6",
   "metadata": {},
   "outputs": [],
   "source": [
    "#|export\n",
    "class FilterDefaults:\n",
    "    def _nothing(self): return []\n",
    "    xtra_procs=xtra_preprocs=xtra_postprocs=_nothing\n",
    "    \n",
    "    def base_procs(self):\n",
    "        return [strip_ansi, meta_, hide_line, filter_stream_, clean_magics,\n",
    "                bash_identify, rm_header_dash, rm_export, clean_show_doc, remove_]\n",
    "    def base_preprocs(self): return [insert_warning]\n",
    "    def base_postprocs(self): return []\n",
    "\n",
    "    def procs(self):\n",
    "        \"Processors for export\"\n",
    "        return self.base_procs() + self.xtra_procs()\n",
    "\n",
    "    def preprocs(self):\n",
    "        \"Preprocessors for export\"\n",
    "        return self.base_preprocs() + self.xtra_preprocs()\n",
    "\n",
    "    def postprocs(self):\n",
    "        \"Postprocessors for export\"\n",
    "        return self.base_postprocs() + self.xtra_postprocs()"
   ]
  },
  {
   "cell_type": "code",
   "execution_count": null,
   "id": "0ce7675e",
   "metadata": {},
   "outputs": [],
   "source": [
    "#|export\n",
    "@call_parse\n",
    "def filter_nb(\n",
    "    nb_txt:str=None  # Notebook text (uses stdin if not provided)\n",
    "):\n",
    "    filt = get_config().get('exporter', FilterDefaults)()\n",
    "    printit = False\n",
    "    if not nb_txt:\n",
    "        nb_txt = sys.stdin.read()\n",
    "        printit = True\n",
    "    nb = dict2nb(json.loads(nb_txt))\n",
    "    nbp = NBProcessor(nb=nb, procs=filt.procs(), preprocs=filt.preprocs(), postprocs=filt.postprocs())\n",
    "    nbp.process()\n",
    "    res = nb2str(nb)\n",
    "    if printit: print(res)\n",
    "    else: return res"
   ]
  },
  {
   "cell_type": "code",
   "execution_count": null,
   "id": "3a228499",
   "metadata": {},
   "outputs": [],
   "source": [
    "#|export\n",
    "@call_parse\n",
    "def create_quarto(\n",
    "    path:str=None, # path to notebooks\n",
    "    doc_path:str=None, # path to output docs\n",
    "    symlinks:bool=False, # follow symlinks?\n",
    "    file_glob:str='*.ipynb', # Only include files matching glob\n",
    "    file_re:str=None, # Only include files matching regex\n",
    "    folder_re:str=None, # Only enter folders matching regex\n",
    "    skip_file_glob:str=None, # Skip files matching glob\n",
    "    skip_file_re:str=None, # Skip files matching regex\n",
    "    skip_folder_re:str='^[_.]' # Skip folders matching regex\n",
    "):\n",
    "    cfg = get_config()\n",
    "    path = cfg.path(\"nbs_path\") if not path else Path(path)\n",
    "    doc_path = cfg.path(\"doc_path\") if not doc_path else Path(doc_path)\n",
    "    files = globtastic(path, symlinks=symlinks, file_glob=file_glob, file_re=file_re,\n",
    "                       folder_re=folder_re, skip_file_glob=skip_file_glob,\n",
    "                       skip_file_re=skip_file_re, skip_folder_re=skip_folder_re\n",
    "                      ).sorted().map(Path)\n",
    "    yml_path = path/'_quarto.yml'\n",
    "    yml = L(yml_path.read_text().splitlines())\n",
    "    re_contents = re.compile('^\\s+contents:\\s*$').search\n",
    "    loc = yml.argfirst(re_contents)\n",
    "    prefix = re.findall('^(\\s+)contents:', yml[loc])[0]\n",
    "    yml = yml[:loc+1]\n",
    "    yml += [f'  {prefix}- {o.relative_to(path)}' for o in files]\n",
    "    yml_path.write_text('\\n'.join(yml))\n",
    "    os.system(f'cd {path} && quarto render')\n",
    "    os.system(f'cd {path} && quarto render {files[0]} -o README.md -t gfm')\n",
    "    cfg_path = cfg.config_path\n",
    "    shutil.rmtree(cfg_path/'docs', ignore_errors=True)\n",
    "    (cfg_path/'README.md').unlink(missing_ok=True)\n",
    "    site = path/'_site'\n",
    "    shutil.move(site/'README.md', cfg_path)\n",
    "    shutil.move(site, cfg_path/'docs')"
   ]
  },
  {
   "cell_type": "code",
   "execution_count": null,
   "id": "c945f8ab",
   "metadata": {},
   "outputs": [
    {
     "name": "stderr",
     "output_type": "stream",
     "text": [
      "\u001b[1m\u001b[34m[ 1/10] 09_filter.ipynb\u001b[39m\u001b[22m\n",
      "\u001b[1m\u001b[34m[ 2/10] 08_processors.ipynb\u001b[39m\u001b[22m\n",
      "\u001b[1m\u001b[34m[ 3/10] 06_merge.ipynb\u001b[39m\u001b[22m\n",
      "\u001b[1m\u001b[34m[ 4/10] 03_process.ipynb\u001b[39m\u001b[22m\n",
      "\u001b[1m\u001b[34m[ 5/10] 04_export.ipynb\u001b[39m\u001b[22m\n",
      "\u001b[1m\u001b[34m[ 6/10] 02_maker.ipynb\u001b[39m\u001b[22m\n",
      "\u001b[1m\u001b[34m[ 7/10] 07_clean.ipynb\u001b[39m\u001b[22m\n",
      "\u001b[1m\u001b[34m[ 8/10] 00_index.ipynb\u001b[39m\u001b[22m\n",
      "\u001b[1m\u001b[34m[ 9/10] 01_read.ipynb\u001b[39m\u001b[22m\n",
      "\u001b[1m\u001b[34m[10/10] 05_sync.ipynb\u001b[39m\u001b[22m\n",
      "\n",
      "Output created: _site/09_filter.html\n",
      "\n",
      "\u001b[1mpandoc -o README.md\u001b[22m\n",
      "  to: gfm+footnotes+tex_math_dollars-yaml_metadata_block\n",
      "  standalone: true\n",
      "  default-image-extension: png\n",
      "  html-math-method: webtex\n",
      "  filters:\n",
      "    - crossref\n",
      "  \n",
      "Output created: _site/README.md\n",
      "\n"
     ]
    }
   ],
   "source": [
    "create_quarto()"
   ]
  },
  {
   "cell_type": "markdown",
   "id": "aa35b010",
   "metadata": {},
   "source": [
    "## Export -"
   ]
  },
  {
   "cell_type": "code",
   "execution_count": null,
   "id": "3d8031ce",
   "metadata": {},
   "outputs": [],
   "source": [
    "#skip\n",
    "from nbprocess.export import nbs_export\n",
    "nbs_export()"
   ]
  },
  {
   "cell_type": "code",
   "execution_count": null,
   "id": "43fd1f75",
   "metadata": {},
   "outputs": [],
   "source": []
  }
 ],
 "metadata": {
  "kernelspec": {
   "display_name": "Python 3 (ipykernel)",
   "language": "python",
   "name": "python3"
  }
 },
 "nbformat": 4,
 "nbformat_minor": 5
}
