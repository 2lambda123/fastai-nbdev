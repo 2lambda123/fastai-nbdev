{
 "cells": [
  {
   "cell_type": "code",
   "execution_count": 1,
   "id": "e91664f8-3a82-4518-b856-3d1c34fd522f",
   "metadata": {},
   "outputs": [],
   "source": [
    "#default_exp media"
   ]
  },
  {
   "cell_type": "markdown",
   "id": "2d81678b-fe9b-437f-be7a-bf81ceda7962",
   "metadata": {},
   "source": [
    "# Convert HTML and Images to MDX\n",
    "> Make allowances for plots and dataframes in MDX"
   ]
  },
  {
   "cell_type": "code",
   "execution_count": 2,
   "id": "ad601867-c2ba-4b0b-a831-5244de7a2a2a",
   "metadata": {},
   "outputs": [],
   "source": [
    "#export\n",
    "from nbconvert.preprocessors import Preprocessor\n",
    "from fastcore.imports import Path\n",
    "from html.parser import HTMLParser\n",
    "\n",
    "from nbprocess.test_utils import *"
   ]
  },
  {
   "cell_type": "code",
   "execution_count": 14,
   "id": "66c95c9b",
   "metadata": {},
   "outputs": [],
   "source": [
    "#export\n",
    "class HTMLdf(HTMLParser):\n",
    "    \"\"\"HTML Parser that finds a dataframe.\"\"\"\n",
    "    df,scoped = False,False\n",
    "    \n",
    "    def handle_starttag(self, tag, attrs):\n",
    "        if tag == 'style' and 'scoped' in dict(attrs): self.scoped=True\n",
    "\n",
    "    def handle_data(self, data):\n",
    "        if '.dataframe' in data and self.scoped: self.df=True\n",
    "        \n",
    "    def handle_endtag(self, tag):\n",
    "        if tag == 'style': self.scoped=False\n",
    "                \n",
    "    @classmethod\n",
    "    def search(cls, x):\n",
    "        parser = cls()\n",
    "        parser.feed(x)\n",
    "        return parser.df"
   ]
  },
  {
   "cell_type": "code",
   "execution_count": 15,
   "id": "090102b2-268d-4743-8c55-1002ff94a7fe",
   "metadata": {},
   "outputs": [],
   "source": [
    "_test_html = \"\"\"<div>\n",
    "<style scoped>\n",
    "    .dataframe tbody tr th:only-of-type {\n",
    "        vertical-align: middle;\n",
    "    }\n",
    "\n",
    "    .dataframe tbody tr th {\n",
    "        vertical-align: top;\n",
    "    }\n",
    "\n",
    "    .dataframe thead th {\n",
    "        text-align: right;\n",
    "    }\n",
    "</style>\"\"\"\n",
    "\n",
    "assert HTMLdf.search(_test_html)\n",
    "assert not HTMLdf.search('<div></div>')"
   ]
  },
  {
   "cell_type": "code",
   "execution_count": 16,
   "id": "0be5b220-1a7b-455e-89d4-6a776db14ab4",
   "metadata": {},
   "outputs": [],
   "source": [
    "#export\n",
    "class HTMLEscape(Preprocessor):\n",
    "    \"\"\"\n",
    "    Place HTML in a codeblock and surround it with a <HTMLOutputBlock> component.\n",
    "    \"\"\"    \n",
    "    def preprocess_cell(self, cell, resources, index):\n",
    "        if cell.cell_type =='code':\n",
    "            outputs = []\n",
    "            for o in cell.outputs:\n",
    "                if o.get('data') and o['data'].get('text/html'):\n",
    "                    cell.metadata.html_output = True\n",
    "                    html = o['data']['text/html']\n",
    "                    cell.metadata.html_center = False if HTMLdf.search(html) else True\n",
    "                    o['data']['text/html'] = '```html\\n'+html.strip()+'\\n```'\n",
    "        return cell, resources"
   ]
  },
  {
   "cell_type": "markdown",
   "id": "d940b37d-4049-4991-bacd-5b68ee1daa04",
   "metadata": {},
   "source": [
    "By default, HTML is incompatible with MDX.  We place HTML in a code block and wrap it with the a custom component so that the static site generator can render it."
   ]
  },
  {
   "cell_type": "code",
   "execution_count": 17,
   "id": "746aa791-e2fd-4e3f-974e-13707af2f23b",
   "metadata": {},
   "outputs": [],
   "source": [
    "c, _ = run_preprocessor([HTMLEscape], '../tests/docs_test.ipynb')\n",
    "assert '<HTMLOutputBlock' in c and '</HTMLOutputBlock>' in c and 'center' not in c\n",
    "assert '```html\\n<div>' in c and '</div>\\n```' in c"
   ]
  },
  {
   "cell_type": "code",
   "execution_count": 18,
   "id": "49e55cce-6b1c-4f10-b997-51e586d6721b",
   "metadata": {},
   "outputs": [],
   "source": [
    "#export\n",
    "class ImageSave(Preprocessor):\n",
    "    \"Saves images stored as bytes in notebooks to disk.\"\n",
    "    def preprocess(self, nb, resources):\n",
    "        meta = resources.get('metadata', {})\n",
    "        nb_name,nb_path = meta.get('name'),meta.get('path')\n",
    "        outfiles = resources.get('outputs')\n",
    "        if nb_name and outfiles:\n",
    "            resources['fmap'] = {}\n",
    "            for k,v in outfiles.items():\n",
    "                dest = Path(nb_path)/f'_{nb_name}_files/{k}'\n",
    "                dest.parent.mkdir(exist_ok=True)\n",
    "                dest.write_bytes(v)\n",
    "                resources['fmap'][f'{k}'] = f'_{nb_name}_files/{k}'       \n",
    "        return nb, resources\n",
    "\n",
    "class ImagePath(Preprocessor):\n",
    "    \"Changes the image path to the location where `ImageSave` saved the files.\"\n",
    "    def preprocess_cell(self, cell, resources, index): \n",
    "        fmap = resources.get('fmap')\n",
    "        if fmap:\n",
    "            for o in cell.get('outputs', []):\n",
    "                fnames = o.get('metadata', {}).get('filenames', {})\n",
    "                for k,v in fnames.items():\n",
    "                    fnames[k] = fmap.get(v,v)\n",
    "        return cell, resources"
   ]
  },
  {
   "cell_type": "markdown",
   "id": "de862b87-7ca8-40b4-affc-cacdf91ba66e",
   "metadata": {},
   "source": [
    "`ImageSave` and `ImagePath` must be used together to extract and save images from notebooks and change the path.  This is necessary to enable compatiblity with certain types of plotting libraries like matplotlib."
   ]
  },
  {
   "cell_type": "code",
   "execution_count": 19,
   "id": "09bbb270-514c-4962-888b-dea11ebec9ad",
   "metadata": {},
   "outputs": [],
   "source": [
    "c, _ = run_preprocessor([ImageSave, ImagePath], '../tests/docs_test.ipynb')\n",
    "assert '![png](_docs_test_files/output_6_0.png)' in c"
   ]
  }
 ],
 "metadata": {
  "kernelspec": {
   "display_name": "Python 3 (ipykernel)",
   "language": "python",
   "name": "python3"
  },
  "language_info": {
   "codemirror_mode": {
    "name": "ipython",
    "version": 3
   },
   "file_extension": ".py",
   "mimetype": "text/x-python",
   "name": "python",
   "nbconvert_exporter": "python",
   "pygments_lexer": "ipython3",
   "version": "3.9.5"
  }
 },
 "nbformat": 4,
 "nbformat_minor": 5
}
