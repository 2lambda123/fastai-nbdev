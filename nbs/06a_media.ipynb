{
 "cells": [
  {
   "cell_type": "code",
   "execution_count": null,
   "id": "e91664f8-3a82-4518-b856-3d1c34fd522f",
   "metadata": {},
   "outputs": [],
   "source": [
    "#default_exp media"
   ]
  },
  {
   "cell_type": "markdown",
   "id": "2d81678b-fe9b-437f-be7a-bf81ceda7962",
   "metadata": {},
   "source": [
    "# Convert HTML and Images to MDX\n",
    "> Make allowances for plots and dataframes in MDX"
   ]
  },
  {
   "cell_type": "code",
   "execution_count": null,
   "id": "ad601867-c2ba-4b0b-a831-5244de7a2a2a",
   "metadata": {},
   "outputs": [],
   "source": [
    "#export\n",
    "from nbprocess.processor import *\n",
    "from fastcore.imports import Path\n",
    "from fastcore.basics import nested_idx\n",
    "from html.parser import HTMLParser\n",
    "\n",
    "from nbprocess.test_utils import *"
   ]
  },
  {
   "cell_type": "code",
   "execution_count": null,
   "id": "66c95c9b",
   "metadata": {},
   "outputs": [],
   "source": [
    "#export\n",
    "class _HTMLdf(HTMLParser):\n",
    "    \"HTML Parser that finds a dataframe.\"\n",
    "    df,scoped = False,False\n",
    "    def handle_starttag(self, tag, attrs):\n",
    "        if tag == 'style' and 'scoped' in dict(attrs): self.scoped=True\n",
    "    def handle_data(self, data):\n",
    "        if '.dataframe' in data and self.scoped: self.df=True\n",
    "    def handle_endtag(self, tag):\n",
    "        if tag == 'style': self.scoped=False\n",
    "                \n",
    "    @classmethod\n",
    "    def search(cls, x):\n",
    "        parser = cls()\n",
    "        parser.feed(x)\n",
    "        return parser.df\n",
    "\n",
    "@preprocess_cell\n",
    "def HTMLEscape(cell):\n",
    "    \"Place HTML in a codeblock and surround it with a <HTMLOutputBlock> component.\"\n",
    "    if cell.cell_type !='code': return\n",
    "    for o in cell.outputs:\n",
    "        if nested_idx(o, 'data', 'text/html'):\n",
    "            cell.metadata.html_output = True\n",
    "            html = o['data']['text/html']\n",
    "            cell.metadata.html_center = not _HTMLdf.search(html)\n",
    "            o['data']['text/html'] = '```html\\n'+html.strip()+'\\n```'"
   ]
  },
  {
   "cell_type": "markdown",
   "id": "d940b37d-4049-4991-bacd-5b68ee1daa04",
   "metadata": {},
   "source": [
    "By default, HTML is incompatible with MDX.  We place HTML in a code block and wrap it with the a custom component so that the static site generator can render it."
   ]
  },
  {
   "cell_type": "code",
   "execution_count": null,
   "id": "746aa791-e2fd-4e3f-974e-13707af2f23b",
   "metadata": {},
   "outputs": [],
   "source": [
    "c, _ = run_preprocessor([HTMLEscape], '../tests/docs_test.ipynb')\n",
    "assert '<HTMLOutputBlock' in c and '</HTMLOutputBlock>' in c and 'center' not in c\n",
    "assert '```html\\n<div>' in c and '</div>\\n```' in c"
   ]
  },
  {
   "cell_type": "code",
   "execution_count": null,
   "id": "49e55cce-6b1c-4f10-b997-51e586d6721b",
   "metadata": {},
   "outputs": [],
   "source": [
    "#export\n",
    "class ImageSave(Preprocessor):\n",
    "    \"Saves images stored as bytes in notebooks to disk.\"\n",
    "    def preprocess(self, nb, resources):\n",
    "        meta = resources.get('metadata', {})\n",
    "        nb_name,nb_path = meta.get('name'),meta.get('path')\n",
    "        outfiles = resources.get('outputs')\n",
    "        if nb_name and outfiles:\n",
    "            resources['fmap'] = {}\n",
    "            for k,v in outfiles.items():\n",
    "                dest = Path(nb_path)/f'_{nb_name}_files/{k}'\n",
    "                dest.parent.mkdir(exist_ok=True)\n",
    "                dest.write_bytes(v)\n",
    "                resources['fmap'][f'{k}'] = f'_{nb_name}_files/{k}'       \n",
    "        return nb, resources\n",
    "\n",
    "class ImagePath(Preprocessor):\n",
    "    \"Changes the image path to the location where `ImageSave` saved the files.\"\n",
    "    def preprocess_cell(self, cell, resources, index): \n",
    "        fmap = resources.get('fmap')\n",
    "        if fmap:\n",
    "            for o in cell.get('outputs', []):\n",
    "                fnames = o.get('metadata', {}).get('filenames', {})\n",
    "                for k,v in fnames.items():\n",
    "                    fnames[k] = fmap.get(v,v)\n",
    "        return cell, resources"
   ]
  },
  {
   "cell_type": "markdown",
   "id": "de862b87-7ca8-40b4-affc-cacdf91ba66e",
   "metadata": {},
   "source": [
    "`ImageSave` and `ImagePath` must be used together to extract and save images from notebooks and change the path.  This is necessary to enable compatiblity with certain types of plotting libraries like matplotlib."
   ]
  },
  {
   "cell_type": "code",
   "execution_count": null,
   "id": "09bbb270-514c-4962-888b-dea11ebec9ad",
   "metadata": {},
   "outputs": [],
   "source": [
    "c, _ = run_preprocessor([ImageSave, ImagePath], '../tests/docs_test.ipynb')\n",
    "assert '![png](_docs_test_files/output_6_0.png)' in c"
   ]
  },
  {
   "cell_type": "code",
   "execution_count": null,
   "id": "4b6b9a99",
   "metadata": {},
   "outputs": [],
   "source": []
  }
 ],
 "metadata": {
  "kernelspec": {
   "display_name": "Python 3 (ipykernel)",
   "language": "python",
   "name": "python3"
  }
 },
 "nbformat": 4,
 "nbformat_minor": 5
}
