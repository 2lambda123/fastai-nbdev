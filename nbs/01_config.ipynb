{
 "cells": [
  {
   "cell_type": "markdown",
   "metadata": {},
   "source": [
    "# config\n",
    "\n",
    "> description: Configuring nbdev and bootstrapping notebook export"
   ]
  },
  {
   "cell_type": "code",
   "execution_count": null,
   "metadata": {},
   "outputs": [],
   "source": [
    "#|hide\n",
    "#|default_exp config"
   ]
  },
  {
   "cell_type": "code",
   "execution_count": null,
   "metadata": {},
   "outputs": [],
   "source": [
    "#|export\n",
    "from datetime import datetime\n",
    "from fastcore.imports import *\n",
    "from fastcore.foundation import *\n",
    "from fastcore.basics import *\n",
    "from fastcore.imports import *\n",
    "from fastcore.meta import *\n",
    "from fastcore.script import *\n",
    "from fastcore.xdg import *\n",
    "from fastcore.xtras import *\n",
    "\n",
    "import ast,functools\n",
    "from IPython.display import Markdown\n",
    "from configparser import ConfigParser\n",
    "from execnb.nbio import read_nb,NbCell\n",
    "from pprint import pformat,pprint"
   ]
  },
  {
   "cell_type": "code",
   "execution_count": null,
   "metadata": {},
   "outputs": [],
   "source": [
    "#|hide\n",
    "from fastcore.test import *\n",
    "import tempfile"
   ]
  },
  {
   "cell_type": "markdown",
   "metadata": {},
   "source": [
    "## Configuring nbdev"
   ]
  },
  {
   "cell_type": "markdown",
   "metadata": {},
   "source": [
    "nbdev is heavily customizeable, thanks to the configuration system defined in this module. There are 2 ways to interact with nbdev's config:\n",
    "\n",
    "- **In the terminal:** `nbdev_create_config` creates a config file (if you're starting a new project use `nbdev_new` instead)\n",
    "- **In your library:** `get_config` returns a [`Config`](https://fastcore.fast.ai/foundation.html#config) object.\n",
    "\n",
    "Read on for more about how these work."
   ]
  },
  {
   "cell_type": "markdown",
   "metadata": {},
   "source": [
    "### Creating a config file -"
   ]
  },
  {
   "cell_type": "code",
   "execution_count": null,
   "metadata": {},
   "outputs": [],
   "source": [
    "#|export\n",
    "_nbdev_home_dir = 'nbdev' # sub-directory of xdg base dir\n",
    "_nbdev_config_name = 'settings.ini'"
   ]
  },
  {
   "cell_type": "code",
   "execution_count": null,
   "metadata": {},
   "outputs": [],
   "source": [
    "#|exporti\n",
    "def apply_defaults(\n",
    "    cfg,\n",
    "    lib_name:str=None, # Package name, defaults to local repo folder name\n",
    "    branch='master', # Repo default branch\n",
    "    git_url='https://github.com/%(user)s/%(lib_name)s', # Repo URL\n",
    "    custom_sidebar:bool_arg=False, # Use a custom sidebar.yml?\n",
    "    nbs_path='.', # Path to notebooks\n",
    "    lib_path='%(lib_name)s', # Path to package root\n",
    "    doc_path='_docs', # Path to rendered docs\n",
    "    tst_flags='', # Test flags\n",
    "    version='0.0.1', # Version of this release\n",
    "    doc_host='https://%(user)s.github.io',  # Hostname for docs\n",
    "    doc_baseurl='/%(lib_name)s',  # Base URL for docs\n",
    "    keywords='nbdev jupyter notebook python', # Package keywords\n",
    "    license='apache2', # License for the package\n",
    "    copyright:str=None, # Copyright for the package, defaults to '`current_year` onwards, `author`'\n",
    "    status='3', # Development status PyPI classifier\n",
    "    min_python='3.7', # Minimum Python version PyPI classifier\n",
    "    audience='Developers', # Intended audience PyPI classifier\n",
    "    language='English', # Language PyPI classifier\n",
    "    recursive:bool_arg=False, # Include subfolders in notebook globs?\n",
    "    black_formatting:bool_arg=False, # Format libraries with black?\n",
    "    readme_nb='index.ipynb', # Notebook to export as repo readme\n",
    "    title='%(lib_name)s', # Quarto website title\n",
    "    allowed_metadata_keys='', # Preserve the list of keys in the main notebook metadata\n",
    "    allowed_cell_metadata_keys='', # Preserve the list of keys in cell level metadata\n",
    "    jupyter_hooks=True, # Run Jupyter hooks?\n",
    "    clean_ids=True, # Remove ids from plaintext reprs?\n",
    "    custom_quarto_yml=False, # Use a custom _quarto.yml?\n",
    "):\n",
    "    \"Apply default settings where missing in `cfg`.\"\n",
    "    if lib_name is None:\n",
    "        _parent = Path.cwd().parent\n",
    "        lib_name = _parent.parent.name if _parent.name=='nbs' else _parent.name\n",
    "    if copyright is None and hasattr(cfg,'author'): copyright = f\"{datetime.now().year} ownwards, {cfg.author}\"\n",
    "    for k,v in locals().items():\n",
    "        if not (k.startswith('_') or k=='cfg' or k in cfg): cfg[k] = v\n",
    "    return cfg"
   ]
  },
  {
   "cell_type": "code",
   "execution_count": null,
   "metadata": {},
   "outputs": [],
   "source": [
    "#|export\n",
    "@call_parse\n",
    "@delegates(apply_defaults, but='cfg')\n",
    "def nbdev_create_config(\n",
    "    user:str, # Repo username\n",
    "    author:str, # Package author's name\n",
    "    author_email:str, # Package author's email address\n",
    "    description:str, # Short summary of the package\n",
    "    path:str='.', # Path to create config file\n",
    "    cfg_name:str=_nbdev_config_name, # Name of config file to create\n",
    "    **kwargs\n",
    "):\n",
    "    \"Create a config file. Settings can be passed as command-line arguments.\"\n",
    "    d = {k:v for k,v in locals().items() if k not in ('path','cfg_name','kwargs')}\n",
    "    cfg = Config(path, cfg_name, d, save=False)\n",
    "    cfg = apply_defaults(cfg, **kwargs)\n",
    "    cfg.save()"
   ]
  },
  {
   "cell_type": "markdown",
   "metadata": {},
   "source": [
    "The table above also serves as a full reference of nbdev's settings (excluding the `path` and `cfg_name` parameters which decide where the config file is saved). For more about PyPI classifiers, see [_Classifiers_](https://pypi.org/classifiers/)."
   ]
  },
  {
   "cell_type": "markdown",
   "metadata": {},
   "source": [
    "You can create a config file by passing all of the required settings via the command line (as well as any optional settings you'd like to override):"
   ]
  },
  {
   "cell_type": "code",
   "execution_count": null,
   "metadata": {},
   "outputs": [],
   "source": [
    "%%sh\n",
    "nbdev_create_config fastai fastai info@fast.ai 'A test project' --path ../tests"
   ]
  },
  {
   "cell_type": "markdown",
   "metadata": {},
   "source": [
    "Here's what the first few lines look like:"
   ]
  },
  {
   "cell_type": "code",
   "execution_count": null,
   "metadata": {},
   "outputs": [
    {
     "name": "stdout",
     "output_type": "stream",
     "text": [
      "[DEFAULT]\n",
      "user = fastai\n",
      "author = fastai\n",
      "author_email = info@fast.ai\n",
      "description = A test project\n"
     ]
    }
   ],
   "source": [
    "%%sh\n",
    "head -n5 ../tests/settings.ini"
   ]
  },
  {
   "cell_type": "markdown",
   "metadata": {},
   "source": [
    "### Reading a config file -"
   ]
  },
  {
   "cell_type": "code",
   "execution_count": null,
   "metadata": {},
   "outputs": [],
   "source": [
    "#|export\n",
    "def _nbdev_config_file(cfg_name=_nbdev_config_name, path=None):\n",
    "    cfg_path = path = Path.cwd() if path is None else Path(path)\n",
    "    while cfg_path != cfg_path.parent and not (cfg_path/cfg_name).exists(): cfg_path = cfg_path.parent\n",
    "    if not (cfg_path/cfg_name).exists(): cfg_path = path\n",
    "    return cfg_path/cfg_name"
   ]
  },
  {
   "cell_type": "code",
   "execution_count": null,
   "metadata": {},
   "outputs": [],
   "source": [
    "#|hide\n",
    "test_eq(_nbdev_config_file(), Path.cwd().parent/'settings.ini')"
   ]
  },
  {
   "cell_type": "code",
   "execution_count": null,
   "metadata": {},
   "outputs": [],
   "source": [
    "#|export\n",
    "def _xdg_config_paths(cfg_name=_nbdev_config_name):\n",
    "    xdg_config_paths = reversed([xdg_config_home()]+xdg_config_dirs())\n",
    "    return [o/_nbdev_home_dir/cfg_name for o in xdg_config_paths]"
   ]
  },
  {
   "cell_type": "code",
   "execution_count": null,
   "metadata": {},
   "outputs": [],
   "source": [
    "#|export\n",
    "@functools.lru_cache(maxsize=None)\n",
    "def get_config(cfg_name=_nbdev_config_name, path=None):\n",
    "    \"\"\"Return nbdev config.\\n\\nSearches up from `path` until `cfg_name` is found. User settings are loaded from\n",
    "`~/.config/nbdev/{cfg_name}`. Unspecified optional settings return defaults.\"\"\"\n",
    "    cfg_file = _nbdev_config_file(cfg_name, path)\n",
    "    extra_files = _xdg_config_paths(cfg_name)\n",
    "    cfg = Config(cfg_file.parent, cfg_file.name, extra_files=extra_files)\n",
    "    return apply_defaults(cfg)"
   ]
  },
  {
   "cell_type": "markdown",
   "metadata": {},
   "source": [
    "See `nbdev_create_config` for a full reference of nbdev's settings."
   ]
  },
  {
   "cell_type": "code",
   "execution_count": null,
   "metadata": {},
   "outputs": [],
   "source": [
    "#|hide\n",
    "try: _get_config,get_config = get_config,get_config.__wrapped__ # Bypass cache during dev and tests\n",
    "except AttributeError: pass"
   ]
  },
  {
   "cell_type": "markdown",
   "metadata": {},
   "source": [
    "Let's test it out in nbdev's own repo:"
   ]
  },
  {
   "cell_type": "code",
   "execution_count": null,
   "metadata": {},
   "outputs": [],
   "source": [
    "cfg = get_config()"
   ]
  },
  {
   "cell_type": "markdown",
   "metadata": {},
   "source": [
    "`cfg` is a fastcore [`Config`](https://fastcore.fast.ai/foundation.html#config) object, so you can access keys as attributes:"
   ]
  },
  {
   "cell_type": "markdown",
   "metadata": {},
   "source": [
    "`get_config` searches for repo `settings.ini` in the current directory, and then in all parent directories, stopping when it is found. Default values for optional settings are applied to the resulting `Config`, see `nbdev_create_config` for a full reference of nbdev's settings."
   ]
  },
  {
   "cell_type": "code",
   "execution_count": null,
   "metadata": {},
   "outputs": [],
   "source": [
    "p = Path.cwd().parent\n",
    "test_eq(cfg.lib_name, 'nbdev')\n",
    "test_eq(cfg.git_url, 'https://github.com/fastai/nbdev')"
   ]
  },
  {
   "cell_type": "markdown",
   "metadata": {},
   "source": [
    "Its own path and parent are attributes too:"
   ]
  },
  {
   "cell_type": "code",
   "execution_count": null,
   "metadata": {},
   "outputs": [],
   "source": [
    "test_eq(cfg.config_path, p)\n",
    "test_eq(cfg.config_file, p/'settings.ini')"
   ]
  },
  {
   "cell_type": "markdown",
   "metadata": {},
   "source": [
    "For convenience, use `path` to resolve settings that specify project-relative paths:"
   ]
  },
  {
   "cell_type": "code",
   "execution_count": null,
   "metadata": {},
   "outputs": [],
   "source": [
    "test_eq(cfg.path('doc_path'), p/'_docs')\n",
    "test_eq(cfg.path('lib_path'), p/'nbdev')\n",
    "test_eq(cfg.path('nbs_path'), p/'nbs')"
   ]
  },
  {
   "cell_type": "markdown",
   "metadata": {},
   "source": [
    "It automatically returns defaults for keys not specified in the config file. Let's create an empty config file to demonstrate:"
   ]
  },
  {
   "cell_type": "code",
   "execution_count": null,
   "metadata": {},
   "outputs": [],
   "source": [
    "#|hide\n",
    "!rm ../tests/test_settings.ini 2>/dev/null"
   ]
  },
  {
   "cell_type": "code",
   "execution_count": null,
   "metadata": {},
   "outputs": [],
   "source": [
    "Config('../tests/', 'test_settings.ini', {'repo': 'my-project', 'author': 'fastai'});"
   ]
  },
  {
   "cell_type": "code",
   "execution_count": null,
   "metadata": {},
   "outputs": [
    {
     "name": "stdout",
     "output_type": "stream",
     "text": [
      "[DEFAULT]\n",
      "repo = my-project\n",
      "author = fastai\n",
      "\n"
     ]
    }
   ],
   "source": [
    "%%sh\n",
    "cat ../tests/test_settings.ini"
   ]
  },
  {
   "cell_type": "code",
   "execution_count": null,
   "metadata": {},
   "outputs": [],
   "source": [
    "cfg = get_config('test_settings.ini', '../tests/')\n",
    "test_eq(cfg.repo, 'my-project')\n",
    "test_eq(cfg.lib_path, 'nbdev')\n",
    "test_eq(cfg.copyright, '2022 ownwards, fastai')"
   ]
  },
  {
   "cell_type": "markdown",
   "metadata": {},
   "source": [
    "In fact, you can return a default config even if you don't have a settings file. This is to support certain nbdev commands work outside of nbdev repos:"
   ]
  },
  {
   "cell_type": "code",
   "execution_count": null,
   "metadata": {},
   "outputs": [],
   "source": [
    "%%sh\n",
    "rm ../tests/test_settings.ini"
   ]
  },
  {
   "cell_type": "code",
   "execution_count": null,
   "metadata": {},
   "outputs": [],
   "source": [
    "cfg = get_config('test_settings.ini', '../tests')\n",
    "test_eq(cfg.lib_path, 'nbdev')\n",
    "test_eq(cfg.nbs_path, '.')"
   ]
  },
  {
   "cell_type": "markdown",
   "metadata": {},
   "source": [
    "You can customise nbdev for all repositories for your user with a ~/.config/nbdev/settings.ini file (by default, although we follow the broader [XDG specification](https://specifications.freedesktop.org/basedir-spec/basedir-spec-latest.html))."
   ]
  },
  {
   "cell_type": "code",
   "execution_count": null,
   "metadata": {},
   "outputs": [],
   "source": [
    "%%sh\n",
    "mkdir ../tests/user_settings"
   ]
  },
  {
   "cell_type": "markdown",
   "metadata": {},
   "source": [
    "For example, you could globally disable nbdev's Jupyter hooks by creating the following user settings file (we override `XDG_CONFIG_DIR` to demonstrate):"
   ]
  },
  {
   "cell_type": "code",
   "execution_count": null,
   "metadata": {},
   "outputs": [],
   "source": [
    "#|hide\n",
    "from contextlib import contextmanager"
   ]
  },
  {
   "cell_type": "code",
   "execution_count": null,
   "metadata": {},
   "outputs": [],
   "source": [
    "#|hide\n",
    "@contextmanager\n",
    "def env(k, v):\n",
    "    orig = os.environ.get(k,None)\n",
    "    try:\n",
    "        os.environ[k] = str(v)\n",
    "        yield\n",
    "    finally:\n",
    "        if orig is None: del os.environ[k]\n",
    "        else: os.environ[k] = orig"
   ]
  },
  {
   "cell_type": "code",
   "execution_count": null,
   "metadata": {},
   "outputs": [],
   "source": [
    "Config('../tests/user_settings', 'test_settings.ini', {'jupyter_hooks': False})\n",
    "with env('XDG_CONFIG_DIR', Path('../tests/user_settings').resolve()):\n",
    "    cfg = get_config('test_settings.ini', '../tests')\n",
    "\n",
    "test_eq(str2bool(cfg.jupyter_hooks), True)"
   ]
  },
  {
   "cell_type": "code",
   "execution_count": null,
   "metadata": {},
   "outputs": [],
   "source": [
    "#|hide\n",
    "!rm -r ../tests/user_settings 2>/dev/null"
   ]
  },
  {
   "cell_type": "code",
   "execution_count": null,
   "metadata": {},
   "outputs": [],
   "source": [
    "#|export\n",
    "def config_key(c, default=None, path=True, missing_ok=None):\n",
    "    \"Deprecated: use `get_config().get` or `get_config().path` instead.\"\n",
    "    warn(\"`config_key` is deprecated. Use `get_config().get` or `get_config().path` instead.\", DeprecationWarning)\n",
    "    return get_config().path(c, default) if path else get_config().get(c, default)"
   ]
  },
  {
   "cell_type": "markdown",
   "metadata": {},
   "source": [
    "## Helpers"
   ]
  },
  {
   "cell_type": "code",
   "execution_count": null,
   "metadata": {},
   "outputs": [],
   "source": [
    "#|export\n",
    "def create_output(txt, mime):\n",
    "    \"Add a cell output containing `txt` of the `mime` text MIME sub-type\"\n",
    "    return [{\"data\": { f\"text/{mime}\": str(txt).splitlines(True) },\n",
    "             \"execution_count\": 1, \"metadata\": {}, \"output_type\": \"execute_result\"}]"
   ]
  },
  {
   "cell_type": "code",
   "execution_count": null,
   "metadata": {},
   "outputs": [],
   "source": [
    "#|export\n",
    "def show_src(src, lang='python'): return Markdown(f'```{lang}\\n{src}\\n```')"
   ]
  },
  {
   "cell_type": "code",
   "execution_count": null,
   "metadata": {},
   "outputs": [
    {
     "data": {
      "text/markdown": [
       "```python\n",
       "print(create_output('text', 'text/plain'))\n",
       "```"
      ],
      "text/plain": [
       "<IPython.core.display.Markdown object>"
      ]
     },
     "execution_count": null,
     "metadata": {},
     "output_type": "execute_result"
    }
   ],
   "source": [
    "show_src(\"print(create_output('text', 'text/plain'))\")"
   ]
  },
  {
   "cell_type": "markdown",
   "metadata": {},
   "source": [
    "##  Exporting a basic module"
   ]
  },
  {
   "cell_type": "code",
   "execution_count": null,
   "metadata": {},
   "outputs": [],
   "source": [
    "#|export\n",
    "_re_version = re.compile('^__version__\\s*=.*$', re.MULTILINE)\n",
    "_init = '__init__.py'\n",
    "\n",
    "def update_version(path=None):\n",
    "    \"Add or update `__version__` in the main `__init__.py` of the library.\"\n",
    "    path = Path(path or get_config().path(\"lib_path\"))\n",
    "    fname = path/_init\n",
    "    if not fname.exists(): fname.touch()\n",
    "    version = f'__version__ = \"{get_config().version}\"'\n",
    "    code = fname.read_text()\n",
    "    if _re_version.search(code) is None: code = version + \"\\n\" + code\n",
    "    else: code = _re_version.sub(version, code)\n",
    "    fname.write_text(code)\n",
    "\n",
    "def _has_py(fs): return any(1 for f in fs if f.endswith('.py'))\n",
    "\n",
    "def add_init(path=None):\n",
    "    \"Add `__init__.py` in all subdirs of `path` containing python files if it's not there already.\"\n",
    "    # we add the lowest-level `__init__.py` files first, which ensures _has_py succeeds for parent modules\n",
    "    path = Path(path or get_config().path(\"lib_path\"))\n",
    "    path.mkdir(exist_ok=True)\n",
    "    if not (path/_init).exists(): (path/_init).touch()\n",
    "    for r,ds,fs in os.walk(path, topdown=False):\n",
    "        r = Path(r)\n",
    "        subds = (os.listdir(r/d) for d in ds)\n",
    "        if _has_py(fs) or any(filter(_has_py, subds)) and not (r/_init).exists(): (r/_init).touch()\n",
    "    update_version(path)"
   ]
  },
  {
   "cell_type": "markdown",
   "metadata": {},
   "source": [
    "Python modules require a `__init.py__` file in all directories that are modules. We assume that all directories containing a python file (including in subdirectories of any depth) is a module, and therefore add a `__init__.py` to each."
   ]
  },
  {
   "cell_type": "code",
   "execution_count": null,
   "metadata": {},
   "outputs": [],
   "source": [
    "with tempfile.TemporaryDirectory() as d:\n",
    "    d = Path(d)\n",
    "    (d/'a/b').mkdir(parents=True)\n",
    "    (d/'a/b/f.py').touch()\n",
    "    (d/'a/c').mkdir()\n",
    "    add_init(d)\n",
    "    assert not (d/'a/c'/_init).exists(), \"Should not add init to dir without py file\"\n",
    "    for e in [d, d/'a', d/'a/b']: assert (e/_init).exists(),f\"Missing init in {e}\""
   ]
  },
  {
   "cell_type": "markdown",
   "metadata": {},
   "source": [
    "## Export -"
   ]
  },
  {
   "cell_type": "code",
   "execution_count": null,
   "metadata": {},
   "outputs": [],
   "source": [
    "#|export\n",
    "def write_cells(cells, hdr, file, offset=0):\n",
    "    \"Write `cells` to `file` along with header `hdr` starting at index `offset` (mainly for nbdev internal use).\"\n",
    "    for cell in cells:\n",
    "        if cell.source.strip(): file.write(f'\\n\\n{hdr} {cell.idx_+offset}\\n{cell.source}')"
   ]
  },
  {
   "cell_type": "code",
   "execution_count": null,
   "metadata": {},
   "outputs": [],
   "source": [
    "#|export\n",
    "def basic_export_nb(fname, name, dest=None):\n",
    "    \"Basic exporter to bootstrap nbdev.\"\n",
    "    if dest is None: dest = get_config().path('lib_path')\n",
    "    add_init()\n",
    "    fname,dest = Path(fname),Path(dest)\n",
    "    nb = read_nb(fname)\n",
    "\n",
    "    # grab the source from all the cells that have an `export` comment\n",
    "    cells = L(cell for cell in nb.cells if re.match(r'#\\s*\\|export', cell.source))\n",
    "\n",
    "    # find all the exported functions, to create `__all__`:\n",
    "    trees = cells.map(NbCell.parsed_).concat()\n",
    "    funcs = trees.filter(risinstance((ast.FunctionDef,ast.ClassDef))).attrgot('name')\n",
    "    exp_funcs = [f for f in funcs if f[0]!='_']\n",
    "\n",
    "    # write out the file\n",
    "    with (dest/name).open('w') as f:\n",
    "        f.write(f\"# %% auto 0\\n__all__ = {exp_funcs}\")\n",
    "        write_cells(cells, f\"# %% {fname.relpath(dest)}\", f)\n",
    "        f.write('\\n')"
   ]
  },
  {
   "cell_type": "markdown",
   "metadata": {},
   "source": [
    "This is a simple exporter with just enough functionality to correctly export this notebook, in order to bootstrap the creation of nbdev itself."
   ]
  },
  {
   "cell_type": "code",
   "execution_count": null,
   "metadata": {},
   "outputs": [],
   "source": [
    "#|hide\n",
    "#| eval: false\n",
    "path = Path('../nbdev')\n",
    "(path/'read.py').unlink(missing_ok=True)\n",
    "\n",
    "basic_export_nb(\"01_read.ipynb\", 'read.py')\n",
    "\n",
    "g = exec_new('from nbdev import read')\n",
    "assert g['read'].add_init\n",
    "assert 'add_init' in g['read'].__all__"
   ]
  }
 ],
 "metadata": {
  "kernelspec": {
   "display_name": "Python 3 (ipykernel)",
   "language": "python",
   "name": "python3"
  }
 },
 "nbformat": 4,
 "nbformat_minor": 4
}
