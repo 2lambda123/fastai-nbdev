{
 "cells": [
  {
   "cell_type": "code",
   "execution_count": null,
   "metadata": {
    "hide_input": false
   },
   "outputs": [],
   "source": [
    "#|default_exp tutorial\n",
    "from nbdev.showdoc import show_doc"
   ]
  },
  {
   "cell_type": "markdown",
   "metadata": {},
   "source": [
    "# Tutorial\n",
    "\n",
    "> A step-by-step guide to using nbdev\n",
    "\n",
    "- image: images/card.png"
   ]
  },
  {
   "cell_type": "markdown",
   "metadata": {},
   "source": [
    "This tutorial shows you how to create a Python package from scratch using nbdev.\n",
    "\n",
    "Alternatively, you can watch this video tutorial where Jeremy Howard and Hamel Husain guide you through a similar process step by step:"
   ]
  },
  {
   "cell_type": "markdown",
   "metadata": {},
   "source": [
    "::: {style=\"text-align: center\"}\n",
    "\n",
    "<iframe width=\"560\" height=\"315\" src=\"https://www.youtube-nocookie.com/embed/l7zS8Ld4_iA\" frameborder=\"0\" allow=\"accelerometer; autoplay; encrypted-media; gyroscope; picture-in-picture\" allowfullscreen style=\"max-width: 100%; margin: auto; border-radius: 10px\"></iframe>\n",
    "\n",
    ":::"
   ]
  },
  {
   "cell_type": "markdown",
   "metadata": {},
   "source": [
    "## Installation"
   ]
  },
  {
   "cell_type": "markdown",
   "metadata": {},
   "source": [
    "You'll need the following software to complete the tutorial, read on for specific installation instructions:\n",
    "\n",
    "- Python\n",
    "- A Python package manager: we recommend conda or pip\n",
    "- Jupyter Notebook\n",
    "- nbdev\n",
    "- Quarto\n",
    "\n",
    "If you haven't worked with Python before, we recommend getting started with the [Anaconda Individual Edition](https://www.anaconda.com/products/individual) and using the conda package manager."
   ]
  },
  {
   "cell_type": "markdown",
   "metadata": {},
   "source": [
    "### Install Jupyter Notebook"
   ]
  },
  {
   "cell_type": "markdown",
   "metadata": {},
   "source": [
    "Launch a terminal and install Jupyter Notebook by entering:\n",
    "\n",
    "```sh\n",
    "conda install notebook\n",
    "```\n",
    "\n",
    "...or\n",
    "\n",
    "```sh\n",
    "pip install notebook\n",
    "```\n",
    "\n",
    "...if you're using the pip package manager.\n",
    "\n",
    "Enter `y` (for yes) if prompted. Installation should take a few seconds, during which text will be printed in the terminal. You'll know its completed when you see the terminal prompt and are able to type again.\n",
    "\n",
    "You can now launch Jupyter by entering:\n",
    "\n",
    "```sh\n",
    "jupyter notebook\n",
    "```\n",
    "\n",
    "This should open the Jupyter home page in a new browser tab:"
   ]
  },
  {
   "cell_type": "markdown",
   "metadata": {},
   "source": [
    "![](images/jupyter-home-page.png){.px-1 .py-2 fig-align=\"center\" .border .rounded .shadow-sm}"
   ]
  },
  {
   "cell_type": "markdown",
   "metadata": {},
   "source": [
    "::: {.callout-tip collapse=\"true\"}\n",
    "\n",
    "#### Why not Jupyter Lab?\n",
    "\n",
    "As Jupyter power users we still prefer Jupyter Notebook (with [customizations](#install-collapsible-headings-and-toc2)) over more feature-full alternatives like Jupyter Lab, VSCode, or PyCharm. We find Jupyter Notebook simpler, faster, and more robust.\n",
    "\n",
    ":::"
   ]
  },
  {
   "cell_type": "markdown",
   "metadata": {},
   "source": [
    "### Install nbdev"
   ]
  },
  {
   "cell_type": "markdown",
   "metadata": {},
   "source": [
    "The next step is to install nbdev itself. Jupyter Notebook comes with its own terminal, so we'll use that moving forward.\n",
    "\n",
    "In the Jupyter home page (shown in the previous section), click the \"New\" dropdown on the right side, then \"Terminal\".\n",
    "\n",
    "A browser tab should open with a blank terminal:"
   ]
  },
  {
   "cell_type": "markdown",
   "metadata": {},
   "source": [
    "![](images/jupyter-blank-terminal.png){.pt-2 fig-align=\"center\" .border .rounded .shadow-sm}"
   ]
  },
  {
   "cell_type": "markdown",
   "metadata": {},
   "source": [
    "Enter:\n",
    "\n",
    "```sh\n",
    "conda install -c fastai nbdev\n",
    "```\n",
    "\n",
    "...or\n",
    "\n",
    "```sh\n",
    "pip install nbdev\n",
    "```\n",
    "\n",
    "...if you're using pip.\n",
    "\n",
    "Type `y` (for yes) when prompted, and wait a few seconds until nbdev is installed."
   ]
  },
  {
   "cell_type": "markdown",
   "metadata": {},
   "source": [
    "### Install Quarto"
   ]
  },
  {
   "cell_type": "markdown",
   "metadata": {},
   "source": [
    "nbdev provides a command to install the latest version of Quarto. In the terminal, enter:\n",
    "    \n",
    "```sh\n",
    "nbdev_install_quarto\n",
    "```\n",
    "\n",
    "Your password may be requested at this point. Since nbdev is open source, you can read [the source code](https://github.com/fastai/nbdev/blob/master/nbdev/shortcuts.py#L33) of this command to verify that it isn't doing anything malicious. Or, if you prefer, you may instead follow [Quarto's official installation instructions](https://quarto.org/docs/get-started/)."
   ]
  },
  {
   "cell_type": "markdown",
   "metadata": {},
   "source": [
    "## First steps"
   ]
  },
  {
   "cell_type": "markdown",
   "metadata": {},
   "source": [
    "By the end of this section you'll have your own nbdev repo with tests, continuous integration, streamlined PyPI & conda packaging, and a documentation website."
   ]
  },
  {
   "cell_type": "markdown",
   "metadata": {},
   "source": [
    "### Create an empty GitHub repo"
   ]
  },
  {
   "cell_type": "markdown",
   "metadata": {},
   "source": [
    "Create an empty GitHub repo using the convenient link [github.com/new](https://github.com/new). If you get stuck, you might find GitHub's [_Create a repo_](https://docs.github.com/en/get-started/quickstart/create-a-repo) page helpful.\n",
    "\n",
    "Remember to add a description, since nbdev will use that later. Don't add a README file, .gitignore, or license file just yet.\n",
    "\n",
    "If you're using the web interface, it should look something like this before you click \"Create Repository\":"
   ]
  },
  {
   "cell_type": "markdown",
   "metadata": {},
   "source": [
    "![](images/github-create-new-repo.png){.p-2 .pb-3 fig-align=\"center\" .border .rounded .shadow-sm width=600px}"
   ]
  },
  {
   "cell_type": "markdown",
   "metadata": {},
   "source": [
    "You should then be redirected to your new repo:"
   ]
  },
  {
   "cell_type": "markdown",
   "metadata": {},
   "source": [
    "![](images/github-repo-empty.png){.pb-2 fig-align=\"center\" .border .rounded .shadow-sm}"
   ]
  },
  {
   "cell_type": "markdown",
   "metadata": {},
   "source": [
    "::: {.callout-tip collapse=\"true\"}\n",
    "\n",
    "#### Try GitHub's powerful CLI\n",
    "\n",
    "GitHub's web interface is a great way to get started. As you grow more experienced, you might want to explore the CLI (command line interface). We often prefer to use command line tools for repetitive tasks where we're likely to make mistakes. Having those tasks written as small scripts in your terminal means that you can repeat them with little effort.\n",
    "\n",
    ":::"
   ]
  },
  {
   "cell_type": "markdown",
   "metadata": {},
   "source": [
    "### Initialise your repo with nbdev"
   ]
  },
  {
   "cell_type": "markdown",
   "metadata": {},
   "source": [
    "Now clone your repo from the Jupyter terminal you started [earlier](#install-nbdev) (or create a new terminal following those instructions if needed). If you get stuck here, you might find GitHub's [_Cloning a repository_](https://docs.github.com/en/repositories/creating-and-managing-repositories/cloning-a-repository) page helpful."
   ]
  },
  {
   "cell_type": "markdown",
   "metadata": {},
   "source": [
    "Since we created a repo named `nbev-hello-world` with the `fastai` user, we can clone it as follows:\n",
    "\n",
    "```sh\n",
    "git clone https://github.com/fastai/nbdev-hello-world.git\n",
    "```\n",
    "\n",
    "Then `cd` (change directory) to our repo:\n",
    "\n",
    "```sh\n",
    "cd nbdev-hello-world\n",
    "```"
   ]
  },
  {
   "cell_type": "markdown",
   "metadata": {},
   "source": [
    "You may have seen this message while cloning:\n",
    "\n",
    "```\n",
    "You appear to have cloned an empty repository.\n",
    "```\n",
    "\n",
    "...since the repo is completely empty. Let's add some files!"
   ]
  },
  {
   "cell_type": "markdown",
   "metadata": {},
   "source": [
    "nbdev provides the `nbdev_new` command to initialise an empty git repository. It'll infer information about your project from git and GitHub, and ask you to input anything remaining. It will create files in your repo that:\n",
    "\n",
    "- Streamline publishing Python packages to PyPI and conda\n",
    "- Configure Quarto for publication-grade technical documentation\n",
    "- Setup GitHub actions to test notebooks and build and deploy Quarto docs to GitHub pages"
   ]
  },
  {
   "cell_type": "markdown",
   "metadata": {},
   "source": [
    "Initialise your nbdev repo by entering:\n",
    "\n",
    "```sh\n",
    "nbdev_new\n",
    "```"
   ]
  },
  {
   "cell_type": "markdown",
   "metadata": {},
   "source": [
    "Commit and push all changes to GitHub:\n",
    "\n",
    "```sh\n",
    "git add .\n",
    "git commit -m'Initial commit'\n",
    "git push\n",
    "```"
   ]
  },
  {
   "cell_type": "markdown",
   "metadata": {},
   "source": [
    "It's time to see all of the goodies nbdev gives you!"
   ]
  },
  {
   "cell_type": "markdown",
   "metadata": {},
   "source": [
    "### Check out your workflows"
   ]
  },
  {
   "cell_type": "markdown",
   "metadata": {},
   "source": [
    "Open GitHub Actions by clicking the \"Actions\" tab near the top of your repo page. You should see two workflow runs:"
   ]
  },
  {
   "cell_type": "markdown",
   "metadata": {},
   "source": [
    "![](images/github-actions-initial.png){fig-align=\"center\" .border .rounded .shadow-sm}"
   ]
  },
  {
   "cell_type": "markdown",
   "metadata": {},
   "source": [
    "If you opened this page shortly after pushing your initial commit, the runs may not have a green tick because they're still \"In progress\" or \"Queued\". That's no problem, they shouldn't take much more than a minute to complete."
   ]
  },
  {
   "cell_type": "markdown",
   "metadata": {},
   "source": [
    "What do these mean?\n",
    "\n",
    "- **CI** -- The CI (continuous integration) workflow streamlines your developer workflow, particularly with multiple collaborators. Every time you push to GitHub, it ensures that:\n",
    "    - Your notebooks and libraries are in sync\n",
    "    - Your notebooks are cleaned of unwanted metadata (which pollute pull requests and git histories and lead to merge conflicts)\n",
    "    - Your notebook tests all pass\n",
    "- **Deploy to GitHub Pages** -- Builds your docs with Quarto and deploys it to GitHub Pages."
   ]
  },
  {
   "cell_type": "markdown",
   "metadata": {},
   "source": [
    "Note that you'll need to enable GitHub Pages for your repo before you can access your docs website. We'll do that now."
   ]
  },
  {
   "cell_type": "markdown",
   "metadata": {},
   "source": [
    "### Check out your docs"
   ]
  },
  {
   "cell_type": "markdown",
   "metadata": {},
   "source": [
    "nbdev hosts your docs on GitHub Pages---an excellent (and free!) way to host websites."
   ]
  },
  {
   "cell_type": "markdown",
   "metadata": {},
   "source": [
    "You can enable it for your repo by clicking on the \"Settings\" tab near the top-right of your repo page, then \"Pages\" on the left, then setting the \"Branch\" to \"gh-pages\", and finally clicking \"Save\"."
   ]
  },
  {
   "cell_type": "markdown",
   "metadata": {},
   "source": [
    "::: {.callout-note}\n",
    "\n",
    "nbdev uses GitHub Pages by default because its easily accessible, however you can use any host you like.\n",
    "\n",
    ":::"
   ]
  },
  {
   "cell_type": "markdown",
   "metadata": {},
   "source": [
    "It should look similar to this after you click \"Save\":"
   ]
  },
  {
   "cell_type": "markdown",
   "metadata": {},
   "source": [
    "![](images/github-enable-pages.png){.pb-2 fig-align=\"center\" .border .rounded .shadow-sm}"
   ]
  },
  {
   "cell_type": "markdown",
   "metadata": {},
   "source": [
    "Head back to GitHub Actions and you should see a new workflow run: \"pages build and deployment\". As the name says, this workflow deploys your website contents to GitHub Pages."
   ]
  },
  {
   "cell_type": "markdown",
   "metadata": {},
   "source": [
    "![](images/github-actions-pages.png){fig-align=\"center\" .border .rounded .shadow-sm}"
   ]
  },
  {
   "cell_type": "markdown",
   "metadata": {},
   "source": [
    "Wait for the workflow run to complete, then open your website. By default it should be available at: `https://{user}.github.io/{repo}`. For example, you can view `fastai`'s `nbdev-hello-world` docs at <https://fastai.github.io/nbdev-hello-world>."
   ]
  },
  {
   "cell_type": "markdown",
   "metadata": {},
   "source": [
    "![](images/nbdev-hello-world-site-initial.png){fig-align=\"center\" .border .rounded .shadow-sm}"
   ]
  },
  {
   "cell_type": "markdown",
   "metadata": {},
   "source": [
    "## Make your first edit"
   ]
  },
  {
   "cell_type": "markdown",
   "metadata": {},
   "source": [
    "### Edit settings.ini"
   ]
  },
  {
   "cell_type": "markdown",
   "metadata": {},
   "source": [
    "Next, edit the `settings.ini` file in your cloned repo. This file contains all the necessary information for when you'll be ready to package your library. The basic structure (that can be personalized provided you change the relevant information in `settings.ini`) is that the root of the repo will contain your notebooks, the `docs` folder will contain your auto-generated docs, and a folder with a name you select will contain your auto-generated modules."
   ]
  },
  {
   "cell_type": "markdown",
   "metadata": {},
   "source": [
    "### Build and install lib"
   ]
  },
  {
   "cell_type": "markdown",
   "metadata": {},
   "source": [
    "Now you can create your Python module. To do so, just run `nbdev_export` from the terminal at the root of your project folder, which builds the .py modules and library from the jupyter notebook.\n",
    "\n",
    "Before you continue, you should ensure you have the latest version of your Python library and Quarto installed.  Run `nbdev_install` to do an [editable install](https://stackoverflow.com/questions/35064426/when-would-the-e-editable-option-be-useful-with-pip-install) of your local Python library as well as fetch and install the latest version of Quarto. "
   ]
  },
  {
   "cell_type": "markdown",
   "metadata": {},
   "source": [
    "### Install git and Jupyter hooks for git-friendly notebooks"
   ]
  },
  {
   "cell_type": "markdown",
   "metadata": {},
   "source": [
    "Jupyter Notebooks store additional metadata (like cell execution order) which cause challenges with git. `nbdev` makes working with notebooks becomes much easier. As a first step, run `nbdev_install_hooks` in the terminal from your project folder. This sets up a jupyter hook which remove metadata from your notebooks automatically, avoiding unnecessary file changes and greatly reducing the chance of a conflict. It also installs a git hook which attempts to resolve conflicts, and if any conflicts can't be resolved, places conflict markers into a notebook which you can fix directly in Jupyter.\n"
   ]
  },
  {
   "cell_type": "markdown",
   "metadata": {},
   "source": [
    "### Start the Documentation Server\n",
    "\n",
    "You can call `nbdev_preview` from the root of the repo to start the documentation server so you can see how your docs will render as you edit your notebooks.  This is optional, but often useful especially if you are writing docs."
   ]
  },
  {
   "cell_type": "markdown",
   "metadata": {},
   "source": [
    "### Edit 00_core.ipynb"
   ]
  },
  {
   "cell_type": "markdown",
   "metadata": {},
   "source": [
    "Now, run `jupyter notebook`, and click `00_core.ipynb` (you don't *have* to start your notebook names with a number like we do here; but we find it helpful to show the order you've created your project in). You'll see something that looks a bit like this:\n",
    "\n",
    "```python\n",
    "#|default_exp core\n",
    "```\n",
    "\n",
    "**module name here**\n",
    "\n",
    "> API details.\n",
    "\n",
    "Let's explain what these special cells mean."
   ]
  },
  {
   "cell_type": "markdown",
   "metadata": {},
   "source": [
    "#### Module name and summary"
   ]
  },
  {
   "cell_type": "markdown",
   "metadata": {},
   "source": [
    "The markdown cell uses special syntax to define the title and summary of your module. Feel free to replace \"module name here\" with a title and \"API details.\" with a summary for your module."
   ]
  },
  {
   "cell_type": "markdown",
   "metadata": {},
   "source": [
    "#### Add a function"
   ]
  },
  {
   "cell_type": "markdown",
   "metadata": {},
   "source": [
    "Let's add a function to this notebook, e.g.:\n",
    "\n",
    "```python\n",
    "#|export\n",
    "def say_hello(to):\n",
    "    \"Say hello to somebody\"\n",
    "    return f'Hello {to}!'\n",
    "```\n",
    "\n",
    "Notice how it includes `#|export` at the top - this means it will be included in your module, and documentation. The documentation will look like this:"
   ]
  },
  {
   "cell_type": "code",
   "execution_count": null,
   "metadata": {},
   "outputs": [],
   "source": [
    "#|export\n",
    "def say_hello(to):\n",
    "    \"Say hello to somebody\"\n",
    "    return f'Hello {to}!'"
   ]
  },
  {
   "cell_type": "markdown",
   "metadata": {},
   "source": [
    "#### Add examples and tests"
   ]
  },
  {
   "cell_type": "markdown",
   "metadata": {},
   "source": [
    "It's a good idea to give an example of your function in action. Just include regular code cells, and they'll appear (with output) in the docs, e.g.:"
   ]
  },
  {
   "cell_type": "code",
   "execution_count": null,
   "metadata": {},
   "outputs": [
    {
     "data": {
      "text/plain": [
       "'Hello Isaac!'"
      ]
     },
     "execution_count": null,
     "metadata": {},
     "output_type": "execute_result"
    }
   ],
   "source": [
    "say_hello(\"Isaac\")"
   ]
  },
  {
   "cell_type": "markdown",
   "metadata": {},
   "source": [
    "Examples can output plots, images, etc, and they'll all appear in your docs, e.g.:"
   ]
  },
  {
   "cell_type": "code",
   "execution_count": null,
   "metadata": {},
   "outputs": [],
   "source": [
    "from IPython.display import display,SVG"
   ]
  },
  {
   "cell_type": "code",
   "execution_count": null,
   "metadata": {},
   "outputs": [
    {
     "data": {
      "image/svg+xml": [
       "<svg height=\"100\"><circle cx=\"50\" cy=\"50\" r=\"40\"/></svg>"
      ],
      "text/plain": [
       "<IPython.core.display.SVG object>"
      ]
     },
     "metadata": {},
     "output_type": "display_data"
    }
   ],
   "source": [
    "display(SVG('<svg height=\"100\"><circle cx=\"50\" cy=\"50\" r=\"40\"/></svg>'))"
   ]
  },
  {
   "cell_type": "markdown",
   "metadata": {},
   "source": [
    "You can also include tests:"
   ]
  },
  {
   "cell_type": "code",
   "execution_count": null,
   "metadata": {},
   "outputs": [],
   "source": [
    "assert say_hello(\"Hamel\")==\"Hello Hamel!\""
   ]
  },
  {
   "cell_type": "markdown",
   "metadata": {},
   "source": [
    "You should also add markdown headings as you create your notebook; one benefit of this is that a table of contents will be created in the documentation automatically."
   ]
  },
  {
   "cell_type": "markdown",
   "metadata": {},
   "source": [
    "### Edit index.ipynb"
   ]
  },
  {
   "cell_type": "markdown",
   "metadata": {},
   "source": [
    "Now you're ready to create your documentation home page and README.md file; these are both generated automatically from *index.ipynb*. So click on that to open it now.\n",
    "\n",
    "You'll see that there's already a line there to import your library - change it to use the name you selected in `settings.ini`. Then, add information about how to use your module, including some examples. Remember, these examples should be actual notebook code cells with real outputs."
   ]
  },
  {
   "cell_type": "markdown",
   "metadata": {},
   "source": [
    "### Preview the docs\n",
    "\n",
    "If you have not already, you should view your docs in fully rendered form to catch any mistakes.  You can preview your documentation site with the command `nbdev_preview`.  Note that your docs will build automatically in CI (discussed below)."
   ]
  },
  {
   "cell_type": "markdown",
   "metadata": {},
   "source": [
    "### Commit to Github"
   ]
  },
  {
   "cell_type": "markdown",
   "metadata": {},
   "source": [
    "Before commiting to GitHub we recommend running `nbdev_prepare`, which bundles the following commands together for you to test your code and build the library:\n",
    "\n",
    "- `nbdev_export`: Builds the .py modules and library from the jupyter notebook\n",
    "- `nbdev_test`: Tests all your notebooks\n",
    "- `nbdev_clean`: Cleans your notebooks to get rid of extreanous output for Github"
   ]
  },
  {
   "cell_type": "markdown",
   "metadata": {},
   "source": [
    "You can now check-in the generated files with `git add`, `git commit` and `git push`. (You can use `git status` to check which files have been generated.) The following command should be sufficient:\n",
    "```\n",
    "git add -A; git commit -m'check in files'; git push\n",
    "```\n",
    "Wait a minute or two for Github to process your commit, and then head over to the Github website to look at your results."
   ]
  },
  {
   "cell_type": "markdown",
   "metadata": {},
   "source": [
    "### Continuous Integration (CI)"
   ]
  },
  {
   "cell_type": "markdown",
   "metadata": {},
   "source": [
    "Back in your project's Github main page, click where it says *1 commit* (or *2 commits* or whatever). Hopefully, you'll see a green checkmark next to your latest commit. That means that your documentation site built correctly, and your module's tests all passed! This is checked for you using *continuous integration (CI)* with [GitHub actions](https://github.com/features/actions). This does the following:\n",
    "\n",
    "- check the notebooks have been cleaned of needless metadata to avoid merge conflicts (with `nbdev_clean`)\n",
    "- run the tests in your notebooks (with `nbdev_test`)\n",
    "\n",
    "The template contains a basic CI that uses the two points above, edit the file `.github/workflows/test.yaml` to your liking and comment out the parts you don't want.\n",
    "\n",
    "If you have a red cross, that means something failed. Click on the cross, then click *Details*, and you'll be able to see what failed.\n",
    "\n",
    "#### Automatically building Docs\n",
    "\n",
    "CI will automatically build docs and deploy them for you.  You can see the code for this in `.github/workflows/deploy.yaml`. You can enable Github Pages by clicking on the  *Settings* tab in your repo, then click *Pages* on the left side bar.  Set \"Source\" to *`gh-pages` branch and the `/root` folder*. Once you've saved, if you refresh that page, Github will have a link to your new website. Copy that URL, and then go back to your main repo page, click \"edit\" next to the description and paste the URL into the \"website\" section. While you're there, go ahead and put in your project description too. \n",
    "\n",
    "#### Docs URL\n",
    "\n",
    "To see the URL for your docs site, you can go to the `Settings` tab on your GitHub repo, click `Pages` on the left hand side, and your URL will be displayed there.  If you need to customize the domain name, see [this article](https://docs.github.com/en/pages/configuring-a-custom-domain-for-your-github-pages-site/managing-a-custom-domain-for-your-github-pages-site)."
   ]
  },
  {
   "cell_type": "markdown",
   "metadata": {},
   "source": [
    "### View docs and readme"
   ]
  },
  {
   "cell_type": "markdown",
   "metadata": {},
   "source": [
    "Once everything is passing, have a look at your readme in Github. You'll see that your `index.ipynb` file has been converted to a readme automatically.\n",
    "\n",
    "Next, go to your documentation site (e.g. by clicking on the link next to the description that you created earlier). You should see that your index notebook has also been used here."
   ]
  },
  {
   "cell_type": "markdown",
   "metadata": {},
   "source": [
    "Congratulations, the basics are now all in place! Let's continue and use some more advanced functionality."
   ]
  },
  {
   "cell_type": "markdown",
   "metadata": {},
   "source": [
    "## Advanced functionality"
   ]
  },
  {
   "cell_type": "markdown",
   "metadata": {},
   "source": [
    "### Add a class"
   ]
  },
  {
   "cell_type": "markdown",
   "metadata": {},
   "source": [
    "Create a class in `00_core.ipynb` as follows:\n",
    "\n",
    "```python\n",
    "#|export\n",
    "class HelloSayer:\n",
    "    \"Say hello to `to` using `say_hello`\"\n",
    "    def __init__(self, to): self.to = to\n",
    "        \n",
    "    def say(self):\n",
    "        \"Do the saying\"\n",
    "        return say_hello(self.to)\n",
    "```\n",
    "\n",
    "This will automatically appear in the docs like this:"
   ]
  },
  {
   "cell_type": "code",
   "execution_count": null,
   "metadata": {},
   "outputs": [],
   "source": [
    "#|export\n",
    "class HelloSayer:\n",
    "    \"Say hello to `to` using `say_hello`\"\n",
    "    def __init__(self, to): self.to = to\n",
    "\n",
    "    def say(self):\n",
    "        \"Do the saying\"\n",
    "        return say_hello(self.to)"
   ]
  },
  {
   "cell_type": "markdown",
   "metadata": {},
   "source": [
    "#### Document with show_doc"
   ]
  },
  {
   "cell_type": "markdown",
   "metadata": {},
   "source": [
    "However, methods aren't automatically documented. To add method docs, use `show_doc`:\n",
    "\n",
    "```python\n",
    "show_doc(HelloSayer.say)\n",
    "```"
   ]
  },
  {
   "cell_type": "code",
   "execution_count": null,
   "metadata": {},
   "outputs": [
    {
     "data": {
      "text/markdown": [
       "---\n",
       "\n",
       "#### HelloSayer.say\n",
       "\n",
       ">      HelloSayer.say ()\n",
       "\n",
       "Do the saying"
      ],
      "text/plain": [
       "<nbdev.showdoc.BasicMarkdownRenderer>"
      ]
     },
     "execution_count": null,
     "metadata": {},
     "output_type": "execute_result"
    }
   ],
   "source": [
    "show_doc(HelloSayer.say)"
   ]
  },
  {
   "cell_type": "markdown",
   "metadata": {},
   "source": [
    "And add some examples and/or tests:"
   ]
  },
  {
   "cell_type": "code",
   "execution_count": null,
   "metadata": {},
   "outputs": [
    {
     "data": {
      "text/plain": [
       "'Hello Alexis!'"
      ]
     },
     "execution_count": null,
     "metadata": {},
     "output_type": "execute_result"
    }
   ],
   "source": [
    "o = HelloSayer(\"Alexis\")\n",
    "o.say()"
   ]
  },
  {
   "cell_type": "markdown",
   "metadata": {},
   "source": [
    "### Add links with backticks"
   ]
  },
  {
   "cell_type": "markdown",
   "metadata": {},
   "source": [
    "Notice above there is a link from our new class documentation to our function. That's because we used backticks in the docstring:\n",
    "```python\n",
    "    \"Say hello to `to` using `say_hello`\"\n",
    "```\n",
    "These are automatically converted to hyperlinks wherever possible. For instance, here are hyperlinks to `HelloSayer` and `say_hello` created using backticks."
   ]
  },
  {
   "cell_type": "markdown",
   "metadata": {},
   "source": [
    "### Set up autoreload"
   ]
  },
  {
   "cell_type": "markdown",
   "metadata": {},
   "source": [
    "Since you'll be often updating your modules from one notebook, and using them in another, it's helpful if your notebook automatically reads in the new modules as soon as the Python file changes. To make this happen, just add these lines to the top of your notebook:\n",
    "\n",
    "```\n",
    "%load_ext autoreload\n",
    "%autoreload 2\n",
    "```"
   ]
  },
  {
   "cell_type": "markdown",
   "metadata": {},
   "source": [
    "### Add in-notebook export cell"
   ]
  },
  {
   "cell_type": "markdown",
   "metadata": {},
   "source": [
    "It's helpful to be able to export all your modules directly from a notebook, rather than going to the terminal to do it. All nbdev commands are available directly from a notebook in Python. A new cell with the following contents and run it to export your modules (I normally make this the last cell of my notebooks).\n",
    "\n",
    "```python\n",
    "#| hide\n",
    "from nbdev import nbdev_export\n",
    "nbdev_export()\n",
    "```"
   ]
  },
  {
   "cell_type": "markdown",
   "metadata": {},
   "source": [
    "### Code Execution & Skipping Cells\n",
    "\n",
    "If you want to prevent code from getting executed when rendering or testing docs, use the comment `#|eval: false` in a code cell.  \n",
    "\n",
    "See the [Quarto docs](https://quarto.org/docs/computations/execution-options.html) for more execution options."
   ]
  },
  {
   "cell_type": "markdown",
   "metadata": {},
   "source": [
    "### Set up prerequisites"
   ]
  },
  {
   "cell_type": "markdown",
   "metadata": {},
   "source": [
    "If your module requires other modules as dependencies, you can add those prerequisites to your `settings.ini` in the `requirements` section. The requirements should be separated by a space and if the module requires at least or at most a specific version of the requirement this may be specified here, too.\n",
    "\n",
    "For example if your module requires the `fastcore` module of at least version 1.0.5, the `torchvision` module of at most version 0.7 and any version of `matplotlib`, then the prerequisites would look like this:\n",
    "```python\n",
    "requirements = fastcore>=1.0.5 torchvision<0.7 matplotlib\n",
    "```\n",
    "\n",
    "In addition to `requirements` you can specify dependencies with other keywords that have different scopes.  Below is a list of all possible dependency keywords:\n",
    "\n",
    "- `requirements`: Passed to both pip and conda setup\n",
    "- `pip_requirements`: Passed to pip setup only\n",
    "- `conda_requirements`: Passed to conda setup only\n",
    "- `dev_requirements`: Passed to pip setup as a development requirement\n",
    "\n",
    "For more information about the format of dependencies, see the pypi and conda docs on creating specifications in [setup.py](https://packaging.python.org/tutorials/packaging-projects/#creating-setup-py) and [meta.yaml](https://docs.conda.io/projects/conda-build/en/latest/resources/define-metadata.html), respectively."
   ]
  },
  {
   "cell_type": "markdown",
   "metadata": {},
   "source": [
    "### Set up console scripts"
   ]
  },
  {
   "cell_type": "markdown",
   "metadata": {},
   "source": [
    "Behind the scenes, nbdev uses that standard package `setuptools` for handling installation of modules. One very useful feature of `setuptools` is that it can automatically create [cross-platform console scripts](https://python-packaging.readthedocs.io/en/latest/command-line-scripts.html#the-console-scripts-entry-point). nbdev surfaces this functionality; to use it, use the same format as `setuptools`, with whitespace between each script definition (if you have more than one).\n",
    "\n",
    "```\n",
    "console_scripts = nbdev_export=nbdev.cli:nbdev_export\n",
    "```"
   ]
  },
  {
   "cell_type": "markdown",
   "metadata": {},
   "source": [
    "### Upload to pypi"
   ]
  },
  {
   "cell_type": "markdown",
   "metadata": {},
   "source": [
    "If you want people to be able to install your project by just typing `pip install your-project` then you need to upload it to [pypi](https://pypi.org/). The good news is, we've already created a fully pypi compliant installer for your project! So all you need to do is register at pypi (click \"Register\" on pypi) if you haven't previously done so, and then create a file called `~/.pypirc` with your login details. It should have these contents:\n",
    "\n",
    "```\n",
    "[pypi]\n",
    "username = your_pypi_username\n",
    "password = your_pypi_password\n",
    "```\n",
    "\n",
    "Another thing you will need is `twine`, so you should run once\n",
    "\n",
    "``` \n",
    "pip install twine\n",
    "```\n",
    "\n",
    "To upload your project to pypi, just type `nbdev_pypi` in your project root directory. Once it's complete, a link to "
   ]
  },
  {
   "cell_type": "markdown",
   "metadata": {},
   "source": [
    "### Upload to pypi and conda\n",
    "\n",
    "The command `nbdev_release` from the root of your nbdev repo will bump the version of your module and upload your project to both conda and pypi."
   ]
  },
  {
   "cell_type": "markdown",
   "metadata": {},
   "source": [
    "### Install collapsible headings and toc2"
   ]
  },
  {
   "cell_type": "markdown",
   "metadata": {},
   "source": [
    "There are two jupyter notebook extensions that I highly recommend when working with projects like this. They are:\n",
    "\n",
    "- [Collapsible headings](https://jupyter-contrib-nbextensions.readthedocs.io/en/latest/nbextensions/collapsible_headings/readme.html): This lets you fold and unfold each section in your notebook, based on its markdown headings. You can also hit <kbd>left</kbd> to go to the start of a section, and <kbd>right</kbd> to go to the end\n",
    "- [TOC2](https://jupyter-contrib-nbextensions.readthedocs.io/en/latest/nbextensions/toc2/README.html): This adds a table of contents to your notebooks, which you can navigate either with the `Navigate` menu item it adds to your notebooks, or the TOC sidebar it adds. These can be modified and/or hidden using its settings."
   ]
  },
  {
   "cell_type": "markdown",
   "metadata": {},
   "source": [
    "### Math equation support"
   ]
  },
  {
   "cell_type": "markdown",
   "metadata": {},
   "source": [
    "nbdev supports equations (using [Quarto](https://quarto.org/)). You can include math in your notebook's documentation using the following methods."
   ]
  },
  {
   "cell_type": "markdown",
   "metadata": {},
   "source": [
    "Using `$$`, e.g.:\n",
    "\n",
    "```\n",
    "$$\\sum_{i=1}^{k+1}i$$\n",
    "```\n",
    "\n",
    "Which is rendered as:\n",
    "\n",
    "> $$\\sum_{i=1}^{k+1}i$$"
   ]
  },
  {
   "cell_type": "markdown",
   "metadata": {},
   "source": [
    "Using `$`, e.g.:\n",
    "\n",
    "```\n",
    "This version is displayed inline: $\\sum_{i=1}^{k+1}i$ . You can include text before and after.\n",
    "```\n",
    "\n",
    "Which is rendered as:"
   ]
  },
  {
   "cell_type": "markdown",
   "metadata": {},
   "source": [
    "> This version is displayed inline: $\\sum_{i=1}^{k+1}i$ . You can include text before and after."
   ]
  },
  {
   "cell_type": "markdown",
   "metadata": {},
   "source": [
    "For more information, see [the Quarto Docs](https://quarto.org/docs/visual-editor/technical.html)"
   ]
  },
  {
   "cell_type": "markdown",
   "metadata": {},
   "source": [
    "### Controling Cell and Output Visibility"
   ]
  },
  {
   "cell_type": "markdown",
   "metadata": {},
   "source": [
    "To control what is displayed or hidden in the docs from a notebook, you will want to use one more directives.  Directives are special comments that have are preceeded by `#|` that do some kind of pre or post processing of a notebook data before docs are rendered.  Some of these directives are part of Quarto, but others are ones that we have added to nbdev.  A walk-through of the most common ones are below:"
   ]
  },
  {
   "cell_type": "markdown",
   "metadata": {},
   "source": [
    "#### `#|hide`\n",
    "\n",
    "When you use this directive, you will not see the cell input or output."
   ]
  },
  {
   "cell_type": "code",
   "execution_count": null,
   "metadata": {},
   "outputs": [
    {
     "name": "stdout",
     "output_type": "stream",
     "text": [
      "you will not see this\n"
     ]
    }
   ],
   "source": [
    "#|hide\n",
    "print('you will not see this')"
   ]
  },
  {
   "cell_type": "markdown",
   "metadata": {},
   "source": [
    "#### `#|echo: false`\n",
    "\n",
    "This makes sure that only the output of a code cell is shown, not its input."
   ]
  },
  {
   "cell_type": "code",
   "execution_count": null,
   "metadata": {},
   "outputs": [
    {
     "name": "stdout",
     "output_type": "stream",
     "text": [
      "you can see the output but not the code!\n"
     ]
    }
   ],
   "source": [
    "#|echo: false\n",
    "print('you can see the output but not the code!')"
   ]
  },
  {
   "cell_type": "markdown",
   "metadata": {},
   "source": [
    "#### `#|hide_line`\n",
    "\n",
    "You can use this to hide as specific line in your code.  for example:\n",
    "\n",
    "```python\n",
    "def _secret(): ...\n",
    "\n",
    "for i in range(3):\n",
    "    _secret() #|hide_line\n",
    "    print(i)\n",
    "```\n",
    "\n",
    "becomes this:"
   ]
  },
  {
   "cell_type": "code",
   "execution_count": null,
   "metadata": {},
   "outputs": [
    {
     "name": "stdout",
     "output_type": "stream",
     "text": [
      "0\n",
      "1\n",
      "2\n"
     ]
    }
   ],
   "source": [
    "def _secret(): ...\n",
    "\n",
    "for i in range(3):\n",
    "    _secret() #|hide_line\n",
    "    print(i)"
   ]
  },
  {
   "cell_type": "markdown",
   "metadata": {},
   "source": [
    "#### `#|filter_stream`\n",
    "\n",
    "This allows you to filter lines containing specific keywords in cell outputs.  For example\n",
    "\n",
    "\n",
    "```python\n",
    "\n",
    "#|filter_stream FutureWarning MultiIndex\n",
    "print('\\n'.join(['A line', 'Foobar baz FutureWarning blah', \n",
    "                 'zig zagMultiIndex zoom', 'Another line.']))\n",
    "```\n",
    "\n",
    "becomes this:"
   ]
  },
  {
   "cell_type": "code",
   "execution_count": null,
   "metadata": {},
   "outputs": [
    {
     "name": "stdout",
     "output_type": "stream",
     "text": [
      "A line\n",
      "Foobar baz FutureWarning blah\n",
      "zig zagMultiIndex zoom\n",
      "Another line.\n"
     ]
    }
   ],
   "source": [
    "#|filter_stream FutureWarning MultiIndex\n",
    "print('\\n'.join(['A line', 'Foobar baz FutureWarning blah', \n",
    "                 'zig zagMultiIndex zoom', 'Another line.']))"
   ]
  },
  {
   "cell_type": "markdown",
   "metadata": {},
   "source": [
    "See the [Quarto docs](https://quarto.org/docs/output-formats/html-code.html#code-tools) for additional code visibility options."
   ]
  },
  {
   "cell_type": "markdown",
   "metadata": {},
   "source": [
    "### CLI Command List\n",
    "\n",
    "You can quickly pull up a list of all the `nbdev` cli commands as well as a short description of what each command does with the command `nbdev_help`."
   ]
  },
  {
   "cell_type": "markdown",
   "metadata": {},
   "source": [
    "### Look at nbdev \"source\" for more ideas"
   ]
  },
  {
   "cell_type": "markdown",
   "metadata": {},
   "source": [
    "Don't forget that nbdev itself is written in nbdev! It's a good place to look to see how fast.ai uses it in practice, and get a few tips. You'll find the nbdev notebooks here in the [nbs folder](https://github.com/fastai/nbdev/tree/master/nbs) on Github."
   ]
  },
  {
   "cell_type": "markdown",
   "metadata": {},
   "source": [
    "## Quarto Features\n",
    "\n",
    "nbdev supports most Quarto features.  We encourage you to read the [Quarto documentation](https://quarto.org/) to discover all the features available to you. For example, this is how you can [incorporate mermaid charts](https://quarto.org/docs/authoring/diagrams.html):\n",
    "\n",
    "```{mermaid}\n",
    "flowchart LR\n",
    "  A[Hard edge] --> B(Round edge)\n",
    "  B --> C{Decision}\n",
    "  C --> D[Result one]\n",
    "  C --> E[Result two]\n",
    "```\n",
    "\n",
    "Here is another example of using [Graphviz](https://quarto.org/docs/authoring/diagrams.html#graphviz):\n",
    "\n",
    "```{dot}\n",
    "graph G {\n",
    "  layout=neato\n",
    "  run -- intr;\n",
    "  intr -- runbl;\n",
    "  runbl -- run;\n",
    "  run -- kernel;\n",
    "  kernel -- zombie;\n",
    "  kernel -- sleep;\n",
    "  kernel -- runmem;\n",
    "  sleep -- swap;\n",
    "  swap -- runswap;\n",
    "  runswap -- new;\n",
    "  runswap -- runmem;\n",
    "  new -- runmem;\n",
    "  sleep -- runmem;\n",
    "}\n",
    "```\n",
    "\n",
    "It is worth taking a look at the documentation for [figures](https://quarto.org/docs/authoring/figures.html), [callouts](https://quarto.org/docs/authoring/callouts.html), [markdown](https://quarto.org/docs/authoring/markdown-basics.html), [widgets](https://quarto.org/docs/interactive/widgets/jupyter.html), [layouts](https://quarto.org/docs/interactive/layout.html), [conditional content](https://quarto.org/docs/authoring/conditional.html) and [quarto extensions](https://quarto.org/docs/extensions/) to name a few useful things we have encountered."
   ]
  },
  {
   "cell_type": "code",
   "execution_count": null,
   "metadata": {},
   "outputs": [],
   "source": []
  }
 ],
 "metadata": {
  "jupytext": {
   "split_at_heading": true
  },
  "kernelspec": {
   "display_name": "Python 3 (ipykernel)",
   "language": "python",
   "name": "python3"
  }
 },
 "nbformat": 4,
 "nbformat_minor": 4
}
