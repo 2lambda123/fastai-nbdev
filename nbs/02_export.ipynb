{
 "cells": [
  {
   "cell_type": "code",
   "execution_count": 1,
   "metadata": {},
   "outputs": [],
   "source": [
    "#hide\n",
    "#default_exp export"
   ]
  },
  {
   "cell_type": "markdown",
   "metadata": {},
   "source": [
    "# nbprocess.export\n",
    "- Exporting a notebook to a library"
   ]
  },
  {
   "cell_type": "code",
   "execution_count": 2,
   "metadata": {},
   "outputs": [],
   "source": [
    "#export\n",
    "from nbprocess.read import *\n",
    "from nbprocess.maker import *\n",
    "from nbprocess.imports import *\n",
    "\n",
    "from fastcore.script import *\n",
    "from fastcore.imports import *\n",
    "from fastcore.xtras import *\n",
    "\n",
    "from collections import defaultdict\n",
    "from pprint import pformat\n",
    "from inspect import signature,Parameter\n",
    "import ast,contextlib,copy"
   ]
  },
  {
   "cell_type": "code",
   "execution_count": 3,
   "metadata": {},
   "outputs": [],
   "source": [
    "from fastcore.test import *\n",
    "from pdb import set_trace\n",
    "from importlib import reload\n",
    "import shutil"
   ]
  },
  {
   "cell_type": "markdown",
   "metadata": {},
   "source": [
    "## NBProcessor -"
   ]
  },
  {
   "cell_type": "markdown",
   "metadata": {},
   "source": [
    "Special comments at the start of a cell can be used to provide information to `nbprocess` about how to process a cell, so we need to be able to find the location of these comments."
   ]
  },
  {
   "cell_type": "code",
   "execution_count": 4,
   "metadata": {},
   "outputs": [],
   "source": [
    "minimal = read_nb('../tests/minimal.ipynb')"
   ]
  },
  {
   "cell_type": "code",
   "execution_count": 5,
   "metadata": {},
   "outputs": [],
   "source": [
    "#export\n",
    "def extract_comments(ss):\n",
    "    \"Take leading comments from lines of code in `ss`, remove `#`, and split\"\n",
    "    ss = ss.splitlines()\n",
    "    first_code = first(i for i,o in enumerate(ss) if not o.strip() or re.match('\\s*[^#\\s]', o))\n",
    "    return L((s.strip()[1:]).strip().split() for s in ss[:first_code]).filter()"
   ]
  },
  {
   "cell_type": "markdown",
   "metadata": {},
   "source": [
    "nbprocess comments start with `#`, followed by whitespace delimited tokens, which `extract_comments` extracts from the start of a cell, up until a blank line or a line containing something other than comments:"
   ]
  },
  {
   "cell_type": "code",
   "execution_count": 6,
   "metadata": {},
   "outputs": [],
   "source": [
    "exp  = \"\"\"#export module\n",
    "# hide\n",
    "1+2\n",
    "#bar\"\"\"\n",
    "test_eq(extract_comments(exp), [['export', 'module'],['hide']])"
   ]
  },
  {
   "cell_type": "code",
   "execution_count": 7,
   "metadata": {},
   "outputs": [],
   "source": [
    "#export\n",
    "@functools.lru_cache(maxsize=None)\n",
    "def _param_count(f):\n",
    "    \"Number of parameters accepted by function `f`\"\n",
    "    params = list(signature(f).parameters.values())\n",
    "    # If there's a `*args` then `f` can take as many params as needed\n",
    "    if first(params, lambda o: o.kind==Parameter.VAR_POSITIONAL): return 99\n",
    "    return len([o for o in params if o.kind in (Parameter.POSITIONAL_ONLY,Parameter.POSITIONAL_OR_KEYWORD)])"
   ]
  },
  {
   "cell_type": "code",
   "execution_count": 8,
   "metadata": {},
   "outputs": [],
   "source": [
    "#export\n",
    "class NBProcessor:\n",
    "    \"Process cells and nbdev comments in a notebook\"\n",
    "    def __init__(self, path=None, procs=None, nb=None, debug=False):\n",
    "        self.nb = read_nb(path) if nb is None else nb\n",
    "        self.procs,self.debug = L(procs),debug\n",
    "\n",
    "    def _process_cell(self, cell):\n",
    "        self.cell = cell\n",
    "        cell._comments = extract_comments(cell.source)\n",
    "        for proc in self.procs:\n",
    "            if callable(proc): proc(cell)\n",
    "            if cell.cell_type=='code':\n",
    "                for comment in cell._comments: self._process_comment(proc, comment)\n",
    "\n",
    "    def _process_comment(self, proc, comment):\n",
    "        cmd,*args = comment\n",
    "        f = getattr(proc, f'_{cmd}_', None)\n",
    "        if not f or _param_count(f)-1<len(args): return True\n",
    "        if self.debug: print(cmd, args, f)\n",
    "        return f(self, *args)\n",
    "\n",
    "    def process(self):\n",
    "        \"Process all cells with `process_cell`\"\n",
    "        for i in range_of(self.nb.cells): self._process_cell(self.nb.cells[i])\n",
    "        self.nb.cells = [c for c in self.nb.cells if c.source is not None]"
   ]
  },
  {
   "cell_type": "code",
   "execution_count": 9,
   "metadata": {},
   "outputs": [],
   "source": [
    "class _PrintExample:\n",
    "    def _printme_(self, nbp, to_print): print(to_print)"
   ]
  },
  {
   "cell_type": "code",
   "execution_count": 10,
   "metadata": {},
   "outputs": [
    {
     "name": "stdout",
     "output_type": "stream",
     "text": [
      "testing\n"
     ]
    }
   ],
   "source": [
    "everything_fn = '../tests/01_everything.ipynb'\n",
    "proc = NBProcessor(everything_fn, _PrintExample())\n",
    "proc.process()"
   ]
  },
  {
   "cell_type": "markdown",
   "metadata": {},
   "source": [
    "## ExportModuleProc -"
   ]
  },
  {
   "cell_type": "code",
   "execution_count": 11,
   "metadata": {},
   "outputs": [],
   "source": [
    "#export\n",
    "class ExportModuleProc:\n",
    "    \"A processor which exports code to a module\"\n",
    "    def __init__(self): self.modules,self.in_all = defaultdict(L),defaultdict(L)\n",
    "    def _default_exp_(self, nbp, exp_to): self.default_exp = exp_to\n",
    "    def _exporti_(self, nbp, exp_to=None): self.modules[ifnone(exp_to, '#')].append(nbp.cell)\n",
    "    def _export_(self, nbp, exp_to=None):\n",
    "        self._exporti_(nbp, exp_to)\n",
    "        self.in_all[ifnone(exp_to, '#')].append(nbp.cell)"
   ]
  },
  {
   "cell_type": "markdown",
   "metadata": {},
   "source": [
    "Specify `dest` where the module(s) will be exported to, and optionally a class to use to create the module (`ModuleMaker`, by default).\n",
    "\n",
    "Exported cells are stored in a `dict` called `modules`, where the keys are the modules exported to. Those without an explicit module are stored in the `'#'` key, which will be exported to `default_exp`."
   ]
  },
  {
   "cell_type": "code",
   "execution_count": 12,
   "metadata": {},
   "outputs": [],
   "source": [
    "exp = ExportModuleProc()\n",
    "proc = NBProcessor(everything_fn, exp)\n",
    "proc.process()\n",
    "test_eq(exp.default_exp, 'everything')\n",
    "assert 'print_function'  in exp.modules['#'][0].source\n",
    "assert 'h_n' in exp.in_all['some.thing'][0].source"
   ]
  },
  {
   "cell_type": "code",
   "execution_count": 13,
   "metadata": {},
   "outputs": [],
   "source": [
    "#export\n",
    "def rm_comments_proc(cell):\n",
    "    \"A proc that removes comments from each NB cell source\"\n",
    "    cell.source = ''.join(cell.source.splitlines(True)[len(cell._comments):])"
   ]
  },
  {
   "cell_type": "code",
   "execution_count": 14,
   "metadata": {},
   "outputs": [],
   "source": [
    "#export\n",
    "def create_modules(path, dest, procs=None, debug=False, mod_maker=ModuleMaker):\n",
    "    \"Create module(s) from notebook\"\n",
    "    exp = ExportModuleProc()\n",
    "    nb = NBProcessor(path, [exp,rm_comments_proc]+L(procs), debug=debug)\n",
    "    nb.process()\n",
    "    for mod,cells in exp.modules.items():\n",
    "        all_cells = exp.in_all[mod]\n",
    "        name = exp.default_exp if mod=='#' else mod\n",
    "        mm = mod_maker(dest=dest, name=name, nb_path=path, is_new=mod=='#')\n",
    "        mm.make(cells, all_cells)"
   ]
  },
  {
   "cell_type": "markdown",
   "metadata": {},
   "source": [
    "Let's check we can import a test file:"
   ]
  },
  {
   "cell_type": "code",
   "execution_count": 15,
   "metadata": {},
   "outputs": [],
   "source": [
    "shutil.rmtree('tmp', ignore_errors=True)\n",
    "create_modules('../tests/00_some.thing.ipynb', 'tmp')\n",
    "\n",
    "g = exec_new('import tmp.some.thing')\n",
    "test_eq(g['tmp'].some.thing.__all__, ['a'])\n",
    "test_eq(g['tmp'].some.thing.a, 1)"
   ]
  },
  {
   "cell_type": "markdown",
   "metadata": {},
   "source": [
    "We'll also check that our 'everything' file exports correctly:"
   ]
  },
  {
   "cell_type": "code",
   "execution_count": 16,
   "metadata": {},
   "outputs": [],
   "source": [
    "create_modules(everything_fn, 'tmp')\n",
    "\n",
    "g = exec_new('import tmp.everything; from tmp.everything import *')\n",
    "_alls = L(\"a b d e m n o p q\".split())\n",
    "for s in _alls.map(\"{}_y\"): assert s in g, s\n",
    "for s in \"c_y_nall _f_y_nall g_n h_n i_n j_n k_n l_n\".split(): assert s not in g, s\n",
    "for s in _alls.map(\"{}_y\") + [\"c_y_nall\", \"_f_y_nall\"]: assert hasattr(g['tmp'].everything,s), s"
   ]
  },
  {
   "cell_type": "markdown",
   "metadata": {},
   "source": [
    "That notebook should also export one extra function to `tmp.some.thing`:"
   ]
  },
  {
   "cell_type": "code",
   "execution_count": 17,
   "metadata": {},
   "outputs": [],
   "source": [
    "del(sys.modules['tmp.some.thing']) # remove from module cache\n",
    "g = exec_new('import tmp.some.thing')\n",
    "test_eq(g['tmp'].some.thing.__all__, ['a','h_n'])\n",
    "test_eq(g['tmp'].some.thing.h_n(), None)"
   ]
  },
  {
   "cell_type": "code",
   "execution_count": 18,
   "metadata": {},
   "outputs": [],
   "source": [
    "#export\n",
    "def nb_export(nbname, lib_name=None):\n",
    "    if lib_name is None: lib_name = get_config().lib_name\n",
    "    create_modules(nbname, lib_name)"
   ]
  },
  {
   "cell_type": "code",
   "execution_count": 19,
   "metadata": {},
   "outputs": [],
   "source": [
    "#export\n",
    "@call_parse\n",
    "def nbs_export(\n",
    "    path:str='.', # path or filename\n",
    "    recursive:bool=True, # search subfolders\n",
    "    symlinks:bool=True, # follow symlinks?\n",
    "    file_glob:str='*.ipynb', # Only include files matching glob\n",
    "    file_re:str=None, # Only include files matching regex\n",
    "    folder_re:str=None, # Only enter folders matching regex\n",
    "    skip_file_glob:str=None, # Skip files matching glob\n",
    "    skip_file_re:str=None, # Skip files matching regex\n",
    "    skip_folder_re:str='^[_.]' # Skip folders matching regex\n",
    "):\n",
    "    if os.environ.get('IN_TEST',0): return\n",
    "    if not recursive: skip_folder_re='.'\n",
    "    files = globtastic(path, symlinks=symlinks, file_glob=file_glob, file_re=file_re,\n",
    "        folder_re=folder_re, skip_file_glob=skip_file_glob, skip_file_re=skip_file_re, skip_folder_re=skip_folder_re)\n",
    "    files.map(nb_export)"
   ]
  },
  {
   "cell_type": "markdown",
   "metadata": {},
   "source": [
    "## Export -"
   ]
  },
  {
   "cell_type": "code",
   "execution_count": 20,
   "metadata": {},
   "outputs": [],
   "source": [
    "#skip\n",
    "Path('../nbprocess/export.py').unlink(missing_ok=True)\n",
    "nbs_export()\n",
    "\n",
    "g = exec_new('import nbprocess.export')\n",
    "assert hasattr(g['nbprocess'].export, 'nb_export')"
   ]
  },
  {
   "cell_type": "code",
   "execution_count": null,
   "metadata": {},
   "outputs": [],
   "source": []
  }
 ],
 "metadata": {
  "kernelspec": {
   "display_name": "Python 3 (ipykernel)",
   "language": "python",
   "name": "python3"
  },
  "language_info": {
   "codemirror_mode": {
    "name": "ipython",
    "version": 3
   },
   "file_extension": ".py",
   "mimetype": "text/x-python",
   "name": "python",
   "nbconvert_exporter": "python",
   "pygments_lexer": "ipython3",
   "version": "3.9.5"
  }
 },
 "nbformat": 4,
 "nbformat_minor": 4
}
