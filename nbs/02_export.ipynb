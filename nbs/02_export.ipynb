{
 "cells": [
  {
   "cell_type": "code",
   "execution_count": null,
   "metadata": {},
   "outputs": [],
   "source": [
    "#hide\n",
    "#default_exp export"
   ]
  },
  {
   "cell_type": "markdown",
   "metadata": {},
   "source": [
    "# nbprocess.export\n",
    "- Exporting a notebook to a library"
   ]
  },
  {
   "cell_type": "code",
   "execution_count": null,
   "metadata": {},
   "outputs": [],
   "source": [
    "#export\n",
    "from nbprocess.read import *\n",
    "from nbprocess.maker import *\n",
    "\n",
    "from nbprocess.imports import *\n",
    "from fastcore.script import *\n",
    "from fastcore.imports import *\n",
    "\n",
    "from collections import defaultdict\n",
    "from pprint import pformat\n",
    "import ast,contextlib"
   ]
  },
  {
   "cell_type": "code",
   "execution_count": null,
   "metadata": {},
   "outputs": [],
   "source": [
    "from fastcore.test import *\n",
    "from pdb import set_trace\n",
    "from importlib import reload\n",
    "import shutil"
   ]
  },
  {
   "cell_type": "markdown",
   "metadata": {},
   "source": [
    "## NotebookProcessor -"
   ]
  },
  {
   "cell_type": "markdown",
   "metadata": {},
   "source": [
    "Special comments at the start of a cell can be used to provide information to `nbprocess` about how to process a cell, so we need to be able to find the location of these comments."
   ]
  },
  {
   "cell_type": "code",
   "execution_count": null,
   "metadata": {},
   "outputs": [],
   "source": [
    "minimal = read_nb('../tests/minimal.ipynb')"
   ]
  },
  {
   "cell_type": "code",
   "execution_count": null,
   "metadata": {},
   "outputs": [],
   "source": [
    "#export\n",
    "def extract_comments(ss):\n",
    "    \"Take leading comments from lines of code in `ss`, remove `#`, and split\"\n",
    "    ss = ss.splitlines()\n",
    "    first_code = first(i for i,o in enumerate(ss) if not o.strip() or re.match('\\s*[^#\\s]', o))\n",
    "    return L((s.strip()[1:]).strip().split() for s in ss[:first_code]).filter()"
   ]
  },
  {
   "cell_type": "markdown",
   "metadata": {},
   "source": [
    "nbprocess comments start with `#`, followed by whitespace delimited tokens, which `extract_comments` extracts from the start of a cell, up until a blank line or a line containing something other than comments:"
   ]
  },
  {
   "cell_type": "code",
   "execution_count": null,
   "metadata": {},
   "outputs": [],
   "source": [
    "exp  = \"#export module\\n# hide\\n1+2\\n#foo\\n#bar\"\n",
    "test_eq(extract_comments(exp), [['export', 'module'],['hide']])"
   ]
  },
  {
   "cell_type": "code",
   "execution_count": null,
   "metadata": {},
   "outputs": [],
   "source": [
    "#export\n",
    "class NotebookProcessor:\n",
    "    \"Base class for nbprocess notebook processors\"\n",
    "    def __init__(self, path, debug=False): self.nb,self.path,self.debug = read_nb(path),Path(path),debug"
   ]
  },
  {
   "cell_type": "markdown",
   "metadata": {},
   "source": [
    "Subclass `NotebookProcessor` to add methods to act on nbprocess comments. The method names are of the form `cmd_type`, where \"`cmd`\" is the first word of the nbprocess comment, and `type` is the `cell_type` of the cell (normally \"`code`). The methods must take at least `comment` and `code` as params, plus extra params for any additional words included in a comment. Here's an example that prints any word following a \"print me\" comment:"
   ]
  },
  {
   "cell_type": "code",
   "execution_count": null,
   "metadata": {},
   "outputs": [],
   "source": [
    "class _PrintExample(NotebookProcessor):\n",
    "    def printme_code(self, comment, code, to_print): print(to_print)"
   ]
  },
  {
   "cell_type": "markdown",
   "metadata": {},
   "source": [
    "We can create a processor by passing it a notebook:"
   ]
  },
  {
   "cell_type": "code",
   "execution_count": null,
   "metadata": {},
   "outputs": [],
   "source": [
    "everything_fn = '../tests/01_everything.ipynb'\n",
    "proc = _PrintExample(everything_fn)"
   ]
  },
  {
   "cell_type": "markdown",
   "metadata": {},
   "source": [
    "The basic functionality of a notebook processor is to read and act on nbprocess comments."
   ]
  },
  {
   "cell_type": "code",
   "execution_count": null,
   "metadata": {},
   "outputs": [],
   "source": [
    "#export\n",
    "@patch\n",
    "def process_comment(self:NotebookProcessor, comment, cell):\n",
    "    cmd,*args = comment\n",
    "    cmd = f\"{cmd}_{cell.cell_type}\"\n",
    "    if self.debug: print(cmd, args)\n",
    "    if not hasattr(self, cmd): return\n",
    "    try: getattr(self,cmd)(comment,cell, *args)\n",
    "    except TypeError: pass"
   ]
  },
  {
   "cell_type": "markdown",
   "metadata": {},
   "source": [
    "Behind the scenes, `process_comment`  is used to call subclass methods. You can subclass this to change the behavior of a processor."
   ]
  },
  {
   "cell_type": "code",
   "execution_count": null,
   "metadata": {},
   "outputs": [
    {
     "name": "stdout",
     "output_type": "stream",
     "text": [
      "hello\n"
     ]
    }
   ],
   "source": [
    "proc.process_comment([\"printme\",\"hello\"], SimpleNamespace(cell_type=\"code\"))"
   ]
  },
  {
   "cell_type": "code",
   "execution_count": null,
   "metadata": {},
   "outputs": [],
   "source": [
    "#export\n",
    "@patch\n",
    "def process_cell(self:NotebookProcessor, cell):\n",
    "    comments = extract_comments(cell.source)\n",
    "    if not comments: return self.no_cmd(cell)\n",
    "    for comment in comments: self.process_comment(comment, cell)\n",
    "    return cell\n",
    "\n",
    "@patch\n",
    "def no_cmd(self:NotebookProcessor, cell): return cell"
   ]
  },
  {
   "cell_type": "markdown",
   "metadata": {},
   "source": [
    "Subclass `process_cell` to change how `process_comment` is called. By default, it calls `self.no_cmd` for any cells without comments. The return value of `process_cell` is used to replace the cell in the notebook."
   ]
  },
  {
   "cell_type": "code",
   "execution_count": null,
   "metadata": {},
   "outputs": [
    {
     "name": "stdout",
     "output_type": "stream",
     "text": [
      "hello\n"
     ]
    }
   ],
   "source": [
    "def _make_code_cell(code, idx=0): return AttrDict(source=code, cell_type=\"code\")\n",
    "def _make_code_cells(*ss): return dict2nb({'cells':L(ss).map(_make_code_cell)}).cells\n",
    "\n",
    "proc.process_cell(_make_code_cell(\"#printme hello\"));"
   ]
  },
  {
   "cell_type": "code",
   "execution_count": null,
   "metadata": {},
   "outputs": [],
   "source": [
    "#export\n",
    "@patch\n",
    "def process(self:NotebookProcessor):\n",
    "    \"Process all cells with `process_cell` and replace `self.nb.cells` with result\"\n",
    "    for i in range_of(self.nb.cells): self.nb.cells[i] = self.process_cell(self.nb.cells[i])"
   ]
  },
  {
   "cell_type": "code",
   "execution_count": null,
   "metadata": {},
   "outputs": [
    {
     "name": "stdout",
     "output_type": "stream",
     "text": [
      "testing\n"
     ]
    }
   ],
   "source": [
    "proc.process()"
   ]
  },
  {
   "cell_type": "markdown",
   "metadata": {},
   "source": [
    "`NotebookProcessor.process` doesn't change a notebook or act on any comments, unless you subclass it."
   ]
  },
  {
   "cell_type": "code",
   "execution_count": null,
   "metadata": {},
   "outputs": [],
   "source": [
    "everything = read_nb(everything_fn)\n",
    "proc = NotebookProcessor(everything_fn)\n",
    "proc.process()\n",
    "for a_,b_ in zip(everything.cells, proc.nb.cells): test_eq(str(a_),str(b_))"
   ]
  },
  {
   "cell_type": "markdown",
   "metadata": {},
   "source": [
    "## ExportModuleProcessor -"
   ]
  },
  {
   "cell_type": "code",
   "execution_count": null,
   "metadata": {},
   "outputs": [],
   "source": [
    "#export\n",
    "class ExportModuleProcessor(NotebookProcessor):\n",
    "    \"A `NotebookProcessor` which exports code to a module\"\n",
    "    def __init__(self, path, dest, mod_maker=ModuleMaker, debug=False):\n",
    "        dest = Path(dest)\n",
    "        store_attr()\n",
    "        super().__init__(path,debug=debug)\n",
    "\n",
    "    def process(self):\n",
    "        self.modules,self.in_all = defaultdict(L),defaultdict(L)\n",
    "        super().process()"
   ]
  },
  {
   "cell_type": "markdown",
   "metadata": {},
   "source": [
    "Specify `path` containing the source notebook, `dest` where the module(s) will be exported to, and optionally a class to use to create the module (`ModuleMaker`, by default)."
   ]
  },
  {
   "cell_type": "code",
   "execution_count": null,
   "metadata": {},
   "outputs": [],
   "source": [
    "proc = ExportModuleProcessor(everything_fn, 'tmp')"
   ]
  },
  {
   "cell_type": "code",
   "execution_count": null,
   "metadata": {},
   "outputs": [],
   "source": [
    "#export\n",
    "@patch\n",
    "def default_exp_code(self:ExportModuleProcessor, comment, cell, exp_to): self.default_exp = exp_to"
   ]
  },
  {
   "cell_type": "markdown",
   "metadata": {},
   "source": [
    "You must include a `default_exp` comment somewhere in your notebook to show what module to export to by default."
   ]
  },
  {
   "cell_type": "code",
   "execution_count": null,
   "metadata": {},
   "outputs": [],
   "source": [
    "proc.process()\n",
    "test_eq(proc.default_exp, 'everything')"
   ]
  },
  {
   "cell_type": "code",
   "execution_count": null,
   "metadata": {},
   "outputs": [],
   "source": [
    "#export\n",
    "@patch\n",
    "def exporti_code(self:ExportModuleProcessor, comment, cell, exp_to=None):\n",
    "    \"Export a cell, without including the definition in `__all__`\"\n",
    "    mod = ifnone(exp_to, '#')\n",
    "    self.modules[mod].append(cell)\n",
    "    return mod"
   ]
  },
  {
   "cell_type": "markdown",
   "metadata": {},
   "source": [
    "Exported cells are stored in a `dict` called `modules`, where the keys are the modules exported to. Those without an explicit module are stored in the `'#'` key, which will be exported to `default_exp`."
   ]
  },
  {
   "cell_type": "code",
   "execution_count": null,
   "metadata": {},
   "outputs": [
    {
     "data": {
      "text/plain": [
       "(#1) [#exporti\n",
       "#just another comment\n",
       "def c_y_nall(): ...]"
      ]
     },
     "execution_count": null,
     "metadata": {},
     "output_type": "execute_result"
    }
   ],
   "source": [
    "proc.process()\n",
    "proc.modules['#']"
   ]
  },
  {
   "cell_type": "code",
   "execution_count": null,
   "metadata": {},
   "outputs": [],
   "source": [
    "#export\n",
    "@patch\n",
    "def export_code(self:ExportModuleProcessor, comment, cell, exp_to=None):\n",
    "    \"Export a cell, adding the definition in `__all__`\"\n",
    "    mod = self.exporti_code(comment, cell, exp_to=exp_to)\n",
    "    self.in_all[mod].append(cell)"
   ]
  },
  {
   "cell_type": "code",
   "execution_count": null,
   "metadata": {},
   "outputs": [],
   "source": [
    "@patch\n",
    "def exports_code(self:ExportModuleProcessor, comment, cell, exp_to=None):\n",
    "    \"Same as `export_code`, but also show source code in docs\"\n",
    "    self.export_code(comment, cell, exp_to=exp_to)"
   ]
  },
  {
   "cell_type": "code",
   "execution_count": null,
   "metadata": {},
   "outputs": [],
   "source": [
    "#export\n",
    "@patch\n",
    "def create_modules(self:ExportModuleProcessor):\n",
    "    \"Create module(s) from notebook\"\n",
    "    self.process()\n",
    "    for mod,cells in self.modules.items():\n",
    "        all_cells = self.in_all[mod]\n",
    "        name = self.default_exp if mod=='#' else mod\n",
    "        mm = self.mod_maker(dest=self.dest, name=name, nb_path=self.path, is_new=mod=='#')\n",
    "        mm.make(cells, all_cells)"
   ]
  },
  {
   "cell_type": "markdown",
   "metadata": {},
   "source": [
    "Let's check we can import a test file:"
   ]
  },
  {
   "cell_type": "code",
   "execution_count": null,
   "metadata": {},
   "outputs": [],
   "source": [
    "shutil.rmtree('tmp')\n",
    "proc = ExportModuleProcessor('../tests/00_some.thing.ipynb', 'tmp')\n",
    "proc.create_modules()\n",
    "\n",
    "import tmp.some.thing\n",
    "reload(tmp.some.thing)\n",
    "test_eq(tmp.some.thing.__all__, ['a'])\n",
    "test_eq(tmp.some.thing.a, 1)"
   ]
  },
  {
   "cell_type": "markdown",
   "metadata": {},
   "source": [
    "We'll also check that our 'everything' file exports correctly:"
   ]
  },
  {
   "cell_type": "code",
   "execution_count": null,
   "metadata": {},
   "outputs": [],
   "source": [
    "proc = ExportModuleProcessor(everything_fn, 'tmp')\n",
    "proc.create_modules()\n",
    "\n",
    "import tmp.everything\n",
    "reload(tmp.everything)\n",
    "from tmp.everything import *\n",
    "g = globals()\n",
    "_alls = L(\"a b d e m n o p q\".split())\n",
    "for s in _alls.map(\"{}_y\"): assert s in g, s\n",
    "for s in \"c_y_nall _f_y_nall g_n h_n i_n j_n k_n l_n\".split(): assert s not in g, s\n",
    "for s in _alls.map(\"{}_y\") + [\"c_y_nall\", \"_f_y_nall\"]: assert hasattr(tmp.everything,s), s"
   ]
  },
  {
   "cell_type": "markdown",
   "metadata": {},
   "source": [
    "That notebook should also export one extra function to `tmp.some.thing`:"
   ]
  },
  {
   "cell_type": "code",
   "execution_count": null,
   "metadata": {},
   "outputs": [],
   "source": [
    "import tmp.some.thing\n",
    "reload(tmp.some.thing)\n",
    "test_eq(tmp.some.thing.__all__, ['a','h_n'])\n",
    "test_eq(tmp.some.thing.h_n(), None)"
   ]
  },
  {
   "cell_type": "markdown",
   "metadata": {},
   "source": [
    "## Export -"
   ]
  },
  {
   "cell_type": "code",
   "execution_count": null,
   "metadata": {},
   "outputs": [],
   "source": [
    "path = Path('../nbprocess')\n",
    "(path/'export.py').unlink(missing_ok=True)\n",
    "ExportModuleProcessor('02_export.ipynb', 'nbprocess').create_modules()\n",
    "import nbprocess.export\n",
    "reload(nbprocess.export)\n",
    "assert hasattr(nbprocess.export, 'ModuleMaker')"
   ]
  },
  {
   "cell_type": "code",
   "execution_count": null,
   "metadata": {},
   "outputs": [],
   "source": [
    "ExportModuleProcessor('00_read.ipynb', 'nbprocess').create_modules()\n",
    "ExportModuleProcessor('01_maker.ipynb', 'nbprocess').create_modules()"
   ]
  },
  {
   "cell_type": "code",
   "execution_count": null,
   "metadata": {},
   "outputs": [],
   "source": []
  },
  {
   "cell_type": "code",
   "execution_count": null,
   "metadata": {},
   "outputs": [],
   "source": [
    "# #hide\n",
    "# def nb2dict(d, k=None):\n",
    "#     \"Convert parsed notebook to `dict`\"\n",
    "#     if k=='source': return d.splitlines(keepends=True)\n",
    "#     if isinstance(d, (L,list)): return list(L(d).map(nb2dict))\n",
    "#     if not isinstance(d, dict): return d\n",
    "#     return dict(**{k:nb2dict(v,k) for k,v in d.items() if k[-1] != '_'})\n",
    "\n",
    "# # This returns the exact same string as saved by Jupyter.\n",
    "\n",
    "# assert minimal_txt==nb2dict(minimal)\n",
    "\n",
    "# #export\n",
    "# def write_nb(nb, path):\n",
    "#     \"Write `nb` to `path`\"\n",
    "#     nb = nb2dict(nb)\n",
    "#     with io.open(path, 'w', encoding='utf-8') as f:\n",
    "#         f.write(json.dumps(nb, sort_keys=True, indent=1, ensure_ascii=False))\n",
    "#         f.write(\"\\n\")"
   ]
  }
 ],
 "metadata": {
  "kernelspec": {
   "display_name": "Python 3",
   "language": "python",
   "name": "python3"
  }
 },
 "nbformat": 4,
 "nbformat_minor": 4
}
