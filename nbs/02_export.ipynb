{
 "cells": [
  {
   "cell_type": "code",
   "execution_count": null,
   "metadata": {},
   "outputs": [],
   "source": [
    "#hide\n",
    "#default_exp export"
   ]
  },
  {
   "cell_type": "markdown",
   "metadata": {},
   "source": [
    "# nbprocess.export\n",
    "- Exporting a notebook to a library"
   ]
  },
  {
   "cell_type": "code",
   "execution_count": null,
   "metadata": {},
   "outputs": [],
   "source": [
    "#export\n",
    "from nbprocess.read import *\n",
    "from nbprocess.maker import *\n",
    "from nbprocess.imports import *\n",
    "\n",
    "from fastcore.script import *\n",
    "from fastcore.imports import *\n",
    "\n",
    "from collections import defaultdict\n",
    "from pprint import pformat\n",
    "from inspect import signature,Parameter\n",
    "import ast,contextlib,copy"
   ]
  },
  {
   "cell_type": "code",
   "execution_count": null,
   "metadata": {},
   "outputs": [],
   "source": [
    "from fastcore.test import *\n",
    "from pdb import set_trace\n",
    "from importlib import reload\n",
    "import shutil"
   ]
  },
  {
   "cell_type": "markdown",
   "metadata": {},
   "source": [
    "## NotebookProcessor -"
   ]
  },
  {
   "cell_type": "markdown",
   "metadata": {},
   "source": [
    "Special comments at the start of a cell can be used to provide information to `nbprocess` about how to process a cell, so we need to be able to find the location of these comments."
   ]
  },
  {
   "cell_type": "code",
   "execution_count": null,
   "metadata": {},
   "outputs": [],
   "source": [
    "minimal = read_nb('../tests/minimal.ipynb')"
   ]
  },
  {
   "cell_type": "code",
   "execution_count": null,
   "metadata": {},
   "outputs": [],
   "source": [
    "#export\n",
    "def extract_comments(ss):\n",
    "    \"Take leading comments from lines of code in `ss`, remove `#`, and split\"\n",
    "    ss = ss.splitlines()\n",
    "    first_code = first(i for i,o in enumerate(ss) if not o.strip() or re.match('\\s*[^#\\s]', o))\n",
    "    return L((s.strip()[1:]).strip().split() for s in ss[:first_code]).filter()"
   ]
  },
  {
   "cell_type": "markdown",
   "metadata": {},
   "source": [
    "nbprocess comments start with `#`, followed by whitespace delimited tokens, which `extract_comments` extracts from the start of a cell, up until a blank line or a line containing something other than comments:"
   ]
  },
  {
   "cell_type": "code",
   "execution_count": null,
   "metadata": {},
   "outputs": [],
   "source": [
    "exp  = \"\"\"#export module\n",
    "# hide\n",
    "1+2\n",
    "#bar\"\"\"\n",
    "test_eq(extract_comments(exp), [['export', 'module'],['hide']])"
   ]
  },
  {
   "cell_type": "code",
   "execution_count": null,
   "metadata": {},
   "outputs": [],
   "source": [
    "#export\n",
    "class NotebookProcessor:\n",
    "    \"Base class for nbprocess notebook processors\"\n",
    "    def __init__(self, path, debug=False): self.nb,self.path,self.debug = read_nb(path),Path(path),debug"
   ]
  },
  {
   "cell_type": "markdown",
   "metadata": {},
   "source": [
    "Subclass `NotebookProcessor` to add methods to act on nbprocess comments. The method names are of the form `cmd_type`, where \"`cmd`\" is the first word of the nbprocess comment, and `type` is the `cell_type` of the cell (normally \"`code`\"). The methods must take at least `comment` and `code` as params, plus extra params for any additional words included in a comment. Here's an example that prints any word following a \"print me\" comment:"
   ]
  },
  {
   "cell_type": "code",
   "execution_count": null,
   "metadata": {},
   "outputs": [],
   "source": [
    "class _PrintExample(NotebookProcessor):\n",
    "    def printme_code(self, to_print): print(to_print)"
   ]
  },
  {
   "cell_type": "markdown",
   "metadata": {},
   "source": [
    "We can create a processor by passing it a notebook:"
   ]
  },
  {
   "cell_type": "code",
   "execution_count": null,
   "metadata": {},
   "outputs": [],
   "source": [
    "everything_fn = '../tests/01_everything.ipynb'\n",
    "proc = _PrintExample(everything_fn)"
   ]
  },
  {
   "cell_type": "code",
   "execution_count": null,
   "metadata": {},
   "outputs": [],
   "source": [
    "#export\n",
    "@functools.lru_cache(maxsize=None)\n",
    "def _param_count(f):\n",
    "    \"Number of parameters accepted by function `f`\"\n",
    "    params = list(signature(f).parameters.values())\n",
    "    # If there's a `*args` then `f` can take as many params as neede\n",
    "    if first(params, lambda o: o.kind==Parameter.VAR_POSITIONAL): return 99\n",
    "    return len([o for o in params if o.kind in (Parameter.POSITIONAL_ONLY,Parameter.POSITIONAL_OR_KEYWORD)])"
   ]
  },
  {
   "cell_type": "markdown",
   "metadata": {},
   "source": [
    "The basic functionality of a notebook processor is to read and act on nbprocess comments."
   ]
  },
  {
   "cell_type": "code",
   "execution_count": null,
   "metadata": {},
   "outputs": [],
   "source": [
    "#export\n",
    "@patch\n",
    "def process_comment(self:NotebookProcessor, cell_type, comment, idx):\n",
    "    cmd,*args = comment\n",
    "    self.comment,self.idx = comment,idx\n",
    "    cmd = f\"{cmd}_{cell_type}\"\n",
    "    if self.debug: print(cmd, args)\n",
    "    f = getattr(self, cmd, None)\n",
    "    if not f or _param_count(f)<len(args): return True\n",
    "    return f(*args)"
   ]
  },
  {
   "cell_type": "markdown",
   "metadata": {},
   "source": [
    "Behind the scenes, `process_comment`  is used to call subclass methods. It is passed the comment (as a list split on spaces), the notebook cell itself, and the index number of the comment. You can subclass this to change the behavior of a processor."
   ]
  },
  {
   "cell_type": "code",
   "execution_count": null,
   "metadata": {},
   "outputs": [
    {
     "name": "stdout",
     "output_type": "stream",
     "text": [
      "hello\n"
     ]
    }
   ],
   "source": [
    "proc.process_comment(\"code\",[\"printme\",\"hello\"], 0)"
   ]
  },
  {
   "cell_type": "markdown",
   "metadata": {},
   "source": [
    "If the wrong number of parameters are passed, it is silently ignored:"
   ]
  },
  {
   "cell_type": "code",
   "execution_count": null,
   "metadata": {},
   "outputs": [
    {
     "data": {
      "text/plain": [
       "True"
      ]
     },
     "execution_count": null,
     "metadata": {},
     "output_type": "execute_result"
    }
   ],
   "source": [
    "proc.process_comment(\"code\", [\"printme\",\"hello\",\"there\"], 0)"
   ]
  },
  {
   "cell_type": "code",
   "execution_count": null,
   "metadata": {},
   "outputs": [],
   "source": [
    "#export\n",
    "@patch\n",
    "def process_cell(self:NotebookProcessor, cell):\n",
    "    comments = extract_comments(cell.source)\n",
    "    self.cell = cell\n",
    "    if not comments: return\n",
    "    keeps = [self.process_comment(cell.cell_type, comment, i)\n",
    "             for i,comment in enumerate(comments)]\n",
    "    self.cell.source = ''.join([o for i,o in enumerate(self.cell.source.splitlines(True))\n",
    "                                if i>=len(keeps) or keeps[i]])"
   ]
  },
  {
   "cell_type": "markdown",
   "metadata": {},
   "source": [
    "Subclass `process_cell` to change how `process_comment` is called. The return value of `process_cell` is used to replace the cell in the notebook."
   ]
  },
  {
   "cell_type": "code",
   "execution_count": null,
   "metadata": {},
   "outputs": [
    {
     "name": "stdout",
     "output_type": "stream",
     "text": [
      "hello\n"
     ]
    }
   ],
   "source": [
    "cell = make_code_cell(\"#printme hello\\n1+1\")\n",
    "proc.process_cell(cell);"
   ]
  },
  {
   "cell_type": "markdown",
   "metadata": {},
   "source": [
    "Cell comments that have been processed are removed from the cell source, unless the processing function returns `True`:"
   ]
  },
  {
   "cell_type": "code",
   "execution_count": null,
   "metadata": {},
   "outputs": [
    {
     "data": {
      "text/plain": [
       "'1+1'"
      ]
     },
     "execution_count": null,
     "metadata": {},
     "output_type": "execute_result"
    }
   ],
   "source": [
    "cell.source"
   ]
  },
  {
   "cell_type": "code",
   "execution_count": null,
   "metadata": {},
   "outputs": [],
   "source": [
    "#export\n",
    "@patch\n",
    "def process(self:NotebookProcessor):\n",
    "    \"Process all cells with `process_cell` and replace `self.nb.cells` with result\"\n",
    "    for i in range_of(self.nb.cells): self.process_cell(self.nb.cells[i])"
   ]
  },
  {
   "cell_type": "code",
   "execution_count": null,
   "metadata": {},
   "outputs": [
    {
     "name": "stdout",
     "output_type": "stream",
     "text": [
      "testing\n"
     ]
    }
   ],
   "source": [
    "proc.process()"
   ]
  },
  {
   "cell_type": "markdown",
   "metadata": {},
   "source": [
    "`NotebookProcessor.process` doesn't change a notebook or act on any comments, unless you subclass it."
   ]
  },
  {
   "cell_type": "code",
   "execution_count": null,
   "metadata": {},
   "outputs": [],
   "source": [
    "everything = read_nb(everything_fn)\n",
    "proc = NotebookProcessor(everything_fn)\n",
    "proc.process()\n",
    "for a_,b_ in zip(everything.cells, proc.nb.cells): test_eq(str(a_),str(b_))"
   ]
  },
  {
   "cell_type": "markdown",
   "metadata": {},
   "source": [
    "## ExportModuleProcessor -"
   ]
  },
  {
   "cell_type": "code",
   "execution_count": null,
   "metadata": {},
   "outputs": [],
   "source": [
    "#export\n",
    "class ExportModuleProcessor(NotebookProcessor):\n",
    "    \"A `NotebookProcessor` which exports code to a module\"\n",
    "    def __init__(self, path, dest, mod_maker=ModuleMaker, debug=False):\n",
    "        dest = Path(dest)\n",
    "        store_attr()\n",
    "        super().__init__(path,debug=debug)\n",
    "\n",
    "    def process(self):\n",
    "        self.default_exp,self.modules,self.in_all = None,defaultdict(L),defaultdict(L)\n",
    "        super().process()"
   ]
  },
  {
   "cell_type": "markdown",
   "metadata": {},
   "source": [
    "Specify `path` containing the source notebook, `dest` where the module(s) will be exported to, and optionally a class to use to create the module (`ModuleMaker`, by default)."
   ]
  },
  {
   "cell_type": "code",
   "execution_count": null,
   "metadata": {},
   "outputs": [],
   "source": [
    "proc = ExportModuleProcessor(everything_fn, 'tmp')"
   ]
  },
  {
   "cell_type": "code",
   "execution_count": null,
   "metadata": {},
   "outputs": [],
   "source": [
    "#export\n",
    "@patch\n",
    "def default_exp_code(self:ExportModuleProcessor, exp_to): self.default_exp = exp_to"
   ]
  },
  {
   "cell_type": "markdown",
   "metadata": {},
   "source": [
    "You must include a `default_exp` comment somewhere in your notebook to show what module to export to by default."
   ]
  },
  {
   "cell_type": "code",
   "execution_count": null,
   "metadata": {},
   "outputs": [],
   "source": [
    "proc.process()\n",
    "test_eq(proc.default_exp, 'everything')"
   ]
  },
  {
   "cell_type": "code",
   "execution_count": null,
   "metadata": {},
   "outputs": [],
   "source": [
    "#export\n",
    "@patch\n",
    "def exporti_code(self:ExportModuleProcessor, exp_to=None):\n",
    "    \"Export a cell, without including the definition in `__all__`\"\n",
    "    self.modules[ifnone(exp_to, '#')].append(self.cell)"
   ]
  },
  {
   "cell_type": "markdown",
   "metadata": {},
   "source": [
    "Exported cells are stored in a `dict` called `modules`, where the keys are the modules exported to. Those without an explicit module are stored in the `'#'` key, which will be exported to `default_exp`."
   ]
  },
  {
   "cell_type": "code",
   "execution_count": null,
   "metadata": {},
   "outputs": [
    {
     "data": {
      "text/plain": [
       "(#1) [#just another comment\n",
       "def c_y_nall(): ...]"
      ]
     },
     "execution_count": null,
     "metadata": {},
     "output_type": "execute_result"
    }
   ],
   "source": [
    "proc.process()\n",
    "proc.modules['#']"
   ]
  },
  {
   "cell_type": "code",
   "execution_count": null,
   "metadata": {},
   "outputs": [],
   "source": [
    "#export\n",
    "@patch\n",
    "def export_code(self:ExportModuleProcessor, exp_to=None):\n",
    "    \"Export a cell, adding the definition in `__all__`\"\n",
    "    self.exporti_code(exp_to)\n",
    "    self.in_all[ifnone(exp_to, '#')].append(self.cell)"
   ]
  },
  {
   "cell_type": "code",
   "execution_count": null,
   "metadata": {},
   "outputs": [
    {
     "name": "stdout",
     "output_type": "stream",
     "text": [
      "[def h_n(): ...]\n"
     ]
    }
   ],
   "source": [
    "proc.process()\n",
    "print(proc.in_all['some.thing'])"
   ]
  },
  {
   "cell_type": "code",
   "execution_count": null,
   "metadata": {},
   "outputs": [],
   "source": [
    "#export\n",
    "@patch\n",
    "def create_modules(self:ExportModuleProcessor):\n",
    "    \"Create module(s) from notebook\"\n",
    "    self.process()\n",
    "    for mod,cells in self.modules.items():\n",
    "        all_cells = self.in_all[mod]\n",
    "        name = self.default_exp if mod=='#' else mod\n",
    "        mm = self.mod_maker(dest=self.dest, name=name, nb_path=self.path, is_new=mod=='#')\n",
    "        mm.make(cells, all_cells)"
   ]
  },
  {
   "cell_type": "markdown",
   "metadata": {},
   "source": [
    "Let's check we can import a test file:"
   ]
  },
  {
   "cell_type": "code",
   "execution_count": null,
   "metadata": {},
   "outputs": [],
   "source": [
    "shutil.rmtree('tmp')\n",
    "proc = ExportModuleProcessor('../tests/00_some.thing.ipynb', 'tmp')\n",
    "proc.create_modules()"
   ]
  },
  {
   "cell_type": "code",
   "execution_count": null,
   "metadata": {},
   "outputs": [],
   "source": [
    "g = exec_new('import tmp.some.thing')\n",
    "test_eq(g['tmp'].some.thing.__all__, ['a'])\n",
    "test_eq(g['tmp'].some.thing.a, 1)"
   ]
  },
  {
   "cell_type": "markdown",
   "metadata": {},
   "source": [
    "We'll also check that our 'everything' file exports correctly:"
   ]
  },
  {
   "cell_type": "code",
   "execution_count": null,
   "metadata": {},
   "outputs": [],
   "source": [
    "proc = ExportModuleProcessor(everything_fn, 'tmp')\n",
    "proc.create_modules()\n",
    "\n",
    "g = exec_new('import tmp.everything; from tmp.everything import *')\n",
    "\n",
    "_alls = L(\"a b d e m n o p q\".split())\n",
    "for s in _alls.map(\"{}_y\"): assert s in g, s\n",
    "for s in \"c_y_nall _f_y_nall g_n h_n i_n j_n k_n l_n\".split(): assert s not in g, s\n",
    "for s in _alls.map(\"{}_y\") + [\"c_y_nall\", \"_f_y_nall\"]: assert hasattr(g['tmp'].everything,s), s"
   ]
  },
  {
   "cell_type": "markdown",
   "metadata": {},
   "source": [
    "That notebook should also export one extra function to `tmp.some.thing`:"
   ]
  },
  {
   "cell_type": "code",
   "execution_count": null,
   "metadata": {},
   "outputs": [],
   "source": [
    "del(sys.modules['tmp.some.thing']) # remove from module cache\n",
    "g = exec_new('import tmp.some.thing')\n",
    "test_eq(g['tmp'].some.thing.__all__, ['a','h_n'])\n",
    "test_eq(g['tmp'].some.thing.h_n(), None)"
   ]
  },
  {
   "cell_type": "code",
   "execution_count": null,
   "metadata": {},
   "outputs": [],
   "source": [
    "#export\n",
    "def nb_export(nbname, lib_name=None):\n",
    "    if lib_name is None: lib_name = get_config().lib_name\n",
    "    ExportModuleProcessor('02_export.ipynb', lib_name).create_modules()"
   ]
  },
  {
   "cell_type": "markdown",
   "metadata": {},
   "source": [
    "## Export -"
   ]
  },
  {
   "cell_type": "code",
   "execution_count": null,
   "metadata": {},
   "outputs": [],
   "source": [
    "path = Path('../nbprocess')\n",
    "(path/'export.py').unlink(missing_ok=True)\n",
    "\n",
    "nb_export('02_export.ipynb', 'nbprocess')\n",
    "g = exec_new('import nbprocess.export')\n",
    "assert hasattr(g['nbprocess'].export, 'ModuleMaker')"
   ]
  },
  {
   "cell_type": "code",
   "execution_count": null,
   "metadata": {},
   "outputs": [],
   "source": [
    "nb_export('00_read.ipynb', 'nbprocess')\n",
    "nb_export('01_maker.ipynb', 'nbprocess')"
   ]
  },
  {
   "cell_type": "code",
   "execution_count": null,
   "metadata": {},
   "outputs": [],
   "source": []
  }
 ],
 "metadata": {
  "kernelspec": {
   "display_name": "Python 3",
   "language": "python",
   "name": "python3"
  }
 },
 "nbformat": 4,
 "nbformat_minor": 4
}
