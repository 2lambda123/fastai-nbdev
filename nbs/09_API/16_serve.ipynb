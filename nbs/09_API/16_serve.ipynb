{
 "cells": [
  {
   "cell_type": "code",
   "execution_count": null,
   "id": "332ddf07",
   "metadata": {},
   "outputs": [],
   "source": [
    "#| default_exp serve"
   ]
  },
  {
   "cell_type": "markdown",
   "id": "36769638",
   "metadata": {},
   "source": [
    "# serve\n",
    "\n",
    "> A parallel ipynb processor (experimental)"
   ]
  },
  {
   "cell_type": "code",
   "execution_count": null,
   "id": "6899a335",
   "metadata": {},
   "outputs": [],
   "source": [
    "#|export\n",
    "import ast\n",
    "from shutil import rmtree,copy2\n",
    "\n",
    "from fastcore.utils import *\n",
    "from fastcore.parallel import parallel\n",
    "from fastcore.script import call_parse\n",
    "from fastcore.meta import delegates\n",
    "\n",
    "from nbdev.config import get_config\n",
    "from nbdev.doclinks import nbglob_cli,nbglob\n",
    "from nbdev.processors import FilterDefaults\n",
    "import nbdev.serve_drv"
   ]
  },
  {
   "cell_type": "code",
   "execution_count": null,
   "id": "32c11e55",
   "metadata": {},
   "outputs": [],
   "source": [
    "#|hide\n",
    "__file__ = '16_serve.ipynb'"
   ]
  },
  {
   "cell_type": "code",
   "execution_count": null,
   "id": "65766a33",
   "metadata": {},
   "outputs": [],
   "source": [
    "#|export\n",
    "def _is_qpy(path:Path):\n",
    "    \"Is `path` a py script starting with frontmatter?\"\n",
    "    path = Path(path)\n",
    "    if not path.suffix=='.py': return\n",
    "    p = ast.parse(path.read_text())\n",
    "#     try: p = ast.parse(path.read_text())\n",
    "#     except: return\n",
    "    if not p.body: return\n",
    "    a = p.body[0]\n",
    "    if isinstance(a, ast.Expr) and isinstance(a.value, ast.Constant):\n",
    "        v = a.value.value.strip()\n",
    "        vl = v.splitlines()\n",
    "        if vl[0]=='---' and vl[-1]=='---': return v\n",
    "\n",
    "def _exec_py(fname):\n",
    "    \"Exec a python script and warn on error\"\n",
    "    try: subprocess.check_output('python ' + fname, shell=True)\n",
    "    except subprocess.CalledProcessError as cpe: warn(str(cpe))"
   ]
  },
  {
   "cell_type": "code",
   "execution_count": null,
   "id": "14463227",
   "metadata": {},
   "outputs": [],
   "source": [
    "#|export\n",
    "@call_parse\n",
    "@delegates(nbglob)\n",
    "def proc_nbs(\n",
    "    path:str='', # Path to notebooks\n",
    "    n_workers:int=defaults.cpus,  # Number of workers\n",
    "    force:bool=False,  # Ignore cache and build all\n",
    "    file_glob:str='*.*', # Only include files matching glob\n",
    "    **kwargs):\n",
    "    \"Process notebooks in `path` for docs rendering\"\n",
    "    from multiprocessing.forkserver import set_forkserver_preload\n",
    "    set_forkserver_preload(['io', 'contextlib', 'execnb.nbio'])\n",
    "\n",
    "    cfg = get_config()\n",
    "    cache = cfg.config_path/'_proc'\n",
    "    if not path: path = cfg.nbs_path\n",
    "    files = nbglob(path, func=Path, file_glob=file_glob, **kwargs)\n",
    "    if (path/'_quarto.yml').exists(): files.append(path/'_quarto.yml')\n",
    "\n",
    "    # If settings.ini or filter script newer than cache folder modified, delete cache\n",
    "    chk_mtime = max(cfg.config_file.stat().st_mtime, Path(__file__).stat().st_mtime)\n",
    "    cache.mkdir(parents=True, exist_ok=True)\n",
    "    cache_mtime = cache.stat().st_mtime\n",
    "    if force or (cache.exists and cache_mtime<chk_mtime): rmtree(cache)\n",
    "\n",
    "    def _doproc(o):\n",
    "        src,dst=o\n",
    "        return not dst.exists() or src.stat().st_mtime>max(cache_mtime, dst.stat().st_mtime)\n",
    "    def _src_dst(o):\n",
    "        dst = cache/o.relative_to(path)\n",
    "        if o.suffix=='.py': dst = dst.with_suffix('.qmd')\n",
    "        return o,dst\n",
    "\n",
    "    files = files.map(_src_dst).filter(_doproc)\n",
    "    execs = []\n",
    "    for s,d in files:\n",
    "        d.parent.mkdir(parents=True, exist_ok=True)\n",
    "        if s.suffix=='.ipynb': execs.append((s,d,FilterDefaults))\n",
    "        else:\n",
    "            md = _is_qpy(s)\n",
    "            if md: execs.append((s,d,md))\n",
    "            else: copy2(s,d)\n",
    "\n",
    "    kw = {} if IN_NOTEBOOK else {'method':'forkserver' if os.name=='posix' else 'spawn'}\n",
    "    parallel(nbdev.serve_drv.main, execs, n_workers=n_workers, pause=0.01, **kw)\n",
    "    cache.touch()\n",
    "    return cache"
   ]
  },
  {
   "cell_type": "code",
   "execution_count": null,
   "id": "1745c2c3",
   "metadata": {},
   "outputs": [
    {
     "data": {
      "text/plain": [
       "Path('/Users/jhoward/git/nbdev/_proc')"
      ]
     },
     "execution_count": null,
     "metadata": {},
     "output_type": "execute_result"
    }
   ],
   "source": [
    "#|hide\n",
    "# proc_nbs.__wrapped__(n_workers=0, force=True)"
   ]
  },
  {
   "cell_type": "markdown",
   "id": "21e2dc07",
   "metadata": {},
   "source": [
    "## Export -"
   ]
  },
  {
   "cell_type": "code",
   "execution_count": null,
   "id": "04dd6d30",
   "metadata": {},
   "outputs": [],
   "source": [
    "#|hide\n",
    "import nbdev; nbdev.nbdev_export()"
   ]
  },
  {
   "cell_type": "code",
   "execution_count": null,
   "id": "3d36e494",
   "metadata": {},
   "outputs": [],
   "source": []
  }
 ],
 "metadata": {
  "kernelspec": {
   "display_name": "Python 3 (ipykernel)",
   "language": "python",
   "name": "python3"
  }
 },
 "nbformat": 4,
 "nbformat_minor": 5
}
