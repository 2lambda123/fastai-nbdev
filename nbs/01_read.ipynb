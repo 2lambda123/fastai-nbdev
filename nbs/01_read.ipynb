{
 "cells": [
  {
   "cell_type": "code",
   "execution_count": null,
   "metadata": {},
   "outputs": [],
   "source": [
    "#|hide\n",
    "#|default_exp read"
   ]
  },
  {
   "cell_type": "markdown",
   "metadata": {},
   "source": [
    "# read\n",
    "> Reading a notebook, and initial bootstrapping for notebook exporting"
   ]
  },
  {
   "cell_type": "code",
   "execution_count": null,
   "metadata": {},
   "outputs": [],
   "source": [
    "#|export\n",
    "from datetime import datetime\n",
    "from fastcore.imports import *\n",
    "from fastcore.foundation import *\n",
    "from fastcore.basics import *\n",
    "from fastcore.imports import *\n",
    "from fastcore.meta import *\n",
    "from fastcore.script import *\n",
    "from fastcore.xdg import *\n",
    "from fastcore.xtras import *\n",
    "\n",
    "import ast,functools\n",
    "from IPython.display import Markdown\n",
    "from configparser import ConfigParser\n",
    "from execnb.nbio import read_nb,NbCell\n",
    "from pprint import pformat,pprint"
   ]
  },
  {
   "cell_type": "code",
   "execution_count": null,
   "metadata": {},
   "outputs": [],
   "source": [
    "#|hide\n",
    "from fastcore.test import *\n",
    "import tempfile"
   ]
  },
  {
   "cell_type": "markdown",
   "metadata": {},
   "source": [
    "## Helpers"
   ]
  },
  {
   "cell_type": "code",
   "execution_count": null,
   "metadata": {},
   "outputs": [],
   "source": [
    "#|export\n",
    "def create_output(txt, mime):\n",
    "    \"Add a cell output containing `txt` of the `mime` text MIME sub-type\"\n",
    "    return [{\"data\": { f\"text/{mime}\": str(txt).splitlines(True) },\n",
    "             \"execution_count\": 1, \"metadata\": {}, \"output_type\": \"execute_result\"}]"
   ]
  },
  {
   "cell_type": "code",
   "execution_count": null,
   "metadata": {},
   "outputs": [],
   "source": [
    "#|export\n",
    "def show_src(src, lang='python'): return Markdown(f'```{lang}\\n{src}\\n```')"
   ]
  },
  {
   "cell_type": "code",
   "execution_count": null,
   "metadata": {},
   "outputs": [
    {
     "data": {
      "text/markdown": [
       "```python\n",
       "print(create_output('text', 'text/plain'))\n",
       "```"
      ],
      "text/plain": [
       "<IPython.core.display.Markdown object>"
      ]
     },
     "execution_count": null,
     "metadata": {},
     "output_type": "execute_result"
    }
   ],
   "source": [
    "show_src(\"print(create_output('text', 'text/plain'))\")"
   ]
  },
  {
   "cell_type": "markdown",
   "metadata": {},
   "source": [
    "## Config"
   ]
  },
  {
   "cell_type": "markdown",
   "metadata": {},
   "source": [
    "nbdev allows per-user and per-repo settings files in the `ConfigParser` format, conveniently read and written using fastcore's `Config` class. Settings are searched in the following order:\n",
    "\n",
    "- Default settings: see `nbdev_create_config` for a full reference of possible settings and their defaults\n",
    "- Repo settings: `settings.ini` file in the root of each project\n",
    "- User settings: `settings.ini` file following the [XDG base directory specification](https://fastcore.fast.ai/xdg.html), by default: `~/.config/nbdev/settings.ini`"
   ]
  },
  {
   "cell_type": "code",
   "execution_count": null,
   "metadata": {},
   "outputs": [],
   "source": [
    "#|export\n",
    "_nbdev_home_dir = 'nbdev' # sub-directory of xdg base dir\n",
    "_nbdev_config_name = 'settings.ini'"
   ]
  },
  {
   "cell_type": "code",
   "execution_count": null,
   "metadata": {},
   "outputs": [],
   "source": [
    "#|exporti\n",
    "def apply_defaults(\n",
    "    cfg,\n",
    "    lib_name:str=None, # Package name, defaults to local repo folder name\n",
    "    branch='master', # Repo default branch\n",
    "    git_url='https://github.com/%(user)s/%(lib_name)s', # Repo URL\n",
    "    custom_sidebar:bool_arg=False, # Create custom sidebar?\n",
    "    nbs_path='.', # Path to notebooks\n",
    "    lib_path='%(lib_name)s', # Path to package root\n",
    "    doc_path='_docs', # Path to rendered docs\n",
    "    tst_flags='', # Test flags\n",
    "    version='0.0.1', # Version of this release\n",
    "    doc_host='https://%(user)s.github.io',  # Hostname for docs\n",
    "    doc_baseurl='/%(lib_name)s',  # Base URL for docs\n",
    "    keywords='nbdev jupyter notebook python', # Package keywords\n",
    "    license='apache2', # License for the package\n",
    "    copyright:str=None, # Copyright for the package, defaults to '`current_year` onwards, `author`'\n",
    "    status='3', # Development status PyPI classifier\n",
    "    min_python='3.7', # Minimum Python version PyPI classifier\n",
    "    audience='Developers', # Intended audience PyPI classifier\n",
    "    language='English', # Language PyPI classifier\n",
    "    recursive:bool_arg=False, # Include subfolders in notebook globs?\n",
    "    black_formatting:bool_arg=False, # Format libraries with black?\n",
    "    readme_nb='index.ipynb', # Notebook to export as repo readme\n",
    "    title='%(lib_name)s', # Quarto website title\n",
    "    allowed_metadata_keys='', # Preserve the list of keys in the main notebook metadata\n",
    "    allowed_cell_metadata_keys='', # Preserve the list of keys in cell level metadata\n",
    "):\n",
    "    \"Apply default settings where missing in `cfg`\"\n",
    "    if lib_name is None:\n",
    "        _parent = Path.cwd().parent\n",
    "        lib_name = _parent.parent.name if _parent.name=='nbs' else _parent.name\n",
    "    if copyright is None and hasattr(cfg,'author'): copyright = f\"{datetime.now().year} ownwards, {cfg.author}\"\n",
    "    for k,v in locals().items():\n",
    "        if not (k.startswith('_') or k=='cfg' or k in cfg): cfg[k] = v\n",
    "    return cfg"
   ]
  },
  {
   "cell_type": "code",
   "execution_count": null,
   "metadata": {},
   "outputs": [],
   "source": [
    "#|export\n",
    "@call_parse\n",
    "@delegates(apply_defaults, but='cfg')\n",
    "def nbdev_create_config(\n",
    "    user:str, # Repo username\n",
    "    author:str, # Package author's name\n",
    "    author_email:str, # Package author's email address\n",
    "    description:str, # Short summary of the package\n",
    "    path:str='.', # Path to create config file\n",
    "    cfg_name:str=_nbdev_config_name, # Name of config file to create\n",
    "    **kwargs\n",
    "):\n",
    "    \"Create a config file\"\n",
    "    d = {k:v for k,v in locals().items() if k not in ('path','cfg_name')}\n",
    "    cfg = Config(path, cfg_name, d, save=False)\n",
    "    cfg = apply_defaults(cfg, **kwargs)\n",
    "    cfg.save()"
   ]
  },
  {
   "cell_type": "markdown",
   "metadata": {},
   "source": [
    "This is a wrapper for `fastcore`'s `save_config_file` with nbdev's required settings. It is also installed as a CLI command. The table above also serves as a full reference of nbdev's settings (excluding the `path` and `cfg_name` parameters which decide where the config file is saved). For more about PyPI classifiers, see [_Classifiers_](https://pypi.org/classifiers/)."
   ]
  },
  {
   "cell_type": "code",
   "execution_count": null,
   "metadata": {},
   "outputs": [],
   "source": [
    "#|export\n",
    "def _nbdev_config_file(cfg_name=_nbdev_config_name, path=None):\n",
    "    cfg_path = path = Path.cwd() if path is None else Path(path)\n",
    "    while cfg_path != cfg_path.parent and not (cfg_path/cfg_name).exists(): cfg_path = cfg_path.parent\n",
    "    if not (cfg_path/cfg_name).exists(): cfg_path = path\n",
    "    return cfg_path/cfg_name"
   ]
  },
  {
   "cell_type": "code",
   "execution_count": null,
   "metadata": {},
   "outputs": [],
   "source": [
    "test_eq(_nbdev_config_file(), Path.cwd().parent/'settings.ini')"
   ]
  },
  {
   "cell_type": "code",
   "execution_count": null,
   "metadata": {},
   "outputs": [],
   "source": [
    "#|export\n",
    "def _xdg_config_paths(cfg_name=_nbdev_config_name):\n",
    "    xdg_config_paths = reversed([xdg_config_home()]+xdg_config_dirs())\n",
    "    return [o/_nbdev_home_dir/cfg_name for o in xdg_config_paths]"
   ]
  },
  {
   "cell_type": "code",
   "execution_count": null,
   "metadata": {},
   "outputs": [],
   "source": [
    "#|export\n",
    "@functools.lru_cache(maxsize=None)\n",
    "def get_config(cfg_name=_nbdev_config_name, path=None):\n",
    "    \"`Config` for ini file found in `path` (defaults to `cwd`)\"\n",
    "    cfg_file = _nbdev_config_file(cfg_name, path)\n",
    "    extra_files = _xdg_config_paths(cfg_name)\n",
    "    cfg = Config(cfg_file.parent, cfg_file.name, extra_files=extra_files)\n",
    "    return apply_defaults(cfg)"
   ]
  },
  {
   "cell_type": "markdown",
   "metadata": {},
   "source": [
    "`get_config` searches for repo `settings.ini` in the current directory, and then in all parent directories, stopping when it is found. Default values for optional settings are applied to the resulting `Config`, see `nbdev_create_config` for a full reference of nbdev's settings."
   ]
  },
  {
   "cell_type": "code",
   "execution_count": null,
   "metadata": {},
   "outputs": [],
   "source": [
    "cfg_name = 'test_settings.ini'\n",
    "nbdev_create_config('fastai','author','author@fast.ai','description','..',cfg_name)\n",
    "cfg = get_config(cfg_name)\n",
    "test_eq(cfg.lib_name, 'nbdev')\n",
    "test_eq(cfg.git_url, 'https://github.com/fastai/nbdev')\n",
    "cwd = Path.cwd()\n",
    "test_eq(cfg.config_path, cwd.parent.absolute())\n",
    "test_eq(cfg.path('lib_path'), cwd.parent/'nbdev')\n",
    "test_eq(cfg.path('nbs_path'), cwd.parent)\n",
    "test_eq(cfg.path('doc_path'), cwd.parent/'_docs')\n",
    "cfg.config_file.unlink()\n",
    "get_config.cache_clear()"
   ]
  },
  {
   "cell_type": "code",
   "execution_count": null,
   "metadata": {},
   "outputs": [
    {
     "name": "stdout",
     "output_type": "stream",
     "text": [
      "{'foo': 'bar', 'lib_name': 'T', 'branch': 'master', 'git_url': 'https://github.com/%(user)s/%(lib_name)s', 'custom_sidebar': 'False', 'nbs_path': '.', 'lib_path': '%(lib_name)s', 'doc_path': '_docs', 'tst_flags': '', 'version': '0.0.1', 'doc_host': 'https://%(user)s.github.io', 'doc_baseurl': '/%(lib_name)s', 'keywords': 'nbdev jupyter notebook python', 'license': 'apache2', 'copyright': 'None', 'status': '3', 'min_python': '3.7', 'audience': 'Developers', 'language': 'English', 'recursive': 'False', 'black_formatting': 'False', 'readme_nb': 'index.ipynb', 'title': '%(lib_name)s', 'allowed_metadata_keys': '', 'allowed_cell_metadata_keys': ''}\n"
     ]
    }
   ],
   "source": [
    "#|hide\n",
    "# `get_config` returns defaults if no config file exists\n",
    "with tempfile.TemporaryDirectory() as d, working_directory(d): print(get_config())\n",
    "get_config.cache_clear()"
   ]
  },
  {
   "cell_type": "code",
   "execution_count": null,
   "metadata": {},
   "outputs": [],
   "source": [
    "#|export\n",
    "def config_key(c, default=None, path=True, missing_ok=None):\n",
    "    \"Look for key `c` in settings.ini and fail gracefully if not found and no default provided\"\n",
    "    if missing_ok is not None:\n",
    "        warn(\"`missing_ok` is no longer used. Don't pass it to `config_key` to silence this warning.\")\n",
    "    cfg = get_config()\n",
    "    res = cfg.path(c, default) if path else cfg.get(c, default)\n",
    "    if res is None: raise ValueError(f'`{c}` not specified in {_nbdev_config_name}')\n",
    "    return res"
   ]
  },
  {
   "cell_type": "code",
   "execution_count": null,
   "metadata": {},
   "outputs": [
    {
     "name": "stdout",
     "output_type": "stream",
     "text": [
      "nbdev\n"
     ]
    }
   ],
   "source": [
    "#|hide\n",
    "# `config_key` returns defaults if no config file exists\n",
    "with tempfile.TemporaryDirectory() as d, working_directory(d): print(config_key('lib_path', path=False))\n",
    "get_config.cache_clear()"
   ]
  },
  {
   "cell_type": "markdown",
   "metadata": {},
   "source": [
    "##  Exporting a basic module"
   ]
  },
  {
   "cell_type": "code",
   "execution_count": null,
   "metadata": {},
   "outputs": [],
   "source": [
    "#|export\n",
    "_init = '__init__.py'\n",
    "\n",
    "def _has_py(fs): return any(1 for f in fs if f.endswith('.py'))\n",
    "\n",
    "def add_init(path):\n",
    "    \"Add `__init__.py` in all subdirs of `path` containing python files if it's not there already\"\n",
    "    # we add the lowest-level `__init__.py` files first, which ensures _has_py succeeds for parent modules\n",
    "    path = Path(path)\n",
    "    path.mkdir(exist_ok=True)\n",
    "    if not (path/_init).exists(): (path/_init).touch()\n",
    "    for r,ds,fs in os.walk(path, topdown=False):\n",
    "        r = Path(r)\n",
    "        subds = (os.listdir(r/d) for d in ds)\n",
    "        if _has_py(fs) or any(filter(_has_py, subds)) and not (r/_init).exists(): (r/_init).touch()"
   ]
  },
  {
   "cell_type": "markdown",
   "metadata": {},
   "source": [
    "Python modules require a `__init.py__` file in all directories that are modules. We assume that all directories containing a python file (including in subdirectories of any depth) is a module, and therefore add a `__init__.py` to each."
   ]
  },
  {
   "cell_type": "code",
   "execution_count": null,
   "metadata": {},
   "outputs": [],
   "source": [
    "with tempfile.TemporaryDirectory() as d:\n",
    "    d = Path(d)\n",
    "    (d/'a/b').mkdir(parents=True)\n",
    "    (d/'a/b/f.py').touch()\n",
    "    (d/'a/c').mkdir()\n",
    "    add_init(d)\n",
    "    assert not (d/'a/c'/_init).exists(), \"Should not add init to dir without py file\"\n",
    "    for e in [d, d/'a', d/'a/b']: assert (e/_init).exists(),f\"Missing init in {e}\""
   ]
  },
  {
   "cell_type": "markdown",
   "metadata": {},
   "source": [
    "## Export -"
   ]
  },
  {
   "cell_type": "code",
   "execution_count": null,
   "metadata": {},
   "outputs": [],
   "source": [
    "#|export\n",
    "def write_cells(cells, hdr, file, offset=0):\n",
    "    \"Write `cells` to `file` along with header `hdr` starting at index `offset` (mainly for nbdev internal use)\"\n",
    "    for cell in cells:\n",
    "        if cell.source.strip(): file.write(f'\\n\\n{hdr} {cell.idx_+offset}\\n{cell.source}')"
   ]
  },
  {
   "cell_type": "code",
   "execution_count": null,
   "metadata": {},
   "outputs": [],
   "source": [
    "#|export\n",
    "def basic_export_nb(fname, name, dest=None):\n",
    "    \"Basic exporter to bootstrap nbdev\"\n",
    "    if dest is None: dest = config_key('lib_path')\n",
    "    fname,dest = Path(fname),Path(dest)\n",
    "    nb = read_nb(fname)\n",
    "\n",
    "    # grab the source from all the cells that have an `export` comment\n",
    "    cells = L(cell for cell in nb.cells if re.match(r'#\\s*\\|export', cell.source))\n",
    "\n",
    "    # find all the exported functions, to create `__all__`:\n",
    "    trees = cells.map(NbCell.parsed_).concat()\n",
    "    funcs = trees.filter(risinstance((ast.FunctionDef,ast.ClassDef))).attrgot('name')\n",
    "    exp_funcs = [f for f in funcs if f[0]!='_']\n",
    "\n",
    "    # write out the file\n",
    "    with (dest/name).open('w') as f:\n",
    "        f.write(f\"# %% auto 0\\n__all__ = {exp_funcs}\")\n",
    "        write_cells(cells, f\"# %% {fname.relpath(dest)}\", f)\n",
    "        f.write('\\n')"
   ]
  },
  {
   "cell_type": "markdown",
   "metadata": {},
   "source": [
    "This is a simple exporter with just enough functionality to correctly export this notebook, in order to bootstrap the creation of nbdev itself."
   ]
  },
  {
   "cell_type": "code",
   "execution_count": null,
   "metadata": {},
   "outputs": [],
   "source": [
    "#|hide\n",
    "#| eval: false\n",
    "path = Path('../nbdev')\n",
    "(path/'read.py').unlink(missing_ok=True)\n",
    "\n",
    "add_init(path)\n",
    "basic_export_nb(\"01_read.ipynb\", 'read.py')\n",
    "\n",
    "g = exec_new('from nbdev import read')\n",
    "assert g['read'].add_init\n",
    "assert 'add_init' in g['read'].__all__"
   ]
  }
 ],
 "metadata": {
  "kernelspec": {
   "display_name": "Python 3 (ipykernel)",
   "language": "python",
   "name": "python3"
  }
 },
 "nbformat": 4,
 "nbformat_minor": 4
}
