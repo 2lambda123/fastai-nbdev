{
 "cells": [
  {
   "cell_type": "code",
   "execution_count": null,
   "id": "b9cc4e2f-fa2a-4e25-b078-98bc84ecbb0b",
   "metadata": {},
   "outputs": [],
   "source": [
    "j = [1,\n",
    "     2,\n",
    "     3\n",
    "]"
   ]
  }
 ],
 "metadata": {
  "kernelspec": {
   "display_name": "Python 3 (ipykernel)",
   "language": "python",
   "name": "python3"
  }
 },
 "nbformat": 4,
 "nbformat_minor": 5
}
