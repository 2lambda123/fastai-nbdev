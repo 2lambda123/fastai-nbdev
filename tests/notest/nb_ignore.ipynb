{
 "cells": [
  {
   "cell_type": "markdown",
   "id": "3832a663-51f6-47db-846c-156086a0fc0d",
   "metadata": {},
   "source": [
    "This notebook should not be tested due to a sibling file called `.notest`"
   ]
  },
  {
   "cell_type": "code",
   "execution_count": null,
   "id": "3de2ee33-9ee9-4376-a602-d8ae1e6ca4e7",
   "metadata": {},
   "outputs": [],
   "source": [
    "assert 123 == 593"
   ]
  }
 ],
 "metadata": {
  "kernelspec": {
   "display_name": "Python 3 (ipykernel)",
   "language": "python",
   "name": "python3"
  },
  "language_info": {
   "codemirror_mode": {
    "name": "ipython",
    "version": 3
   },
   "file_extension": ".py",
   "mimetype": "text/x-python",
   "name": "python",
   "nbconvert_exporter": "python",
   "pygments_lexer": "ipython3",
   "version": "3.9.7"
  }
 },
 "nbformat": 4,
 "nbformat_minor": 5
}
