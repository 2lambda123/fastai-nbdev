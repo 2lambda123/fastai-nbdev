{
 "cells": [
  {
   "cell_type": "markdown",
   "id": "3832a663-51f6-47db-846c-156086a0fc0d",
   "metadata": {},
   "source": [
    "This notebook should not be tested due to a sibling file called `.notest`"
   ]
  },
  {
   "cell_type": "code",
   "execution_count": null,
   "id": "3de2ee33-9ee9-4376-a602-d8ae1e6ca4e7",
   "metadata": {},
   "outputs": [],
   "source": [
    "assert 123 == 593"
   ]
  }
 ],
 "metadata": {
  "kernelspec": {
   "display_name": "Python 3 (ipykernel)",
   "language": "python",
   "name": "python3"
  }
 },
 "nbformat": 4,
 "nbformat_minor": 5
}
