{
 "cells": [
  {
   "cell_type": "code",
   "execution_count": 1,
   "id": "23fe7353-8bac-4ac3-a7df-d80ff3186e0f",
   "metadata": {},
   "outputs": [],
   "source": [
    "#hide\n",
    " # export"
   ]
  },
  {
   "cell_type": "code",
   "execution_count": null,
   "id": "d4419c73-e4df-40d2-a6a9-8f9299f5f832",
   "metadata": {},
   "outputs": [],
   "source": [
    "#hide\n",
    " # export\n",
    "def there_is_code(): ..."
   ]
  },
  {
   "cell_type": "code",
   "execution_count": null,
   "id": "82d2db47-24d7-43ba-9a5a-d61af1a06b12",
   "metadata": {},
   "outputs": [],
   "source": [
    "a = 'no directives'"
   ]
  },
  {
   "cell_type": "markdown",
   "id": "183e982d-7f38-417b-b774-ccadd6b76e2e",
   "metadata": {},
   "source": [
    "some md"
   ]
  },
  {
   "cell_type": "code",
   "execution_count": null,
   "id": "20b94777-1b99-4a0f-bf76-766343470047",
   "metadata": {},
   "outputs": [],
   "source": [
    "#eval: false\n",
    "assert 1 == 2"
   ]
  },
  {
   "cell_type": "code",
   "execution_count": null,
   "id": "d4b7b3db-6831-46b7-aa3f-4e6cc0bc0a24",
   "metadata": {},
   "outputs": [],
   "source": [
    "# notest\n",
    "assert 1 == 2"
   ]
  },
  {
   "cell_type": "code",
   "execution_count": null,
   "id": "3f49b654-cda4-49f1-8763-1724e18b1def",
   "metadata": {},
   "outputs": [],
   "source": [
    "not_a_directive='#export'"
   ]
  }
 ],
 "metadata": {
  "kernelspec": {
   "display_name": "Python 3 (ipykernel)",
   "language": "python",
   "name": "python3"
  },
  "language_info": {
   "codemirror_mode": {
    "name": "ipython",
    "version": 3
   },
   "file_extension": ".py",
   "mimetype": "text/x-python",
   "name": "python",
   "nbconvert_exporter": "python",
   "pygments_lexer": "ipython3",
   "version": "3.9.7"
  }
 },
 "nbformat": 4,
 "nbformat_minor": 5
}
