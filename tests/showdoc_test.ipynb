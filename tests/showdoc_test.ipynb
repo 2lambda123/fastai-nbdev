{
 "cells": [
  {
   "cell_type": "code",
   "execution_count": 1,
   "id": "c2ac41fe-6c3c-48c1-9531-490927859346",
   "metadata": {},
   "outputs": [],
   "source": [
    "from nbdev.showdoc import show_doc\n",
    "from fastcore.all import patch"
   ]
  },
  {
   "cell_type": "code",
   "execution_count": 2,
   "id": "f67bf2b2-88cf-446b-9241-f1351b129739",
   "metadata": {},
   "outputs": [],
   "source": [
    "#|export\n",
    "class Foo:..."
   ]
  },
  {
   "cell_type": "code",
   "execution_count": 3,
   "id": "1f970abb-dfd0-41f0-9610-7e8b8ecdd552",
   "metadata": {},
   "outputs": [
    {
     "data": {
      "text/markdown": [
       "---\n",
       "\n",
       "### Foo\n",
       "\n",
       "> **`Foo`**` ()`\n",
       "\n",
       "Initialize self.  See help(type(self)) for accurate signature."
      ],
      "text/plain": [
       "<nbdev.showdoc.BasicMarkdownRenderer at 0x7ff1921f6970>"
      ]
     },
     "execution_count": 3,
     "metadata": {},
     "output_type": "execute_result"
    }
   ],
   "source": [
    "show_doc(Foo)"
   ]
  },
  {
   "cell_type": "code",
   "execution_count": 4,
   "id": "49cdb1d8-579f-4d3a-a93e-e52a35430810",
   "metadata": {},
   "outputs": [],
   "source": [
    "#|export\n",
    "@patch\n",
    "def a_method(self:Foo, a:list,b:dict,c):\n",
    "    \"This is a method\"\n",
    "    ..."
   ]
  }
 ],
 "metadata": {
  "kernelspec": {
   "display_name": "Python 3 (ipykernel)",
   "language": "python",
   "name": "python3"
  },
  "language_info": {
   "codemirror_mode": {
    "name": "ipython",
    "version": 3
   },
   "file_extension": ".py",
   "mimetype": "text/x-python",
   "name": "python",
   "nbconvert_exporter": "python",
   "pygments_lexer": "ipython3",
   "version": "3.9.7"
  }
 },
 "nbformat": 4,
 "nbformat_minor": 5
}
