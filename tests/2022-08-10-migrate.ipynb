{
 "cells": [
  {
   "cell_type": "raw",
   "id": "33038f1d-3333-4de5-a5df-07ad38558ae2",
   "metadata": {},
   "source": [
    "---\n",
    "title: my title\n",
    "categories: [foo, bar]\n",
    "---"
   ]
  },
  {
   "cell_type": "markdown",
   "id": "583da733-6f68-4518-a1b7-4e43dd9accb4",
   "metadata": {},
   "source": [
    "# This is a nb to test migration\n",
    "> Hello"
   ]
  },
  {
   "cell_type": "code",
   "execution_count": 4,
   "id": "be83894a-0001-43ca-9963-5777e3dad7a3",
   "metadata": {},
   "outputs": [
    {
     "name": "stdout",
     "output_type": "stream",
     "text": [
      "hello\n"
     ]
    }
   ],
   "source": [
    "#hide\n",
    "print('hello')"
   ]
  },
  {
   "cell_type": "markdown",
   "id": "de806920-5dd6-495f-8863-311bd396ee57",
   "metadata": {},
   "source": [
    "> Note: this is a note"
   ]
  },
  {
   "cell_type": "code",
   "execution_count": null,
   "id": "ba1a404f-7067-4697-b6ff-160267f35645",
   "metadata": {},
   "outputs": [],
   "source": []
  }
 ],
 "metadata": {
  "kernelspec": {
   "display_name": "Python 3 (ipykernel)",
   "language": "python",
   "name": "python3"
  },
  "language_info": {
   "codemirror_mode": {
    "name": "ipython",
    "version": 3
   },
   "file_extension": ".py",
   "mimetype": "text/x-python",
   "name": "python",
   "nbconvert_exporter": "python",
   "pygments_lexer": "ipython3",
   "version": "3.9.7"
  }
 },
 "nbformat": 4,
 "nbformat_minor": 5
}
