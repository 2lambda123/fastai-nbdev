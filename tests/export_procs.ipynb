{
 "cells": [
  {
   "cell_type": "code",
   "execution_count": null,
   "id": "b9cc4e2f-fa2a-4e25-b078-98bc84ecbb0b",
   "metadata": {},
   "outputs": [],
   "source": [
    "j = [1,\n",
    "     2,\n",
    "     3\n",
    "]"
   ]
  },
  {
   "cell_type": "markdown",
   "id": "40855489-6543-4f63-81c4-1127f4e09c31",
   "metadata": {},
   "source": [
    "to test `scrub_magics`:"
   ]
  },
  {
   "cell_type": "code",
   "execution_count": null,
   "id": "22aa79e5-80ba-4b11-a655-ad8d830fa2ef",
   "metadata": {},
   "outputs": [],
   "source": [
    "%%spark\n",
    "#|export bar\n",
    "\"hello nbdev\""
   ]
  }
 ],
 "metadata": {
  "kernelspec": {
   "display_name": "Python 3 (ipykernel)",
   "language": "python",
   "name": "python3"
  }
 },
 "nbformat": 4,
 "nbformat_minor": 5
}
